{
 "cells": [
  {
   "cell_type": "markdown",
   "metadata": {},
   "source": [
    "<img src=\"images/picture1.png\" alt=\"Drawing\" style=\"width: 1000px;\"/>"
   ]
  },
  {
   "cell_type": "markdown",
   "metadata": {},
   "source": [
    "<a id='toc'></a>\n",
    "\n",
    "### Table of Contents\n",
    "* [0. Identify Business needs](#business)<br>\n",
    "* [1. Import Data](#import) <br>\n",
    "    * [1.1. Import the needed libraries](#lib)<br>\n",
    "    * [1.2. Import and integrate data](#integrate)<br>\n",
    "    * [1.3. Set index](#index)<br>\n",
    "    * [1.4. Check for duplicates](#duplicates)<br>\n",
    "* [2. Explore Data](#explore) <br>\n",
    "    * [2.1. Basic Exploration](#basic)<br>\n",
    "    * [2.2. Statistical Exploration](#stats)<br>\n",
    "    * [2.3. Visual Exploration](#visual)<br>\n",
    "    * [2.4. In-depth Exploration](#depth)<br>\n",
    "* [3. Preprocess Data](#preprocess) <br>\n",
    "    * [3.1. Data Cleaning](#clean)<br>\n",
    "        * [3.1.1. Outliers](#outliers)<br>\n",
    "        * [3.1.2. Missing Values](#missing)<br>\n",
    "    * [3.2. Data Transformation](#transform)<br>\n",
    "        * [3.2.1. Create new variables](#new)<br>\n",
    "        * [3.2.2. Misclassifications](#misc)<br>\n",
    "        * [3.2.3. Incoherencies](#inco)<br>\n",
    "        * [3.2.4. Binning](#bin)<br>\n",
    "        * [3.2.5. Reclassify](#rec)<br>\n",
    "        * [3.2.6. Power Transform](#power)<br>\n",
    "        * [3.2.7. Creating Dummy variables](#dummy)<br>\n",
    "        * [3.2.8. Scaling](#scale)<br>\n",
    "    * [3.3. Data Reduction](#reduce)<br>\n",
    "        * [3.3.1. Multicollinearity - Check correlation](#corr)<br>\n",
    "        * [3.3.2. Unary Variables](#unary)<br>\n",
    "        * [3.3.3. Variables with a high percentage of missing values](#na)<br>\n",
    "        * [3.3.4. PCA](#pca)"
   ]
  },
  {
   "cell_type": "markdown",
   "metadata": {},
   "source": [
    "<img src=\"images/process_ML.png\" alt=\"Drawing\" style=\"width: 1000px;\"/>"
   ]
  },
  {
   "cell_type": "markdown",
   "metadata": {},
   "source": [
    "<a id='business'></a>\n",
    "\n",
    "# <font color = '#cc9900'> 0. Identify Business needs </font>\n",
    "\n",
    "First of all, we need to identify well the business needs.\n",
    "\n",
    "<img src=\"images/phase01.png\" alt=\"Drawing\" style=\"width: 500px;\"/>\n",
    "\n",
    "• TugasRWe is a Portuguese retailer offering an assortment of goods within 5 major categories: Clothes, Housekeeping,\n",
    "kitchen, small appliances and toys. <br><br>\n",
    "• Tugas started a loyalty program 2 years ago. Among other objectives, the program’s aim is to gather Customer information\n",
    "to better drive the marketing efforts. <br><br>\n",
    "• There is enough historical information to start producing sound knowledge about their Customer database.IT extracted two files (at Customer Level) to be used by the analytical team. <br>\n",
    "\n",
    "__Demographic.xlsx__\n",
    "\n",
    "| Attribute | Description | \n",
    "| --- | --- |\n",
    "| Custid | Unique identification of the customer |\n",
    "| Year_Birth | Customer Year of Birth |\n",
    "| Gender | Costumer Gender |\n",
    "| Education | Costumer Education |\n",
    "| Marital_Status | Costumer Marital Status |\n",
    "| Dependents | Dependents (Yes = 1) |\n",
    "| Income | Costumer Household Income |\n",
    "\n",
    "\n",
    "__Firmographic.csv__\n",
    "\n",
    "| Attribute | Description | \n",
    "| --- | --- |\n",
    "| Custid | Unique identification of the customer |\n",
    "| Rcn | Recency in days |\n",
    "| Frq | Total Number of Purchases |\n",
    "| Mnt | Total Amount spent on Purchases |\n",
    "| Clothes | % Amount spent on clothes |\n",
    "| Kitchen | % Amount spent on kitchen products |\n",
    "| SmallAppliances | % Amount spent on small appliances |\n",
    "| HouseKeeping | % Amount spent on housekeeping products |\n",
    "| Toys | % Amount spent on toys |\n",
    "| NetPurchase | % Purchases through the net channel |\n",
    "| StorePurchase | % Purchases through the store |\n",
    "| Recomendation | Recomendation [1-5] |\n",
    "| Credit_Card | Information about Costumer Credit Card - Flag variable|"
   ]
  },
  {
   "cell_type": "markdown",
   "metadata": {},
   "source": [
    "[BACK TO TOC](#toc)\n",
    "\n",
    "<a id='import'></a>\n",
    "\n",
    "# <font color = '#cc9900'> 1. Import Data </font>\n",
    "<img src=\"images/phase02.png\" alt=\"Drawing\" style=\"width: 500px;\"/>"
   ]
  },
  {
   "cell_type": "markdown",
   "metadata": {},
   "source": [
    "<a id='lib'></a>\n",
    "\n",
    "### 1.1. Import the needed libraries\n",
    "\n",
    "__`Step 1`__ Import the following libraries/functions: \n",
    "    - pandas as pd \n",
    "    - pyplot from matplotlib as plt \n",
    "    - seaborn as sns\n",
    "    - MinMaxScaler from sklearn.preprocessing"
   ]
  },
  {
   "cell_type": "code",
   "execution_count": 1,
   "metadata": {},
   "outputs": [],
   "source": [
    "import pandas as pd\n",
    "import numpy as np\n",
    "import matplotlib.pyplot as plt\n",
    "import seaborn as sns\n",
    "from sklearn.preprocessing import MinMaxScaler"
   ]
  },
  {
   "cell_type": "markdown",
   "metadata": {},
   "source": [
    "<a id='integrate'></a>\n",
    "\n",
    "### 1.2. Import and integrate data\n",
    "\n",
    "__`Step 2`__ Import the excel file `demographic.xlsx` and store it in the object `demo` <br>\n",
    "\n",
    "https://pandas.pydata.org/docs/reference/api/pandas.read_excel.html"
   ]
  },
  {
   "cell_type": "code",
   "execution_count": 2,
   "metadata": {},
   "outputs": [
    {
     "data": {
      "text/html": [
       "<div>\n",
       "<style scoped>\n",
       "    .dataframe tbody tr th:only-of-type {\n",
       "        vertical-align: middle;\n",
       "    }\n",
       "\n",
       "    .dataframe tbody tr th {\n",
       "        vertical-align: top;\n",
       "    }\n",
       "\n",
       "    .dataframe thead th {\n",
       "        text-align: right;\n",
       "    }\n",
       "</style>\n",
       "<table border=\"1\" class=\"dataframe\">\n",
       "  <thead>\n",
       "    <tr style=\"text-align: right;\">\n",
       "      <th></th>\n",
       "      <th>Custid</th>\n",
       "      <th>Year_Birth</th>\n",
       "      <th>Gender</th>\n",
       "      <th>Education</th>\n",
       "      <th>Marital_Status</th>\n",
       "      <th>Dependents</th>\n",
       "      <th>Income</th>\n",
       "      <th>Country</th>\n",
       "    </tr>\n",
       "  </thead>\n",
       "  <tbody>\n",
       "    <tr>\n",
       "      <th>0</th>\n",
       "      <td>1003</td>\n",
       "      <td>1996</td>\n",
       "      <td>M</td>\n",
       "      <td>Graduation</td>\n",
       "      <td>NaN</td>\n",
       "      <td>1</td>\n",
       "      <td>29761.20</td>\n",
       "      <td>Portugal</td>\n",
       "    </tr>\n",
       "    <tr>\n",
       "      <th>1</th>\n",
       "      <td>1004</td>\n",
       "      <td>1961</td>\n",
       "      <td>M</td>\n",
       "      <td>Master</td>\n",
       "      <td>Married</td>\n",
       "      <td>1</td>\n",
       "      <td>98249.55</td>\n",
       "      <td>Portugal</td>\n",
       "    </tr>\n",
       "    <tr>\n",
       "      <th>2</th>\n",
       "      <td>1006</td>\n",
       "      <td>1988</td>\n",
       "      <td>F</td>\n",
       "      <td>PhD</td>\n",
       "      <td>Together</td>\n",
       "      <td>1</td>\n",
       "      <td>23505.30</td>\n",
       "      <td>Portugal</td>\n",
       "    </tr>\n",
       "    <tr>\n",
       "      <th>3</th>\n",
       "      <td>1007</td>\n",
       "      <td>1975</td>\n",
       "      <td>F</td>\n",
       "      <td>Graduation</td>\n",
       "      <td>Single</td>\n",
       "      <td>1</td>\n",
       "      <td>72959.25</td>\n",
       "      <td>Portugal</td>\n",
       "    </tr>\n",
       "    <tr>\n",
       "      <th>4</th>\n",
       "      <td>1009</td>\n",
       "      <td>1946</td>\n",
       "      <td>F</td>\n",
       "      <td>Graduation</td>\n",
       "      <td>Married</td>\n",
       "      <td>0</td>\n",
       "      <td>114973.95</td>\n",
       "      <td>Portugal</td>\n",
       "    </tr>\n",
       "    <tr>\n",
       "      <th>...</th>\n",
       "      <td>...</td>\n",
       "      <td>...</td>\n",
       "      <td>...</td>\n",
       "      <td>...</td>\n",
       "      <td>...</td>\n",
       "      <td>...</td>\n",
       "      <td>...</td>\n",
       "      <td>...</td>\n",
       "    </tr>\n",
       "    <tr>\n",
       "      <th>2496</th>\n",
       "      <td>10991</td>\n",
       "      <td>1945</td>\n",
       "      <td>F</td>\n",
       "      <td>Graduation</td>\n",
       "      <td>Married</td>\n",
       "      <td>0</td>\n",
       "      <td>132566.70</td>\n",
       "      <td>Portugal</td>\n",
       "    </tr>\n",
       "    <tr>\n",
       "      <th>2497</th>\n",
       "      <td>10993</td>\n",
       "      <td>1960</td>\n",
       "      <td>F</td>\n",
       "      <td>Graduation</td>\n",
       "      <td>Together</td>\n",
       "      <td>0</td>\n",
       "      <td>91768.95</td>\n",
       "      <td>Portugal</td>\n",
       "    </tr>\n",
       "    <tr>\n",
       "      <th>2498</th>\n",
       "      <td>10994</td>\n",
       "      <td>1966</td>\n",
       "      <td>F</td>\n",
       "      <td>Basic</td>\n",
       "      <td>Married</td>\n",
       "      <td>1</td>\n",
       "      <td>99085.35</td>\n",
       "      <td>Portugal</td>\n",
       "    </tr>\n",
       "    <tr>\n",
       "      <th>2499</th>\n",
       "      <td>10997</td>\n",
       "      <td>1944</td>\n",
       "      <td>F</td>\n",
       "      <td>2n Cycle</td>\n",
       "      <td>Together</td>\n",
       "      <td>1</td>\n",
       "      <td>132260.10</td>\n",
       "      <td>Portugal</td>\n",
       "    </tr>\n",
       "    <tr>\n",
       "      <th>2500</th>\n",
       "      <td>1285</td>\n",
       "      <td>1982</td>\n",
       "      <td>F</td>\n",
       "      <td>Master</td>\n",
       "      <td>Married</td>\n",
       "      <td>1</td>\n",
       "      <td>68893.65</td>\n",
       "      <td>Portugal</td>\n",
       "    </tr>\n",
       "  </tbody>\n",
       "</table>\n",
       "<p>2501 rows × 8 columns</p>\n",
       "</div>"
      ],
      "text/plain": [
       "      Custid  Year_Birth Gender   Education Marital_Status  Dependents  \\\n",
       "0       1003        1996      M  Graduation            NaN           1   \n",
       "1       1004        1961      M      Master        Married           1   \n",
       "2       1006        1988      F         PhD       Together           1   \n",
       "3       1007        1975      F  Graduation         Single           1   \n",
       "4       1009        1946      F  Graduation        Married           0   \n",
       "...      ...         ...    ...         ...            ...         ...   \n",
       "2496   10991        1945      F  Graduation        Married           0   \n",
       "2497   10993        1960      F  Graduation       Together           0   \n",
       "2498   10994        1966      F       Basic        Married           1   \n",
       "2499   10997        1944      F    2n Cycle       Together           1   \n",
       "2500    1285        1982      F      Master        Married           1   \n",
       "\n",
       "         Income   Country  \n",
       "0      29761.20  Portugal  \n",
       "1      98249.55  Portugal  \n",
       "2      23505.30  Portugal  \n",
       "3      72959.25  Portugal  \n",
       "4     114973.95  Portugal  \n",
       "...         ...       ...  \n",
       "2496  132566.70  Portugal  \n",
       "2497   91768.95  Portugal  \n",
       "2498   99085.35  Portugal  \n",
       "2499  132260.10  Portugal  \n",
       "2500   68893.65  Portugal  \n",
       "\n",
       "[2501 rows x 8 columns]"
      ]
     },
     "execution_count": 2,
     "metadata": {},
     "output_type": "execute_result"
    }
   ],
   "source": [
    "demo = pd.read_excel('demographic.xlsx')\n",
    "demo"
   ]
  },
  {
   "cell_type": "markdown",
   "metadata": {},
   "source": [
    "__`Step 3`__ Import the csv file `firmographic.csv` and store it in the object `firmo`<br>\n",
    "\n",
    "https://pandas.pydata.org/docs/reference/api/pandas.read_csv.html"
   ]
  },
  {
   "cell_type": "code",
   "execution_count": 3,
   "metadata": {},
   "outputs": [
    {
     "data": {
      "text/html": [
       "<div>\n",
       "<style scoped>\n",
       "    .dataframe tbody tr th:only-of-type {\n",
       "        vertical-align: middle;\n",
       "    }\n",
       "\n",
       "    .dataframe tbody tr th {\n",
       "        vertical-align: top;\n",
       "    }\n",
       "\n",
       "    .dataframe thead th {\n",
       "        text-align: right;\n",
       "    }\n",
       "</style>\n",
       "<table border=\"1\" class=\"dataframe\">\n",
       "  <thead>\n",
       "    <tr style=\"text-align: right;\">\n",
       "      <th></th>\n",
       "      <th>Custid</th>\n",
       "      <th>Rcn</th>\n",
       "      <th>Frq</th>\n",
       "      <th>Mnt</th>\n",
       "      <th>Clothes</th>\n",
       "      <th>Kitchen</th>\n",
       "      <th>SmallAppliances</th>\n",
       "      <th>HouseKeeping</th>\n",
       "      <th>Toys</th>\n",
       "      <th>NetPurchase</th>\n",
       "      <th>StorePurchase</th>\n",
       "      <th>Recomendation</th>\n",
       "      <th>Credit_Card</th>\n",
       "    </tr>\n",
       "  </thead>\n",
       "  <tbody>\n",
       "    <tr>\n",
       "      <th>0</th>\n",
       "      <td>1003</td>\n",
       "      <td>69</td>\n",
       "      <td>11</td>\n",
       "      <td>45.76</td>\n",
       "      <td>32</td>\n",
       "      <td>19</td>\n",
       "      <td>24</td>\n",
       "      <td>1</td>\n",
       "      <td>24</td>\n",
       "      <td>59</td>\n",
       "      <td>41</td>\n",
       "      <td>3</td>\n",
       "      <td>NaN</td>\n",
       "    </tr>\n",
       "    <tr>\n",
       "      <th>1</th>\n",
       "      <td>1004</td>\n",
       "      <td>10</td>\n",
       "      <td>26</td>\n",
       "      <td>923.52</td>\n",
       "      <td>60</td>\n",
       "      <td>10</td>\n",
       "      <td>19</td>\n",
       "      <td>6</td>\n",
       "      <td>5</td>\n",
       "      <td>35</td>\n",
       "      <td>65</td>\n",
       "      <td>5</td>\n",
       "      <td>NaN</td>\n",
       "    </tr>\n",
       "    <tr>\n",
       "      <th>2</th>\n",
       "      <td>1006</td>\n",
       "      <td>65</td>\n",
       "      <td>14</td>\n",
       "      <td>58.24</td>\n",
       "      <td>47</td>\n",
       "      <td>2</td>\n",
       "      <td>48</td>\n",
       "      <td>2</td>\n",
       "      <td>1</td>\n",
       "      <td>67</td>\n",
       "      <td>33</td>\n",
       "      <td>4</td>\n",
       "      <td>NaN</td>\n",
       "    </tr>\n",
       "    <tr>\n",
       "      <th>3</th>\n",
       "      <td>1007</td>\n",
       "      <td>73</td>\n",
       "      <td>18</td>\n",
       "      <td>358.80</td>\n",
       "      <td>71</td>\n",
       "      <td>7</td>\n",
       "      <td>13</td>\n",
       "      <td>1</td>\n",
       "      <td>8</td>\n",
       "      <td>46</td>\n",
       "      <td>54</td>\n",
       "      <td>4</td>\n",
       "      <td>NaN</td>\n",
       "    </tr>\n",
       "    <tr>\n",
       "      <th>4</th>\n",
       "      <td>1009</td>\n",
       "      <td>75</td>\n",
       "      <td>30</td>\n",
       "      <td>1457.04</td>\n",
       "      <td>38</td>\n",
       "      <td>9</td>\n",
       "      <td>35</td>\n",
       "      <td>9</td>\n",
       "      <td>9</td>\n",
       "      <td>17</td>\n",
       "      <td>83</td>\n",
       "      <td>5</td>\n",
       "      <td>Yes</td>\n",
       "    </tr>\n",
       "    <tr>\n",
       "      <th>...</th>\n",
       "      <td>...</td>\n",
       "      <td>...</td>\n",
       "      <td>...</td>\n",
       "      <td>...</td>\n",
       "      <td>...</td>\n",
       "      <td>...</td>\n",
       "      <td>...</td>\n",
       "      <td>...</td>\n",
       "      <td>...</td>\n",
       "      <td>...</td>\n",
       "      <td>...</td>\n",
       "      <td>...</td>\n",
       "      <td>...</td>\n",
       "    </tr>\n",
       "    <tr>\n",
       "      <th>2495</th>\n",
       "      <td>10989</td>\n",
       "      <td>41</td>\n",
       "      <td>10</td>\n",
       "      <td>47.84</td>\n",
       "      <td>11</td>\n",
       "      <td>40</td>\n",
       "      <td>24</td>\n",
       "      <td>22</td>\n",
       "      <td>2</td>\n",
       "      <td>59</td>\n",
       "      <td>41</td>\n",
       "      <td>3</td>\n",
       "      <td>NaN</td>\n",
       "    </tr>\n",
       "    <tr>\n",
       "      <th>2496</th>\n",
       "      <td>10991</td>\n",
       "      <td>36</td>\n",
       "      <td>46</td>\n",
       "      <td>2320.24</td>\n",
       "      <td>32</td>\n",
       "      <td>4</td>\n",
       "      <td>47</td>\n",
       "      <td>9</td>\n",
       "      <td>8</td>\n",
       "      <td>22</td>\n",
       "      <td>78</td>\n",
       "      <td>6</td>\n",
       "      <td>NaN</td>\n",
       "    </tr>\n",
       "    <tr>\n",
       "      <th>2497</th>\n",
       "      <td>10993</td>\n",
       "      <td>1</td>\n",
       "      <td>25</td>\n",
       "      <td>870.48</td>\n",
       "      <td>56</td>\n",
       "      <td>8</td>\n",
       "      <td>27</td>\n",
       "      <td>8</td>\n",
       "      <td>1</td>\n",
       "      <td>47</td>\n",
       "      <td>53</td>\n",
       "      <td>4</td>\n",
       "      <td>NaN</td>\n",
       "    </tr>\n",
       "    <tr>\n",
       "      <th>2498</th>\n",
       "      <td>10994</td>\n",
       "      <td>1</td>\n",
       "      <td>28</td>\n",
       "      <td>931.84</td>\n",
       "      <td>68</td>\n",
       "      <td>5</td>\n",
       "      <td>21</td>\n",
       "      <td>3</td>\n",
       "      <td>4</td>\n",
       "      <td>55</td>\n",
       "      <td>45</td>\n",
       "      <td>5</td>\n",
       "      <td>NaN</td>\n",
       "    </tr>\n",
       "    <tr>\n",
       "      <th>2499</th>\n",
       "      <td>10997</td>\n",
       "      <td>75</td>\n",
       "      <td>38</td>\n",
       "      <td>1734.72</td>\n",
       "      <td>61</td>\n",
       "      <td>2</td>\n",
       "      <td>25</td>\n",
       "      <td>5</td>\n",
       "      <td>6</td>\n",
       "      <td>45</td>\n",
       "      <td>55</td>\n",
       "      <td>5</td>\n",
       "      <td>NaN</td>\n",
       "    </tr>\n",
       "  </tbody>\n",
       "</table>\n",
       "<p>2500 rows × 13 columns</p>\n",
       "</div>"
      ],
      "text/plain": [
       "      Custid  Rcn  Frq      Mnt  Clothes  Kitchen  SmallAppliances  \\\n",
       "0       1003   69   11    45.76       32       19               24   \n",
       "1       1004   10   26   923.52       60       10               19   \n",
       "2       1006   65   14    58.24       47        2               48   \n",
       "3       1007   73   18   358.80       71        7               13   \n",
       "4       1009   75   30  1457.04       38        9               35   \n",
       "...      ...  ...  ...      ...      ...      ...              ...   \n",
       "2495   10989   41   10    47.84       11       40               24   \n",
       "2496   10991   36   46  2320.24       32        4               47   \n",
       "2497   10993    1   25   870.48       56        8               27   \n",
       "2498   10994    1   28   931.84       68        5               21   \n",
       "2499   10997   75   38  1734.72       61        2               25   \n",
       "\n",
       "      HouseKeeping  Toys  NetPurchase  StorePurchase  Recomendation  \\\n",
       "0                1    24           59             41              3   \n",
       "1                6     5           35             65              5   \n",
       "2                2     1           67             33              4   \n",
       "3                1     8           46             54              4   \n",
       "4                9     9           17             83              5   \n",
       "...            ...   ...          ...            ...            ...   \n",
       "2495            22     2           59             41              3   \n",
       "2496             9     8           22             78              6   \n",
       "2497             8     1           47             53              4   \n",
       "2498             3     4           55             45              5   \n",
       "2499             5     6           45             55              5   \n",
       "\n",
       "     Credit_Card  \n",
       "0            NaN  \n",
       "1            NaN  \n",
       "2            NaN  \n",
       "3            NaN  \n",
       "4            Yes  \n",
       "...          ...  \n",
       "2495         NaN  \n",
       "2496         NaN  \n",
       "2497         NaN  \n",
       "2498         NaN  \n",
       "2499         NaN  \n",
       "\n",
       "[2500 rows x 13 columns]"
      ]
     },
     "execution_count": 3,
     "metadata": {},
     "output_type": "execute_result"
    }
   ],
   "source": [
    "firmo = pd.read_csv('firmographic.csv') \n",
    "# if your variables are not separated by a ',', you can define the delimiter used by using the parameter sep\n",
    "# for example, in case of ';': firmo = pd.read_csv('firmographic.csv', sep = ';') \n",
    "firmo"
   ]
  },
  {
   "cell_type": "markdown",
   "metadata": {},
   "source": [
    "__`Step 4`__ Merge the data from the two previous files and store it in the object `df` <br>\n",
    "\n",
    "https://pandas.pydata.org/docs/reference/api/pandas.DataFrame.merge.html"
   ]
  },
  {
   "cell_type": "code",
   "execution_count": 4,
   "metadata": {},
   "outputs": [
    {
     "data": {
      "text/html": [
       "<div>\n",
       "<style scoped>\n",
       "    .dataframe tbody tr th:only-of-type {\n",
       "        vertical-align: middle;\n",
       "    }\n",
       "\n",
       "    .dataframe tbody tr th {\n",
       "        vertical-align: top;\n",
       "    }\n",
       "\n",
       "    .dataframe thead th {\n",
       "        text-align: right;\n",
       "    }\n",
       "</style>\n",
       "<table border=\"1\" class=\"dataframe\">\n",
       "  <thead>\n",
       "    <tr style=\"text-align: right;\">\n",
       "      <th></th>\n",
       "      <th>Custid</th>\n",
       "      <th>Year_Birth</th>\n",
       "      <th>Gender</th>\n",
       "      <th>Education</th>\n",
       "      <th>Marital_Status</th>\n",
       "      <th>Dependents</th>\n",
       "      <th>Income</th>\n",
       "      <th>Country</th>\n",
       "      <th>Rcn</th>\n",
       "      <th>Frq</th>\n",
       "      <th>Mnt</th>\n",
       "      <th>Clothes</th>\n",
       "      <th>Kitchen</th>\n",
       "      <th>SmallAppliances</th>\n",
       "      <th>HouseKeeping</th>\n",
       "      <th>Toys</th>\n",
       "      <th>NetPurchase</th>\n",
       "      <th>StorePurchase</th>\n",
       "      <th>Recomendation</th>\n",
       "      <th>Credit_Card</th>\n",
       "    </tr>\n",
       "  </thead>\n",
       "  <tbody>\n",
       "    <tr>\n",
       "      <th>0</th>\n",
       "      <td>1003</td>\n",
       "      <td>1996</td>\n",
       "      <td>M</td>\n",
       "      <td>Graduation</td>\n",
       "      <td>NaN</td>\n",
       "      <td>1</td>\n",
       "      <td>29761.20</td>\n",
       "      <td>Portugal</td>\n",
       "      <td>69</td>\n",
       "      <td>11</td>\n",
       "      <td>45.76</td>\n",
       "      <td>32</td>\n",
       "      <td>19</td>\n",
       "      <td>24</td>\n",
       "      <td>1</td>\n",
       "      <td>24</td>\n",
       "      <td>59</td>\n",
       "      <td>41</td>\n",
       "      <td>3</td>\n",
       "      <td>NaN</td>\n",
       "    </tr>\n",
       "    <tr>\n",
       "      <th>1</th>\n",
       "      <td>1004</td>\n",
       "      <td>1961</td>\n",
       "      <td>M</td>\n",
       "      <td>Master</td>\n",
       "      <td>Married</td>\n",
       "      <td>1</td>\n",
       "      <td>98249.55</td>\n",
       "      <td>Portugal</td>\n",
       "      <td>10</td>\n",
       "      <td>26</td>\n",
       "      <td>923.52</td>\n",
       "      <td>60</td>\n",
       "      <td>10</td>\n",
       "      <td>19</td>\n",
       "      <td>6</td>\n",
       "      <td>5</td>\n",
       "      <td>35</td>\n",
       "      <td>65</td>\n",
       "      <td>5</td>\n",
       "      <td>NaN</td>\n",
       "    </tr>\n",
       "    <tr>\n",
       "      <th>2</th>\n",
       "      <td>1006</td>\n",
       "      <td>1988</td>\n",
       "      <td>F</td>\n",
       "      <td>PhD</td>\n",
       "      <td>Together</td>\n",
       "      <td>1</td>\n",
       "      <td>23505.30</td>\n",
       "      <td>Portugal</td>\n",
       "      <td>65</td>\n",
       "      <td>14</td>\n",
       "      <td>58.24</td>\n",
       "      <td>47</td>\n",
       "      <td>2</td>\n",
       "      <td>48</td>\n",
       "      <td>2</td>\n",
       "      <td>1</td>\n",
       "      <td>67</td>\n",
       "      <td>33</td>\n",
       "      <td>4</td>\n",
       "      <td>NaN</td>\n",
       "    </tr>\n",
       "    <tr>\n",
       "      <th>3</th>\n",
       "      <td>1007</td>\n",
       "      <td>1975</td>\n",
       "      <td>F</td>\n",
       "      <td>Graduation</td>\n",
       "      <td>Single</td>\n",
       "      <td>1</td>\n",
       "      <td>72959.25</td>\n",
       "      <td>Portugal</td>\n",
       "      <td>73</td>\n",
       "      <td>18</td>\n",
       "      <td>358.80</td>\n",
       "      <td>71</td>\n",
       "      <td>7</td>\n",
       "      <td>13</td>\n",
       "      <td>1</td>\n",
       "      <td>8</td>\n",
       "      <td>46</td>\n",
       "      <td>54</td>\n",
       "      <td>4</td>\n",
       "      <td>NaN</td>\n",
       "    </tr>\n",
       "    <tr>\n",
       "      <th>4</th>\n",
       "      <td>1009</td>\n",
       "      <td>1946</td>\n",
       "      <td>F</td>\n",
       "      <td>Graduation</td>\n",
       "      <td>Married</td>\n",
       "      <td>0</td>\n",
       "      <td>114973.95</td>\n",
       "      <td>Portugal</td>\n",
       "      <td>75</td>\n",
       "      <td>30</td>\n",
       "      <td>1457.04</td>\n",
       "      <td>38</td>\n",
       "      <td>9</td>\n",
       "      <td>35</td>\n",
       "      <td>9</td>\n",
       "      <td>9</td>\n",
       "      <td>17</td>\n",
       "      <td>83</td>\n",
       "      <td>5</td>\n",
       "      <td>Yes</td>\n",
       "    </tr>\n",
       "    <tr>\n",
       "      <th>...</th>\n",
       "      <td>...</td>\n",
       "      <td>...</td>\n",
       "      <td>...</td>\n",
       "      <td>...</td>\n",
       "      <td>...</td>\n",
       "      <td>...</td>\n",
       "      <td>...</td>\n",
       "      <td>...</td>\n",
       "      <td>...</td>\n",
       "      <td>...</td>\n",
       "      <td>...</td>\n",
       "      <td>...</td>\n",
       "      <td>...</td>\n",
       "      <td>...</td>\n",
       "      <td>...</td>\n",
       "      <td>...</td>\n",
       "      <td>...</td>\n",
       "      <td>...</td>\n",
       "      <td>...</td>\n",
       "      <td>...</td>\n",
       "    </tr>\n",
       "    <tr>\n",
       "      <th>2496</th>\n",
       "      <td>10989</td>\n",
       "      <td>2001</td>\n",
       "      <td>F</td>\n",
       "      <td>Basic</td>\n",
       "      <td>Single</td>\n",
       "      <td>1</td>\n",
       "      <td>29551.20</td>\n",
       "      <td>Portugal</td>\n",
       "      <td>41</td>\n",
       "      <td>10</td>\n",
       "      <td>47.84</td>\n",
       "      <td>11</td>\n",
       "      <td>40</td>\n",
       "      <td>24</td>\n",
       "      <td>22</td>\n",
       "      <td>2</td>\n",
       "      <td>59</td>\n",
       "      <td>41</td>\n",
       "      <td>3</td>\n",
       "      <td>NaN</td>\n",
       "    </tr>\n",
       "    <tr>\n",
       "      <th>2497</th>\n",
       "      <td>10991</td>\n",
       "      <td>1945</td>\n",
       "      <td>F</td>\n",
       "      <td>Graduation</td>\n",
       "      <td>Married</td>\n",
       "      <td>0</td>\n",
       "      <td>132566.70</td>\n",
       "      <td>Portugal</td>\n",
       "      <td>36</td>\n",
       "      <td>46</td>\n",
       "      <td>2320.24</td>\n",
       "      <td>32</td>\n",
       "      <td>4</td>\n",
       "      <td>47</td>\n",
       "      <td>9</td>\n",
       "      <td>8</td>\n",
       "      <td>22</td>\n",
       "      <td>78</td>\n",
       "      <td>6</td>\n",
       "      <td>NaN</td>\n",
       "    </tr>\n",
       "    <tr>\n",
       "      <th>2498</th>\n",
       "      <td>10993</td>\n",
       "      <td>1960</td>\n",
       "      <td>F</td>\n",
       "      <td>Graduation</td>\n",
       "      <td>Together</td>\n",
       "      <td>0</td>\n",
       "      <td>91768.95</td>\n",
       "      <td>Portugal</td>\n",
       "      <td>1</td>\n",
       "      <td>25</td>\n",
       "      <td>870.48</td>\n",
       "      <td>56</td>\n",
       "      <td>8</td>\n",
       "      <td>27</td>\n",
       "      <td>8</td>\n",
       "      <td>1</td>\n",
       "      <td>47</td>\n",
       "      <td>53</td>\n",
       "      <td>4</td>\n",
       "      <td>NaN</td>\n",
       "    </tr>\n",
       "    <tr>\n",
       "      <th>2499</th>\n",
       "      <td>10994</td>\n",
       "      <td>1966</td>\n",
       "      <td>F</td>\n",
       "      <td>Basic</td>\n",
       "      <td>Married</td>\n",
       "      <td>1</td>\n",
       "      <td>99085.35</td>\n",
       "      <td>Portugal</td>\n",
       "      <td>1</td>\n",
       "      <td>28</td>\n",
       "      <td>931.84</td>\n",
       "      <td>68</td>\n",
       "      <td>5</td>\n",
       "      <td>21</td>\n",
       "      <td>3</td>\n",
       "      <td>4</td>\n",
       "      <td>55</td>\n",
       "      <td>45</td>\n",
       "      <td>5</td>\n",
       "      <td>NaN</td>\n",
       "    </tr>\n",
       "    <tr>\n",
       "      <th>2500</th>\n",
       "      <td>10997</td>\n",
       "      <td>1944</td>\n",
       "      <td>F</td>\n",
       "      <td>2n Cycle</td>\n",
       "      <td>Together</td>\n",
       "      <td>1</td>\n",
       "      <td>132260.10</td>\n",
       "      <td>Portugal</td>\n",
       "      <td>75</td>\n",
       "      <td>38</td>\n",
       "      <td>1734.72</td>\n",
       "      <td>61</td>\n",
       "      <td>2</td>\n",
       "      <td>25</td>\n",
       "      <td>5</td>\n",
       "      <td>6</td>\n",
       "      <td>45</td>\n",
       "      <td>55</td>\n",
       "      <td>5</td>\n",
       "      <td>NaN</td>\n",
       "    </tr>\n",
       "  </tbody>\n",
       "</table>\n",
       "<p>2501 rows × 20 columns</p>\n",
       "</div>"
      ],
      "text/plain": [
       "      Custid  Year_Birth Gender   Education Marital_Status  Dependents  \\\n",
       "0       1003        1996      M  Graduation            NaN           1   \n",
       "1       1004        1961      M      Master        Married           1   \n",
       "2       1006        1988      F         PhD       Together           1   \n",
       "3       1007        1975      F  Graduation         Single           1   \n",
       "4       1009        1946      F  Graduation        Married           0   \n",
       "...      ...         ...    ...         ...            ...         ...   \n",
       "2496   10989        2001      F       Basic         Single           1   \n",
       "2497   10991        1945      F  Graduation        Married           0   \n",
       "2498   10993        1960      F  Graduation       Together           0   \n",
       "2499   10994        1966      F       Basic        Married           1   \n",
       "2500   10997        1944      F    2n Cycle       Together           1   \n",
       "\n",
       "         Income   Country  Rcn  Frq      Mnt  Clothes  Kitchen  \\\n",
       "0      29761.20  Portugal   69   11    45.76       32       19   \n",
       "1      98249.55  Portugal   10   26   923.52       60       10   \n",
       "2      23505.30  Portugal   65   14    58.24       47        2   \n",
       "3      72959.25  Portugal   73   18   358.80       71        7   \n",
       "4     114973.95  Portugal   75   30  1457.04       38        9   \n",
       "...         ...       ...  ...  ...      ...      ...      ...   \n",
       "2496   29551.20  Portugal   41   10    47.84       11       40   \n",
       "2497  132566.70  Portugal   36   46  2320.24       32        4   \n",
       "2498   91768.95  Portugal    1   25   870.48       56        8   \n",
       "2499   99085.35  Portugal    1   28   931.84       68        5   \n",
       "2500  132260.10  Portugal   75   38  1734.72       61        2   \n",
       "\n",
       "      SmallAppliances  HouseKeeping  Toys  NetPurchase  StorePurchase  \\\n",
       "0                  24             1    24           59             41   \n",
       "1                  19             6     5           35             65   \n",
       "2                  48             2     1           67             33   \n",
       "3                  13             1     8           46             54   \n",
       "4                  35             9     9           17             83   \n",
       "...               ...           ...   ...          ...            ...   \n",
       "2496               24            22     2           59             41   \n",
       "2497               47             9     8           22             78   \n",
       "2498               27             8     1           47             53   \n",
       "2499               21             3     4           55             45   \n",
       "2500               25             5     6           45             55   \n",
       "\n",
       "      Recomendation Credit_Card  \n",
       "0                 3         NaN  \n",
       "1                 5         NaN  \n",
       "2                 4         NaN  \n",
       "3                 4         NaN  \n",
       "4                 5         Yes  \n",
       "...             ...         ...  \n",
       "2496              3         NaN  \n",
       "2497              6         NaN  \n",
       "2498              4         NaN  \n",
       "2499              5         NaN  \n",
       "2500              5         NaN  \n",
       "\n",
       "[2501 rows x 20 columns]"
      ]
     },
     "execution_count": 4,
     "metadata": {},
     "output_type": "execute_result"
    }
   ],
   "source": [
    "df = demo.merge(firmo, on = 'Custid' )\n",
    "\n",
    "## I don't use pd. to call the method because demo is already an object from pandas\n",
    "df"
   ]
  },
  {
   "cell_type": "markdown",
   "metadata": {},
   "source": [
    "<a id='index'></a>\n",
    "\n",
    "### 1.3. Set Index \n",
    "\n",
    "__`Step 5`__ Define the variable \"Custid\" as the index of the dataframe using the method `set_index()`.\n",
    "\n",
    "https://pandas.pydata.org/docs/reference/api/pandas.DataFrame.set_index.html"
   ]
  },
  {
   "cell_type": "code",
   "execution_count": 5,
   "metadata": {},
   "outputs": [
    {
     "data": {
      "text/html": [
       "<div>\n",
       "<style scoped>\n",
       "    .dataframe tbody tr th:only-of-type {\n",
       "        vertical-align: middle;\n",
       "    }\n",
       "\n",
       "    .dataframe tbody tr th {\n",
       "        vertical-align: top;\n",
       "    }\n",
       "\n",
       "    .dataframe thead th {\n",
       "        text-align: right;\n",
       "    }\n",
       "</style>\n",
       "<table border=\"1\" class=\"dataframe\">\n",
       "  <thead>\n",
       "    <tr style=\"text-align: right;\">\n",
       "      <th></th>\n",
       "      <th>Year_Birth</th>\n",
       "      <th>Gender</th>\n",
       "      <th>Education</th>\n",
       "      <th>Marital_Status</th>\n",
       "      <th>Dependents</th>\n",
       "      <th>Income</th>\n",
       "      <th>Country</th>\n",
       "      <th>Rcn</th>\n",
       "      <th>Frq</th>\n",
       "      <th>Mnt</th>\n",
       "      <th>Clothes</th>\n",
       "      <th>Kitchen</th>\n",
       "      <th>SmallAppliances</th>\n",
       "      <th>HouseKeeping</th>\n",
       "      <th>Toys</th>\n",
       "      <th>NetPurchase</th>\n",
       "      <th>StorePurchase</th>\n",
       "      <th>Recomendation</th>\n",
       "      <th>Credit_Card</th>\n",
       "    </tr>\n",
       "    <tr>\n",
       "      <th>Custid</th>\n",
       "      <th></th>\n",
       "      <th></th>\n",
       "      <th></th>\n",
       "      <th></th>\n",
       "      <th></th>\n",
       "      <th></th>\n",
       "      <th></th>\n",
       "      <th></th>\n",
       "      <th></th>\n",
       "      <th></th>\n",
       "      <th></th>\n",
       "      <th></th>\n",
       "      <th></th>\n",
       "      <th></th>\n",
       "      <th></th>\n",
       "      <th></th>\n",
       "      <th></th>\n",
       "      <th></th>\n",
       "      <th></th>\n",
       "    </tr>\n",
       "  </thead>\n",
       "  <tbody>\n",
       "    <tr>\n",
       "      <th>1003</th>\n",
       "      <td>1996</td>\n",
       "      <td>M</td>\n",
       "      <td>Graduation</td>\n",
       "      <td>NaN</td>\n",
       "      <td>1</td>\n",
       "      <td>29761.20</td>\n",
       "      <td>Portugal</td>\n",
       "      <td>69</td>\n",
       "      <td>11</td>\n",
       "      <td>45.76</td>\n",
       "      <td>32</td>\n",
       "      <td>19</td>\n",
       "      <td>24</td>\n",
       "      <td>1</td>\n",
       "      <td>24</td>\n",
       "      <td>59</td>\n",
       "      <td>41</td>\n",
       "      <td>3</td>\n",
       "      <td>NaN</td>\n",
       "    </tr>\n",
       "    <tr>\n",
       "      <th>1004</th>\n",
       "      <td>1961</td>\n",
       "      <td>M</td>\n",
       "      <td>Master</td>\n",
       "      <td>Married</td>\n",
       "      <td>1</td>\n",
       "      <td>98249.55</td>\n",
       "      <td>Portugal</td>\n",
       "      <td>10</td>\n",
       "      <td>26</td>\n",
       "      <td>923.52</td>\n",
       "      <td>60</td>\n",
       "      <td>10</td>\n",
       "      <td>19</td>\n",
       "      <td>6</td>\n",
       "      <td>5</td>\n",
       "      <td>35</td>\n",
       "      <td>65</td>\n",
       "      <td>5</td>\n",
       "      <td>NaN</td>\n",
       "    </tr>\n",
       "    <tr>\n",
       "      <th>1006</th>\n",
       "      <td>1988</td>\n",
       "      <td>F</td>\n",
       "      <td>PhD</td>\n",
       "      <td>Together</td>\n",
       "      <td>1</td>\n",
       "      <td>23505.30</td>\n",
       "      <td>Portugal</td>\n",
       "      <td>65</td>\n",
       "      <td>14</td>\n",
       "      <td>58.24</td>\n",
       "      <td>47</td>\n",
       "      <td>2</td>\n",
       "      <td>48</td>\n",
       "      <td>2</td>\n",
       "      <td>1</td>\n",
       "      <td>67</td>\n",
       "      <td>33</td>\n",
       "      <td>4</td>\n",
       "      <td>NaN</td>\n",
       "    </tr>\n",
       "    <tr>\n",
       "      <th>1007</th>\n",
       "      <td>1975</td>\n",
       "      <td>F</td>\n",
       "      <td>Graduation</td>\n",
       "      <td>Single</td>\n",
       "      <td>1</td>\n",
       "      <td>72959.25</td>\n",
       "      <td>Portugal</td>\n",
       "      <td>73</td>\n",
       "      <td>18</td>\n",
       "      <td>358.80</td>\n",
       "      <td>71</td>\n",
       "      <td>7</td>\n",
       "      <td>13</td>\n",
       "      <td>1</td>\n",
       "      <td>8</td>\n",
       "      <td>46</td>\n",
       "      <td>54</td>\n",
       "      <td>4</td>\n",
       "      <td>NaN</td>\n",
       "    </tr>\n",
       "    <tr>\n",
       "      <th>1009</th>\n",
       "      <td>1946</td>\n",
       "      <td>F</td>\n",
       "      <td>Graduation</td>\n",
       "      <td>Married</td>\n",
       "      <td>0</td>\n",
       "      <td>114973.95</td>\n",
       "      <td>Portugal</td>\n",
       "      <td>75</td>\n",
       "      <td>30</td>\n",
       "      <td>1457.04</td>\n",
       "      <td>38</td>\n",
       "      <td>9</td>\n",
       "      <td>35</td>\n",
       "      <td>9</td>\n",
       "      <td>9</td>\n",
       "      <td>17</td>\n",
       "      <td>83</td>\n",
       "      <td>5</td>\n",
       "      <td>Yes</td>\n",
       "    </tr>\n",
       "    <tr>\n",
       "      <th>...</th>\n",
       "      <td>...</td>\n",
       "      <td>...</td>\n",
       "      <td>...</td>\n",
       "      <td>...</td>\n",
       "      <td>...</td>\n",
       "      <td>...</td>\n",
       "      <td>...</td>\n",
       "      <td>...</td>\n",
       "      <td>...</td>\n",
       "      <td>...</td>\n",
       "      <td>...</td>\n",
       "      <td>...</td>\n",
       "      <td>...</td>\n",
       "      <td>...</td>\n",
       "      <td>...</td>\n",
       "      <td>...</td>\n",
       "      <td>...</td>\n",
       "      <td>...</td>\n",
       "      <td>...</td>\n",
       "    </tr>\n",
       "    <tr>\n",
       "      <th>10989</th>\n",
       "      <td>2001</td>\n",
       "      <td>F</td>\n",
       "      <td>Basic</td>\n",
       "      <td>Single</td>\n",
       "      <td>1</td>\n",
       "      <td>29551.20</td>\n",
       "      <td>Portugal</td>\n",
       "      <td>41</td>\n",
       "      <td>10</td>\n",
       "      <td>47.84</td>\n",
       "      <td>11</td>\n",
       "      <td>40</td>\n",
       "      <td>24</td>\n",
       "      <td>22</td>\n",
       "      <td>2</td>\n",
       "      <td>59</td>\n",
       "      <td>41</td>\n",
       "      <td>3</td>\n",
       "      <td>NaN</td>\n",
       "    </tr>\n",
       "    <tr>\n",
       "      <th>10991</th>\n",
       "      <td>1945</td>\n",
       "      <td>F</td>\n",
       "      <td>Graduation</td>\n",
       "      <td>Married</td>\n",
       "      <td>0</td>\n",
       "      <td>132566.70</td>\n",
       "      <td>Portugal</td>\n",
       "      <td>36</td>\n",
       "      <td>46</td>\n",
       "      <td>2320.24</td>\n",
       "      <td>32</td>\n",
       "      <td>4</td>\n",
       "      <td>47</td>\n",
       "      <td>9</td>\n",
       "      <td>8</td>\n",
       "      <td>22</td>\n",
       "      <td>78</td>\n",
       "      <td>6</td>\n",
       "      <td>NaN</td>\n",
       "    </tr>\n",
       "    <tr>\n",
       "      <th>10993</th>\n",
       "      <td>1960</td>\n",
       "      <td>F</td>\n",
       "      <td>Graduation</td>\n",
       "      <td>Together</td>\n",
       "      <td>0</td>\n",
       "      <td>91768.95</td>\n",
       "      <td>Portugal</td>\n",
       "      <td>1</td>\n",
       "      <td>25</td>\n",
       "      <td>870.48</td>\n",
       "      <td>56</td>\n",
       "      <td>8</td>\n",
       "      <td>27</td>\n",
       "      <td>8</td>\n",
       "      <td>1</td>\n",
       "      <td>47</td>\n",
       "      <td>53</td>\n",
       "      <td>4</td>\n",
       "      <td>NaN</td>\n",
       "    </tr>\n",
       "    <tr>\n",
       "      <th>10994</th>\n",
       "      <td>1966</td>\n",
       "      <td>F</td>\n",
       "      <td>Basic</td>\n",
       "      <td>Married</td>\n",
       "      <td>1</td>\n",
       "      <td>99085.35</td>\n",
       "      <td>Portugal</td>\n",
       "      <td>1</td>\n",
       "      <td>28</td>\n",
       "      <td>931.84</td>\n",
       "      <td>68</td>\n",
       "      <td>5</td>\n",
       "      <td>21</td>\n",
       "      <td>3</td>\n",
       "      <td>4</td>\n",
       "      <td>55</td>\n",
       "      <td>45</td>\n",
       "      <td>5</td>\n",
       "      <td>NaN</td>\n",
       "    </tr>\n",
       "    <tr>\n",
       "      <th>10997</th>\n",
       "      <td>1944</td>\n",
       "      <td>F</td>\n",
       "      <td>2n Cycle</td>\n",
       "      <td>Together</td>\n",
       "      <td>1</td>\n",
       "      <td>132260.10</td>\n",
       "      <td>Portugal</td>\n",
       "      <td>75</td>\n",
       "      <td>38</td>\n",
       "      <td>1734.72</td>\n",
       "      <td>61</td>\n",
       "      <td>2</td>\n",
       "      <td>25</td>\n",
       "      <td>5</td>\n",
       "      <td>6</td>\n",
       "      <td>45</td>\n",
       "      <td>55</td>\n",
       "      <td>5</td>\n",
       "      <td>NaN</td>\n",
       "    </tr>\n",
       "  </tbody>\n",
       "</table>\n",
       "<p>2501 rows × 19 columns</p>\n",
       "</div>"
      ],
      "text/plain": [
       "        Year_Birth Gender   Education Marital_Status  Dependents     Income  \\\n",
       "Custid                                                                        \n",
       "1003          1996      M  Graduation            NaN           1   29761.20   \n",
       "1004          1961      M      Master        Married           1   98249.55   \n",
       "1006          1988      F         PhD       Together           1   23505.30   \n",
       "1007          1975      F  Graduation         Single           1   72959.25   \n",
       "1009          1946      F  Graduation        Married           0  114973.95   \n",
       "...            ...    ...         ...            ...         ...        ...   \n",
       "10989         2001      F       Basic         Single           1   29551.20   \n",
       "10991         1945      F  Graduation        Married           0  132566.70   \n",
       "10993         1960      F  Graduation       Together           0   91768.95   \n",
       "10994         1966      F       Basic        Married           1   99085.35   \n",
       "10997         1944      F    2n Cycle       Together           1  132260.10   \n",
       "\n",
       "         Country  Rcn  Frq      Mnt  Clothes  Kitchen  SmallAppliances  \\\n",
       "Custid                                                                   \n",
       "1003    Portugal   69   11    45.76       32       19               24   \n",
       "1004    Portugal   10   26   923.52       60       10               19   \n",
       "1006    Portugal   65   14    58.24       47        2               48   \n",
       "1007    Portugal   73   18   358.80       71        7               13   \n",
       "1009    Portugal   75   30  1457.04       38        9               35   \n",
       "...          ...  ...  ...      ...      ...      ...              ...   \n",
       "10989   Portugal   41   10    47.84       11       40               24   \n",
       "10991   Portugal   36   46  2320.24       32        4               47   \n",
       "10993   Portugal    1   25   870.48       56        8               27   \n",
       "10994   Portugal    1   28   931.84       68        5               21   \n",
       "10997   Portugal   75   38  1734.72       61        2               25   \n",
       "\n",
       "        HouseKeeping  Toys  NetPurchase  StorePurchase  Recomendation  \\\n",
       "Custid                                                                  \n",
       "1003               1    24           59             41              3   \n",
       "1004               6     5           35             65              5   \n",
       "1006               2     1           67             33              4   \n",
       "1007               1     8           46             54              4   \n",
       "1009               9     9           17             83              5   \n",
       "...              ...   ...          ...            ...            ...   \n",
       "10989             22     2           59             41              3   \n",
       "10991              9     8           22             78              6   \n",
       "10993              8     1           47             53              4   \n",
       "10994              3     4           55             45              5   \n",
       "10997              5     6           45             55              5   \n",
       "\n",
       "       Credit_Card  \n",
       "Custid              \n",
       "1003           NaN  \n",
       "1004           NaN  \n",
       "1006           NaN  \n",
       "1007           NaN  \n",
       "1009           Yes  \n",
       "...            ...  \n",
       "10989          NaN  \n",
       "10991          NaN  \n",
       "10993          NaN  \n",
       "10994          NaN  \n",
       "10997          NaN  \n",
       "\n",
       "[2501 rows x 19 columns]"
      ]
     },
     "execution_count": 5,
     "metadata": {},
     "output_type": "execute_result"
    }
   ],
   "source": [
    "df.set_index('Custid', inplace = True)\n",
    "df"
   ]
  },
  {
   "cell_type": "markdown",
   "metadata": {},
   "source": [
    "<a id='duplicates'></a>\n",
    "\n",
    "### 1.4. Check for duplicates\n",
    "\n",
    "__`Step 6`__ Drop any duplicate rows present in the dataframe with the method `drop_duplicates()`\n",
    "\n",
    "https://pandas.pydata.org/docs/reference/api/pandas.DataFrame.drop_duplicates.html <br>\n",
    "https://pandas.pydata.org/docs/reference/api/pandas.DataFrame.duplicated.html"
   ]
  },
  {
   "cell_type": "code",
   "execution_count": 6,
   "metadata": {},
   "outputs": [
    {
     "data": {
      "text/html": [
       "<div>\n",
       "<style scoped>\n",
       "    .dataframe tbody tr th:only-of-type {\n",
       "        vertical-align: middle;\n",
       "    }\n",
       "\n",
       "    .dataframe tbody tr th {\n",
       "        vertical-align: top;\n",
       "    }\n",
       "\n",
       "    .dataframe thead th {\n",
       "        text-align: right;\n",
       "    }\n",
       "</style>\n",
       "<table border=\"1\" class=\"dataframe\">\n",
       "  <thead>\n",
       "    <tr style=\"text-align: right;\">\n",
       "      <th></th>\n",
       "      <th>Year_Birth</th>\n",
       "      <th>Gender</th>\n",
       "      <th>Education</th>\n",
       "      <th>Marital_Status</th>\n",
       "      <th>Dependents</th>\n",
       "      <th>Income</th>\n",
       "      <th>Country</th>\n",
       "      <th>Rcn</th>\n",
       "      <th>Frq</th>\n",
       "      <th>Mnt</th>\n",
       "      <th>Clothes</th>\n",
       "      <th>Kitchen</th>\n",
       "      <th>SmallAppliances</th>\n",
       "      <th>HouseKeeping</th>\n",
       "      <th>Toys</th>\n",
       "      <th>NetPurchase</th>\n",
       "      <th>StorePurchase</th>\n",
       "      <th>Recomendation</th>\n",
       "      <th>Credit_Card</th>\n",
       "    </tr>\n",
       "    <tr>\n",
       "      <th>Custid</th>\n",
       "      <th></th>\n",
       "      <th></th>\n",
       "      <th></th>\n",
       "      <th></th>\n",
       "      <th></th>\n",
       "      <th></th>\n",
       "      <th></th>\n",
       "      <th></th>\n",
       "      <th></th>\n",
       "      <th></th>\n",
       "      <th></th>\n",
       "      <th></th>\n",
       "      <th></th>\n",
       "      <th></th>\n",
       "      <th></th>\n",
       "      <th></th>\n",
       "      <th></th>\n",
       "      <th></th>\n",
       "      <th></th>\n",
       "    </tr>\n",
       "  </thead>\n",
       "  <tbody>\n",
       "    <tr>\n",
       "      <th>1285</th>\n",
       "      <td>1982</td>\n",
       "      <td>F</td>\n",
       "      <td>Master</td>\n",
       "      <td>Married</td>\n",
       "      <td>1</td>\n",
       "      <td>68893.65</td>\n",
       "      <td>Portugal</td>\n",
       "      <td>50</td>\n",
       "      <td>16</td>\n",
       "      <td>270.4</td>\n",
       "      <td>83</td>\n",
       "      <td>1</td>\n",
       "      <td>14</td>\n",
       "      <td>1</td>\n",
       "      <td>1</td>\n",
       "      <td>54</td>\n",
       "      <td>46</td>\n",
       "      <td>3</td>\n",
       "      <td>NaN</td>\n",
       "    </tr>\n",
       "  </tbody>\n",
       "</table>\n",
       "</div>"
      ],
      "text/plain": [
       "        Year_Birth Gender Education Marital_Status  Dependents    Income  \\\n",
       "Custid                                                                     \n",
       "1285          1982      F    Master        Married           1  68893.65   \n",
       "\n",
       "         Country  Rcn  Frq    Mnt  Clothes  Kitchen  SmallAppliances  \\\n",
       "Custid                                                                 \n",
       "1285    Portugal   50   16  270.4       83        1               14   \n",
       "\n",
       "        HouseKeeping  Toys  NetPurchase  StorePurchase  Recomendation  \\\n",
       "Custid                                                                  \n",
       "1285               1     1           54             46              3   \n",
       "\n",
       "       Credit_Card  \n",
       "Custid              \n",
       "1285           NaN  "
      ]
     },
     "execution_count": 6,
     "metadata": {},
     "output_type": "execute_result"
    }
   ],
   "source": [
    "df[df.duplicated()]"
   ]
  },
  {
   "cell_type": "code",
   "execution_count": 7,
   "metadata": {},
   "outputs": [
    {
     "data": {
      "text/html": [
       "<div>\n",
       "<style scoped>\n",
       "    .dataframe tbody tr th:only-of-type {\n",
       "        vertical-align: middle;\n",
       "    }\n",
       "\n",
       "    .dataframe tbody tr th {\n",
       "        vertical-align: top;\n",
       "    }\n",
       "\n",
       "    .dataframe thead th {\n",
       "        text-align: right;\n",
       "    }\n",
       "</style>\n",
       "<table border=\"1\" class=\"dataframe\">\n",
       "  <thead>\n",
       "    <tr style=\"text-align: right;\">\n",
       "      <th></th>\n",
       "      <th>Year_Birth</th>\n",
       "      <th>Gender</th>\n",
       "      <th>Education</th>\n",
       "      <th>Marital_Status</th>\n",
       "      <th>Dependents</th>\n",
       "      <th>Income</th>\n",
       "      <th>Country</th>\n",
       "      <th>Rcn</th>\n",
       "      <th>Frq</th>\n",
       "      <th>Mnt</th>\n",
       "      <th>Clothes</th>\n",
       "      <th>Kitchen</th>\n",
       "      <th>SmallAppliances</th>\n",
       "      <th>HouseKeeping</th>\n",
       "      <th>Toys</th>\n",
       "      <th>NetPurchase</th>\n",
       "      <th>StorePurchase</th>\n",
       "      <th>Recomendation</th>\n",
       "      <th>Credit_Card</th>\n",
       "    </tr>\n",
       "    <tr>\n",
       "      <th>Custid</th>\n",
       "      <th></th>\n",
       "      <th></th>\n",
       "      <th></th>\n",
       "      <th></th>\n",
       "      <th></th>\n",
       "      <th></th>\n",
       "      <th></th>\n",
       "      <th></th>\n",
       "      <th></th>\n",
       "      <th></th>\n",
       "      <th></th>\n",
       "      <th></th>\n",
       "      <th></th>\n",
       "      <th></th>\n",
       "      <th></th>\n",
       "      <th></th>\n",
       "      <th></th>\n",
       "      <th></th>\n",
       "      <th></th>\n",
       "    </tr>\n",
       "  </thead>\n",
       "  <tbody>\n",
       "    <tr>\n",
       "      <th>1003</th>\n",
       "      <td>1996</td>\n",
       "      <td>M</td>\n",
       "      <td>Graduation</td>\n",
       "      <td>NaN</td>\n",
       "      <td>1</td>\n",
       "      <td>29761.20</td>\n",
       "      <td>Portugal</td>\n",
       "      <td>69</td>\n",
       "      <td>11</td>\n",
       "      <td>45.76</td>\n",
       "      <td>32</td>\n",
       "      <td>19</td>\n",
       "      <td>24</td>\n",
       "      <td>1</td>\n",
       "      <td>24</td>\n",
       "      <td>59</td>\n",
       "      <td>41</td>\n",
       "      <td>3</td>\n",
       "      <td>NaN</td>\n",
       "    </tr>\n",
       "    <tr>\n",
       "      <th>1004</th>\n",
       "      <td>1961</td>\n",
       "      <td>M</td>\n",
       "      <td>Master</td>\n",
       "      <td>Married</td>\n",
       "      <td>1</td>\n",
       "      <td>98249.55</td>\n",
       "      <td>Portugal</td>\n",
       "      <td>10</td>\n",
       "      <td>26</td>\n",
       "      <td>923.52</td>\n",
       "      <td>60</td>\n",
       "      <td>10</td>\n",
       "      <td>19</td>\n",
       "      <td>6</td>\n",
       "      <td>5</td>\n",
       "      <td>35</td>\n",
       "      <td>65</td>\n",
       "      <td>5</td>\n",
       "      <td>NaN</td>\n",
       "    </tr>\n",
       "    <tr>\n",
       "      <th>1006</th>\n",
       "      <td>1988</td>\n",
       "      <td>F</td>\n",
       "      <td>PhD</td>\n",
       "      <td>Together</td>\n",
       "      <td>1</td>\n",
       "      <td>23505.30</td>\n",
       "      <td>Portugal</td>\n",
       "      <td>65</td>\n",
       "      <td>14</td>\n",
       "      <td>58.24</td>\n",
       "      <td>47</td>\n",
       "      <td>2</td>\n",
       "      <td>48</td>\n",
       "      <td>2</td>\n",
       "      <td>1</td>\n",
       "      <td>67</td>\n",
       "      <td>33</td>\n",
       "      <td>4</td>\n",
       "      <td>NaN</td>\n",
       "    </tr>\n",
       "    <tr>\n",
       "      <th>1007</th>\n",
       "      <td>1975</td>\n",
       "      <td>F</td>\n",
       "      <td>Graduation</td>\n",
       "      <td>Single</td>\n",
       "      <td>1</td>\n",
       "      <td>72959.25</td>\n",
       "      <td>Portugal</td>\n",
       "      <td>73</td>\n",
       "      <td>18</td>\n",
       "      <td>358.80</td>\n",
       "      <td>71</td>\n",
       "      <td>7</td>\n",
       "      <td>13</td>\n",
       "      <td>1</td>\n",
       "      <td>8</td>\n",
       "      <td>46</td>\n",
       "      <td>54</td>\n",
       "      <td>4</td>\n",
       "      <td>NaN</td>\n",
       "    </tr>\n",
       "    <tr>\n",
       "      <th>1009</th>\n",
       "      <td>1946</td>\n",
       "      <td>F</td>\n",
       "      <td>Graduation</td>\n",
       "      <td>Married</td>\n",
       "      <td>0</td>\n",
       "      <td>114973.95</td>\n",
       "      <td>Portugal</td>\n",
       "      <td>75</td>\n",
       "      <td>30</td>\n",
       "      <td>1457.04</td>\n",
       "      <td>38</td>\n",
       "      <td>9</td>\n",
       "      <td>35</td>\n",
       "      <td>9</td>\n",
       "      <td>9</td>\n",
       "      <td>17</td>\n",
       "      <td>83</td>\n",
       "      <td>5</td>\n",
       "      <td>Yes</td>\n",
       "    </tr>\n",
       "    <tr>\n",
       "      <th>...</th>\n",
       "      <td>...</td>\n",
       "      <td>...</td>\n",
       "      <td>...</td>\n",
       "      <td>...</td>\n",
       "      <td>...</td>\n",
       "      <td>...</td>\n",
       "      <td>...</td>\n",
       "      <td>...</td>\n",
       "      <td>...</td>\n",
       "      <td>...</td>\n",
       "      <td>...</td>\n",
       "      <td>...</td>\n",
       "      <td>...</td>\n",
       "      <td>...</td>\n",
       "      <td>...</td>\n",
       "      <td>...</td>\n",
       "      <td>...</td>\n",
       "      <td>...</td>\n",
       "      <td>...</td>\n",
       "    </tr>\n",
       "    <tr>\n",
       "      <th>10989</th>\n",
       "      <td>2001</td>\n",
       "      <td>F</td>\n",
       "      <td>Basic</td>\n",
       "      <td>Single</td>\n",
       "      <td>1</td>\n",
       "      <td>29551.20</td>\n",
       "      <td>Portugal</td>\n",
       "      <td>41</td>\n",
       "      <td>10</td>\n",
       "      <td>47.84</td>\n",
       "      <td>11</td>\n",
       "      <td>40</td>\n",
       "      <td>24</td>\n",
       "      <td>22</td>\n",
       "      <td>2</td>\n",
       "      <td>59</td>\n",
       "      <td>41</td>\n",
       "      <td>3</td>\n",
       "      <td>NaN</td>\n",
       "    </tr>\n",
       "    <tr>\n",
       "      <th>10991</th>\n",
       "      <td>1945</td>\n",
       "      <td>F</td>\n",
       "      <td>Graduation</td>\n",
       "      <td>Married</td>\n",
       "      <td>0</td>\n",
       "      <td>132566.70</td>\n",
       "      <td>Portugal</td>\n",
       "      <td>36</td>\n",
       "      <td>46</td>\n",
       "      <td>2320.24</td>\n",
       "      <td>32</td>\n",
       "      <td>4</td>\n",
       "      <td>47</td>\n",
       "      <td>9</td>\n",
       "      <td>8</td>\n",
       "      <td>22</td>\n",
       "      <td>78</td>\n",
       "      <td>6</td>\n",
       "      <td>NaN</td>\n",
       "    </tr>\n",
       "    <tr>\n",
       "      <th>10993</th>\n",
       "      <td>1960</td>\n",
       "      <td>F</td>\n",
       "      <td>Graduation</td>\n",
       "      <td>Together</td>\n",
       "      <td>0</td>\n",
       "      <td>91768.95</td>\n",
       "      <td>Portugal</td>\n",
       "      <td>1</td>\n",
       "      <td>25</td>\n",
       "      <td>870.48</td>\n",
       "      <td>56</td>\n",
       "      <td>8</td>\n",
       "      <td>27</td>\n",
       "      <td>8</td>\n",
       "      <td>1</td>\n",
       "      <td>47</td>\n",
       "      <td>53</td>\n",
       "      <td>4</td>\n",
       "      <td>NaN</td>\n",
       "    </tr>\n",
       "    <tr>\n",
       "      <th>10994</th>\n",
       "      <td>1966</td>\n",
       "      <td>F</td>\n",
       "      <td>Basic</td>\n",
       "      <td>Married</td>\n",
       "      <td>1</td>\n",
       "      <td>99085.35</td>\n",
       "      <td>Portugal</td>\n",
       "      <td>1</td>\n",
       "      <td>28</td>\n",
       "      <td>931.84</td>\n",
       "      <td>68</td>\n",
       "      <td>5</td>\n",
       "      <td>21</td>\n",
       "      <td>3</td>\n",
       "      <td>4</td>\n",
       "      <td>55</td>\n",
       "      <td>45</td>\n",
       "      <td>5</td>\n",
       "      <td>NaN</td>\n",
       "    </tr>\n",
       "    <tr>\n",
       "      <th>10997</th>\n",
       "      <td>1944</td>\n",
       "      <td>F</td>\n",
       "      <td>2n Cycle</td>\n",
       "      <td>Together</td>\n",
       "      <td>1</td>\n",
       "      <td>132260.10</td>\n",
       "      <td>Portugal</td>\n",
       "      <td>75</td>\n",
       "      <td>38</td>\n",
       "      <td>1734.72</td>\n",
       "      <td>61</td>\n",
       "      <td>2</td>\n",
       "      <td>25</td>\n",
       "      <td>5</td>\n",
       "      <td>6</td>\n",
       "      <td>45</td>\n",
       "      <td>55</td>\n",
       "      <td>5</td>\n",
       "      <td>NaN</td>\n",
       "    </tr>\n",
       "  </tbody>\n",
       "</table>\n",
       "<p>2500 rows × 19 columns</p>\n",
       "</div>"
      ],
      "text/plain": [
       "        Year_Birth Gender   Education Marital_Status  Dependents     Income  \\\n",
       "Custid                                                                        \n",
       "1003          1996      M  Graduation            NaN           1   29761.20   \n",
       "1004          1961      M      Master        Married           1   98249.55   \n",
       "1006          1988      F         PhD       Together           1   23505.30   \n",
       "1007          1975      F  Graduation         Single           1   72959.25   \n",
       "1009          1946      F  Graduation        Married           0  114973.95   \n",
       "...            ...    ...         ...            ...         ...        ...   \n",
       "10989         2001      F       Basic         Single           1   29551.20   \n",
       "10991         1945      F  Graduation        Married           0  132566.70   \n",
       "10993         1960      F  Graduation       Together           0   91768.95   \n",
       "10994         1966      F       Basic        Married           1   99085.35   \n",
       "10997         1944      F    2n Cycle       Together           1  132260.10   \n",
       "\n",
       "         Country  Rcn  Frq      Mnt  Clothes  Kitchen  SmallAppliances  \\\n",
       "Custid                                                                   \n",
       "1003    Portugal   69   11    45.76       32       19               24   \n",
       "1004    Portugal   10   26   923.52       60       10               19   \n",
       "1006    Portugal   65   14    58.24       47        2               48   \n",
       "1007    Portugal   73   18   358.80       71        7               13   \n",
       "1009    Portugal   75   30  1457.04       38        9               35   \n",
       "...          ...  ...  ...      ...      ...      ...              ...   \n",
       "10989   Portugal   41   10    47.84       11       40               24   \n",
       "10991   Portugal   36   46  2320.24       32        4               47   \n",
       "10993   Portugal    1   25   870.48       56        8               27   \n",
       "10994   Portugal    1   28   931.84       68        5               21   \n",
       "10997   Portugal   75   38  1734.72       61        2               25   \n",
       "\n",
       "        HouseKeeping  Toys  NetPurchase  StorePurchase  Recomendation  \\\n",
       "Custid                                                                  \n",
       "1003               1    24           59             41              3   \n",
       "1004               6     5           35             65              5   \n",
       "1006               2     1           67             33              4   \n",
       "1007               1     8           46             54              4   \n",
       "1009               9     9           17             83              5   \n",
       "...              ...   ...          ...            ...            ...   \n",
       "10989             22     2           59             41              3   \n",
       "10991              9     8           22             78              6   \n",
       "10993              8     1           47             53              4   \n",
       "10994              3     4           55             45              5   \n",
       "10997              5     6           45             55              5   \n",
       "\n",
       "       Credit_Card  \n",
       "Custid              \n",
       "1003           NaN  \n",
       "1004           NaN  \n",
       "1006           NaN  \n",
       "1007           NaN  \n",
       "1009           Yes  \n",
       "...            ...  \n",
       "10989          NaN  \n",
       "10991          NaN  \n",
       "10993          NaN  \n",
       "10994          NaN  \n",
       "10997          NaN  \n",
       "\n",
       "[2500 rows x 19 columns]"
      ]
     },
     "execution_count": 7,
     "metadata": {},
     "output_type": "execute_result"
    }
   ],
   "source": [
    "df.drop_duplicates(inplace = True)\n",
    "df"
   ]
  },
  {
   "cell_type": "markdown",
   "metadata": {},
   "source": [
    "[BACK TO TOC](#toc)\n",
    "\n",
    "<a id='explore'></a>\n",
    "\n",
    "# <font color = '#cc9900'> 2. Explore Data </font>\n",
    "\n",
    "<img src=\"images/phase03.png\" alt=\"Drawing\" style=\"width: 500px;\"/>"
   ]
  },
  {
   "cell_type": "markdown",
   "metadata": {},
   "source": [
    "<a id='basic'></a>\n",
    "\n",
    "### 2.1. Basic Exploration"
   ]
  },
  {
   "cell_type": "markdown",
   "metadata": {},
   "source": [
    "__`Step 7`__ Check the number of rows and columns in the dataset using the attribute `shape`\n",
    "\n",
    "https://pandas.pydata.org/docs/reference/api/pandas.DataFrame.shape.html"
   ]
  },
  {
   "cell_type": "code",
   "execution_count": 8,
   "metadata": {},
   "outputs": [
    {
     "data": {
      "text/plain": [
       "(2500, 19)"
      ]
     },
     "execution_count": 8,
     "metadata": {},
     "output_type": "execute_result"
    }
   ],
   "source": [
    "df.shape"
   ]
  },
  {
   "cell_type": "markdown",
   "metadata": {},
   "source": [
    "Our dataset contains 2500 rows and 19 columns."
   ]
  },
  {
   "cell_type": "markdown",
   "metadata": {},
   "source": [
    "__`Step 8`__ Check the name of the columns of our dataset using the attribute `columns`\n",
    "\n",
    "https://pandas.pydata.org/docs/reference/api/pandas.DataFrame.columns.html"
   ]
  },
  {
   "cell_type": "code",
   "execution_count": 9,
   "metadata": {},
   "outputs": [
    {
     "data": {
      "text/plain": [
       "Index(['Year_Birth', 'Gender', 'Education', 'Marital_Status', 'Dependents',\n",
       "       'Income', 'Country', 'Rcn', 'Frq', 'Mnt', 'Clothes', 'Kitchen',\n",
       "       'SmallAppliances', 'HouseKeeping', 'Toys', 'NetPurchase',\n",
       "       'StorePurchase', 'Recomendation', 'Credit_Card'],\n",
       "      dtype='object')"
      ]
     },
     "execution_count": 9,
     "metadata": {},
     "output_type": "execute_result"
    }
   ],
   "source": [
    "df.columns"
   ]
  },
  {
   "cell_type": "markdown",
   "metadata": {},
   "source": [
    "__`Step 9`__ Check the first three rows of the dataset using the method `head()`\n",
    "\n",
    "https://pandas.pydata.org/docs/reference/api/pandas.DataFrame.head.html"
   ]
  },
  {
   "cell_type": "code",
   "execution_count": 10,
   "metadata": {},
   "outputs": [
    {
     "data": {
      "text/html": [
       "<div>\n",
       "<style scoped>\n",
       "    .dataframe tbody tr th:only-of-type {\n",
       "        vertical-align: middle;\n",
       "    }\n",
       "\n",
       "    .dataframe tbody tr th {\n",
       "        vertical-align: top;\n",
       "    }\n",
       "\n",
       "    .dataframe thead th {\n",
       "        text-align: right;\n",
       "    }\n",
       "</style>\n",
       "<table border=\"1\" class=\"dataframe\">\n",
       "  <thead>\n",
       "    <tr style=\"text-align: right;\">\n",
       "      <th></th>\n",
       "      <th>Year_Birth</th>\n",
       "      <th>Gender</th>\n",
       "      <th>Education</th>\n",
       "      <th>Marital_Status</th>\n",
       "      <th>Dependents</th>\n",
       "      <th>Income</th>\n",
       "      <th>Country</th>\n",
       "      <th>Rcn</th>\n",
       "      <th>Frq</th>\n",
       "      <th>Mnt</th>\n",
       "      <th>Clothes</th>\n",
       "      <th>Kitchen</th>\n",
       "      <th>SmallAppliances</th>\n",
       "      <th>HouseKeeping</th>\n",
       "      <th>Toys</th>\n",
       "      <th>NetPurchase</th>\n",
       "      <th>StorePurchase</th>\n",
       "      <th>Recomendation</th>\n",
       "      <th>Credit_Card</th>\n",
       "    </tr>\n",
       "    <tr>\n",
       "      <th>Custid</th>\n",
       "      <th></th>\n",
       "      <th></th>\n",
       "      <th></th>\n",
       "      <th></th>\n",
       "      <th></th>\n",
       "      <th></th>\n",
       "      <th></th>\n",
       "      <th></th>\n",
       "      <th></th>\n",
       "      <th></th>\n",
       "      <th></th>\n",
       "      <th></th>\n",
       "      <th></th>\n",
       "      <th></th>\n",
       "      <th></th>\n",
       "      <th></th>\n",
       "      <th></th>\n",
       "      <th></th>\n",
       "      <th></th>\n",
       "    </tr>\n",
       "  </thead>\n",
       "  <tbody>\n",
       "    <tr>\n",
       "      <th>1003</th>\n",
       "      <td>1996</td>\n",
       "      <td>M</td>\n",
       "      <td>Graduation</td>\n",
       "      <td>NaN</td>\n",
       "      <td>1</td>\n",
       "      <td>29761.20</td>\n",
       "      <td>Portugal</td>\n",
       "      <td>69</td>\n",
       "      <td>11</td>\n",
       "      <td>45.76</td>\n",
       "      <td>32</td>\n",
       "      <td>19</td>\n",
       "      <td>24</td>\n",
       "      <td>1</td>\n",
       "      <td>24</td>\n",
       "      <td>59</td>\n",
       "      <td>41</td>\n",
       "      <td>3</td>\n",
       "      <td>NaN</td>\n",
       "    </tr>\n",
       "    <tr>\n",
       "      <th>1004</th>\n",
       "      <td>1961</td>\n",
       "      <td>M</td>\n",
       "      <td>Master</td>\n",
       "      <td>Married</td>\n",
       "      <td>1</td>\n",
       "      <td>98249.55</td>\n",
       "      <td>Portugal</td>\n",
       "      <td>10</td>\n",
       "      <td>26</td>\n",
       "      <td>923.52</td>\n",
       "      <td>60</td>\n",
       "      <td>10</td>\n",
       "      <td>19</td>\n",
       "      <td>6</td>\n",
       "      <td>5</td>\n",
       "      <td>35</td>\n",
       "      <td>65</td>\n",
       "      <td>5</td>\n",
       "      <td>NaN</td>\n",
       "    </tr>\n",
       "    <tr>\n",
       "      <th>1006</th>\n",
       "      <td>1988</td>\n",
       "      <td>F</td>\n",
       "      <td>PhD</td>\n",
       "      <td>Together</td>\n",
       "      <td>1</td>\n",
       "      <td>23505.30</td>\n",
       "      <td>Portugal</td>\n",
       "      <td>65</td>\n",
       "      <td>14</td>\n",
       "      <td>58.24</td>\n",
       "      <td>47</td>\n",
       "      <td>2</td>\n",
       "      <td>48</td>\n",
       "      <td>2</td>\n",
       "      <td>1</td>\n",
       "      <td>67</td>\n",
       "      <td>33</td>\n",
       "      <td>4</td>\n",
       "      <td>NaN</td>\n",
       "    </tr>\n",
       "  </tbody>\n",
       "</table>\n",
       "</div>"
      ],
      "text/plain": [
       "        Year_Birth Gender   Education Marital_Status  Dependents    Income  \\\n",
       "Custid                                                                       \n",
       "1003          1996      M  Graduation            NaN           1  29761.20   \n",
       "1004          1961      M      Master        Married           1  98249.55   \n",
       "1006          1988      F         PhD       Together           1  23505.30   \n",
       "\n",
       "         Country  Rcn  Frq     Mnt  Clothes  Kitchen  SmallAppliances  \\\n",
       "Custid                                                                  \n",
       "1003    Portugal   69   11   45.76       32       19               24   \n",
       "1004    Portugal   10   26  923.52       60       10               19   \n",
       "1006    Portugal   65   14   58.24       47        2               48   \n",
       "\n",
       "        HouseKeeping  Toys  NetPurchase  StorePurchase  Recomendation  \\\n",
       "Custid                                                                  \n",
       "1003               1    24           59             41              3   \n",
       "1004               6     5           35             65              5   \n",
       "1006               2     1           67             33              4   \n",
       "\n",
       "       Credit_Card  \n",
       "Custid              \n",
       "1003           NaN  \n",
       "1004           NaN  \n",
       "1006           NaN  "
      ]
     },
     "execution_count": 10,
     "metadata": {},
     "output_type": "execute_result"
    }
   ],
   "source": [
    "df.head(3)"
   ]
  },
  {
   "cell_type": "markdown",
   "metadata": {},
   "source": [
    "In the same way, you have the method `tail()` that return the last rows of the dataset.\n",
    "\n",
    "https://pandas.pydata.org/docs/reference/api/pandas.DataFrame.tail.html"
   ]
  },
  {
   "cell_type": "markdown",
   "metadata": {},
   "source": [
    "__`Step 10`__ Get more information of the dataset by calling the method `info()`\n",
    "\n",
    "https://pandas.pydata.org/docs/reference/api/pandas.DataFrame.info.html"
   ]
  },
  {
   "cell_type": "code",
   "execution_count": 11,
   "metadata": {},
   "outputs": [
    {
     "name": "stdout",
     "output_type": "stream",
     "text": [
      "<class 'pandas.core.frame.DataFrame'>\n",
      "Int64Index: 2500 entries, 1003 to 10997\n",
      "Data columns (total 19 columns):\n",
      " #   Column           Non-Null Count  Dtype  \n",
      "---  ------           --------------  -----  \n",
      " 0   Year_Birth       2500 non-null   int64  \n",
      " 1   Gender           2500 non-null   object \n",
      " 2   Education        2493 non-null   object \n",
      " 3   Marital_Status   2483 non-null   object \n",
      " 4   Dependents       2500 non-null   int64  \n",
      " 5   Income           2431 non-null   float64\n",
      " 6   Country          2500 non-null   object \n",
      " 7   Rcn              2500 non-null   int64  \n",
      " 8   Frq              2500 non-null   int64  \n",
      " 9   Mnt              2500 non-null   float64\n",
      " 10  Clothes          2500 non-null   int64  \n",
      " 11  Kitchen          2500 non-null   int64  \n",
      " 12  SmallAppliances  2500 non-null   int64  \n",
      " 13  HouseKeeping     2500 non-null   int64  \n",
      " 14  Toys             2500 non-null   int64  \n",
      " 15  NetPurchase      2500 non-null   int64  \n",
      " 16  StorePurchase    2500 non-null   int64  \n",
      " 17  Recomendation    2500 non-null   int64  \n",
      " 18  Credit_Card      67 non-null     object \n",
      "dtypes: float64(2), int64(12), object(5)\n",
      "memory usage: 390.6+ KB\n"
     ]
    }
   ],
   "source": [
    "df.info()"
   ]
  },
  {
   "cell_type": "markdown",
   "metadata": {},
   "source": [
    "We can verify that we are working with:\n",
    "- 2 float variables\n",
    "- 12 integer variables\n",
    "- 6 object variables\n",
    "\n",
    "We can also check that some of the variables have missing values. We are going to deal with this in a further step."
   ]
  },
  {
   "cell_type": "markdown",
   "metadata": {},
   "source": [
    "<a id='stats'></a>\n",
    "\n",
    "### 2.2. Statistical Exploration"
   ]
  },
  {
   "cell_type": "markdown",
   "metadata": {},
   "source": [
    "#### 2.3.1.) Numerical Variables"
   ]
  },
  {
   "cell_type": "markdown",
   "metadata": {},
   "source": [
    "__`Step 11`__ Get the main descriptive statistics for all the numeric variables in using the method `.describe()`\n",
    "\n",
    "https://pandas.pydata.org/docs/reference/api/pandas.DataFrame.describe.html"
   ]
  },
  {
   "cell_type": "code",
   "execution_count": 12,
   "metadata": {
    "scrolled": false
   },
   "outputs": [
    {
     "data": {
      "text/html": [
       "<div>\n",
       "<style scoped>\n",
       "    .dataframe tbody tr th:only-of-type {\n",
       "        vertical-align: middle;\n",
       "    }\n",
       "\n",
       "    .dataframe tbody tr th {\n",
       "        vertical-align: top;\n",
       "    }\n",
       "\n",
       "    .dataframe thead th {\n",
       "        text-align: right;\n",
       "    }\n",
       "</style>\n",
       "<table border=\"1\" class=\"dataframe\">\n",
       "  <thead>\n",
       "    <tr style=\"text-align: right;\">\n",
       "      <th></th>\n",
       "      <th>Year_Birth</th>\n",
       "      <th>Dependents</th>\n",
       "      <th>Income</th>\n",
       "      <th>Rcn</th>\n",
       "      <th>Frq</th>\n",
       "      <th>Mnt</th>\n",
       "      <th>Clothes</th>\n",
       "      <th>Kitchen</th>\n",
       "      <th>SmallAppliances</th>\n",
       "      <th>HouseKeeping</th>\n",
       "      <th>Toys</th>\n",
       "      <th>NetPurchase</th>\n",
       "      <th>StorePurchase</th>\n",
       "      <th>Recomendation</th>\n",
       "    </tr>\n",
       "  </thead>\n",
       "  <tbody>\n",
       "    <tr>\n",
       "      <th>count</th>\n",
       "      <td>2500.000000</td>\n",
       "      <td>2500.000000</td>\n",
       "      <td>2431.000000</td>\n",
       "      <td>2500.000000</td>\n",
       "      <td>2500.000000</td>\n",
       "      <td>2500.000000</td>\n",
       "      <td>2500.000000</td>\n",
       "      <td>2500.000000</td>\n",
       "      <td>2500.000000</td>\n",
       "      <td>2500.00000</td>\n",
       "      <td>2500.00000</td>\n",
       "      <td>2500.000000</td>\n",
       "      <td>2500.000000</td>\n",
       "      <td>2500.000000</td>\n",
       "    </tr>\n",
       "    <tr>\n",
       "      <th>mean</th>\n",
       "      <td>1971.737200</td>\n",
       "      <td>0.701200</td>\n",
       "      <td>74062.838873</td>\n",
       "      <td>62.938400</td>\n",
       "      <td>19.989200</td>\n",
       "      <td>654.829760</td>\n",
       "      <td>50.982000</td>\n",
       "      <td>6.958800</td>\n",
       "      <td>28.233200</td>\n",
       "      <td>6.88080</td>\n",
       "      <td>6.92920</td>\n",
       "      <td>42.077600</td>\n",
       "      <td>57.922400</td>\n",
       "      <td>3.952800</td>\n",
       "    </tr>\n",
       "    <tr>\n",
       "      <th>std</th>\n",
       "      <td>17.046019</td>\n",
       "      <td>0.457824</td>\n",
       "      <td>28807.225833</td>\n",
       "      <td>69.643494</td>\n",
       "      <td>10.951249</td>\n",
       "      <td>676.453079</td>\n",
       "      <td>23.390283</td>\n",
       "      <td>7.836738</td>\n",
       "      <td>12.617674</td>\n",
       "      <td>7.63363</td>\n",
       "      <td>7.92094</td>\n",
       "      <td>18.274582</td>\n",
       "      <td>18.274582</td>\n",
       "      <td>1.141531</td>\n",
       "    </tr>\n",
       "    <tr>\n",
       "      <th>min</th>\n",
       "      <td>1942.000000</td>\n",
       "      <td>0.000000</td>\n",
       "      <td>10500.000000</td>\n",
       "      <td>0.000000</td>\n",
       "      <td>3.000000</td>\n",
       "      <td>8.320000</td>\n",
       "      <td>2.000000</td>\n",
       "      <td>0.000000</td>\n",
       "      <td>2.000000</td>\n",
       "      <td>0.00000</td>\n",
       "      <td>0.00000</td>\n",
       "      <td>5.000000</td>\n",
       "      <td>12.000000</td>\n",
       "      <td>1.000000</td>\n",
       "    </tr>\n",
       "    <tr>\n",
       "      <th>25%</th>\n",
       "      <td>1957.000000</td>\n",
       "      <td>0.000000</td>\n",
       "      <td>51013.725000</td>\n",
       "      <td>27.000000</td>\n",
       "      <td>11.000000</td>\n",
       "      <td>66.560000</td>\n",
       "      <td>33.000000</td>\n",
       "      <td>2.000000</td>\n",
       "      <td>19.000000</td>\n",
       "      <td>2.00000</td>\n",
       "      <td>1.00000</td>\n",
       "      <td>27.000000</td>\n",
       "      <td>43.000000</td>\n",
       "      <td>3.000000</td>\n",
       "    </tr>\n",
       "    <tr>\n",
       "      <th>50%</th>\n",
       "      <td>1971.000000</td>\n",
       "      <td>1.000000</td>\n",
       "      <td>74525.850000</td>\n",
       "      <td>53.000000</td>\n",
       "      <td>18.000000</td>\n",
       "      <td>401.960000</td>\n",
       "      <td>51.000000</td>\n",
       "      <td>4.000000</td>\n",
       "      <td>27.000000</td>\n",
       "      <td>4.00000</td>\n",
       "      <td>4.00000</td>\n",
       "      <td>45.000000</td>\n",
       "      <td>55.000000</td>\n",
       "      <td>4.000000</td>\n",
       "    </tr>\n",
       "    <tr>\n",
       "      <th>75%</th>\n",
       "      <td>1986.000000</td>\n",
       "      <td>1.000000</td>\n",
       "      <td>97300.875000</td>\n",
       "      <td>78.000000</td>\n",
       "      <td>28.000000</td>\n",
       "      <td>1069.120000</td>\n",
       "      <td>70.000000</td>\n",
       "      <td>9.000000</td>\n",
       "      <td>37.000000</td>\n",
       "      <td>9.00000</td>\n",
       "      <td>10.00000</td>\n",
       "      <td>57.000000</td>\n",
       "      <td>73.000000</td>\n",
       "      <td>5.000000</td>\n",
       "    </tr>\n",
       "    <tr>\n",
       "      <th>max</th>\n",
       "      <td>2002.000000</td>\n",
       "      <td>1.000000</td>\n",
       "      <td>144204.900000</td>\n",
       "      <td>549.000000</td>\n",
       "      <td>58.000000</td>\n",
       "      <td>3055.520000</td>\n",
       "      <td>98.000000</td>\n",
       "      <td>68.000000</td>\n",
       "      <td>69.000000</td>\n",
       "      <td>54.00000</td>\n",
       "      <td>77.00000</td>\n",
       "      <td>88.000000</td>\n",
       "      <td>95.000000</td>\n",
       "      <td>6.000000</td>\n",
       "    </tr>\n",
       "  </tbody>\n",
       "</table>\n",
       "</div>"
      ],
      "text/plain": [
       "        Year_Birth   Dependents         Income          Rcn          Frq  \\\n",
       "count  2500.000000  2500.000000    2431.000000  2500.000000  2500.000000   \n",
       "mean   1971.737200     0.701200   74062.838873    62.938400    19.989200   \n",
       "std      17.046019     0.457824   28807.225833    69.643494    10.951249   \n",
       "min    1942.000000     0.000000   10500.000000     0.000000     3.000000   \n",
       "25%    1957.000000     0.000000   51013.725000    27.000000    11.000000   \n",
       "50%    1971.000000     1.000000   74525.850000    53.000000    18.000000   \n",
       "75%    1986.000000     1.000000   97300.875000    78.000000    28.000000   \n",
       "max    2002.000000     1.000000  144204.900000   549.000000    58.000000   \n",
       "\n",
       "               Mnt      Clothes      Kitchen  SmallAppliances  HouseKeeping  \\\n",
       "count  2500.000000  2500.000000  2500.000000      2500.000000    2500.00000   \n",
       "mean    654.829760    50.982000     6.958800        28.233200       6.88080   \n",
       "std     676.453079    23.390283     7.836738        12.617674       7.63363   \n",
       "min       8.320000     2.000000     0.000000         2.000000       0.00000   \n",
       "25%      66.560000    33.000000     2.000000        19.000000       2.00000   \n",
       "50%     401.960000    51.000000     4.000000        27.000000       4.00000   \n",
       "75%    1069.120000    70.000000     9.000000        37.000000       9.00000   \n",
       "max    3055.520000    98.000000    68.000000        69.000000      54.00000   \n",
       "\n",
       "             Toys  NetPurchase  StorePurchase  Recomendation  \n",
       "count  2500.00000  2500.000000    2500.000000    2500.000000  \n",
       "mean      6.92920    42.077600      57.922400       3.952800  \n",
       "std       7.92094    18.274582      18.274582       1.141531  \n",
       "min       0.00000     5.000000      12.000000       1.000000  \n",
       "25%       1.00000    27.000000      43.000000       3.000000  \n",
       "50%       4.00000    45.000000      55.000000       4.000000  \n",
       "75%      10.00000    57.000000      73.000000       5.000000  \n",
       "max      77.00000    88.000000      95.000000       6.000000  "
      ]
     },
     "execution_count": 12,
     "metadata": {},
     "output_type": "execute_result"
    }
   ],
   "source": [
    "df.describe()\n",
    "# df.describe().T"
   ]
  },
  {
   "cell_type": "markdown",
   "metadata": {},
   "source": [
    "From the above table, we can get some conclusions. Some examples are:\n",
    "- `count`- The income variable has 2431 valid values. We have a problem of missing values in here.\n",
    "- `mean`- In average, my customers spent on my store 654 monetary units;\n",
    "- `std`- The standard deviation of Income is quite high. This indicates that the values are spread out over a wider range.\n",
    "- `min`- All the customers have bought in my store at least 3 times.\n",
    "- `50%`- Half of my customers spend till 402 monetary units on my store.\n",
    "- `max`- The maximum value for recommendation is 6. This is an incoherence - according to the business needs, the range is between 1 and 5.\n",
    "\n",
    "The `describe()` method provides the main descriptive statistics: count, mean, standard deviation, minimum value, 25 percentile, 50 percentile or median, 75 percentile and maximum value. \n",
    "<br>\n",
    "However, you can call directly other measures, such as the skewness or the kurtosis."
   ]
  },
  {
   "cell_type": "markdown",
   "metadata": {},
   "source": [
    "__`Step 12`__ Get the skewness associated with each variable in the dataset using the method `skew()`\n",
    "\n",
    "https://pandas.pydata.org/docs/reference/api/pandas.DataFrame.skew.html"
   ]
  },
  {
   "cell_type": "code",
   "execution_count": 13,
   "metadata": {},
   "outputs": [
    {
     "name": "stderr",
     "output_type": "stream",
     "text": [
      "C:\\Users\\ricar\\AppData\\Local\\Temp/ipykernel_5368/1665899112.py:1: FutureWarning: Dropping of nuisance columns in DataFrame reductions (with 'numeric_only=None') is deprecated; in a future version this will raise TypeError.  Select only valid columns before calling the reduction.\n",
      "  df.skew()\n"
     ]
    },
    {
     "data": {
      "text/plain": [
       "Year_Birth         0.066038\n",
       "Dependents        -0.879645\n",
       "Income            -0.008810\n",
       "Rcn                4.078153\n",
       "Frq                0.703346\n",
       "Mnt                0.991759\n",
       "Clothes           -0.076380\n",
       "Kitchen            2.192946\n",
       "SmallAppliances    0.319840\n",
       "HouseKeeping       2.013936\n",
       "Toys               2.408100\n",
       "NetPurchase       -0.241966\n",
       "StorePurchase      0.241966\n",
       "Recomendation     -0.112705\n",
       "dtype: float64"
      ]
     },
     "execution_count": 13,
     "metadata": {},
     "output_type": "execute_result"
    }
   ],
   "source": [
    "df.skew()"
   ]
  },
  {
   "cell_type": "markdown",
   "metadata": {},
   "source": [
    "Concerning the variables skewness, we can conclude the following:\n",
    "- `Moderate skewness (between |0.5| and |1.0|)`: Dependents, Frq, Mnt, \n",
    "- `High skewness (higher than |1.0|)`: Rcn, Kitchen, HouseKeeping, Toys"
   ]
  },
  {
   "cell_type": "markdown",
   "metadata": {},
   "source": [
    "__`Step 13`__ Get the kurtosis associated with the variable `Rcn` using the method `kurt()`\n",
    "\n",
    "https://pandas.pydata.org/docs/reference/api/pandas.DataFrame.kurt.html"
   ]
  },
  {
   "cell_type": "code",
   "execution_count": 14,
   "metadata": {},
   "outputs": [
    {
     "data": {
      "text/plain": [
       "Rcn        20.083685\n",
       "Kitchen     6.858773\n",
       "dtype: float64"
      ]
     },
     "execution_count": 14,
     "metadata": {},
     "output_type": "execute_result"
    }
   ],
   "source": [
    "df[['Rcn','Kitchen']].kurt()"
   ]
  },
  {
   "cell_type": "markdown",
   "metadata": {},
   "source": [
    "High kurtosis in a data set is an indicator that data has heavy tails or outliers. A standard normal distribution has a kurtosis of 3, so values higher than that could indicate presence of outliers.\n",
    "We need to check further this variable about the presence of possible outliers."
   ]
  },
  {
   "cell_type": "markdown",
   "metadata": {},
   "source": [
    "#### 2.3.2.) Categorical Variables\n",
    "\n",
    "__`Step 14`__ Get the main descriptive statistics for all the categorical variables in using the method `.describe(include = ['O'])`"
   ]
  },
  {
   "cell_type": "code",
   "execution_count": 15,
   "metadata": {},
   "outputs": [
    {
     "data": {
      "text/html": [
       "<div>\n",
       "<style scoped>\n",
       "    .dataframe tbody tr th:only-of-type {\n",
       "        vertical-align: middle;\n",
       "    }\n",
       "\n",
       "    .dataframe tbody tr th {\n",
       "        vertical-align: top;\n",
       "    }\n",
       "\n",
       "    .dataframe thead th {\n",
       "        text-align: right;\n",
       "    }\n",
       "</style>\n",
       "<table border=\"1\" class=\"dataframe\">\n",
       "  <thead>\n",
       "    <tr style=\"text-align: right;\">\n",
       "      <th></th>\n",
       "      <th>Gender</th>\n",
       "      <th>Education</th>\n",
       "      <th>Marital_Status</th>\n",
       "      <th>Country</th>\n",
       "      <th>Credit_Card</th>\n",
       "    </tr>\n",
       "  </thead>\n",
       "  <tbody>\n",
       "    <tr>\n",
       "      <th>count</th>\n",
       "      <td>2500</td>\n",
       "      <td>2493</td>\n",
       "      <td>2483</td>\n",
       "      <td>2500</td>\n",
       "      <td>67</td>\n",
       "    </tr>\n",
       "    <tr>\n",
       "      <th>unique</th>\n",
       "      <td>3</td>\n",
       "      <td>6</td>\n",
       "      <td>9</td>\n",
       "      <td>1</td>\n",
       "      <td>2</td>\n",
       "    </tr>\n",
       "    <tr>\n",
       "      <th>top</th>\n",
       "      <td>F</td>\n",
       "      <td>Graduation</td>\n",
       "      <td>Married</td>\n",
       "      <td>Portugal</td>\n",
       "      <td>No</td>\n",
       "    </tr>\n",
       "    <tr>\n",
       "      <th>freq</th>\n",
       "      <td>1910</td>\n",
       "      <td>1224</td>\n",
       "      <td>915</td>\n",
       "      <td>2500</td>\n",
       "      <td>35</td>\n",
       "    </tr>\n",
       "  </tbody>\n",
       "</table>\n",
       "</div>"
      ],
      "text/plain": [
       "       Gender   Education Marital_Status   Country Credit_Card\n",
       "count    2500        2493           2483      2500          67\n",
       "unique      3           6              9         1           2\n",
       "top         F  Graduation        Married  Portugal          No\n",
       "freq     1910        1224            915      2500          35"
      ]
     },
     "execution_count": 15,
     "metadata": {},
     "output_type": "execute_result"
    }
   ],
   "source": [
    "df.describe(include = ['O'])"
   ]
  },
  {
   "cell_type": "markdown",
   "metadata": {},
   "source": [
    "We can verify some problems or issues that we need to address before applying a model:\n",
    "- We have 3 possible values for Gender, 6 for Education and 9 for Marital Status: we need to check further if all those values are acceptable;\n",
    "- The variable country is unary - we only have one possible value;\n",
    "- The credit card has only 67 values in 2500 filled. Maybe we should drop this variable."
   ]
  },
  {
   "cell_type": "markdown",
   "metadata": {},
   "source": [
    "__`Step 15`__ Check the levels/possible values in the variables \"Gender\", \"Education\" and \"Marital_Status\" using the method `value_counts()`\n",
    "\n",
    "https://pandas.pydata.org/docs/reference/api/pandas.DataFrame.value_counts.html"
   ]
  },
  {
   "cell_type": "code",
   "execution_count": 16,
   "metadata": {},
   "outputs": [
    {
     "data": {
      "text/plain": [
       "F    1910\n",
       "M     585\n",
       "?       5\n",
       "Name: Gender, dtype: int64"
      ]
     },
     "execution_count": 16,
     "metadata": {},
     "output_type": "execute_result"
    }
   ],
   "source": [
    "df['Gender'].value_counts()"
   ]
  },
  {
   "cell_type": "markdown",
   "metadata": {},
   "source": [
    "We have 5 observations with a value of \"?\". We need to change this value, since it is not a valid value."
   ]
  },
  {
   "cell_type": "code",
   "execution_count": 17,
   "metadata": {},
   "outputs": [
    {
     "data": {
      "text/plain": [
       "Graduation    1224\n",
       "2n Cycle       425\n",
       "Master         372\n",
       "Basic          299\n",
       "PhD            167\n",
       "OldSchool        6\n",
       "Name: Education, dtype: int64"
      ]
     },
     "execution_count": 17,
     "metadata": {},
     "output_type": "execute_result"
    }
   ],
   "source": [
    "df['Education'].value_counts()"
   ]
  },
  {
   "cell_type": "markdown",
   "metadata": {},
   "source": [
    "We have some problems in this variable:\n",
    "    - OldSchool is not a valid value;\n",
    "    - Not clear what is 2n Cycle and Basic Education. \n",
    "      Should we have values like this when nowadays high school is obligatory?\n",
    "      \n",
    "We need to make some transformations in this variable also."
   ]
  },
  {
   "cell_type": "code",
   "execution_count": 18,
   "metadata": {},
   "outputs": [
    {
     "data": {
      "text/plain": [
       "Married         915\n",
       "Together        604\n",
       "Single          596\n",
       "Divorced        230\n",
       "Widow           115\n",
       "BigConfusion     19\n",
       "TOGETHER          2\n",
       "MARRIED           1\n",
       "DIVORCED          1\n",
       "Name: Marital_Status, dtype: int64"
      ]
     },
     "execution_count": 18,
     "metadata": {},
     "output_type": "execute_result"
    }
   ],
   "source": [
    "df['Marital_Status'].value_counts()"
   ]
  },
  {
   "cell_type": "markdown",
   "metadata": {},
   "source": [
    "It seems that this variable needs also some transformations:\n",
    "    - Together, Married and Divorced are written sometimes using capital letters;\n",
    "    - BigConfusion is not a valid value;\n",
    "    - Does it make sense to have Together and Married into two different levels?"
   ]
  },
  {
   "cell_type": "markdown",
   "metadata": {},
   "source": [
    "<a id='visual'></a>\n",
    "\n",
    "### 2.3. Visual Exploration"
   ]
  },
  {
   "cell_type": "markdown",
   "metadata": {},
   "source": [
    "#### 2.3.1.) Numerical Variables\n",
    "__`Step 16`__ Check the distribution of the variable 'Mnt' using a `histplot()`. Define the color as green and the number of bins equal to 10.\n",
    "\n",
    "https://seaborn.pydata.org/generated/seaborn.histplot.html"
   ]
  },
  {
   "cell_type": "code",
   "execution_count": 19,
   "metadata": {},
   "outputs": [
    {
     "data": {
      "text/plain": [
       "<AxesSubplot:xlabel='Mnt', ylabel='Count'>"
      ]
     },
     "execution_count": 19,
     "metadata": {},
     "output_type": "execute_result"
    },
    {
     "data": {
      "image/png": "[encoded data removed]",
      "text/plain": [
       "<Figure size 432x288 with 1 Axes>"
      ]
     },
     "metadata": {
      "needs_background": "light"
     },
     "output_type": "display_data"
    }
   ],
   "source": [
    "sns.histplot(df['Mnt'], color=\"g\", bins = 10)"
   ]
  },
  {
   "cell_type": "markdown",
   "metadata": {},
   "source": [
    "__`Step 17`__ Create a `scatterplot` where the x axis represent the Income and the y axis define the Mnt spent for each customer using seaborn.\n",
    "\n",
    "https://seaborn.pydata.org/generated/seaborn.scatterplot.html"
   ]
  },
  {
   "cell_type": "code",
   "execution_count": 20,
   "metadata": {},
   "outputs": [
    {
     "data": {
      "text/plain": [
       "<AxesSubplot:xlabel='Income', ylabel='Mnt'>"
      ]
     },
     "execution_count": 20,
     "metadata": {},
     "output_type": "execute_result"
    },
    {
     "data": {
      "image/png": "[encoded data removed]",
      "text/plain": [
       "<Figure size 432x288 with 1 Axes>"
      ]
     },
     "metadata": {
      "needs_background": "light"
     },
     "output_type": "display_data"
    }
   ],
   "source": [
    "sns.scatterplot(x = 'Income', y= 'Mnt', data = df)"
   ]
  },
  {
   "cell_type": "markdown",
   "metadata": {},
   "source": [
    "We can clearly see that the higher the Income, the higher the monetary spent on our store."
   ]
  },
  {
   "cell_type": "markdown",
   "metadata": {},
   "source": [
    "__`Step 17.B`__ This time, create a scatterplot similar to the previous one, but with the following changes:\n",
    "- Define the size of the figure as (12,8)\n",
    "- Create a scatterplot where the x axis will define the Income and the y axis will represent the Mnt. Use the parameter hue to represent a third variable, the recomendation.\n",
    "- Define the lower limit of y as -200\n",
    "- Define the lower limit of x as 0\n",
    "- Define the ticks of the x axis between 0 and 160000, in steps of 30000\n",
    "- Define the title of the plot as \"Income vs Monetary vs Recomendation\", with a fontsize of 16 and a blue color\n",
    "- The legend of the plot should be on the upper left area and the title of the legend should be \"Recomendation\"\n",
    "- Define the label of the x axis as \"Customer's Income\"\n",
    "- Remove the top and right axis of the plot\n",
    "- Save the figure as \"my_plot.png\", with a resolution of 300 dots per inch and with no background."
   ]
  },
  {
   "cell_type": "code",
   "execution_count": 21,
   "metadata": {},
   "outputs": [
    {
     "data": {
      "image/png": "[encoded data removed]",
      "text/plain": [
       "<Figure size 864x576 with 1 Axes>"
      ]
     },
     "metadata": {
      "needs_background": "light"
     },
     "output_type": "display_data"
    }
   ],
   "source": [
    "figure = plt.figure(figsize=(12,8))\n",
    "ax = plt.subplot(111) #  \"111\" means \"1x1 grid, first subplot\" and \"234\" means \"2x3 grid, 4th subplot\".\n",
    "sns.scatterplot(x = 'Income', y = 'Mnt', data = df, hue = 'Recomendation')\n",
    "\n",
    "\n",
    "# define the limits of y axis using matplotlib.pyplot.ylim\n",
    "plt.ylim(-200,None)\n",
    "# define the limits of x axis using matplotlib.pyplot.xlim\n",
    "plt.xlim(0,None)\n",
    "# define the ticks in x axis using matplotlib.pyplot.xticks(start, stop, step)\n",
    "# np.arange - Return evenly spaced values within a given interval.\n",
    "plt.xticks(np.arange(0,160000,30000))\n",
    "# define the title using matplotlib.pyplot.title\n",
    "plt.title('Income vs Monetary vs Recomendation', fontsize= 16, color = 'blue')\n",
    "# define the legend using matplotlib.pyplot.legend\n",
    "plt.legend(loc = 'upper left', title = 'Recomendation')\n",
    "# define the label for x axis using matplotlib.pyplot.xlabel\n",
    "plt.xlabel(\"Customer's Income\")\n",
    "ax.spines['right'].set_visible(False)\n",
    "ax.spines['top'].set_visible(False)\n",
    "plt.savefig('my_plot.png', dpi = 300, transparent = True)"
   ]
  },
  {
   "cell_type": "markdown",
   "metadata": {},
   "source": [
    "__`Step 18`__ Plot the pairwise relationships of the variables \"Clothes\", \"Toys\" and \"HouseKeeping\" using a `pairplot`\n",
    "\n",
    "https://seaborn.pydata.org/generated/seaborn.pairplot.html"
   ]
  },
  {
   "cell_type": "code",
   "execution_count": 22,
   "metadata": {},
   "outputs": [
    {
     "data": {
      "text/plain": [
       "<seaborn.axisgrid.PairGrid at 0x298fa3fafa0>"
      ]
     },
     "execution_count": 22,
     "metadata": {},
     "output_type": "execute_result"
    },
    {
     "data": {
      "image/png": "[encoded data removed]",
      "text/plain": [
       "<Figure size 540x540 with 12 Axes>"
      ]
     },
     "metadata": {
      "needs_background": "light"
     },
     "output_type": "display_data"
    }
   ],
   "source": [
    "df_subset = df[['Clothes', 'Toys', 'HouseKeeping']].copy()\n",
    "sns.pairplot(df_subset)"
   ]
  },
  {
   "cell_type": "markdown",
   "metadata": {},
   "source": [
    "__`Step 19`__ Check the spearman correlation between numerical variables using the method `corr(method = 'spearman')`.\n",
    "\n",
    "https://pandas.pydata.org/docs/reference/api/pandas.DataFrame.corr.html <br>\n",
    "https://seaborn.pydata.org/generated/seaborn.heatmap.html"
   ]
  },
  {
   "cell_type": "code",
   "execution_count": 23,
   "metadata": {},
   "outputs": [
    {
     "data": {
      "text/plain": [
       "<AxesSubplot:>"
      ]
     },
     "execution_count": 23,
     "metadata": {},
     "output_type": "execute_result"
    },
    {
     "data": {
      "image/png": "[encoded data removed]",
      "text/plain": [
       "<Figure size 1152x720 with 2 Axes>"
      ]
     },
     "metadata": {
      "needs_background": "light"
     },
     "output_type": "display_data"
    }
   ],
   "source": [
    "df_corr = df.corr(method = 'spearman')\n",
    "figure = plt.figure(figsize=(16,10))\n",
    "sns.heatmap(df_corr, annot=True, fmt = '.1g')"
   ]
  },
  {
   "cell_type": "markdown",
   "metadata": {},
   "source": [
    "We can verify that NetPurchase and StorePurchase have a perfect negative correlation. We don't need both variables. We are going to remove one of them in __`Step `__ "
   ]
  },
  {
   "cell_type": "markdown",
   "metadata": {},
   "source": [
    "#### 2.3.2.) Categorical Variables\n",
    "\n",
    "__`Step 20`__ Show the counts of observations in each categorical bin using bars for the variable \"Marital_Status\" using a `countplot()`.\n",
    "Define the hue as \"Gender\". Show only the counting for Single, Divorced, Widow, Married and Together in this order.\n",
    "\n",
    "https://seaborn.pydata.org/generated/seaborn.countplot.html"
   ]
  },
  {
   "cell_type": "code",
   "execution_count": 24,
   "metadata": {},
   "outputs": [
    {
     "data": {
      "text/plain": [
       "<AxesSubplot:xlabel='count', ylabel='Marital_Status'>"
      ]
     },
     "execution_count": 24,
     "metadata": {},
     "output_type": "execute_result"
    },
    {
     "data": {
      "image/png": "[encoded data removed]",
      "text/plain": [
       "<Figure size 432x288 with 1 Axes>"
      ]
     },
     "metadata": {
      "needs_background": "light"
     },
     "output_type": "display_data"
    }
   ],
   "source": [
    "sns.countplot(y = 'Marital_Status', hue = 'Gender', data = df,\n",
    "             order = ['Single','Divorced','Widow','Married','Together'])"
   ]
  },
  {
   "cell_type": "markdown",
   "metadata": {},
   "source": [
    "__`Step 21`__ Draw a scatterplot between Income (numerical variable) and Education (categorical variable) using the `stripplot()`"
   ]
  },
  {
   "cell_type": "code",
   "execution_count": 25,
   "metadata": {},
   "outputs": [
    {
     "data": {
      "text/plain": [
       "<AxesSubplot:xlabel='Income', ylabel='Education'>"
      ]
     },
     "execution_count": 25,
     "metadata": {},
     "output_type": "execute_result"
    },
    {
     "data": {
      "image/png": "[encoded data removed]",
      "text/plain": [
       "<Figure size 432x288 with 1 Axes>"
      ]
     },
     "metadata": {
      "needs_background": "light"
     },
     "output_type": "display_data"
    }
   ],
   "source": [
    "sns.stripplot(x = 'Income', y = 'Education', data = df)"
   ]
  },
  {
   "cell_type": "markdown",
   "metadata": {},
   "source": [
    "We cannot see any big differences on the money earned depending on the Education level."
   ]
  },
  {
   "cell_type": "markdown",
   "metadata": {},
   "source": [
    "<a id='depth'></a>\n",
    "\n",
    "### 2.4. In-depth Exploration"
   ]
  },
  {
   "cell_type": "markdown",
   "metadata": {},
   "source": [
    "We can go further and try to understand better our population of study using the methods `groupby()` and `query()`"
   ]
  },
  {
   "cell_type": "markdown",
   "metadata": {},
   "source": [
    "__`Step 22`__ What is the mean value of `Mnt` when `Dependents` is equal to 0? And when is equal to 1? Use `groupby()`.\n",
    "\n",
    "https://pandas.pydata.org/docs/reference/api/pandas.DataFrame.groupby.html <br>\n",
    "https://pandas.pydata.org/docs/reference/api/pandas.DataFrame.mean.html"
   ]
  },
  {
   "cell_type": "code",
   "execution_count": 26,
   "metadata": {},
   "outputs": [
    {
     "data": {
      "text/plain": [
       "Dependents\n",
       "0    1276.316680\n",
       "1     389.997627\n",
       "Name: Mnt, dtype: float64"
      ]
     },
     "execution_count": 26,
     "metadata": {},
     "output_type": "execute_result"
    }
   ],
   "source": [
    "df.groupby('Dependents')['Mnt'].mean()"
   ]
  },
  {
   "cell_type": "markdown",
   "metadata": {},
   "source": [
    "__`Step 23`__ What is the median value of `Mnt` spent by female customers when `Dependents` is equal to 0? And when is equal to 1? Use `groupby()` and `query()`\n",
    "\n",
    "https://pandas.pydata.org/docs/reference/api/pandas.DataFrame.median.html"
   ]
  },
  {
   "cell_type": "code",
   "execution_count": 27,
   "metadata": {},
   "outputs": [
    {
     "data": {
      "text/plain": [
       "Dependents\n",
       "0    1333.28\n",
       "1     195.52\n",
       "Name: Mnt, dtype: float64"
      ]
     },
     "execution_count": 27,
     "metadata": {},
     "output_type": "execute_result"
    }
   ],
   "source": [
    "df.query('Gender == \"F\"').groupby('Dependents')['Mnt'].median()"
   ]
  },
  {
   "cell_type": "markdown",
   "metadata": {},
   "source": [
    "[BACK TO TOC](#toc)\n",
    "\n",
    "<a id='preprocess'></a>\n",
    "\n",
    "# <font color = '#cc9900'> 3. Preprocess Data </font>\n",
    "\n",
    "<img src=\"images/phase04.png\" alt=\"Drawing\" style=\"width: 500px;\"/>"
   ]
  },
  {
   "cell_type": "markdown",
   "metadata": {},
   "source": [
    "<a id='clean'></a>\n",
    "\n",
    "## 3.1. Data Cleaning"
   ]
  },
  {
   "cell_type": "markdown",
   "metadata": {},
   "source": [
    "<a id='outliers'></a>\n",
    "\n",
    "### 3.1.1. Outliers"
   ]
  },
  {
   "cell_type": "markdown",
   "metadata": {},
   "source": [
    "In __Step 13__ we understood that the variables \"Rcn\" and \"Kitchen\", due to the high kurtosis, could have potential outliers. In the following steps we are going to investigate further this possible situation."
   ]
  },
  {
   "cell_type": "markdown",
   "metadata": {},
   "source": [
    "__`Step 24`__ Create a figure with two axes, where the boxplots of the variables \"Rcn\" and \"Kitchen\" are shown. Use the `boxplot()` from seaborn. \n",
    "\n",
    "https://seaborn.pydata.org/generated/seaborn.boxplot.html"
   ]
  },
  {
   "cell_type": "code",
   "execution_count": 28,
   "metadata": {},
   "outputs": [
    {
     "data": {
      "text/plain": [
       "<AxesSubplot:xlabel='Kitchen'>"
      ]
     },
     "execution_count": 28,
     "metadata": {},
     "output_type": "execute_result"
    },
    {
     "data": {
      "image/png": "[encoded data removed]",
      "text/plain": [
       "<Figure size 1008x432 with 2 Axes>"
      ]
     },
     "metadata": {
      "needs_background": "light"
     },
     "output_type": "display_data"
    }
   ],
   "source": [
    "fig, axes = plt.subplots(1,2, figsize = (14,6))\n",
    "sns.boxplot(ax = axes[0], data = df, x = 'Rcn')\n",
    "sns.boxplot(ax = axes[1], data = df, x = 'Kitchen')"
   ]
  },
  {
   "cell_type": "markdown",
   "metadata": {},
   "source": [
    "__`Step 25`__ Create a figure with two axes, where the histplots of the variables \"Rcn\" and \"Kitchen\" are shown. Use the `histplot()` from seaborn. "
   ]
  },
  {
   "cell_type": "code",
   "execution_count": 29,
   "metadata": {},
   "outputs": [
    {
     "data": {
      "text/plain": [
       "<AxesSubplot:xlabel='Kitchen', ylabel='Count'>"
      ]
     },
     "execution_count": 29,
     "metadata": {},
     "output_type": "execute_result"
    },
    {
     "data": {
      "image/png": "[encoded data removed]",
      "text/plain": [
       "<Figure size 1008x432 with 2 Axes>"
      ]
     },
     "metadata": {
      "needs_background": "light"
     },
     "output_type": "display_data"
    }
   ],
   "source": [
    "fig, axes = plt.subplots(1,2, figsize = (14,6))\n",
    "sns.histplot(ax = axes[0], data = df, x = 'Rcn')\n",
    "sns.histplot(ax = axes[1], data = df, x = 'Kitchen', bins = 20)"
   ]
  },
  {
   "cell_type": "markdown",
   "metadata": {},
   "source": [
    "__`Step 26`__ Remove the observations where Kitchen is higher than 50 using the method `drop()`.\n",
    "\n",
    "https://pandas.pydata.org/docs/reference/api/pandas.DataFrame.drop.html"
   ]
  },
  {
   "cell_type": "code",
   "execution_count": 30,
   "metadata": {},
   "outputs": [
    {
     "ename": "NameError",
     "evalue": "name 'df_no_outliersrc' is not defined",
     "output_type": "error",
     "traceback": [
      "\u001b[1;31m---------------------------------------------------------------------------\u001b[0m",
      "\u001b[1;31mNameError\u001b[0m                                 Traceback (most recent call last)",
      "\u001b[1;32m~\\AppData\\Local\\Temp/ipykernel_5368/3005787867.py\u001b[0m in \u001b[0;36m<module>\u001b[1;34m\u001b[0m\n\u001b[0;32m      1\u001b[0m \u001b[0mdf_no_outliers\u001b[0m \u001b[1;33m=\u001b[0m \u001b[0mdf\u001b[0m\u001b[1;33m.\u001b[0m\u001b[0mdrop\u001b[0m\u001b[1;33m(\u001b[0m\u001b[0mdf\u001b[0m\u001b[1;33m[\u001b[0m\u001b[0mdf\u001b[0m\u001b[1;33m[\u001b[0m\u001b[1;34m'Kitchen'\u001b[0m\u001b[1;33m]\u001b[0m \u001b[1;33m>\u001b[0m \u001b[1;36m50\u001b[0m\u001b[1;33m]\u001b[0m\u001b[1;33m.\u001b[0m\u001b[0mindex\u001b[0m\u001b[1;33m)\u001b[0m\u001b[1;33m\u001b[0m\u001b[1;33m\u001b[0m\u001b[0m\n\u001b[1;32m----> 2\u001b[1;33m \u001b[0mdf_no_outliersrc\u001b[0m\u001b[1;33m\u001b[0m\u001b[1;33m\u001b[0m\u001b[0m\n\u001b[0m",
      "\u001b[1;31mNameError\u001b[0m: name 'df_no_outliersrc' is not defined"
     ]
    }
   ],
   "source": [
    "df_no_outliers = df.drop(df[df['Kitchen'] > 50].index)\n",
    "df_no_outliersrc \n"
   ]
  },
  {
   "cell_type": "markdown",
   "metadata": {},
   "source": [
    "<a id='missing'></a>\n",
    "\n",
    "### 3.1.2. Missing Values"
   ]
  },
  {
   "cell_type": "markdown",
   "metadata": {},
   "source": [
    "__`Step 27`__ Check how many missing values you have in the dataset using `isna().sum()`\n",
    "\n",
    "https://pandas.pydata.org/docs/reference/api/pandas.DataFrame.isna.html <br>\n",
    "https://pandas.pydata.org/docs/reference/api/pandas.DataFrame.sum.html"
   ]
  },
  {
   "cell_type": "code",
   "execution_count": null,
   "metadata": {},
   "outputs": [],
   "source": [
    "df.isna().sum()"
   ]
  },
  {
   "cell_type": "markdown",
   "metadata": {},
   "source": [
    "__`Step 28`__ Fill with the method `fillna()` those missing values. For the categorical variables, use the most frequent value and for the numerical ones use the median.\n",
    "\n",
    "https://pandas.pydata.org/docs/reference/api/pandas.DataFrame.fillna.html"
   ]
  },
  {
   "cell_type": "code",
   "execution_count": null,
   "metadata": {},
   "outputs": [],
   "source": [
    "df.fillna({\n",
    "    'Education': df['Education'].value_counts().idxmax(),\n",
    "    'Marital_Status': df['Marital_Status'].value_counts().idxmax(),\n",
    "    'Income':df['Income'].median()\n",
    "    }, inplace = True)\n",
    "df.isna().sum()/len(df)"
   ]
  },
  {
   "cell_type": "markdown",
   "metadata": {},
   "source": [
    "We still have a variable (\"Credit_Card\") with 97% of values missing. We are going to remove this variable in a further step.\n",
    "\n",
    "[BACK TO TOC](#toc)"
   ]
  },
  {
   "cell_type": "markdown",
   "metadata": {},
   "source": [
    "<a id='transform'></a>\n",
    "\n",
    "## 3.2. Data Transformation"
   ]
  },
  {
   "cell_type": "markdown",
   "metadata": {},
   "source": [
    "<a id='new'></a>\n",
    "\n",
    "### 3.2.1. Create new variables"
   ]
  },
  {
   "cell_type": "markdown",
   "metadata": {},
   "source": [
    "__`Step 29`__ Create the variable \"Age\" from the \"Year_Birth\"."
   ]
  },
  {
   "cell_type": "code",
   "execution_count": null,
   "metadata": {},
   "outputs": [],
   "source": [
    "from datetime import date\n",
    "df['Age'] = date.today().year - df['Year_Birth']\n",
    "df"
   ]
  },
  {
   "cell_type": "markdown",
   "metadata": {},
   "source": [
    "__`Step 30`__ Create a new variable where the purpose is to understand how much money a customer spend on my store each time."
   ]
  },
  {
   "cell_type": "code",
   "execution_count": null,
   "metadata": {},
   "outputs": [],
   "source": [
    "df['MntFrq'] = df['Mnt']/df['Frq']\n",
    "df"
   ]
  },
  {
   "cell_type": "markdown",
   "metadata": {},
   "source": [
    "<a id='misc'></a>\n",
    "\n",
    "### 3.2.2. Misclassifications"
   ]
  },
  {
   "cell_type": "markdown",
   "metadata": {},
   "source": [
    "__`Step 31`__ Review the counting for possible values in the Gender variable using `value_counts()`"
   ]
  },
  {
   "cell_type": "code",
   "execution_count": null,
   "metadata": {},
   "outputs": [],
   "source": [
    "df['Gender'].value_counts()"
   ]
  },
  {
   "cell_type": "markdown",
   "metadata": {},
   "source": [
    "__`Step 31.B`__ Replace the \"?\" with the most frequent value using `value_counts().idxmax()`, which is going to return the most frequent value.\n",
    "\n",
    "https://pandas.pydata.org/docs/reference/api/pandas.DataFrame.idxmax.html"
   ]
  },
  {
   "cell_type": "code",
   "execution_count": null,
   "metadata": {},
   "outputs": [],
   "source": [
    "df['Gender'] = df['Gender'].replace('?',df['Gender'].value_counts().idxmax())\n",
    "df['Gender'].value_counts()"
   ]
  },
  {
   "cell_type": "markdown",
   "metadata": {},
   "source": [
    "__`Step 32`__ Review the counting for possible values in the Marital_Status variable with `value_counts()`"
   ]
  },
  {
   "cell_type": "code",
   "execution_count": null,
   "metadata": {},
   "outputs": [],
   "source": [
    "df['Marital_Status'].value_counts()"
   ]
  },
  {
   "cell_type": "markdown",
   "metadata": {},
   "source": [
    "__`Step 32.B`__ Change \"TOGETHER\" to \"Together\" and do the same (Capitalize the words) for \"DIVORCED\" and \"MARRIED\" using `str.capitalize()`"
   ]
  },
  {
   "cell_type": "code",
   "execution_count": null,
   "metadata": {},
   "outputs": [],
   "source": [
    "df['Marital_Status'] = df['Marital_Status'].str.capitalize() \n",
    "df['Marital_Status'].value_counts()"
   ]
  },
  {
   "cell_type": "markdown",
   "metadata": {},
   "source": [
    "__`Step 32.C`__ Replace the \"BigConfusion\" with the most frequent value."
   ]
  },
  {
   "cell_type": "code",
   "execution_count": null,
   "metadata": {},
   "outputs": [],
   "source": [
    "df['Marital_Status'] = df['Marital_Status'].replace('Bigconfusion',df['Marital_Status'].value_counts().idxmax())\n",
    "df['Marital_Status'].value_counts()"
   ]
  },
  {
   "cell_type": "markdown",
   "metadata": {},
   "source": [
    "__`Step 33`__ Review the counting for possible values in the Education variable."
   ]
  },
  {
   "cell_type": "code",
   "execution_count": null,
   "metadata": {},
   "outputs": [],
   "source": [
    "df['Education'].value_counts()"
   ]
  },
  {
   "cell_type": "markdown",
   "metadata": {},
   "source": [
    "__`Step 33.B`__ Replace the \"OldSchool\" with the most frequent value with `value_counts().idxmax()`."
   ]
  },
  {
   "cell_type": "code",
   "execution_count": null,
   "metadata": {},
   "outputs": [],
   "source": [
    "df['Education'] = df['Education'].replace('OldSchool',df['Education'].value_counts().idxmax())\n",
    "df['Education'].value_counts()"
   ]
  },
  {
   "cell_type": "markdown",
   "metadata": {},
   "source": [
    "<a id='inco'></a>\n",
    "\n",
    "### 3.2.3. Incoherencies\n",
    "\n",
    "__`Step 34`__ Check possible incoherencies in your data. One situation that is impossible to happen is to have values of frequency equal to 0 when there was some money spent by the customer. Change those values of Frequency to 1."
   ]
  },
  {
   "cell_type": "code",
   "execution_count": null,
   "metadata": {},
   "outputs": [],
   "source": [
    "if((df['Mnt']>0).any() & (df['Frq']==0).any()):\n",
    "    df.loc[data['Mnt']>0, 'Frq']=1"
   ]
  },
  {
   "cell_type": "markdown",
   "metadata": {},
   "source": [
    "<a id='bin'></a>\n",
    "\n",
    "### 3.2.4. Binning\n",
    "\n",
    "__`Step 35`__ Create a new variable named as \"Income_bins\" where Income is going to be represented in thre possible values - \"Low\", \"Medium\" and \"High\". By using the method `cut()`, those are going to be equal-width bins.\n",
    "\n",
    "https://pandas.pydata.org/docs/reference/api/pandas.cut.html"
   ]
  },
  {
   "cell_type": "code",
   "execution_count": null,
   "metadata": {},
   "outputs": [],
   "source": [
    "df['Income_bins'] = pd.cut(df['Income'], 3, labels=[\"low\", \"medium\", \"high\"])\n",
    "df"
   ]
  },
  {
   "cell_type": "markdown",
   "metadata": {},
   "source": [
    "<a id='rec'></a>\n",
    "\n",
    "### 3.2.5. Reclassify\n",
    "\n",
    "__`Step 36`__ Due to the similarity of the classification, change the value \"Together\" to \"Married\" in Marital_Status using the method `replace()`.\n",
    "\n",
    "https://pandas.pydata.org/docs/reference/api/pandas.DataFrame.replace.html"
   ]
  },
  {
   "cell_type": "code",
   "execution_count": null,
   "metadata": {},
   "outputs": [],
   "source": [
    "df['Marital_Status'] = df['Marital_Status'].replace('Together','Married')\n",
    "df['Marital_Status'].value_counts()"
   ]
  },
  {
   "cell_type": "markdown",
   "metadata": {},
   "source": [
    "__`Step 37`__ Since we are not sure about what 2nd Cycle and Basic School means, we are going to create a new binary variable where if the customer has higher education we assign the value 1, and 0 otherwise.\n",
    "Remove the variable \"education\"."
   ]
  },
  {
   "cell_type": "code",
   "execution_count": null,
   "metadata": {},
   "outputs": [],
   "source": [
    "df['Higher_Educ'] = np.where((df['Education']=='Graduation')|\n",
    "                               (df['Education']=='Master')|\n",
    "                               (df['Education']=='PhD'),1,0)\n",
    "df.drop('Education', axis = 1, inplace = True)\n",
    "df"
   ]
  },
  {
   "cell_type": "markdown",
   "metadata": {},
   "source": [
    "<a id='power'></a>\n",
    "\n",
    "### 3.2.6. Power Transform"
   ]
  },
  {
   "cell_type": "markdown",
   "metadata": {},
   "source": [
    "__`Step 38`__ Create a new variable \"sqrt_rcn\" by applying a square root transformation to the variable \"Rcn\", in order to try to normalize the variable."
   ]
  },
  {
   "cell_type": "code",
   "execution_count": null,
   "metadata": {},
   "outputs": [],
   "source": [
    "df['sqrt_rcn'] = np.sqrt(df['Rcn'])"
   ]
  },
  {
   "cell_type": "markdown",
   "metadata": {},
   "source": [
    "__`Step 38.B`__ Compare the distribution of the variables 'Rcn' and 'sqrt_rcn' with a histplot."
   ]
  },
  {
   "cell_type": "code",
   "execution_count": null,
   "metadata": {},
   "outputs": [],
   "source": [
    "fig, axes = plt.subplots(1,2, figsize = (14,6))\n",
    "sns.histplot(ax = axes[0], data = df, x = 'Rcn', bins = 10)\n",
    "sns.histplot(ax = axes[1], data = df, x = 'sqrt_rcn', bins = 10)"
   ]
  },
  {
   "cell_type": "markdown",
   "metadata": {},
   "source": [
    "Before applying scaling in our final dataset, we are going to remove some features that could lead to problems on modelling or even on the scaling.\n",
    "\n",
    "[BACK TO TOC](#toc)"
   ]
  },
  {
   "cell_type": "markdown",
   "metadata": {},
   "source": [
    "<a id='reduce'></a>\n",
    "\n",
    "## 3.3. Data Reduction "
   ]
  },
  {
   "cell_type": "markdown",
   "metadata": {},
   "source": [
    "<a id='corr'></a>\n",
    "\n",
    "### 3.3.1. Multicollinearity - Check correlation\n",
    "\n",
    "We understood in __Step 19__, using the heatmap to check the spearman correlation between the variables, that NetPurchase had a perfect negative relationship with StorePurchase. We don't need both, so we are going to remove one of those."
   ]
  },
  {
   "cell_type": "markdown",
   "metadata": {},
   "source": [
    "__`Step 39`__ Drop the variable \"NetPurchase\", since it is highly correlated with \"StorePurchase\". Do the same with Date_Birth, since we used this variable to calculate \"Age\" and they are highly correlated using `drop()`"
   ]
  },
  {
   "cell_type": "code",
   "execution_count": null,
   "metadata": {},
   "outputs": [],
   "source": [
    "print(\"Initial number of variables:\", df.shape)\n",
    "df.drop('NetPurchase', axis = 1, inplace = True)\n",
    "df.drop('Year_Birth', axis = 1, inplace = True)\n",
    "df.shape"
   ]
  },
  {
   "cell_type": "markdown",
   "metadata": {},
   "source": [
    "<a id='unary'></a>\n",
    "\n",
    "### 3.3.2. Unary Variables"
   ]
  },
  {
   "cell_type": "markdown",
   "metadata": {},
   "source": [
    "__`Step 40`__ Drop the variable \"Country\", since it is an unary variable with `drop()`"
   ]
  },
  {
   "cell_type": "code",
   "execution_count": null,
   "metadata": {},
   "outputs": [],
   "source": [
    "df.drop('Country', axis = 1, inplace = True)"
   ]
  },
  {
   "cell_type": "markdown",
   "metadata": {},
   "source": [
    "<a id='na'></a>\n",
    "\n",
    "### 3.3.3. Variables with a high percentage of missing values"
   ]
  },
  {
   "cell_type": "markdown",
   "metadata": {},
   "source": [
    "__`Step 41`__ Drop the variable \"Credit_Card\", since it has 97% of the values missing using `dropna()`\n",
    "\n",
    "https://pandas.pydata.org/docs/reference/api/pandas.DataFrame.dropna.html"
   ]
  },
  {
   "cell_type": "code",
   "execution_count": null,
   "metadata": {},
   "outputs": [],
   "source": [
    "#data.drop('Credit_Card', axis = 1, inplace = True)\n",
    "df.dropna(axis = 1, thresh = len(df)/100*90)"
   ]
  },
  {
   "cell_type": "markdown",
   "metadata": {},
   "source": [
    "## 3.2. Back to Data Transformation"
   ]
  },
  {
   "cell_type": "markdown",
   "metadata": {},
   "source": [
    "<a id='dummy'></a>\n",
    "\n",
    "### 3.2.7. Creating Dummy variables"
   ]
  },
  {
   "cell_type": "markdown",
   "metadata": {},
   "source": [
    "__`Step 42`__ For the variable \"Income_bins\" where we have an order, we are going to apply ordinal encoding. Define the low value to 0, medium to 1 and high to 2 using the method `replace()`."
   ]
  },
  {
   "cell_type": "code",
   "execution_count": null,
   "metadata": {},
   "outputs": [],
   "source": [
    "df['Income_bins'] = df['Income_bins'].replace('low',0).replace('medium',1).replace('high',2)\n",
    "df.info()"
   ]
  },
  {
   "cell_type": "markdown",
   "metadata": {},
   "source": [
    "__`Step 42.B`__ We can see from the `info()` of the dataset that \"Income_bins\" is now a category. Convert this variable into an integer using `astype()` and check the new data type with the attribute `dtype`.\n",
    "\n",
    "https://pandas.pydata.org/docs/reference/api/pandas.DataFrame.astype.html"
   ]
  },
  {
   "cell_type": "code",
   "execution_count": null,
   "metadata": {},
   "outputs": [],
   "source": [
    "df['Income_bins'] = df['Income_bins'].astype('int')\n",
    "df['Income_bins'].dtype"
   ]
  },
  {
   "cell_type": "markdown",
   "metadata": {},
   "source": [
    "__`Step 43`__ For the categorical variables, apply `get_dummies()`.\n",
    "\n",
    "https://pandas.pydata.org/docs/reference/api/pandas.get_dummies.html"
   ]
  },
  {
   "cell_type": "code",
   "execution_count": null,
   "metadata": {},
   "outputs": [],
   "source": [
    "df_dummies = pd.get_dummies(df, drop_first = True)\n",
    "df_dummies"
   ]
  },
  {
   "cell_type": "markdown",
   "metadata": {},
   "source": [
    "<a id='scale'></a>\n",
    "\n",
    "### 3.2.8. Scaling"
   ]
  },
  {
   "cell_type": "markdown",
   "metadata": {},
   "source": [
    "__`Step 44`__ Scale the data using `MinMaxScaler()` in the range [0,1].\n",
    "\n",
    "https://scikit-learn.org/stable/modules/generated/sklearn.preprocessing.MinMaxScaler.html"
   ]
  },
  {
   "cell_type": "code",
   "execution_count": null,
   "metadata": {},
   "outputs": [],
   "source": [
    "scaled_df = MinMaxScaler().fit_transform(df_dummies)\n",
    "scaled_df"
   ]
  },
  {
   "cell_type": "markdown",
   "metadata": {},
   "source": [
    "This will return an array and not a dataframe. <br><br>\n",
    "__`Step 45`__ We need to convert the array scaled_data to a Pandas DataFrame, by using `pd.DataFrame()`. Furthermore, we are going to assign the header of the columns equal to our dataframe not scaled yet (df_dummies).\n",
    "\n",
    "https://pandas.pydata.org/docs/reference/api/pandas.DataFrame.html"
   ]
  },
  {
   "cell_type": "code",
   "execution_count": null,
   "metadata": {},
   "outputs": [],
   "source": [
    "cols = df_dummies.columns\n",
    "scaled_df = pd.DataFrame(scaled_df, columns = cols)\n",
    "scaled_df"
   ]
  },
  {
   "cell_type": "markdown",
   "metadata": {},
   "source": [
    "## 3.3. Back to Data Reduction\n",
    "\n",
    "If you end up with a significant number of variables, you can try to apply PCA in order to try to reduce the dimensionality of the dataset.\n",
    "\n",
    "<a id='pca'></a>\n",
    "\n",
    "### 3.3.4. Apply PCA\n",
    "Sklearn Library: <a href=\"https://scikit-learn.org/stable/modules/generated/sklearn.decomposition.PCA.html\">Documentation</a>\n",
    "\n",
    "[BACK TO TOC](#toc)"
   ]
  }
 ],
 "metadata": {
  "kernelspec": {
   "display_name": "Python 3 (ipykernel)",
   "language": "python",
   "name": "python3"
  },
  "language_info": {
   "codemirror_mode": {
    "name": "ipython",
    "version": 3
   },
   "file_extension": ".py",
   "mimetype": "text/x-python",
   "name": "python",
   "nbconvert_exporter": "python",
   "pygments_lexer": "ipython3",
   "version": "3.9.7"
  },
  "varInspector": {
   "cols": {
    "lenName": 16,
    "lenType": 16,
    "lenVar": 40
   },
   "kernels_config": {
    "python": {
     "delete_cmd_postfix": "",
     "delete_cmd_prefix": "del ",
     "library": "var_list.py",
     "varRefreshCmd": "print(var_dic_list())"
    },
    "r": {
     "delete_cmd_postfix": ") ",
     "delete_cmd_prefix": "rm(",
     "library": "var_list.r",
     "varRefreshCmd": "cat(var_dic_list()) "
    }
   },
   "types_to_exclude": [
    "module",
    "function",
    "builtin_function_or_method",
    "instance",
    "_Feature"
   ],
   "window_display": false
  }
 },
 "nbformat": 4,
 "nbformat_minor": 4
}
