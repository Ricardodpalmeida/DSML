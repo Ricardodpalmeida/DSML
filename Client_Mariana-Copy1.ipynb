{
 "cells": [
  {
   "cell_type": "code",
   "execution_count": 1,
   "id": "835ddfd9",
   "metadata": {},
   "outputs": [],
   "source": [
    "#tem packages a mais pq nqs\n",
    "\n",
    "import pandas as pd\n",
    "import numpy as np\n",
    "import matplotlib.pyplot as plt\n",
    "import seaborn as sns\n",
    "from datetime import date\n",
    "from sklearn.preprocessing import MinMaxScaler\n",
    "from sklearn import preprocessing\n",
    "import os\n",
    "from sklearn.preprocessing import StandardScaler\n",
    "from datetime import date\n",
    "from scipy.cluster.hierarchy import dendrogram, linkage"
   ]
  },
  {
   "cell_type": "code",
   "execution_count": 2,
   "id": "90051c23",
   "metadata": {},
   "outputs": [
    {
     "data": {
      "text/html": [
       "<div>\n",
       "<style scoped>\n",
       "    .dataframe tbody tr th:only-of-type {\n",
       "        vertical-align: middle;\n",
       "    }\n",
       "\n",
       "    .dataframe tbody tr th {\n",
       "        vertical-align: top;\n",
       "    }\n",
       "\n",
       "    .dataframe thead th {\n",
       "        text-align: right;\n",
       "    }\n",
       "</style>\n",
       "<table border=\"1\" class=\"dataframe\">\n",
       "  <thead>\n",
       "    <tr style=\"text-align: right;\">\n",
       "      <th></th>\n",
       "      <th>Churn</th>\n",
       "      <th>Name</th>\n",
       "      <th>Longevity</th>\n",
       "      <th>Year_Birth</th>\n",
       "      <th>TypeTravel</th>\n",
       "      <th>RoomType</th>\n",
       "      <th>RewardPoints</th>\n",
       "      <th>Comfort</th>\n",
       "      <th>ReceptionSchedule</th>\n",
       "      <th>FoodDrink</th>\n",
       "      <th>...</th>\n",
       "      <th>Wifi</th>\n",
       "      <th>Amenities</th>\n",
       "      <th>Staff</th>\n",
       "      <th>OnlineBooking</th>\n",
       "      <th>PriceQuality</th>\n",
       "      <th>RoomSpace</th>\n",
       "      <th>CheckOut</th>\n",
       "      <th>Checkin</th>\n",
       "      <th>Cleanliness</th>\n",
       "      <th>BarService</th>\n",
       "    </tr>\n",
       "  </thead>\n",
       "  <tbody>\n",
       "    <tr>\n",
       "      <th>0</th>\n",
       "      <td>churn</td>\n",
       "      <td>Ms. Nicole Clarke</td>\n",
       "      <td>yes</td>\n",
       "      <td>1974.0</td>\n",
       "      <td>business</td>\n",
       "      <td>single</td>\n",
       "      <td>4907</td>\n",
       "      <td>3</td>\n",
       "      <td>4</td>\n",
       "      <td>1</td>\n",
       "      <td>...</td>\n",
       "      <td>4</td>\n",
       "      <td>3</td>\n",
       "      <td>4</td>\n",
       "      <td>3</td>\n",
       "      <td>3</td>\n",
       "      <td>3</td>\n",
       "      <td>3</td>\n",
       "      <td>4</td>\n",
       "      <td>3</td>\n",
       "      <td>4</td>\n",
       "    </tr>\n",
       "    <tr>\n",
       "      <th>1</th>\n",
       "      <td>nochurn</td>\n",
       "      <td>Mr. Jesse Scott</td>\n",
       "      <td>yes</td>\n",
       "      <td>1965.0</td>\n",
       "      <td>business</td>\n",
       "      <td>single</td>\n",
       "      <td>6724</td>\n",
       "      <td>1</td>\n",
       "      <td>1</td>\n",
       "      <td>1</td>\n",
       "      <td>...</td>\n",
       "      <td>5</td>\n",
       "      <td>3</td>\n",
       "      <td>4</td>\n",
       "      <td>5</td>\n",
       "      <td>5</td>\n",
       "      <td>5</td>\n",
       "      <td>5</td>\n",
       "      <td>1</td>\n",
       "      <td>5</td>\n",
       "      <td>2</td>\n",
       "    </tr>\n",
       "    <tr>\n",
       "      <th>2</th>\n",
       "      <td>churn</td>\n",
       "      <td>Mr. Christopher Carter</td>\n",
       "      <td>yes</td>\n",
       "      <td>1973.0</td>\n",
       "      <td>business</td>\n",
       "      <td>single</td>\n",
       "      <td>4365</td>\n",
       "      <td>3</td>\n",
       "      <td>3</td>\n",
       "      <td>3</td>\n",
       "      <td>...</td>\n",
       "      <td>1</td>\n",
       "      <td>4</td>\n",
       "      <td>4</td>\n",
       "      <td>3</td>\n",
       "      <td>3</td>\n",
       "      <td>2</td>\n",
       "      <td>3</td>\n",
       "      <td>2</td>\n",
       "      <td>3</td>\n",
       "      <td>1</td>\n",
       "    </tr>\n",
       "    <tr>\n",
       "      <th>3</th>\n",
       "      <td>nochurn</td>\n",
       "      <td>Ms. Jennifer Morgan</td>\n",
       "      <td>yes</td>\n",
       "      <td>1993.0</td>\n",
       "      <td>leisure</td>\n",
       "      <td>double</td>\n",
       "      <td>3849</td>\n",
       "      <td>1</td>\n",
       "      <td>1</td>\n",
       "      <td>1</td>\n",
       "      <td>...</td>\n",
       "      <td>4</td>\n",
       "      <td>4</td>\n",
       "      <td>5</td>\n",
       "      <td>4</td>\n",
       "      <td>4</td>\n",
       "      <td>4</td>\n",
       "      <td>4</td>\n",
       "      <td>4</td>\n",
       "      <td>4</td>\n",
       "      <td>3</td>\n",
       "    </tr>\n",
       "    <tr>\n",
       "      <th>4</th>\n",
       "      <td>nochurn</td>\n",
       "      <td>Mr. Michael White</td>\n",
       "      <td>yes</td>\n",
       "      <td>1989.0</td>\n",
       "      <td>business</td>\n",
       "      <td>single</td>\n",
       "      <td>5376</td>\n",
       "      <td>2</td>\n",
       "      <td>2</td>\n",
       "      <td>3</td>\n",
       "      <td>...</td>\n",
       "      <td>5</td>\n",
       "      <td>5</td>\n",
       "      <td>5</td>\n",
       "      <td>5</td>\n",
       "      <td>5</td>\n",
       "      <td>3</td>\n",
       "      <td>4</td>\n",
       "      <td>1</td>\n",
       "      <td>3</td>\n",
       "      <td>5</td>\n",
       "    </tr>\n",
       "    <tr>\n",
       "      <th>...</th>\n",
       "      <td>...</td>\n",
       "      <td>...</td>\n",
       "      <td>...</td>\n",
       "      <td>...</td>\n",
       "      <td>...</td>\n",
       "      <td>...</td>\n",
       "      <td>...</td>\n",
       "      <td>...</td>\n",
       "      <td>...</td>\n",
       "      <td>...</td>\n",
       "      <td>...</td>\n",
       "      <td>...</td>\n",
       "      <td>...</td>\n",
       "      <td>...</td>\n",
       "      <td>...</td>\n",
       "      <td>...</td>\n",
       "      <td>...</td>\n",
       "      <td>...</td>\n",
       "      <td>...</td>\n",
       "      <td>...</td>\n",
       "      <td>...</td>\n",
       "    </tr>\n",
       "    <tr>\n",
       "      <th>15584</th>\n",
       "      <td>churn</td>\n",
       "      <td>Ms. Wendy Roberts</td>\n",
       "      <td>no</td>\n",
       "      <td>1988.0</td>\n",
       "      <td>business</td>\n",
       "      <td>double</td>\n",
       "      <td>4968</td>\n",
       "      <td>2</td>\n",
       "      <td>0</td>\n",
       "      <td>2</td>\n",
       "      <td>...</td>\n",
       "      <td>3</td>\n",
       "      <td>2</td>\n",
       "      <td>4</td>\n",
       "      <td>3</td>\n",
       "      <td>4</td>\n",
       "      <td>5</td>\n",
       "      <td>1</td>\n",
       "      <td>3</td>\n",
       "      <td>4</td>\n",
       "      <td>3</td>\n",
       "    </tr>\n",
       "    <tr>\n",
       "      <th>15585</th>\n",
       "      <td>churn</td>\n",
       "      <td>Ms. Sonya Smith</td>\n",
       "      <td>no</td>\n",
       "      <td>2000.0</td>\n",
       "      <td>business</td>\n",
       "      <td>double</td>\n",
       "      <td>4970</td>\n",
       "      <td>3</td>\n",
       "      <td>3</td>\n",
       "      <td>3</td>\n",
       "      <td>...</td>\n",
       "      <td>5</td>\n",
       "      <td>3</td>\n",
       "      <td>5</td>\n",
       "      <td>5</td>\n",
       "      <td>3</td>\n",
       "      <td>1</td>\n",
       "      <td>3</td>\n",
       "      <td>4</td>\n",
       "      <td>4</td>\n",
       "      <td>5</td>\n",
       "    </tr>\n",
       "    <tr>\n",
       "      <th>15586</th>\n",
       "      <td>nochurn</td>\n",
       "      <td>Mr. Maxwell Wright</td>\n",
       "      <td>yes</td>\n",
       "      <td>1964.0</td>\n",
       "      <td>business</td>\n",
       "      <td>single</td>\n",
       "      <td>4046</td>\n",
       "      <td>1</td>\n",
       "      <td>1</td>\n",
       "      <td>1</td>\n",
       "      <td>...</td>\n",
       "      <td>3</td>\n",
       "      <td>4</td>\n",
       "      <td>5</td>\n",
       "      <td>4</td>\n",
       "      <td>4</td>\n",
       "      <td>4</td>\n",
       "      <td>4</td>\n",
       "      <td>5</td>\n",
       "      <td>4</td>\n",
       "      <td>4</td>\n",
       "    </tr>\n",
       "    <tr>\n",
       "      <th>15587</th>\n",
       "      <td>nochurn</td>\n",
       "      <td>Mr. Gregory Moran</td>\n",
       "      <td>yes</td>\n",
       "      <td>1992.0</td>\n",
       "      <td>leisure</td>\n",
       "      <td>double</td>\n",
       "      <td>5155</td>\n",
       "      <td>4</td>\n",
       "      <td>3</td>\n",
       "      <td>4</td>\n",
       "      <td>...</td>\n",
       "      <td>5</td>\n",
       "      <td>4</td>\n",
       "      <td>5</td>\n",
       "      <td>5</td>\n",
       "      <td>2</td>\n",
       "      <td>5</td>\n",
       "      <td>4</td>\n",
       "      <td>3</td>\n",
       "      <td>4</td>\n",
       "      <td>5</td>\n",
       "    </tr>\n",
       "    <tr>\n",
       "      <th>15588</th>\n",
       "      <td>churn</td>\n",
       "      <td>Mr. Steven Mendez</td>\n",
       "      <td>yes</td>\n",
       "      <td>1983.0</td>\n",
       "      <td>business</td>\n",
       "      <td>suite</td>\n",
       "      <td>5136</td>\n",
       "      <td>3</td>\n",
       "      <td>3</td>\n",
       "      <td>3</td>\n",
       "      <td>...</td>\n",
       "      <td>3</td>\n",
       "      <td>3</td>\n",
       "      <td>3</td>\n",
       "      <td>3</td>\n",
       "      <td>4</td>\n",
       "      <td>5</td>\n",
       "      <td>4</td>\n",
       "      <td>1</td>\n",
       "      <td>3</td>\n",
       "      <td>3</td>\n",
       "    </tr>\n",
       "  </tbody>\n",
       "</table>\n",
       "<p>15589 rows × 21 columns</p>\n",
       "</div>"
      ],
      "text/plain": [
       "         Churn                    Name Longevity  Year_Birth TypeTravel  \\\n",
       "0        churn       Ms. Nicole Clarke       yes      1974.0   business   \n",
       "1      nochurn         Mr. Jesse Scott       yes      1965.0   business   \n",
       "2        churn  Mr. Christopher Carter       yes      1973.0   business   \n",
       "3      nochurn     Ms. Jennifer Morgan       yes      1993.0    leisure   \n",
       "4      nochurn       Mr. Michael White       yes      1989.0   business   \n",
       "...        ...                     ...       ...         ...        ...   \n",
       "15584    churn       Ms. Wendy Roberts        no      1988.0   business   \n",
       "15585    churn         Ms. Sonya Smith        no      2000.0   business   \n",
       "15586  nochurn      Mr. Maxwell Wright       yes      1964.0   business   \n",
       "15587  nochurn       Mr. Gregory Moran       yes      1992.0    leisure   \n",
       "15588    churn       Mr. Steven Mendez       yes      1983.0   business   \n",
       "\n",
       "      RoomType  RewardPoints  Comfort  ReceptionSchedule  FoodDrink  ...  \\\n",
       "0       single          4907        3                  4          1  ...   \n",
       "1       single          6724        1                  1          1  ...   \n",
       "2       single          4365        3                  3          3  ...   \n",
       "3       double          3849        1                  1          1  ...   \n",
       "4       single          5376        2                  2          3  ...   \n",
       "...        ...           ...      ...                ...        ...  ...   \n",
       "15584   double          4968        2                  0          2  ...   \n",
       "15585   double          4970        3                  3          3  ...   \n",
       "15586   single          4046        1                  1          1  ...   \n",
       "15587   double          5155        4                  3          4  ...   \n",
       "15588    suite          5136        3                  3          3  ...   \n",
       "\n",
       "       Wifi  Amenities  Staff  OnlineBooking  PriceQuality  RoomSpace  \\\n",
       "0         4          3      4              3             3          3   \n",
       "1         5          3      4              5             5          5   \n",
       "2         1          4      4              3             3          2   \n",
       "3         4          4      5              4             4          4   \n",
       "4         5          5      5              5             5          3   \n",
       "...     ...        ...    ...            ...           ...        ...   \n",
       "15584     3          2      4              3             4          5   \n",
       "15585     5          3      5              5             3          1   \n",
       "15586     3          4      5              4             4          4   \n",
       "15587     5          4      5              5             2          5   \n",
       "15588     3          3      3              3             4          5   \n",
       "\n",
       "       CheckOut  Checkin  Cleanliness  BarService  \n",
       "0             3        4            3           4  \n",
       "1             5        1            5           2  \n",
       "2             3        2            3           1  \n",
       "3             4        4            4           3  \n",
       "4             4        1            3           5  \n",
       "...         ...      ...          ...         ...  \n",
       "15584         1        3            4           3  \n",
       "15585         3        4            4           5  \n",
       "15586         4        5            4           4  \n",
       "15587         4        3            4           5  \n",
       "15588         4        1            3           3  \n",
       "\n",
       "[15589 rows x 21 columns]"
      ]
     },
     "execution_count": 2,
     "metadata": {},
     "output_type": "execute_result"
    }
   ],
   "source": [
    "df = pd.read_csv('data_cluster.csv')\n",
    "df"
   ]
  },
  {
   "cell_type": "code",
   "execution_count": 3,
   "id": "9f32be29",
   "metadata": {},
   "outputs": [],
   "source": [
    "df.drop_duplicates(inplace = True)"
   ]
  },
  {
   "cell_type": "code",
   "execution_count": 4,
   "id": "76f1affd",
   "metadata": {},
   "outputs": [],
   "source": [
    "cl = df[['Name', 'Year_Birth', 'TypeTravel', 'RewardPoints']]"
   ]
  },
  {
   "cell_type": "code",
   "execution_count": 6,
   "id": "b8b74507",
   "metadata": {},
   "outputs": [
    {
     "data": {
      "text/html": [
       "<div>\n",
       "<style scoped>\n",
       "    .dataframe tbody tr th:only-of-type {\n",
       "        vertical-align: middle;\n",
       "    }\n",
       "\n",
       "    .dataframe tbody tr th {\n",
       "        vertical-align: top;\n",
       "    }\n",
       "\n",
       "    .dataframe thead th {\n",
       "        text-align: right;\n",
       "    }\n",
       "</style>\n",
       "<table border=\"1\" class=\"dataframe\">\n",
       "  <thead>\n",
       "    <tr style=\"text-align: right;\">\n",
       "      <th></th>\n",
       "      <th>Name</th>\n",
       "      <th>Year_Birth</th>\n",
       "      <th>TypeTravel</th>\n",
       "      <th>RewardPoints</th>\n",
       "    </tr>\n",
       "    <tr>\n",
       "      <th>ID</th>\n",
       "      <th></th>\n",
       "      <th></th>\n",
       "      <th></th>\n",
       "      <th></th>\n",
       "    </tr>\n",
       "  </thead>\n",
       "  <tbody>\n",
       "    <tr>\n",
       "      <th>1</th>\n",
       "      <td>Ms. Nicole Clarke</td>\n",
       "      <td>1974.0</td>\n",
       "      <td>business</td>\n",
       "      <td>4907</td>\n",
       "    </tr>\n",
       "    <tr>\n",
       "      <th>2</th>\n",
       "      <td>Mr. Jesse Scott</td>\n",
       "      <td>1965.0</td>\n",
       "      <td>business</td>\n",
       "      <td>6724</td>\n",
       "    </tr>\n",
       "    <tr>\n",
       "      <th>3</th>\n",
       "      <td>Mr. Christopher Carter</td>\n",
       "      <td>1973.0</td>\n",
       "      <td>business</td>\n",
       "      <td>4365</td>\n",
       "    </tr>\n",
       "    <tr>\n",
       "      <th>4</th>\n",
       "      <td>Ms. Jennifer Morgan</td>\n",
       "      <td>1993.0</td>\n",
       "      <td>leisure</td>\n",
       "      <td>3849</td>\n",
       "    </tr>\n",
       "    <tr>\n",
       "      <th>5</th>\n",
       "      <td>Mr. Michael White</td>\n",
       "      <td>1989.0</td>\n",
       "      <td>business</td>\n",
       "      <td>5376</td>\n",
       "    </tr>\n",
       "    <tr>\n",
       "      <th>...</th>\n",
       "      <td>...</td>\n",
       "      <td>...</td>\n",
       "      <td>...</td>\n",
       "      <td>...</td>\n",
       "    </tr>\n",
       "    <tr>\n",
       "      <th>15582</th>\n",
       "      <td>Ms. Wendy Roberts</td>\n",
       "      <td>1988.0</td>\n",
       "      <td>business</td>\n",
       "      <td>4968</td>\n",
       "    </tr>\n",
       "    <tr>\n",
       "      <th>15583</th>\n",
       "      <td>Ms. Sonya Smith</td>\n",
       "      <td>2000.0</td>\n",
       "      <td>business</td>\n",
       "      <td>4970</td>\n",
       "    </tr>\n",
       "    <tr>\n",
       "      <th>15584</th>\n",
       "      <td>Mr. Maxwell Wright</td>\n",
       "      <td>1964.0</td>\n",
       "      <td>business</td>\n",
       "      <td>4046</td>\n",
       "    </tr>\n",
       "    <tr>\n",
       "      <th>15585</th>\n",
       "      <td>Mr. Gregory Moran</td>\n",
       "      <td>1992.0</td>\n",
       "      <td>leisure</td>\n",
       "      <td>5155</td>\n",
       "    </tr>\n",
       "    <tr>\n",
       "      <th>15586</th>\n",
       "      <td>Mr. Steven Mendez</td>\n",
       "      <td>1983.0</td>\n",
       "      <td>business</td>\n",
       "      <td>5136</td>\n",
       "    </tr>\n",
       "  </tbody>\n",
       "</table>\n",
       "<p>15586 rows × 4 columns</p>\n",
       "</div>"
      ],
      "text/plain": [
       "                         Name  Year_Birth TypeTravel  RewardPoints\n",
       "ID                                                                \n",
       "1           Ms. Nicole Clarke      1974.0   business          4907\n",
       "2             Mr. Jesse Scott      1965.0   business          6724\n",
       "3      Mr. Christopher Carter      1973.0   business          4365\n",
       "4         Ms. Jennifer Morgan      1993.0    leisure          3849\n",
       "5           Mr. Michael White      1989.0   business          5376\n",
       "...                       ...         ...        ...           ...\n",
       "15582       Ms. Wendy Roberts      1988.0   business          4968\n",
       "15583         Ms. Sonya Smith      2000.0   business          4970\n",
       "15584      Mr. Maxwell Wright      1964.0   business          4046\n",
       "15585       Mr. Gregory Moran      1992.0    leisure          5155\n",
       "15586       Mr. Steven Mendez      1983.0   business          5136\n",
       "\n",
       "[15586 rows x 4 columns]"
      ]
     },
     "execution_count": 6,
     "metadata": {},
     "output_type": "execute_result"
    }
   ],
   "source": [
    "cl.insert(0, 'ID', range(1, 1 + len(df)))\n",
    "cl.set_index('ID')"
   ]
  },
  {
   "cell_type": "code",
   "execution_count": 7,
   "id": "068726d7",
   "metadata": {
    "scrolled": true
   },
   "outputs": [
    {
     "name": "stdout",
     "output_type": "stream",
     "text": [
      "<class 'pandas.core.frame.DataFrame'>\n",
      "Int64Index: 15586 entries, 0 to 15588\n",
      "Data columns (total 5 columns):\n",
      " #   Column        Non-Null Count  Dtype  \n",
      "---  ------        --------------  -----  \n",
      " 0   ID            15586 non-null  int64  \n",
      " 1   Name          15586 non-null  object \n",
      " 2   Year_Birth    15391 non-null  float64\n",
      " 3   TypeTravel    15586 non-null  object \n",
      " 4   RewardPoints  15586 non-null  int64  \n",
      "dtypes: float64(1), int64(2), object(2)\n",
      "memory usage: 730.6+ KB\n"
     ]
    }
   ],
   "source": [
    "cl.info()"
   ]
  },
  {
   "cell_type": "code",
   "execution_count": 8,
   "id": "a6960594",
   "metadata": {},
   "outputs": [
    {
     "name": "stderr",
     "output_type": "stream",
     "text": [
      "C:\\Users\\m13ar\\anaconda3\\lib\\site-packages\\pandas\\core\\generic.py:6392: SettingWithCopyWarning: \n",
      "A value is trying to be set on a copy of a slice from a DataFrame\n",
      "\n",
      "See the caveats in the documentation: https://pandas.pydata.org/pandas-docs/stable/user_guide/indexing.html#returning-a-view-versus-a-copy\n",
      "  return self._update_inplace(result)\n"
     ]
    }
   ],
   "source": [
    "cl['Year_Birth'].fillna(cl['Year_Birth'].median(), inplace = True)"
   ]
  },
  {
   "cell_type": "code",
   "execution_count": 9,
   "id": "32e4d1c9",
   "metadata": {},
   "outputs": [
    {
     "data": {
      "text/plain": [
       "<AxesSubplot:xlabel='Year_Birth', ylabel='Count'>"
      ]
     },
     "execution_count": 9,
     "metadata": {},
     "output_type": "execute_result"
    },
    {
     "data": {
      "image/png": "[encoded data removed]",
      "text/plain": [
       "<Figure size 432x288 with 1 Axes>"
      ]
     },
     "metadata": {
      "needs_background": "light"
     },
     "output_type": "display_data"
    }
   ],
   "source": [
    "sns.histplot(data=cl, x='Year_Birth')"
   ]
  },
  {
   "cell_type": "code",
   "execution_count": 10,
   "id": "0e339d07",
   "metadata": {},
   "outputs": [
    {
     "name": "stderr",
     "output_type": "stream",
     "text": [
      "C:\\Users\\m13ar\\AppData\\Local\\Temp/ipykernel_6864/1203197796.py:1: SettingWithCopyWarning: \n",
      "A value is trying to be set on a copy of a slice from a DataFrame.\n",
      "Try using .loc[row_indexer,col_indexer] = value instead\n",
      "\n",
      "See the caveats in the documentation: https://pandas.pydata.org/pandas-docs/stable/user_guide/indexing.html#returning-a-view-versus-a-copy\n",
      "  cl['Age'] = date.today().year - cl['Year_Birth']\n"
     ]
    }
   ],
   "source": [
    "cl['Age'] = date.today().year - cl['Year_Birth']"
   ]
  },
  {
   "cell_type": "code",
   "execution_count": 11,
   "id": "9feaf530",
   "metadata": {},
   "outputs": [
    {
     "data": {
      "text/html": [
       "<div>\n",
       "<style scoped>\n",
       "    .dataframe tbody tr th:only-of-type {\n",
       "        vertical-align: middle;\n",
       "    }\n",
       "\n",
       "    .dataframe tbody tr th {\n",
       "        vertical-align: top;\n",
       "    }\n",
       "\n",
       "    .dataframe thead th {\n",
       "        text-align: right;\n",
       "    }\n",
       "</style>\n",
       "<table border=\"1\" class=\"dataframe\">\n",
       "  <thead>\n",
       "    <tr style=\"text-align: right;\">\n",
       "      <th></th>\n",
       "      <th>ID</th>\n",
       "      <th>Year_Birth</th>\n",
       "      <th>RewardPoints</th>\n",
       "      <th>Age</th>\n",
       "    </tr>\n",
       "  </thead>\n",
       "  <tbody>\n",
       "    <tr>\n",
       "      <th>ID</th>\n",
       "      <td>1.000000</td>\n",
       "      <td>0.006460</td>\n",
       "      <td>-0.019138</td>\n",
       "      <td>-0.006460</td>\n",
       "    </tr>\n",
       "    <tr>\n",
       "      <th>Year_Birth</th>\n",
       "      <td>0.006460</td>\n",
       "      <td>1.000000</td>\n",
       "      <td>-0.236962</td>\n",
       "      <td>-1.000000</td>\n",
       "    </tr>\n",
       "    <tr>\n",
       "      <th>RewardPoints</th>\n",
       "      <td>-0.019138</td>\n",
       "      <td>-0.236962</td>\n",
       "      <td>1.000000</td>\n",
       "      <td>0.236962</td>\n",
       "    </tr>\n",
       "    <tr>\n",
       "      <th>Age</th>\n",
       "      <td>-0.006460</td>\n",
       "      <td>-1.000000</td>\n",
       "      <td>0.236962</td>\n",
       "      <td>1.000000</td>\n",
       "    </tr>\n",
       "  </tbody>\n",
       "</table>\n",
       "</div>"
      ],
      "text/plain": [
       "                    ID  Year_Birth  RewardPoints       Age\n",
       "ID            1.000000    0.006460     -0.019138 -0.006460\n",
       "Year_Birth    0.006460    1.000000     -0.236962 -1.000000\n",
       "RewardPoints -0.019138   -0.236962      1.000000  0.236962\n",
       "Age          -0.006460   -1.000000      0.236962  1.000000"
      ]
     },
     "execution_count": 11,
     "metadata": {},
     "output_type": "execute_result"
    }
   ],
   "source": [
    "cl.corr()"
   ]
  },
  {
   "cell_type": "code",
   "execution_count": 12,
   "id": "2a8fb843",
   "metadata": {},
   "outputs": [
    {
     "name": "stderr",
     "output_type": "stream",
     "text": [
      "C:\\Users\\m13ar\\AppData\\Local\\Temp/ipykernel_6864/116154644.py:1: SettingWithCopyWarning: \n",
      "A value is trying to be set on a copy of a slice from a DataFrame.\n",
      "Try using .loc[row_indexer,col_indexer] = value instead\n",
      "\n",
      "See the caveats in the documentation: https://pandas.pydata.org/pandas-docs/stable/user_guide/indexing.html#returning-a-view-versus-a-copy\n",
      "  cl['Gender'] = cl['Name'].str.slice(0,3)\n"
     ]
    }
   ],
   "source": [
    "cl['Gender'] = cl['Name'].str.slice(0,3)"
   ]
  },
  {
   "cell_type": "code",
   "execution_count": 14,
   "id": "de648ad6",
   "metadata": {},
   "outputs": [
    {
     "name": "stderr",
     "output_type": "stream",
     "text": [
      "C:\\Users\\m13ar\\anaconda3\\lib\\site-packages\\pandas\\core\\frame.py:4906: SettingWithCopyWarning: \n",
      "A value is trying to be set on a copy of a slice from a DataFrame\n",
      "\n",
      "See the caveats in the documentation: https://pandas.pydata.org/pandas-docs/stable/user_guide/indexing.html#returning-a-view-versus-a-copy\n",
      "  return super().drop(\n"
     ]
    }
   ],
   "source": [
    "cl.drop (columns = ['Name', 'Year_Birth'], inplace = True)"
   ]
  },
  {
   "cell_type": "code",
   "execution_count": 16,
   "id": "3dc68e18",
   "metadata": {},
   "outputs": [
    {
     "data": {
      "text/html": [
       "<div>\n",
       "<style scoped>\n",
       "    .dataframe tbody tr th:only-of-type {\n",
       "        vertical-align: middle;\n",
       "    }\n",
       "\n",
       "    .dataframe tbody tr th {\n",
       "        vertical-align: top;\n",
       "    }\n",
       "\n",
       "    .dataframe thead th {\n",
       "        text-align: right;\n",
       "    }\n",
       "</style>\n",
       "<table border=\"1\" class=\"dataframe\">\n",
       "  <thead>\n",
       "    <tr style=\"text-align: right;\">\n",
       "      <th></th>\n",
       "      <th>ID</th>\n",
       "      <th>TypeTravel</th>\n",
       "      <th>RewardPoints</th>\n",
       "      <th>Age</th>\n",
       "      <th>Gender</th>\n",
       "    </tr>\n",
       "  </thead>\n",
       "  <tbody>\n",
       "    <tr>\n",
       "      <th>0</th>\n",
       "      <td>1</td>\n",
       "      <td>business</td>\n",
       "      <td>4907</td>\n",
       "      <td>48.0</td>\n",
       "      <td>F</td>\n",
       "    </tr>\n",
       "    <tr>\n",
       "      <th>1</th>\n",
       "      <td>2</td>\n",
       "      <td>business</td>\n",
       "      <td>6724</td>\n",
       "      <td>57.0</td>\n",
       "      <td>M</td>\n",
       "    </tr>\n",
       "    <tr>\n",
       "      <th>2</th>\n",
       "      <td>3</td>\n",
       "      <td>business</td>\n",
       "      <td>4365</td>\n",
       "      <td>49.0</td>\n",
       "      <td>M</td>\n",
       "    </tr>\n",
       "    <tr>\n",
       "      <th>3</th>\n",
       "      <td>4</td>\n",
       "      <td>leisure</td>\n",
       "      <td>3849</td>\n",
       "      <td>29.0</td>\n",
       "      <td>F</td>\n",
       "    </tr>\n",
       "    <tr>\n",
       "      <th>4</th>\n",
       "      <td>5</td>\n",
       "      <td>business</td>\n",
       "      <td>5376</td>\n",
       "      <td>33.0</td>\n",
       "      <td>M</td>\n",
       "    </tr>\n",
       "    <tr>\n",
       "      <th>...</th>\n",
       "      <td>...</td>\n",
       "      <td>...</td>\n",
       "      <td>...</td>\n",
       "      <td>...</td>\n",
       "      <td>...</td>\n",
       "    </tr>\n",
       "    <tr>\n",
       "      <th>15584</th>\n",
       "      <td>15582</td>\n",
       "      <td>business</td>\n",
       "      <td>4968</td>\n",
       "      <td>34.0</td>\n",
       "      <td>F</td>\n",
       "    </tr>\n",
       "    <tr>\n",
       "      <th>15585</th>\n",
       "      <td>15583</td>\n",
       "      <td>business</td>\n",
       "      <td>4970</td>\n",
       "      <td>22.0</td>\n",
       "      <td>F</td>\n",
       "    </tr>\n",
       "    <tr>\n",
       "      <th>15586</th>\n",
       "      <td>15584</td>\n",
       "      <td>business</td>\n",
       "      <td>4046</td>\n",
       "      <td>58.0</td>\n",
       "      <td>M</td>\n",
       "    </tr>\n",
       "    <tr>\n",
       "      <th>15587</th>\n",
       "      <td>15585</td>\n",
       "      <td>leisure</td>\n",
       "      <td>5155</td>\n",
       "      <td>30.0</td>\n",
       "      <td>M</td>\n",
       "    </tr>\n",
       "    <tr>\n",
       "      <th>15588</th>\n",
       "      <td>15586</td>\n",
       "      <td>business</td>\n",
       "      <td>5136</td>\n",
       "      <td>39.0</td>\n",
       "      <td>M</td>\n",
       "    </tr>\n",
       "  </tbody>\n",
       "</table>\n",
       "<p>15586 rows × 5 columns</p>\n",
       "</div>"
      ],
      "text/plain": [
       "          ID TypeTravel  RewardPoints   Age Gender\n",
       "0          1   business          4907  48.0      F\n",
       "1          2   business          6724  57.0      M\n",
       "2          3   business          4365  49.0      M\n",
       "3          4    leisure          3849  29.0      F\n",
       "4          5   business          5376  33.0      M\n",
       "...      ...        ...           ...   ...    ...\n",
       "15584  15582   business          4968  34.0      F\n",
       "15585  15583   business          4970  22.0      F\n",
       "15586  15584   business          4046  58.0      M\n",
       "15587  15585    leisure          5155  30.0      M\n",
       "15588  15586   business          5136  39.0      M\n",
       "\n",
       "[15586 rows x 5 columns]"
      ]
     },
     "execution_count": 16,
     "metadata": {},
     "output_type": "execute_result"
    }
   ],
   "source": [
    "cl.replace({\"Gender\": {\"Mr.\": \"M\", \"Ms.\": \"F\"}})"
   ]
  },
  {
   "cell_type": "code",
   "execution_count": 17,
   "id": "2e689159",
   "metadata": {
    "scrolled": true
   },
   "outputs": [
    {
     "data": {
      "text/plain": [
       "<AxesSubplot:xlabel='RewardPoints', ylabel='Count'>"
      ]
     },
     "execution_count": 17,
     "metadata": {},
     "output_type": "execute_result"
    },
    {
     "data": {
      "image/png": "[encoded data removed]",
      "text/plain": [
       "<Figure size 432x288 with 1 Axes>"
      ]
     },
     "metadata": {
      "needs_background": "light"
     },
     "output_type": "display_data"
    }
   ],
   "source": [
    "sns.histplot(data=cl, x='RewardPoints', bins=10)"
   ]
  },
  {
   "cell_type": "code",
   "execution_count": 21,
   "id": "4e6ea8dd",
   "metadata": {},
   "outputs": [],
   "source": [
    "cl2 = pd.get_dummies(cl, columns = ['Gender', 'TypeTravel'], drop_first = True)"
   ]
  },
  {
   "cell_type": "code",
   "execution_count": 22,
   "id": "80be1dc9",
   "metadata": {},
   "outputs": [
    {
     "data": {
      "text/html": [
       "<div>\n",
       "<style scoped>\n",
       "    .dataframe tbody tr th:only-of-type {\n",
       "        vertical-align: middle;\n",
       "    }\n",
       "\n",
       "    .dataframe tbody tr th {\n",
       "        vertical-align: top;\n",
       "    }\n",
       "\n",
       "    .dataframe thead th {\n",
       "        text-align: right;\n",
       "    }\n",
       "</style>\n",
       "<table border=\"1\" class=\"dataframe\">\n",
       "  <thead>\n",
       "    <tr style=\"text-align: right;\">\n",
       "      <th></th>\n",
       "      <th>ID</th>\n",
       "      <th>RewardPoints</th>\n",
       "      <th>Age</th>\n",
       "      <th>Gender_Ms.</th>\n",
       "      <th>TypeTravel_leisure</th>\n",
       "    </tr>\n",
       "  </thead>\n",
       "  <tbody>\n",
       "    <tr>\n",
       "      <th>ID</th>\n",
       "      <td>1.000000</td>\n",
       "      <td>-0.019138</td>\n",
       "      <td>-0.006460</td>\n",
       "      <td>0.004832</td>\n",
       "      <td>0.005574</td>\n",
       "    </tr>\n",
       "    <tr>\n",
       "      <th>RewardPoints</th>\n",
       "      <td>-0.019138</td>\n",
       "      <td>1.000000</td>\n",
       "      <td>0.236962</td>\n",
       "      <td>0.114581</td>\n",
       "      <td>0.129581</td>\n",
       "    </tr>\n",
       "    <tr>\n",
       "      <th>Age</th>\n",
       "      <td>-0.006460</td>\n",
       "      <td>0.236962</td>\n",
       "      <td>1.000000</td>\n",
       "      <td>-0.011788</td>\n",
       "      <td>-0.040494</td>\n",
       "    </tr>\n",
       "    <tr>\n",
       "      <th>Gender_Ms.</th>\n",
       "      <td>0.004832</td>\n",
       "      <td>0.114581</td>\n",
       "      <td>-0.011788</td>\n",
       "      <td>1.000000</td>\n",
       "      <td>-0.005160</td>\n",
       "    </tr>\n",
       "    <tr>\n",
       "      <th>TypeTravel_leisure</th>\n",
       "      <td>0.005574</td>\n",
       "      <td>0.129581</td>\n",
       "      <td>-0.040494</td>\n",
       "      <td>-0.005160</td>\n",
       "      <td>1.000000</td>\n",
       "    </tr>\n",
       "  </tbody>\n",
       "</table>\n",
       "</div>"
      ],
      "text/plain": [
       "                          ID  RewardPoints       Age  Gender_Ms.  \\\n",
       "ID                  1.000000     -0.019138 -0.006460    0.004832   \n",
       "RewardPoints       -0.019138      1.000000  0.236962    0.114581   \n",
       "Age                -0.006460      0.236962  1.000000   -0.011788   \n",
       "Gender_Ms.          0.004832      0.114581 -0.011788    1.000000   \n",
       "TypeTravel_leisure  0.005574      0.129581 -0.040494   -0.005160   \n",
       "\n",
       "                    TypeTravel_leisure  \n",
       "ID                            0.005574  \n",
       "RewardPoints                  0.129581  \n",
       "Age                          -0.040494  \n",
       "Gender_Ms.                   -0.005160  \n",
       "TypeTravel_leisure            1.000000  "
      ]
     },
     "execution_count": 22,
     "metadata": {},
     "output_type": "execute_result"
    }
   ],
   "source": [
    "cl2.corr()"
   ]
  },
  {
   "cell_type": "code",
   "execution_count": 23,
   "id": "431416fd",
   "metadata": {},
   "outputs": [
    {
     "data": {
      "text/html": [
       "<div>\n",
       "<style scoped>\n",
       "    .dataframe tbody tr th:only-of-type {\n",
       "        vertical-align: middle;\n",
       "    }\n",
       "\n",
       "    .dataframe tbody tr th {\n",
       "        vertical-align: top;\n",
       "    }\n",
       "\n",
       "    .dataframe thead th {\n",
       "        text-align: right;\n",
       "    }\n",
       "</style>\n",
       "<table border=\"1\" class=\"dataframe\">\n",
       "  <thead>\n",
       "    <tr style=\"text-align: right;\">\n",
       "      <th></th>\n",
       "      <th>RewardPoints</th>\n",
       "      <th>Age</th>\n",
       "      <th>Gender_Ms.</th>\n",
       "      <th>TypeTravel_leisure</th>\n",
       "    </tr>\n",
       "    <tr>\n",
       "      <th>ID</th>\n",
       "      <th></th>\n",
       "      <th></th>\n",
       "      <th></th>\n",
       "      <th></th>\n",
       "    </tr>\n",
       "  </thead>\n",
       "  <tbody>\n",
       "    <tr>\n",
       "      <th>1</th>\n",
       "      <td>4907</td>\n",
       "      <td>48.0</td>\n",
       "      <td>1</td>\n",
       "      <td>0</td>\n",
       "    </tr>\n",
       "    <tr>\n",
       "      <th>2</th>\n",
       "      <td>6724</td>\n",
       "      <td>57.0</td>\n",
       "      <td>0</td>\n",
       "      <td>0</td>\n",
       "    </tr>\n",
       "    <tr>\n",
       "      <th>3</th>\n",
       "      <td>4365</td>\n",
       "      <td>49.0</td>\n",
       "      <td>0</td>\n",
       "      <td>0</td>\n",
       "    </tr>\n",
       "    <tr>\n",
       "      <th>4</th>\n",
       "      <td>3849</td>\n",
       "      <td>29.0</td>\n",
       "      <td>1</td>\n",
       "      <td>1</td>\n",
       "    </tr>\n",
       "    <tr>\n",
       "      <th>5</th>\n",
       "      <td>5376</td>\n",
       "      <td>33.0</td>\n",
       "      <td>0</td>\n",
       "      <td>0</td>\n",
       "    </tr>\n",
       "    <tr>\n",
       "      <th>...</th>\n",
       "      <td>...</td>\n",
       "      <td>...</td>\n",
       "      <td>...</td>\n",
       "      <td>...</td>\n",
       "    </tr>\n",
       "    <tr>\n",
       "      <th>15582</th>\n",
       "      <td>4968</td>\n",
       "      <td>34.0</td>\n",
       "      <td>1</td>\n",
       "      <td>0</td>\n",
       "    </tr>\n",
       "    <tr>\n",
       "      <th>15583</th>\n",
       "      <td>4970</td>\n",
       "      <td>22.0</td>\n",
       "      <td>1</td>\n",
       "      <td>0</td>\n",
       "    </tr>\n",
       "    <tr>\n",
       "      <th>15584</th>\n",
       "      <td>4046</td>\n",
       "      <td>58.0</td>\n",
       "      <td>0</td>\n",
       "      <td>0</td>\n",
       "    </tr>\n",
       "    <tr>\n",
       "      <th>15585</th>\n",
       "      <td>5155</td>\n",
       "      <td>30.0</td>\n",
       "      <td>0</td>\n",
       "      <td>1</td>\n",
       "    </tr>\n",
       "    <tr>\n",
       "      <th>15586</th>\n",
       "      <td>5136</td>\n",
       "      <td>39.0</td>\n",
       "      <td>0</td>\n",
       "      <td>0</td>\n",
       "    </tr>\n",
       "  </tbody>\n",
       "</table>\n",
       "<p>15586 rows × 4 columns</p>\n",
       "</div>"
      ],
      "text/plain": [
       "       RewardPoints   Age  Gender_Ms.  TypeTravel_leisure\n",
       "ID                                                       \n",
       "1              4907  48.0           1                   0\n",
       "2              6724  57.0           0                   0\n",
       "3              4365  49.0           0                   0\n",
       "4              3849  29.0           1                   1\n",
       "5              5376  33.0           0                   0\n",
       "...             ...   ...         ...                 ...\n",
       "15582          4968  34.0           1                   0\n",
       "15583          4970  22.0           1                   0\n",
       "15584          4046  58.0           0                   0\n",
       "15585          5155  30.0           0                   1\n",
       "15586          5136  39.0           0                   0\n",
       "\n",
       "[15586 rows x 4 columns]"
      ]
     },
     "execution_count": 23,
     "metadata": {},
     "output_type": "execute_result"
    }
   ],
   "source": [
    "cl2.set_index('ID')"
   ]
  },
  {
   "cell_type": "code",
   "execution_count": 24,
   "id": "e3bf61d6",
   "metadata": {},
   "outputs": [
    {
     "data": {
      "text/plain": [
       "Text(0.5, 1.0, 'Correlation Heats')"
      ]
     },
     "execution_count": 24,
     "metadata": {},
     "output_type": "execute_result"
    },
    {
     "data": {
      "image/png": "[encoded data removed]",
      "text/plain": [
       "<Figure size 864x648 with 2 Axes>"
      ]
     },
     "metadata": {
      "needs_background": "light"
     },
     "output_type": "display_data"
    }
   ],
   "source": [
    "plt.figure(figsize=(12,9))\n",
    "s= sns.heatmap(cl2.corr(),\n",
    "               annot=True,\n",
    "               cmap='RdBu',\n",
    "               vmin=-1,\n",
    "               vmax=1)\n",
    "s.set_yticklabels(s.get_yticklabels(), rotation=0, fontsize=12)\n",
    "s.set_xticklabels(s.get_xticklabels(), rotation=90, fontsize=12)\n",
    "plt.title('Correlation Heats')"
   ]
  },
  {
   "cell_type": "code",
   "execution_count": 25,
   "id": "f3915da3",
   "metadata": {},
   "outputs": [],
   "source": [
    "scaler = StandardScaler()\n",
    "cl2_stand = scaler.fit_transform(cl2)"
   ]
  },
  {
   "cell_type": "code",
   "execution_count": 26,
   "id": "6f1c28b2",
   "metadata": {
    "scrolled": false
   },
   "outputs": [
    {
     "data": {
      "text/plain": [
       "array([[-1.73193968, -0.11228503,  0.51025393,  0.97603455, -0.67031424],\n",
       "       [-1.73171743,  1.65538436,  1.10690421, -1.02455389, -0.67031424],\n",
       "       [-1.73149517, -0.63957001,  0.57654841, -1.02455389, -0.67031424],\n",
       "       ...,\n",
       "       [ 1.73149517, -0.94990932,  1.17319868, -1.02455389, -0.67031424],\n",
       "       [ 1.73171743,  0.1289819 , -0.68304662, -1.02455389,  1.49183762],\n",
       "       [ 1.73193968,  0.11049774, -0.08639634, -1.02455389, -0.67031424]])"
      ]
     },
     "execution_count": 26,
     "metadata": {},
     "output_type": "execute_result"
    }
   ],
   "source": [
    "cl2_stand"
   ]
  },
  {
   "cell_type": "code",
   "execution_count": 27,
   "id": "3d0d5776",
   "metadata": {},
   "outputs": [],
   "source": [
    "hier_clust = linkage(cl2_stand, method = 'ward')"
   ]
  },
  {
   "cell_type": "code",
   "execution_count": 28,
   "id": "26db700e",
   "metadata": {},
   "outputs": [
    {
     "data": {
      "image/png": "[encoded data removed]",
      "text/plain": [
       "<Figure size 864x648 with 1 Axes>"
      ]
     },
     "metadata": {
      "needs_background": "light"
     },
     "output_type": "display_data"
    }
   ],
   "source": [
    "plt.figure(figsize = (12,9))\n",
    "plt.title('Hierarchical Clustering Dendogram')\n",
    "plt.xlabel('Observations')\n",
    "plt.ylabel('Distance')\n",
    "dendrogram(hier_clust,\n",
    "         truncate_mode = 'level',\n",
    "         p=5,\n",
    "         show_leaf_counts= False,\n",
    "         no_labels= True)\n",
    "         #color_threshold= 0)\n",
    "\n",
    "plt.show()"
   ]
  },
  {
   "cell_type": "code",
   "execution_count": 29,
   "id": "7f2f9429",
   "metadata": {},
   "outputs": [],
   "source": [
    "from sklearn import datasets\n",
    "from sklearn.cluster import KMeans\n",
    "import sklearn.metrics as sm\n",
    "from sklearn.preprocessing import LabelEncoder\n",
    "from sklearn.cluster import KMeans\n",
    "from sklearn.cluster import AgglomerativeClustering\n",
    "from sklearn.metrics import silhouette_score\n",
    "from sklearn.metrics import adjusted_rand_score"
   ]
  },
  {
   "cell_type": "code",
   "execution_count": 30,
   "id": "1cfaac37",
   "metadata": {},
   "outputs": [],
   "source": [
    "ssd = []\n",
    "for k in range(2,10):\n",
    "    model = KMeans(n_clusters=k)\n",
    "    model.fit(cl2_stand)\n",
    "    \n",
    "    \n",
    "    ssd.append(model.inertia_) ##SSD point to cluster center"
   ]
  },
  {
   "cell_type": "code",
   "execution_count": 31,
   "id": "f737610d",
   "metadata": {},
   "outputs": [
    {
     "data": {
      "text/plain": [
       "[62055.83522834317,\n",
       " 51267.502193574444,\n",
       " 45524.399186106326,\n",
       " 40980.45557650406,\n",
       " 37034.96524369687,\n",
       " 33858.773408369074,\n",
       " 30968.571022958808,\n",
       " 28339.12879270873]"
      ]
     },
     "execution_count": 31,
     "metadata": {},
     "output_type": "execute_result"
    }
   ],
   "source": [
    "ssd"
   ]
  },
  {
   "cell_type": "code",
   "execution_count": 32,
   "id": "14294ecf",
   "metadata": {},
   "outputs": [
    {
     "data": {
      "text/plain": [
       "[<matplotlib.lines.Line2D at 0x242da1090d0>]"
      ]
     },
     "execution_count": 32,
     "metadata": {},
     "output_type": "execute_result"
    },
    {
     "data": {
      "image/png": "[encoded data removed]",
      "text/plain": [
       "<Figure size 432x288 with 1 Axes>"
      ]
     },
     "metadata": {
      "needs_background": "light"
     },
     "output_type": "display_data"
    }
   ],
   "source": [
    "plt.plot(range(2,10), ssd, 'o--')"
   ]
  },
  {
   "cell_type": "code",
   "execution_count": 33,
   "id": "b7b438bd",
   "metadata": {},
   "outputs": [
    {
     "data": {
      "text/plain": [
       "<AxesSubplot:>"
      ]
     },
     "execution_count": 33,
     "metadata": {},
     "output_type": "execute_result"
    },
    {
     "data": {
      "image/png": "[encoded data removed]",
      "text/plain": [
       "<Figure size 432x288 with 1 Axes>"
      ]
     },
     "metadata": {
      "needs_background": "light"
     },
     "output_type": "display_data"
    }
   ],
   "source": [
    "pd.Series(ssd).diff().plot(kind='bar')"
   ]
  },
  {
   "cell_type": "code",
   "execution_count": 53,
   "id": "079d265e",
   "metadata": {},
   "outputs": [],
   "source": [
    "model = KMeans(n_clusters=4)"
   ]
  },
  {
   "cell_type": "code",
   "execution_count": 54,
   "id": "9a0a05da",
   "metadata": {},
   "outputs": [],
   "source": [
    "cluster_labels = model.fit_predict(cl2_stand)"
   ]
  },
  {
   "cell_type": "code",
   "execution_count": 55,
   "id": "8c5bf499",
   "metadata": {},
   "outputs": [
    {
     "data": {
      "text/plain": [
       "array([0, 2, 2, ..., 2, 1, 2])"
      ]
     },
     "execution_count": 55,
     "metadata": {},
     "output_type": "execute_result"
    }
   ],
   "source": [
    "cluster_labels"
   ]
  },
  {
   "cell_type": "code",
   "execution_count": 56,
   "id": "d1e5b9e7",
   "metadata": {},
   "outputs": [],
   "source": [
    "cl2['Cluster'] = cluster_labels"
   ]
  },
  {
   "cell_type": "code",
   "execution_count": 57,
   "id": "df3b9703",
   "metadata": {},
   "outputs": [
    {
     "data": {
      "text/html": [
       "<div>\n",
       "<style scoped>\n",
       "    .dataframe tbody tr th:only-of-type {\n",
       "        vertical-align: middle;\n",
       "    }\n",
       "\n",
       "    .dataframe tbody tr th {\n",
       "        vertical-align: top;\n",
       "    }\n",
       "\n",
       "    .dataframe thead th {\n",
       "        text-align: right;\n",
       "    }\n",
       "</style>\n",
       "<table border=\"1\" class=\"dataframe\">\n",
       "  <thead>\n",
       "    <tr style=\"text-align: right;\">\n",
       "      <th></th>\n",
       "      <th>ID</th>\n",
       "      <th>RewardPoints</th>\n",
       "      <th>Age</th>\n",
       "      <th>Gender_Ms.</th>\n",
       "      <th>TypeTravel_leisure</th>\n",
       "      <th>Cluster</th>\n",
       "      <th>Labels</th>\n",
       "    </tr>\n",
       "  </thead>\n",
       "  <tbody>\n",
       "    <tr>\n",
       "      <th>0</th>\n",
       "      <td>1</td>\n",
       "      <td>4907</td>\n",
       "      <td>48.0</td>\n",
       "      <td>1</td>\n",
       "      <td>0</td>\n",
       "      <td>0</td>\n",
       "      <td>Middle Age Working Men</td>\n",
       "    </tr>\n",
       "    <tr>\n",
       "      <th>1</th>\n",
       "      <td>2</td>\n",
       "      <td>6724</td>\n",
       "      <td>57.0</td>\n",
       "      <td>0</td>\n",
       "      <td>0</td>\n",
       "      <td>2</td>\n",
       "      <td>Young Males on Leisure</td>\n",
       "    </tr>\n",
       "    <tr>\n",
       "      <th>2</th>\n",
       "      <td>3</td>\n",
       "      <td>4365</td>\n",
       "      <td>49.0</td>\n",
       "      <td>0</td>\n",
       "      <td>0</td>\n",
       "      <td>2</td>\n",
       "      <td>Young Males on Leisure</td>\n",
       "    </tr>\n",
       "    <tr>\n",
       "      <th>3</th>\n",
       "      <td>4</td>\n",
       "      <td>3849</td>\n",
       "      <td>29.0</td>\n",
       "      <td>1</td>\n",
       "      <td>1</td>\n",
       "      <td>1</td>\n",
       "      <td>Older Age Female on Leisure</td>\n",
       "    </tr>\n",
       "    <tr>\n",
       "      <th>4</th>\n",
       "      <td>5</td>\n",
       "      <td>5376</td>\n",
       "      <td>33.0</td>\n",
       "      <td>0</td>\n",
       "      <td>0</td>\n",
       "      <td>2</td>\n",
       "      <td>Young Males on Leisure</td>\n",
       "    </tr>\n",
       "    <tr>\n",
       "      <th>...</th>\n",
       "      <td>...</td>\n",
       "      <td>...</td>\n",
       "      <td>...</td>\n",
       "      <td>...</td>\n",
       "      <td>...</td>\n",
       "      <td>...</td>\n",
       "      <td>...</td>\n",
       "    </tr>\n",
       "    <tr>\n",
       "      <th>15584</th>\n",
       "      <td>15582</td>\n",
       "      <td>4968</td>\n",
       "      <td>34.0</td>\n",
       "      <td>1</td>\n",
       "      <td>0</td>\n",
       "      <td>0</td>\n",
       "      <td>Middle Age Working Men</td>\n",
       "    </tr>\n",
       "    <tr>\n",
       "      <th>15585</th>\n",
       "      <td>15583</td>\n",
       "      <td>4970</td>\n",
       "      <td>22.0</td>\n",
       "      <td>1</td>\n",
       "      <td>0</td>\n",
       "      <td>0</td>\n",
       "      <td>Middle Age Working Men</td>\n",
       "    </tr>\n",
       "    <tr>\n",
       "      <th>15586</th>\n",
       "      <td>15584</td>\n",
       "      <td>4046</td>\n",
       "      <td>58.0</td>\n",
       "      <td>0</td>\n",
       "      <td>0</td>\n",
       "      <td>2</td>\n",
       "      <td>Young Males on Leisure</td>\n",
       "    </tr>\n",
       "    <tr>\n",
       "      <th>15587</th>\n",
       "      <td>15585</td>\n",
       "      <td>5155</td>\n",
       "      <td>30.0</td>\n",
       "      <td>0</td>\n",
       "      <td>1</td>\n",
       "      <td>1</td>\n",
       "      <td>Older Age Female on Leisure</td>\n",
       "    </tr>\n",
       "    <tr>\n",
       "      <th>15588</th>\n",
       "      <td>15586</td>\n",
       "      <td>5136</td>\n",
       "      <td>39.0</td>\n",
       "      <td>0</td>\n",
       "      <td>0</td>\n",
       "      <td>2</td>\n",
       "      <td>Young Males on Leisure</td>\n",
       "    </tr>\n",
       "  </tbody>\n",
       "</table>\n",
       "<p>15586 rows × 7 columns</p>\n",
       "</div>"
      ],
      "text/plain": [
       "          ID  RewardPoints   Age  Gender_Ms.  TypeTravel_leisure  Cluster  \\\n",
       "0          1          4907  48.0           1                   0        0   \n",
       "1          2          6724  57.0           0                   0        2   \n",
       "2          3          4365  49.0           0                   0        2   \n",
       "3          4          3849  29.0           1                   1        1   \n",
       "4          5          5376  33.0           0                   0        2   \n",
       "...      ...           ...   ...         ...                 ...      ...   \n",
       "15584  15582          4968  34.0           1                   0        0   \n",
       "15585  15583          4970  22.0           1                   0        0   \n",
       "15586  15584          4046  58.0           0                   0        2   \n",
       "15587  15585          5155  30.0           0                   1        1   \n",
       "15588  15586          5136  39.0           0                   0        2   \n",
       "\n",
       "                            Labels  \n",
       "0           Middle Age Working Men  \n",
       "1           Young Males on Leisure  \n",
       "2           Young Males on Leisure  \n",
       "3      Older Age Female on Leisure  \n",
       "4           Young Males on Leisure  \n",
       "...                            ...  \n",
       "15584       Middle Age Working Men  \n",
       "15585       Middle Age Working Men  \n",
       "15586       Young Males on Leisure  \n",
       "15587  Older Age Female on Leisure  \n",
       "15588       Young Males on Leisure  \n",
       "\n",
       "[15586 rows x 7 columns]"
      ]
     },
     "execution_count": 57,
     "metadata": {},
     "output_type": "execute_result"
    }
   ],
   "source": [
    "cl2"
   ]
  },
  {
   "cell_type": "code",
   "execution_count": 58,
   "id": "1da37896",
   "metadata": {},
   "outputs": [
    {
     "data": {
      "text/plain": [
       "Gender_Ms.           -0.615903\n",
       "ID                   -0.009203\n",
       "RewardPoints          0.121434\n",
       "Age                   0.295321\n",
       "TypeTravel_leisure    0.412906\n",
       "Name: Cluster, dtype: float64"
      ]
     },
     "execution_count": 58,
     "metadata": {},
     "output_type": "execute_result"
    }
   ],
   "source": [
    "cl2.corr()['Cluster'].iloc[:-1].sort_values()"
   ]
  },
  {
   "cell_type": "code",
   "execution_count": 59,
   "id": "f7a8768f",
   "metadata": {},
   "outputs": [
    {
     "data": {
      "text/plain": [
       "<AxesSubplot:>"
      ]
     },
     "execution_count": 59,
     "metadata": {},
     "output_type": "execute_result"
    },
    {
     "data": {
      "image/png": "[encoded data removed]",
      "text/plain": [
       "<Figure size 2400x1200 with 1 Axes>"
      ]
     },
     "metadata": {
      "needs_background": "light"
     },
     "output_type": "display_data"
    }
   ],
   "source": [
    "plt.figure(figsize=(12,6), dpi=200)\n",
    "cl2.corr()['Cluster'].iloc[:-1].sort_values().plot(kind='bar')"
   ]
  },
  {
   "cell_type": "code",
   "execution_count": 60,
   "id": "53f76a90",
   "metadata": {},
   "outputs": [
    {
     "data": {
      "text/html": [
       "<div>\n",
       "<style scoped>\n",
       "    .dataframe tbody tr th:only-of-type {\n",
       "        vertical-align: middle;\n",
       "    }\n",
       "\n",
       "    .dataframe tbody tr th {\n",
       "        vertical-align: top;\n",
       "    }\n",
       "\n",
       "    .dataframe thead th {\n",
       "        text-align: right;\n",
       "    }\n",
       "</style>\n",
       "<table border=\"1\" class=\"dataframe\">\n",
       "  <thead>\n",
       "    <tr style=\"text-align: right;\">\n",
       "      <th></th>\n",
       "      <th>ID</th>\n",
       "      <th>RewardPoints</th>\n",
       "      <th>Age</th>\n",
       "      <th>Gender_Ms.</th>\n",
       "      <th>TypeTravel_leisure</th>\n",
       "      <th>Cluster</th>\n",
       "      <th>Labels</th>\n",
       "    </tr>\n",
       "  </thead>\n",
       "  <tbody>\n",
       "    <tr>\n",
       "      <th>0</th>\n",
       "      <td>1</td>\n",
       "      <td>4907</td>\n",
       "      <td>48.0</td>\n",
       "      <td>1</td>\n",
       "      <td>0</td>\n",
       "      <td>0</td>\n",
       "      <td>Middle Age Working Men</td>\n",
       "    </tr>\n",
       "    <tr>\n",
       "      <th>1</th>\n",
       "      <td>2</td>\n",
       "      <td>6724</td>\n",
       "      <td>57.0</td>\n",
       "      <td>0</td>\n",
       "      <td>0</td>\n",
       "      <td>2</td>\n",
       "      <td>Young Males on Leisure</td>\n",
       "    </tr>\n",
       "    <tr>\n",
       "      <th>2</th>\n",
       "      <td>3</td>\n",
       "      <td>4365</td>\n",
       "      <td>49.0</td>\n",
       "      <td>0</td>\n",
       "      <td>0</td>\n",
       "      <td>2</td>\n",
       "      <td>Young Males on Leisure</td>\n",
       "    </tr>\n",
       "    <tr>\n",
       "      <th>3</th>\n",
       "      <td>4</td>\n",
       "      <td>3849</td>\n",
       "      <td>29.0</td>\n",
       "      <td>1</td>\n",
       "      <td>1</td>\n",
       "      <td>1</td>\n",
       "      <td>Older Age Female on Leisure</td>\n",
       "    </tr>\n",
       "    <tr>\n",
       "      <th>4</th>\n",
       "      <td>5</td>\n",
       "      <td>5376</td>\n",
       "      <td>33.0</td>\n",
       "      <td>0</td>\n",
       "      <td>0</td>\n",
       "      <td>2</td>\n",
       "      <td>Young Males on Leisure</td>\n",
       "    </tr>\n",
       "    <tr>\n",
       "      <th>...</th>\n",
       "      <td>...</td>\n",
       "      <td>...</td>\n",
       "      <td>...</td>\n",
       "      <td>...</td>\n",
       "      <td>...</td>\n",
       "      <td>...</td>\n",
       "      <td>...</td>\n",
       "    </tr>\n",
       "    <tr>\n",
       "      <th>15584</th>\n",
       "      <td>15582</td>\n",
       "      <td>4968</td>\n",
       "      <td>34.0</td>\n",
       "      <td>1</td>\n",
       "      <td>0</td>\n",
       "      <td>0</td>\n",
       "      <td>Middle Age Working Men</td>\n",
       "    </tr>\n",
       "    <tr>\n",
       "      <th>15585</th>\n",
       "      <td>15583</td>\n",
       "      <td>4970</td>\n",
       "      <td>22.0</td>\n",
       "      <td>1</td>\n",
       "      <td>0</td>\n",
       "      <td>0</td>\n",
       "      <td>Middle Age Working Men</td>\n",
       "    </tr>\n",
       "    <tr>\n",
       "      <th>15586</th>\n",
       "      <td>15584</td>\n",
       "      <td>4046</td>\n",
       "      <td>58.0</td>\n",
       "      <td>0</td>\n",
       "      <td>0</td>\n",
       "      <td>2</td>\n",
       "      <td>Young Males on Leisure</td>\n",
       "    </tr>\n",
       "    <tr>\n",
       "      <th>15587</th>\n",
       "      <td>15585</td>\n",
       "      <td>5155</td>\n",
       "      <td>30.0</td>\n",
       "      <td>0</td>\n",
       "      <td>1</td>\n",
       "      <td>1</td>\n",
       "      <td>Older Age Female on Leisure</td>\n",
       "    </tr>\n",
       "    <tr>\n",
       "      <th>15588</th>\n",
       "      <td>15586</td>\n",
       "      <td>5136</td>\n",
       "      <td>39.0</td>\n",
       "      <td>0</td>\n",
       "      <td>0</td>\n",
       "      <td>2</td>\n",
       "      <td>Young Males on Leisure</td>\n",
       "    </tr>\n",
       "  </tbody>\n",
       "</table>\n",
       "<p>15586 rows × 7 columns</p>\n",
       "</div>"
      ],
      "text/plain": [
       "          ID  RewardPoints   Age  Gender_Ms.  TypeTravel_leisure  Cluster  \\\n",
       "0          1          4907  48.0           1                   0        0   \n",
       "1          2          6724  57.0           0                   0        2   \n",
       "2          3          4365  49.0           0                   0        2   \n",
       "3          4          3849  29.0           1                   1        1   \n",
       "4          5          5376  33.0           0                   0        2   \n",
       "...      ...           ...   ...         ...                 ...      ...   \n",
       "15584  15582          4968  34.0           1                   0        0   \n",
       "15585  15583          4970  22.0           1                   0        0   \n",
       "15586  15584          4046  58.0           0                   0        2   \n",
       "15587  15585          5155  30.0           0                   1        1   \n",
       "15588  15586          5136  39.0           0                   0        2   \n",
       "\n",
       "                            Labels  \n",
       "0           Middle Age Working Men  \n",
       "1           Young Males on Leisure  \n",
       "2           Young Males on Leisure  \n",
       "3      Older Age Female on Leisure  \n",
       "4           Young Males on Leisure  \n",
       "...                            ...  \n",
       "15584       Middle Age Working Men  \n",
       "15585       Middle Age Working Men  \n",
       "15586       Young Males on Leisure  \n",
       "15587  Older Age Female on Leisure  \n",
       "15588       Young Males on Leisure  \n",
       "\n",
       "[15586 rows x 7 columns]"
      ]
     },
     "execution_count": 60,
     "metadata": {},
     "output_type": "execute_result"
    }
   ],
   "source": [
    "cl2"
   ]
  },
  {
   "cell_type": "code",
   "execution_count": 61,
   "id": "c83ad1e3",
   "metadata": {},
   "outputs": [],
   "source": [
    "cl3 = cl2.groupby(['Cluster']).mean()"
   ]
  },
  {
   "cell_type": "code",
   "execution_count": 62,
   "id": "fe22faae",
   "metadata": {},
   "outputs": [
    {
     "data": {
      "text/html": [
       "<div>\n",
       "<style scoped>\n",
       "    .dataframe tbody tr th:only-of-type {\n",
       "        vertical-align: middle;\n",
       "    }\n",
       "\n",
       "    .dataframe tbody tr th {\n",
       "        vertical-align: top;\n",
       "    }\n",
       "\n",
       "    .dataframe thead th {\n",
       "        text-align: right;\n",
       "    }\n",
       "</style>\n",
       "<table border=\"1\" class=\"dataframe\">\n",
       "  <thead>\n",
       "    <tr style=\"text-align: right;\">\n",
       "      <th></th>\n",
       "      <th>ID</th>\n",
       "      <th>RewardPoints</th>\n",
       "      <th>Age</th>\n",
       "      <th>Gender_Ms.</th>\n",
       "      <th>TypeTravel_leisure</th>\n",
       "    </tr>\n",
       "    <tr>\n",
       "      <th>Cluster</th>\n",
       "      <th></th>\n",
       "      <th></th>\n",
       "      <th></th>\n",
       "      <th></th>\n",
       "      <th></th>\n",
       "    </tr>\n",
       "  </thead>\n",
       "  <tbody>\n",
       "    <tr>\n",
       "      <th>0</th>\n",
       "      <td>7797.977883</td>\n",
       "      <td>4981.870740</td>\n",
       "      <td>40.263234</td>\n",
       "      <td>1.000000</td>\n",
       "      <td>0.000000</td>\n",
       "    </tr>\n",
       "    <tr>\n",
       "      <th>1</th>\n",
       "      <td>7957.096749</td>\n",
       "      <td>4881.595559</td>\n",
       "      <td>24.486122</td>\n",
       "      <td>0.487312</td>\n",
       "      <td>1.000000</td>\n",
       "    </tr>\n",
       "    <tr>\n",
       "      <th>2</th>\n",
       "      <td>7757.097206</td>\n",
       "      <td>4877.724455</td>\n",
       "      <td>41.099502</td>\n",
       "      <td>0.000000</td>\n",
       "      <td>0.000000</td>\n",
       "    </tr>\n",
       "    <tr>\n",
       "      <th>3</th>\n",
       "      <td>7687.104651</td>\n",
       "      <td>5597.349268</td>\n",
       "      <td>55.785530</td>\n",
       "      <td>0.532730</td>\n",
       "      <td>0.994832</td>\n",
       "    </tr>\n",
       "  </tbody>\n",
       "</table>\n",
       "</div>"
      ],
      "text/plain": [
       "                  ID  RewardPoints        Age  Gender_Ms.  TypeTravel_leisure\n",
       "Cluster                                                                      \n",
       "0        7797.977883   4981.870740  40.263234    1.000000            0.000000\n",
       "1        7957.096749   4881.595559  24.486122    0.487312            1.000000\n",
       "2        7757.097206   4877.724455  41.099502    0.000000            0.000000\n",
       "3        7687.104651   5597.349268  55.785530    0.532730            0.994832"
      ]
     },
     "execution_count": 62,
     "metadata": {},
     "output_type": "execute_result"
    }
   ],
   "source": [
    "cl3"
   ]
  },
  {
   "cell_type": "code",
   "execution_count": 63,
   "id": "fea6aead",
   "metadata": {},
   "outputs": [],
   "source": [
    "cl3['nob'] = cl2[['Cluster', 'Gender_Ms.']].groupby(['Cluster']).count()"
   ]
  },
  {
   "cell_type": "code",
   "execution_count": 64,
   "id": "aad344bb",
   "metadata": {},
   "outputs": [
    {
     "data": {
      "text/html": [
       "<div>\n",
       "<style scoped>\n",
       "    .dataframe tbody tr th:only-of-type {\n",
       "        vertical-align: middle;\n",
       "    }\n",
       "\n",
       "    .dataframe tbody tr th {\n",
       "        vertical-align: top;\n",
       "    }\n",
       "\n",
       "    .dataframe thead th {\n",
       "        text-align: right;\n",
       "    }\n",
       "</style>\n",
       "<table border=\"1\" class=\"dataframe\">\n",
       "  <thead>\n",
       "    <tr style=\"text-align: right;\">\n",
       "      <th></th>\n",
       "      <th>ID</th>\n",
       "      <th>RewardPoints</th>\n",
       "      <th>Age</th>\n",
       "      <th>Gender_Ms.</th>\n",
       "      <th>TypeTravel_leisure</th>\n",
       "      <th>nob</th>\n",
       "    </tr>\n",
       "    <tr>\n",
       "      <th>Cluster</th>\n",
       "      <th></th>\n",
       "      <th></th>\n",
       "      <th></th>\n",
       "      <th></th>\n",
       "      <th></th>\n",
       "      <th></th>\n",
       "    </tr>\n",
       "  </thead>\n",
       "  <tbody>\n",
       "    <tr>\n",
       "      <th>0</th>\n",
       "      <td>7797.977883</td>\n",
       "      <td>4981.870740</td>\n",
       "      <td>40.263234</td>\n",
       "      <td>1.000000</td>\n",
       "      <td>0.000000</td>\n",
       "      <td>5516</td>\n",
       "    </tr>\n",
       "    <tr>\n",
       "      <th>1</th>\n",
       "      <td>7957.096749</td>\n",
       "      <td>4881.595559</td>\n",
       "      <td>24.486122</td>\n",
       "      <td>0.487312</td>\n",
       "      <td>1.000000</td>\n",
       "      <td>2522</td>\n",
       "    </tr>\n",
       "    <tr>\n",
       "      <th>2</th>\n",
       "      <td>7757.097206</td>\n",
       "      <td>4877.724455</td>\n",
       "      <td>41.099502</td>\n",
       "      <td>0.000000</td>\n",
       "      <td>0.000000</td>\n",
       "      <td>5226</td>\n",
       "    </tr>\n",
       "    <tr>\n",
       "      <th>3</th>\n",
       "      <td>7687.104651</td>\n",
       "      <td>5597.349268</td>\n",
       "      <td>55.785530</td>\n",
       "      <td>0.532730</td>\n",
       "      <td>0.994832</td>\n",
       "      <td>2322</td>\n",
       "    </tr>\n",
       "  </tbody>\n",
       "</table>\n",
       "</div>"
      ],
      "text/plain": [
       "                  ID  RewardPoints        Age  Gender_Ms.  TypeTravel_leisure  \\\n",
       "Cluster                                                                         \n",
       "0        7797.977883   4981.870740  40.263234    1.000000            0.000000   \n",
       "1        7957.096749   4881.595559  24.486122    0.487312            1.000000   \n",
       "2        7757.097206   4877.724455  41.099502    0.000000            0.000000   \n",
       "3        7687.104651   5597.349268  55.785530    0.532730            0.994832   \n",
       "\n",
       "          nob  \n",
       "Cluster        \n",
       "0        5516  \n",
       "1        2522  \n",
       "2        5226  \n",
       "3        2322  "
      ]
     },
     "execution_count": 64,
     "metadata": {},
     "output_type": "execute_result"
    }
   ],
   "source": [
    "cl3"
   ]
  },
  {
   "cell_type": "code",
   "execution_count": 65,
   "id": "e8bcbd3d",
   "metadata": {},
   "outputs": [],
   "source": [
    "cl3['pobs'] = cl3['nob']/cl3['nob'].sum()"
   ]
  },
  {
   "cell_type": "markdown",
   "id": "f4427c1e",
   "metadata": {},
   "source": [
    "### "
   ]
  },
  {
   "cell_type": "code",
   "execution_count": 66,
   "id": "e51c5f9f",
   "metadata": {},
   "outputs": [
    {
     "data": {
      "text/html": [
       "<div>\n",
       "<style scoped>\n",
       "    .dataframe tbody tr th:only-of-type {\n",
       "        vertical-align: middle;\n",
       "    }\n",
       "\n",
       "    .dataframe tbody tr th {\n",
       "        vertical-align: top;\n",
       "    }\n",
       "\n",
       "    .dataframe thead th {\n",
       "        text-align: right;\n",
       "    }\n",
       "</style>\n",
       "<table border=\"1\" class=\"dataframe\">\n",
       "  <thead>\n",
       "    <tr style=\"text-align: right;\">\n",
       "      <th></th>\n",
       "      <th>ID</th>\n",
       "      <th>RewardPoints</th>\n",
       "      <th>Age</th>\n",
       "      <th>Gender_Ms.</th>\n",
       "      <th>TypeTravel_leisure</th>\n",
       "      <th>nob</th>\n",
       "      <th>pobs</th>\n",
       "    </tr>\n",
       "    <tr>\n",
       "      <th>Cluster</th>\n",
       "      <th></th>\n",
       "      <th></th>\n",
       "      <th></th>\n",
       "      <th></th>\n",
       "      <th></th>\n",
       "      <th></th>\n",
       "      <th></th>\n",
       "    </tr>\n",
       "  </thead>\n",
       "  <tbody>\n",
       "    <tr>\n",
       "      <th>0</th>\n",
       "      <td>7797.977883</td>\n",
       "      <td>4981.870740</td>\n",
       "      <td>40.263234</td>\n",
       "      <td>1.000000</td>\n",
       "      <td>0.000000</td>\n",
       "      <td>5516</td>\n",
       "      <td>0.353907</td>\n",
       "    </tr>\n",
       "    <tr>\n",
       "      <th>1</th>\n",
       "      <td>7957.096749</td>\n",
       "      <td>4881.595559</td>\n",
       "      <td>24.486122</td>\n",
       "      <td>0.487312</td>\n",
       "      <td>1.000000</td>\n",
       "      <td>2522</td>\n",
       "      <td>0.161812</td>\n",
       "    </tr>\n",
       "    <tr>\n",
       "      <th>2</th>\n",
       "      <td>7757.097206</td>\n",
       "      <td>4877.724455</td>\n",
       "      <td>41.099502</td>\n",
       "      <td>0.000000</td>\n",
       "      <td>0.000000</td>\n",
       "      <td>5226</td>\n",
       "      <td>0.335301</td>\n",
       "    </tr>\n",
       "    <tr>\n",
       "      <th>3</th>\n",
       "      <td>7687.104651</td>\n",
       "      <td>5597.349268</td>\n",
       "      <td>55.785530</td>\n",
       "      <td>0.532730</td>\n",
       "      <td>0.994832</td>\n",
       "      <td>2322</td>\n",
       "      <td>0.148980</td>\n",
       "    </tr>\n",
       "  </tbody>\n",
       "</table>\n",
       "</div>"
      ],
      "text/plain": [
       "                  ID  RewardPoints        Age  Gender_Ms.  TypeTravel_leisure  \\\n",
       "Cluster                                                                         \n",
       "0        7797.977883   4981.870740  40.263234    1.000000            0.000000   \n",
       "1        7957.096749   4881.595559  24.486122    0.487312            1.000000   \n",
       "2        7757.097206   4877.724455  41.099502    0.000000            0.000000   \n",
       "3        7687.104651   5597.349268  55.785530    0.532730            0.994832   \n",
       "\n",
       "          nob      pobs  \n",
       "Cluster                  \n",
       "0        5516  0.353907  \n",
       "1        2522  0.161812  \n",
       "2        5226  0.335301  \n",
       "3        2322  0.148980  "
      ]
     },
     "execution_count": 66,
     "metadata": {},
     "output_type": "execute_result"
    }
   ],
   "source": [
    "cl3"
   ]
  },
  {
   "cell_type": "code",
   "execution_count": 67,
   "id": "c7782bd2",
   "metadata": {},
   "outputs": [
    {
     "data": {
      "text/html": [
       "<div>\n",
       "<style scoped>\n",
       "    .dataframe tbody tr th:only-of-type {\n",
       "        vertical-align: middle;\n",
       "    }\n",
       "\n",
       "    .dataframe tbody tr th {\n",
       "        vertical-align: top;\n",
       "    }\n",
       "\n",
       "    .dataframe thead th {\n",
       "        text-align: right;\n",
       "    }\n",
       "</style>\n",
       "<table border=\"1\" class=\"dataframe\">\n",
       "  <thead>\n",
       "    <tr style=\"text-align: right;\">\n",
       "      <th></th>\n",
       "      <th>ID</th>\n",
       "      <th>RewardPoints</th>\n",
       "      <th>Age</th>\n",
       "      <th>Gender_Ms.</th>\n",
       "      <th>TypeTravel_leisure</th>\n",
       "      <th>nob</th>\n",
       "      <th>pobs</th>\n",
       "    </tr>\n",
       "    <tr>\n",
       "      <th>Cluster</th>\n",
       "      <th></th>\n",
       "      <th></th>\n",
       "      <th></th>\n",
       "      <th></th>\n",
       "      <th></th>\n",
       "      <th></th>\n",
       "      <th></th>\n",
       "    </tr>\n",
       "  </thead>\n",
       "  <tbody>\n",
       "    <tr>\n",
       "      <th>Middle Age Working Men</th>\n",
       "      <td>7797.977883</td>\n",
       "      <td>4981.870740</td>\n",
       "      <td>40.263234</td>\n",
       "      <td>1.000000</td>\n",
       "      <td>0.000000</td>\n",
       "      <td>5516</td>\n",
       "      <td>0.353907</td>\n",
       "    </tr>\n",
       "    <tr>\n",
       "      <th>Middle Age Working Female</th>\n",
       "      <td>7957.096749</td>\n",
       "      <td>4881.595559</td>\n",
       "      <td>24.486122</td>\n",
       "      <td>0.487312</td>\n",
       "      <td>1.000000</td>\n",
       "      <td>2522</td>\n",
       "      <td>0.161812</td>\n",
       "    </tr>\n",
       "    <tr>\n",
       "      <th>Older Age Female on Leisure</th>\n",
       "      <td>7757.097206</td>\n",
       "      <td>4877.724455</td>\n",
       "      <td>41.099502</td>\n",
       "      <td>0.000000</td>\n",
       "      <td>0.000000</td>\n",
       "      <td>5226</td>\n",
       "      <td>0.335301</td>\n",
       "    </tr>\n",
       "    <tr>\n",
       "      <th>Young Males on Leisure</th>\n",
       "      <td>7687.104651</td>\n",
       "      <td>5597.349268</td>\n",
       "      <td>55.785530</td>\n",
       "      <td>0.532730</td>\n",
       "      <td>0.994832</td>\n",
       "      <td>2322</td>\n",
       "      <td>0.148980</td>\n",
       "    </tr>\n",
       "  </tbody>\n",
       "</table>\n",
       "</div>"
      ],
      "text/plain": [
       "                                      ID  RewardPoints        Age  Gender_Ms.  \\\n",
       "Cluster                                                                         \n",
       "Middle Age Working Men       7797.977883   4981.870740  40.263234    1.000000   \n",
       "Middle Age Working Female    7957.096749   4881.595559  24.486122    0.487312   \n",
       "Older Age Female on Leisure  7757.097206   4877.724455  41.099502    0.000000   \n",
       "Young Males on Leisure       7687.104651   5597.349268  55.785530    0.532730   \n",
       "\n",
       "                             TypeTravel_leisure   nob      pobs  \n",
       "Cluster                                                          \n",
       "Middle Age Working Men                 0.000000  5516  0.353907  \n",
       "Middle Age Working Female              1.000000  2522  0.161812  \n",
       "Older Age Female on Leisure            0.000000  5226  0.335301  \n",
       "Young Males on Leisure                 0.994832  2322  0.148980  "
      ]
     },
     "execution_count": 67,
     "metadata": {},
     "output_type": "execute_result"
    }
   ],
   "source": [
    "#pode estar tudo trocado por correr o codigo\n",
    "cl3.rename({0: 'Middle Age Working Men',\n",
    "           3:'Young Males on Leisure',\n",
    "           1: 'Middle Age Working Female',\n",
    "           2: 'Older Age Female on Leisure'})"
   ]
  },
  {
   "cell_type": "code",
   "execution_count": 68,
   "id": "e7b00e5c",
   "metadata": {},
   "outputs": [],
   "source": [
    "# droppar os RewardPoints aqui, n fazem nada\n",
    "cl3 = cl3.rename_axis('Labels').reset_index()"
   ]
  },
  {
   "cell_type": "code",
   "execution_count": 69,
   "id": "db611068",
   "metadata": {},
   "outputs": [],
   "source": [
    "cl2['Labels'] = cl2['Cluster'].map({0: 'Middle Age Working Men',\n",
    "           3:'Young Males on Leisure',\n",
    "           1: 'Middle Age Working Female',\n",
    "           2: 'Older Age Female on Leisure'})"
   ]
  },
  {
   "cell_type": "code",
   "execution_count": 70,
   "id": "e3120920",
   "metadata": {},
   "outputs": [
    {
     "data": {
      "text/html": [
       "<div>\n",
       "<style scoped>\n",
       "    .dataframe tbody tr th:only-of-type {\n",
       "        vertical-align: middle;\n",
       "    }\n",
       "\n",
       "    .dataframe tbody tr th {\n",
       "        vertical-align: top;\n",
       "    }\n",
       "\n",
       "    .dataframe thead th {\n",
       "        text-align: right;\n",
       "    }\n",
       "</style>\n",
       "<table border=\"1\" class=\"dataframe\">\n",
       "  <thead>\n",
       "    <tr style=\"text-align: right;\">\n",
       "      <th></th>\n",
       "      <th>ID</th>\n",
       "      <th>RewardPoints</th>\n",
       "      <th>Age</th>\n",
       "      <th>Gender_Ms.</th>\n",
       "      <th>TypeTravel_leisure</th>\n",
       "      <th>Cluster</th>\n",
       "      <th>Labels</th>\n",
       "    </tr>\n",
       "  </thead>\n",
       "  <tbody>\n",
       "    <tr>\n",
       "      <th>0</th>\n",
       "      <td>1</td>\n",
       "      <td>4907</td>\n",
       "      <td>48.0</td>\n",
       "      <td>1</td>\n",
       "      <td>0</td>\n",
       "      <td>0</td>\n",
       "      <td>Middle Age Working Men</td>\n",
       "    </tr>\n",
       "    <tr>\n",
       "      <th>1</th>\n",
       "      <td>2</td>\n",
       "      <td>6724</td>\n",
       "      <td>57.0</td>\n",
       "      <td>0</td>\n",
       "      <td>0</td>\n",
       "      <td>2</td>\n",
       "      <td>Older Age Female on Leisure</td>\n",
       "    </tr>\n",
       "    <tr>\n",
       "      <th>2</th>\n",
       "      <td>3</td>\n",
       "      <td>4365</td>\n",
       "      <td>49.0</td>\n",
       "      <td>0</td>\n",
       "      <td>0</td>\n",
       "      <td>2</td>\n",
       "      <td>Older Age Female on Leisure</td>\n",
       "    </tr>\n",
       "    <tr>\n",
       "      <th>3</th>\n",
       "      <td>4</td>\n",
       "      <td>3849</td>\n",
       "      <td>29.0</td>\n",
       "      <td>1</td>\n",
       "      <td>1</td>\n",
       "      <td>1</td>\n",
       "      <td>Middle Age Working Female</td>\n",
       "    </tr>\n",
       "    <tr>\n",
       "      <th>4</th>\n",
       "      <td>5</td>\n",
       "      <td>5376</td>\n",
       "      <td>33.0</td>\n",
       "      <td>0</td>\n",
       "      <td>0</td>\n",
       "      <td>2</td>\n",
       "      <td>Older Age Female on Leisure</td>\n",
       "    </tr>\n",
       "    <tr>\n",
       "      <th>...</th>\n",
       "      <td>...</td>\n",
       "      <td>...</td>\n",
       "      <td>...</td>\n",
       "      <td>...</td>\n",
       "      <td>...</td>\n",
       "      <td>...</td>\n",
       "      <td>...</td>\n",
       "    </tr>\n",
       "    <tr>\n",
       "      <th>15584</th>\n",
       "      <td>15582</td>\n",
       "      <td>4968</td>\n",
       "      <td>34.0</td>\n",
       "      <td>1</td>\n",
       "      <td>0</td>\n",
       "      <td>0</td>\n",
       "      <td>Middle Age Working Men</td>\n",
       "    </tr>\n",
       "    <tr>\n",
       "      <th>15585</th>\n",
       "      <td>15583</td>\n",
       "      <td>4970</td>\n",
       "      <td>22.0</td>\n",
       "      <td>1</td>\n",
       "      <td>0</td>\n",
       "      <td>0</td>\n",
       "      <td>Middle Age Working Men</td>\n",
       "    </tr>\n",
       "    <tr>\n",
       "      <th>15586</th>\n",
       "      <td>15584</td>\n",
       "      <td>4046</td>\n",
       "      <td>58.0</td>\n",
       "      <td>0</td>\n",
       "      <td>0</td>\n",
       "      <td>2</td>\n",
       "      <td>Older Age Female on Leisure</td>\n",
       "    </tr>\n",
       "    <tr>\n",
       "      <th>15587</th>\n",
       "      <td>15585</td>\n",
       "      <td>5155</td>\n",
       "      <td>30.0</td>\n",
       "      <td>0</td>\n",
       "      <td>1</td>\n",
       "      <td>1</td>\n",
       "      <td>Middle Age Working Female</td>\n",
       "    </tr>\n",
       "    <tr>\n",
       "      <th>15588</th>\n",
       "      <td>15586</td>\n",
       "      <td>5136</td>\n",
       "      <td>39.0</td>\n",
       "      <td>0</td>\n",
       "      <td>0</td>\n",
       "      <td>2</td>\n",
       "      <td>Older Age Female on Leisure</td>\n",
       "    </tr>\n",
       "  </tbody>\n",
       "</table>\n",
       "<p>15586 rows × 7 columns</p>\n",
       "</div>"
      ],
      "text/plain": [
       "          ID  RewardPoints   Age  Gender_Ms.  TypeTravel_leisure  Cluster  \\\n",
       "0          1          4907  48.0           1                   0        0   \n",
       "1          2          6724  57.0           0                   0        2   \n",
       "2          3          4365  49.0           0                   0        2   \n",
       "3          4          3849  29.0           1                   1        1   \n",
       "4          5          5376  33.0           0                   0        2   \n",
       "...      ...           ...   ...         ...                 ...      ...   \n",
       "15584  15582          4968  34.0           1                   0        0   \n",
       "15585  15583          4970  22.0           1                   0        0   \n",
       "15586  15584          4046  58.0           0                   0        2   \n",
       "15587  15585          5155  30.0           0                   1        1   \n",
       "15588  15586          5136  39.0           0                   0        2   \n",
       "\n",
       "                            Labels  \n",
       "0           Middle Age Working Men  \n",
       "1      Older Age Female on Leisure  \n",
       "2      Older Age Female on Leisure  \n",
       "3        Middle Age Working Female  \n",
       "4      Older Age Female on Leisure  \n",
       "...                            ...  \n",
       "15584       Middle Age Working Men  \n",
       "15585       Middle Age Working Men  \n",
       "15586  Older Age Female on Leisure  \n",
       "15587    Middle Age Working Female  \n",
       "15588  Older Age Female on Leisure  \n",
       "\n",
       "[15586 rows x 7 columns]"
      ]
     },
     "execution_count": 70,
     "metadata": {},
     "output_type": "execute_result"
    }
   ],
   "source": [
    "cl2"
   ]
  },
  {
   "cell_type": "code",
   "execution_count": 72,
   "id": "5cea7e8f",
   "metadata": {},
   "outputs": [],
   "source": [
    "cluster0 = cl2[cl2.Cluster==0]\n",
    "cluster1 = cl2[cl2.Cluster==1]\n",
    "cluster2 = cl2[cl2.Cluster==2]\n",
    "cluster3 = cl2[cl2.Cluster==3]\n"
   ]
  },
  {
   "cell_type": "code",
   "execution_count": 81,
   "id": "ee8dc854",
   "metadata": {},
   "outputs": [
    {
     "data": {
      "text/plain": [
       "<matplotlib.legend.Legend at 0x242dbd1de50>"
      ]
     },
     "execution_count": 81,
     "metadata": {},
     "output_type": "execute_result"
    },
    {
     "data": {
      "image/png": "[encoded data removed]",
      "text/plain": [
       "<Figure size 432x288 with 1 Axes>"
      ]
     },
     "metadata": {
      "needs_background": "light"
     },
     "output_type": "display_data"
    }
   ],
   "source": [
    "sns.histplot(cluster1['Age'],color='red',label='Young Males on Leisure - Cluster 0', bins = 10)\n",
    "\n",
    "sns.histplot(cluster2['Age'],color='blue',label='Middle Age Working Men - Cluster 2', bins = 10)\n",
    "\n",
    "plt.legend()"
   ]
  },
  {
   "cell_type": "code",
   "execution_count": 84,
   "id": "57ce8e4a",
   "metadata": {},
   "outputs": [
    {
     "data": {
      "text/plain": [
       "<matplotlib.legend.Legend at 0x242dce07d90>"
      ]
     },
     "execution_count": 84,
     "metadata": {},
     "output_type": "execute_result"
    },
    {
     "data": {
      "image/png": "[encoded data removed]",
      "text/plain": [
       "<Figure size 432x288 with 1 Axes>"
      ]
     },
     "metadata": {
      "needs_background": "light"
     },
     "output_type": "display_data"
    }
   ],
   "source": [
    "sns.histplot(cluster0['Age'],color='yellow',label='Middle Age Working Female - Cluster 1', bins = 10)\n",
    "sns.histplot(cluster3['Age'],color='green',label='Older Age Female on Leisure - Cluster 2', bins = 10)\n",
    "plt.legend()"
   ]
  },
  {
   "cell_type": "code",
   "execution_count": 92,
   "id": "764c3d4e",
   "metadata": {},
   "outputs": [
    {
     "data": {
      "text/plain": [
       "<matplotlib.legend.Legend at 0x242dd09cac0>"
      ]
     },
     "execution_count": 92,
     "metadata": {},
     "output_type": "execute_result"
    },
    {
     "data": {
      "image/png": "[encoded data removed]",
      "text/plain": [
       "<Figure size 432x288 with 1 Axes>"
      ]
     },
     "metadata": {
      "needs_background": "light"
     },
     "output_type": "display_data"
    }
   ],
   "source": [
    "sns.histplot(cluster0['TypeTravel_leisure'],color='yellow',label='Middle Age Working Female - Cluster 1')\n",
    "sns.histplot(cluster3['TypeTravel_leisure'],color='green',label='Older Age Female on Leisure - Cluster 2')\n",
    "plt.legend()"
   ]
  },
  {
   "cell_type": "code",
   "execution_count": 101,
   "id": "e7110a91",
   "metadata": {},
   "outputs": [
    {
     "name": "stderr",
     "output_type": "stream",
     "text": [
      "No handles with labels found to put in legend.\n"
     ]
    },
    {
     "data": {
      "text/plain": [
       "<matplotlib.legend.Legend at 0x242de3fb2e0>"
      ]
     },
     "execution_count": 101,
     "metadata": {},
     "output_type": "execute_result"
    },
    {
     "data": {
      "image/png": "[encoded data removed]",
      "text/plain": [
       "<Figure size 432x288 with 1 Axes>"
      ]
     },
     "metadata": {
      "needs_background": "light"
     },
     "output_type": "display_data"
    }
   ],
   "source": [
    "sns.countplot(x=cluster2['TypeTravel_leisure'], palette=\"ch:.25\", data=cluster2)\n",
    "plt.legend()"
   ]
  },
  {
   "cell_type": "code",
   "execution_count": 99,
   "id": "4d74b31a",
   "metadata": {},
   "outputs": [
    {
     "name": "stderr",
     "output_type": "stream",
     "text": [
      "No handles with labels found to put in legend.\n"
     ]
    },
    {
     "data": {
      "text/plain": [
       "<matplotlib.legend.Legend at 0x242dd279220>"
      ]
     },
     "execution_count": 99,
     "metadata": {},
     "output_type": "execute_result"
    },
    {
     "data": {
      "image/png": "[encoded data removed]",
      "text/plain": [
       "<Figure size 432x288 with 1 Axes>"
      ]
     },
     "metadata": {
      "needs_background": "light"
     },
     "output_type": "display_data"
    }
   ],
   "source": [
    "sns.countplot(x=cl2['TypeTravel_leisure'], palette=\"ch:.25\", data=cluster3)\n",
    "plt.legend()"
   ]
  },
  {
   "cell_type": "code",
   "execution_count": null,
   "id": "819f77a3",
   "metadata": {},
   "outputs": [],
   "source": []
  }
 ],
 "metadata": {
  "kernelspec": {
   "display_name": "Python 3 (ipykernel)",
   "language": "python",
   "name": "python3"
  },
  "language_info": {
   "codemirror_mode": {
    "name": "ipython",
    "version": 3
   },
   "file_extension": ".py",
   "mimetype": "text/x-python",
   "name": "python",
   "nbconvert_exporter": "python",
   "pygments_lexer": "ipython3",
   "version": "3.9.7"
  }
 },
 "nbformat": 4,
 "nbformat_minor": 5
}
