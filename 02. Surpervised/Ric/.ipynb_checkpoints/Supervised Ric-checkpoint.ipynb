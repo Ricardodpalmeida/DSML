{
 "cells": [
  {
   "cell_type": "markdown",
   "id": "39059395-b40f-4b37-847e-5d969d7d6ff3",
   "metadata": {},
   "source": [
    "# BookMe Analysis"
   ]
  },
  {
   "cell_type": "markdown",
   "id": "609276ad-8c08-4638-86cf-3c9a6bddf031",
   "metadata": {
    "tags": []
   },
   "source": [
    "## Supervised Data Science and Machine Learning project"
   ]
  },
  {
   "cell_type": "markdown",
   "id": "7c1ceec4-a04b-4ac4-8a6f-764bd17f9603",
   "metadata": {},
   "source": [
    "# <font color='#BFD72F'>Table of Contents</font> <a class=\"anchor\" id=\"toc\"></a>\n",
    "1. [Setup](#setup)\n",
    "2. [Importing data](#import)\n",
    "3. [Exploring data](#explore)\n",
    "4. [Preparing data](#prepare)\n",
    "    1. [Feature Engineering](#feateng)\n",
    "    2. [Feature Selection](#feateng)\n",
    "5. [Model Assessment](#assess)\n",
    "6. [Predictions](#pred)"
   ]
  },
  {
   "cell_type": "markdown",
   "id": "2c9a6c95-741b-45ff-a854-8c6eed4e4d89",
   "metadata": {},
   "source": [
    "# <font color='#BFD72F'>1. Setup</font> <a class=\"anchor\" id=\"setup\"></a>\n",
    "\n",
    "[Back to Contents](#toc)"
   ]
  },
  {
   "cell_type": "markdown",
   "id": "6889c0ec-5c17-43c4-800c-4171920f2af0",
   "metadata": {},
   "source": [
    "__`Step 1`__ Import all the needed packages."
   ]
  },
  {
   "cell_type": "code",
   "execution_count": 2,
   "id": "1445e1c9-0f49-4b77-84a3-1b39e5f7bd94",
   "metadata": {},
   "outputs": [],
   "source": [
    "import pandas as pd\n",
    "import numpy as np\n",
    "import seaborn as sns\n",
    "import matplotlib.pyplot as plt\n",
    "%matplotlib inline\n",
    "from datetime import date\n",
    "# Feature Selection\n",
    "from sklearn.feature_selection import RFE\n",
    "import scipy.stats as stats\n",
    "from scipy.stats import chi2_contingency\n",
    "# Scaling\n",
    "from sklearn.preprocessing import MinMaxScaler\n",
    "# Models\n",
    "from sklearn.neighbors import KNeighborsClassifier\n",
    "from sklearn.linear_model import LogisticRegression\n",
    "# Model Assessment\n",
    "from sklearn.model_selection import train_test_split\n",
    "from sklearn.model_selection import StratifiedKFold\n",
    "from sklearn.metrics import f1_score\n",
    "\n",
    "import warnings\n",
    "warnings.filterwarnings('ignore')"
   ]
  },
  {
   "cell_type": "markdown",
   "id": "5436deb6-a347-4be9-a8b1-6ae7c2076985",
   "metadata": {},
   "source": [
    "# <font color='#BFD72F'>2. Importing data</font> <a class=\"anchor\" id=\"import\"></a>\n",
    "\n",
    "[Back to Contents](#toc)"
   ]
  },
  {
   "cell_type": "markdown",
   "id": "f15445c0-605f-435f-8a93-69e58d3cc5e8",
   "metadata": {},
   "source": [
    "__`Step 2`__ Importing training and test data."
   ]
  },
  {
   "cell_type": "code",
   "execution_count": 3,
   "id": "6135d972-97ec-4c56-b181-be7da9d41c98",
   "metadata": {},
   "outputs": [
    {
     "data": {
      "text/html": [
       "<div>\n",
       "<style scoped>\n",
       "    .dataframe tbody tr th:only-of-type {\n",
       "        vertical-align: middle;\n",
       "    }\n",
       "\n",
       "    .dataframe tbody tr th {\n",
       "        vertical-align: top;\n",
       "    }\n",
       "\n",
       "    .dataframe thead th {\n",
       "        text-align: right;\n",
       "    }\n",
       "</style>\n",
       "<table border=\"1\" class=\"dataframe\">\n",
       "  <thead>\n",
       "    <tr style=\"text-align: right;\">\n",
       "      <th></th>\n",
       "      <th>Cust_ID</th>\n",
       "      <th>Churn</th>\n",
       "      <th>Name</th>\n",
       "      <th>Longevity</th>\n",
       "      <th>Year_Birth</th>\n",
       "      <th>TypeTravel</th>\n",
       "      <th>RoomType</th>\n",
       "      <th>RewardPoints</th>\n",
       "      <th>Comfort</th>\n",
       "      <th>ReceptionSchedule</th>\n",
       "      <th>...</th>\n",
       "      <th>Wifi</th>\n",
       "      <th>Amenities</th>\n",
       "      <th>Staff</th>\n",
       "      <th>OnlineBooking</th>\n",
       "      <th>PriceQuality</th>\n",
       "      <th>RoomSpace</th>\n",
       "      <th>CheckOut</th>\n",
       "      <th>Checkin</th>\n",
       "      <th>Cleanliness</th>\n",
       "      <th>BarService</th>\n",
       "    </tr>\n",
       "  </thead>\n",
       "  <tbody>\n",
       "    <tr>\n",
       "      <th>0</th>\n",
       "      <td>1</td>\n",
       "      <td>churn</td>\n",
       "      <td>Ms. Nicole Clarke</td>\n",
       "      <td>yes</td>\n",
       "      <td>1974.0</td>\n",
       "      <td>business</td>\n",
       "      <td>single</td>\n",
       "      <td>4907</td>\n",
       "      <td>3</td>\n",
       "      <td>4</td>\n",
       "      <td>...</td>\n",
       "      <td>4</td>\n",
       "      <td>3</td>\n",
       "      <td>4</td>\n",
       "      <td>3</td>\n",
       "      <td>3</td>\n",
       "      <td>3</td>\n",
       "      <td>3</td>\n",
       "      <td>4</td>\n",
       "      <td>3</td>\n",
       "      <td>4</td>\n",
       "    </tr>\n",
       "    <tr>\n",
       "      <th>1</th>\n",
       "      <td>2</td>\n",
       "      <td>nochurn</td>\n",
       "      <td>Mr. Jesse Scott</td>\n",
       "      <td>yes</td>\n",
       "      <td>1965.0</td>\n",
       "      <td>business</td>\n",
       "      <td>single</td>\n",
       "      <td>6724</td>\n",
       "      <td>1</td>\n",
       "      <td>1</td>\n",
       "      <td>...</td>\n",
       "      <td>5</td>\n",
       "      <td>3</td>\n",
       "      <td>4</td>\n",
       "      <td>5</td>\n",
       "      <td>5</td>\n",
       "      <td>5</td>\n",
       "      <td>5</td>\n",
       "      <td>1</td>\n",
       "      <td>5</td>\n",
       "      <td>2</td>\n",
       "    </tr>\n",
       "    <tr>\n",
       "      <th>2</th>\n",
       "      <td>3</td>\n",
       "      <td>churn</td>\n",
       "      <td>Mr. Christopher Carter</td>\n",
       "      <td>yes</td>\n",
       "      <td>1973.0</td>\n",
       "      <td>business</td>\n",
       "      <td>single</td>\n",
       "      <td>4365</td>\n",
       "      <td>3</td>\n",
       "      <td>3</td>\n",
       "      <td>...</td>\n",
       "      <td>1</td>\n",
       "      <td>4</td>\n",
       "      <td>4</td>\n",
       "      <td>3</td>\n",
       "      <td>3</td>\n",
       "      <td>2</td>\n",
       "      <td>3</td>\n",
       "      <td>2</td>\n",
       "      <td>3</td>\n",
       "      <td>1</td>\n",
       "    </tr>\n",
       "    <tr>\n",
       "      <th>3</th>\n",
       "      <td>4</td>\n",
       "      <td>nochurn</td>\n",
       "      <td>Ms. Jennifer Morgan</td>\n",
       "      <td>yes</td>\n",
       "      <td>1993.0</td>\n",
       "      <td>leisure</td>\n",
       "      <td>double</td>\n",
       "      <td>3849</td>\n",
       "      <td>1</td>\n",
       "      <td>1</td>\n",
       "      <td>...</td>\n",
       "      <td>4</td>\n",
       "      <td>4</td>\n",
       "      <td>5</td>\n",
       "      <td>4</td>\n",
       "      <td>4</td>\n",
       "      <td>4</td>\n",
       "      <td>4</td>\n",
       "      <td>4</td>\n",
       "      <td>4</td>\n",
       "      <td>3</td>\n",
       "    </tr>\n",
       "    <tr>\n",
       "      <th>4</th>\n",
       "      <td>5</td>\n",
       "      <td>nochurn</td>\n",
       "      <td>Mr. Michael White</td>\n",
       "      <td>yes</td>\n",
       "      <td>1989.0</td>\n",
       "      <td>business</td>\n",
       "      <td>single</td>\n",
       "      <td>5376</td>\n",
       "      <td>2</td>\n",
       "      <td>2</td>\n",
       "      <td>...</td>\n",
       "      <td>5</td>\n",
       "      <td>5</td>\n",
       "      <td>5</td>\n",
       "      <td>5</td>\n",
       "      <td>5</td>\n",
       "      <td>3</td>\n",
       "      <td>4</td>\n",
       "      <td>1</td>\n",
       "      <td>3</td>\n",
       "      <td>5</td>\n",
       "    </tr>\n",
       "  </tbody>\n",
       "</table>\n",
       "<p>5 rows × 22 columns</p>\n",
       "</div>"
      ],
      "text/plain": [
       "   Cust_ID    Churn                    Name Longevity  Year_Birth TypeTravel  \\\n",
       "0        1    churn       Ms. Nicole Clarke       yes      1974.0   business   \n",
       "1        2  nochurn         Mr. Jesse Scott       yes      1965.0   business   \n",
       "2        3    churn  Mr. Christopher Carter       yes      1973.0   business   \n",
       "3        4  nochurn     Ms. Jennifer Morgan       yes      1993.0    leisure   \n",
       "4        5  nochurn       Mr. Michael White       yes      1989.0   business   \n",
       "\n",
       "  RoomType  RewardPoints  Comfort  ReceptionSchedule  ...  Wifi  Amenities  \\\n",
       "0   single          4907        3                  4  ...     4          3   \n",
       "1   single          6724        1                  1  ...     5          3   \n",
       "2   single          4365        3                  3  ...     1          4   \n",
       "3   double          3849        1                  1  ...     4          4   \n",
       "4   single          5376        2                  2  ...     5          5   \n",
       "\n",
       "   Staff  OnlineBooking  PriceQuality  RoomSpace  CheckOut  Checkin  \\\n",
       "0      4              3             3          3         3        4   \n",
       "1      4              5             5          5         5        1   \n",
       "2      4              3             3          2         3        2   \n",
       "3      5              4             4          4         4        4   \n",
       "4      5              5             5          3         4        1   \n",
       "\n",
       "   Cleanliness  BarService  \n",
       "0            3           4  \n",
       "1            5           2  \n",
       "2            3           1  \n",
       "3            4           3  \n",
       "4            3           5  \n",
       "\n",
       "[5 rows x 22 columns]"
      ]
     },
     "execution_count": 3,
     "metadata": {},
     "output_type": "execute_result"
    }
   ],
   "source": [
    "df = pd.read_csv('train.csv')\n",
    "df.head()"
   ]
  },
  {
   "cell_type": "code",
   "execution_count": 4,
   "id": "3097b238-33fb-421a-be5d-8a35703b65ff",
   "metadata": {},
   "outputs": [
    {
     "data": {
      "text/html": [
       "<div>\n",
       "<style scoped>\n",
       "    .dataframe tbody tr th:only-of-type {\n",
       "        vertical-align: middle;\n",
       "    }\n",
       "\n",
       "    .dataframe tbody tr th {\n",
       "        vertical-align: top;\n",
       "    }\n",
       "\n",
       "    .dataframe thead th {\n",
       "        text-align: right;\n",
       "    }\n",
       "</style>\n",
       "<table border=\"1\" class=\"dataframe\">\n",
       "  <thead>\n",
       "    <tr style=\"text-align: right;\">\n",
       "      <th></th>\n",
       "      <th>Cust_ID</th>\n",
       "      <th>Name</th>\n",
       "      <th>Longevity</th>\n",
       "      <th>Year_Birth</th>\n",
       "      <th>TypeTravel</th>\n",
       "      <th>RoomType</th>\n",
       "      <th>RewardPoints</th>\n",
       "      <th>Comfort</th>\n",
       "      <th>ReceptionSchedule</th>\n",
       "      <th>FoodDrink</th>\n",
       "      <th>...</th>\n",
       "      <th>Wifi</th>\n",
       "      <th>Amenities</th>\n",
       "      <th>Staff</th>\n",
       "      <th>OnlineBooking</th>\n",
       "      <th>PriceQuality</th>\n",
       "      <th>RoomSpace</th>\n",
       "      <th>CheckOut</th>\n",
       "      <th>Checkin</th>\n",
       "      <th>Cleanliness</th>\n",
       "      <th>BarService</th>\n",
       "    </tr>\n",
       "  </thead>\n",
       "  <tbody>\n",
       "    <tr>\n",
       "      <th>0</th>\n",
       "      <td>30000</td>\n",
       "      <td>Mr. Brandon Aguirre</td>\n",
       "      <td>yes</td>\n",
       "      <td>1956</td>\n",
       "      <td>leisure</td>\n",
       "      <td>double</td>\n",
       "      <td>5584</td>\n",
       "      <td>2</td>\n",
       "      <td>4</td>\n",
       "      <td>2</td>\n",
       "      <td>...</td>\n",
       "      <td>1</td>\n",
       "      <td>2</td>\n",
       "      <td>1</td>\n",
       "      <td>1</td>\n",
       "      <td>5</td>\n",
       "      <td>3</td>\n",
       "      <td>4</td>\n",
       "      <td>4</td>\n",
       "      <td>4</td>\n",
       "      <td>1</td>\n",
       "    </tr>\n",
       "    <tr>\n",
       "      <th>1</th>\n",
       "      <td>30001</td>\n",
       "      <td>Mr. Mathew Howard</td>\n",
       "      <td>yes</td>\n",
       "      <td>2004</td>\n",
       "      <td>leisure</td>\n",
       "      <td>double</td>\n",
       "      <td>5970</td>\n",
       "      <td>2</td>\n",
       "      <td>4</td>\n",
       "      <td>2</td>\n",
       "      <td>...</td>\n",
       "      <td>4</td>\n",
       "      <td>2</td>\n",
       "      <td>4</td>\n",
       "      <td>4</td>\n",
       "      <td>4</td>\n",
       "      <td>5</td>\n",
       "      <td>4</td>\n",
       "      <td>3</td>\n",
       "      <td>1</td>\n",
       "      <td>4</td>\n",
       "    </tr>\n",
       "    <tr>\n",
       "      <th>2</th>\n",
       "      <td>30002</td>\n",
       "      <td>Mr. Brian Peters</td>\n",
       "      <td>no</td>\n",
       "      <td>1992</td>\n",
       "      <td>business</td>\n",
       "      <td>single</td>\n",
       "      <td>5122</td>\n",
       "      <td>5</td>\n",
       "      <td>4</td>\n",
       "      <td>4</td>\n",
       "      <td>...</td>\n",
       "      <td>2</td>\n",
       "      <td>4</td>\n",
       "      <td>1</td>\n",
       "      <td>2</td>\n",
       "      <td>5</td>\n",
       "      <td>5</td>\n",
       "      <td>5</td>\n",
       "      <td>3</td>\n",
       "      <td>4</td>\n",
       "      <td>2</td>\n",
       "    </tr>\n",
       "    <tr>\n",
       "      <th>3</th>\n",
       "      <td>30003</td>\n",
       "      <td>Mr. Robert Henderson</td>\n",
       "      <td>yes</td>\n",
       "      <td>1986</td>\n",
       "      <td>leisure</td>\n",
       "      <td>double</td>\n",
       "      <td>5297</td>\n",
       "      <td>4</td>\n",
       "      <td>5</td>\n",
       "      <td>4</td>\n",
       "      <td>...</td>\n",
       "      <td>3</td>\n",
       "      <td>4</td>\n",
       "      <td>3</td>\n",
       "      <td>3</td>\n",
       "      <td>3</td>\n",
       "      <td>5</td>\n",
       "      <td>5</td>\n",
       "      <td>3</td>\n",
       "      <td>4</td>\n",
       "      <td>3</td>\n",
       "    </tr>\n",
       "    <tr>\n",
       "      <th>4</th>\n",
       "      <td>30004</td>\n",
       "      <td>Ms. Stephanie Drake</td>\n",
       "      <td>yes</td>\n",
       "      <td>1970</td>\n",
       "      <td>business</td>\n",
       "      <td>double</td>\n",
       "      <td>6047</td>\n",
       "      <td>4</td>\n",
       "      <td>2</td>\n",
       "      <td>2</td>\n",
       "      <td>...</td>\n",
       "      <td>5</td>\n",
       "      <td>4</td>\n",
       "      <td>3</td>\n",
       "      <td>4</td>\n",
       "      <td>4</td>\n",
       "      <td>4</td>\n",
       "      <td>4</td>\n",
       "      <td>4</td>\n",
       "      <td>4</td>\n",
       "      <td>4</td>\n",
       "    </tr>\n",
       "  </tbody>\n",
       "</table>\n",
       "<p>5 rows × 21 columns</p>\n",
       "</div>"
      ],
      "text/plain": [
       "   Cust_ID                  Name Longevity  Year_Birth TypeTravel RoomType  \\\n",
       "0    30000   Mr. Brandon Aguirre       yes        1956    leisure   double   \n",
       "1    30001     Mr. Mathew Howard       yes        2004    leisure   double   \n",
       "2    30002      Mr. Brian Peters        no        1992   business   single   \n",
       "3    30003  Mr. Robert Henderson       yes        1986    leisure   double   \n",
       "4    30004   Ms. Stephanie Drake       yes        1970   business   double   \n",
       "\n",
       "   RewardPoints  Comfort  ReceptionSchedule  FoodDrink  ...  Wifi  Amenities  \\\n",
       "0          5584        2                  4          2  ...     1          2   \n",
       "1          5970        2                  4          2  ...     4          2   \n",
       "2          5122        5                  4          4  ...     2          4   \n",
       "3          5297        4                  5          4  ...     3          4   \n",
       "4          6047        4                  2          2  ...     5          4   \n",
       "\n",
       "   Staff  OnlineBooking  PriceQuality  RoomSpace  CheckOut  Checkin  \\\n",
       "0      1              1             5          3         4        4   \n",
       "1      4              4             4          5         4        3   \n",
       "2      1              2             5          5         5        3   \n",
       "3      3              3             3          5         5        3   \n",
       "4      3              4             4          4         4        4   \n",
       "\n",
       "   Cleanliness  BarService  \n",
       "0            4           1  \n",
       "1            1           4  \n",
       "2            4           2  \n",
       "3            4           3  \n",
       "4            4           4  \n",
       "\n",
       "[5 rows x 21 columns]"
      ]
     },
     "execution_count": 4,
     "metadata": {},
     "output_type": "execute_result"
    }
   ],
   "source": [
    "test = pd.read_csv('test.csv')\n",
    "test.head()"
   ]
  },
  {
   "cell_type": "markdown",
   "id": "9b938b3e-e9fc-4c52-9bd9-7ab117749a84",
   "metadata": {},
   "source": [
    "`INPUT VARIABLES`: numerical and categorical <br>\n",
    "`OUPUT VARIABLE`: numeric (binary classification) <br>\n",
    "\n",
    "__GOAL__: Predict churn for BookMe clientele\n",
    "\n",
    "`Name` : customer's name <br>\n",
    "`Year_Birth` : customer's birth year <br>\n",
    "`Longevity` : Whether the customer registered more than 1 year ago or not (yes or no) <br>\n",
    "`Churn`: Whether the customer churned or not (churn or nochurn) <br>\n",
    "`TypeTravel` : Customer’s reason for travelling (business or leisure) <br>\n",
    "`RoomType`: Type of room reserved <br>\n",
    "`RewardPoints`: Customer’s rewarding point for loyalty <br>\n",
    "`Comfort`: Satisfaction level of customer regarding comfort of the room (0 to 5) <br>\n",
    "`ReceptionSchedule`: Satisfaction level of customer regarding reception schedule (0 to 5) <br>\n",
    "`FoodDrink`: Satisfaction level of customer regarding food and drink available (0 to 5) <br>\n",
    "`Location`: Satisfaction level of customer regarding accommodation location (0 to 5) <br>\n",
    "`Wifi`: Satisfaction level of customer regarding wi-fi service (0 to 5) <br>\n",
    "`Amenities`: Satisfaction level of customer regarding accommodation amenities (0 to 5) <br>\n",
    "`Staff`: Satisfaction level of customer regarding accommodation amenities (0 to 5) <br>\n",
    "`OnlineBooking`: Satisfaction level of customer regarding online booking ease (0 to 5) <br>\n",
    "`PriceQuality`: Satisfaction level of customer regarding price quality relationship (0 to 5) <br>\n",
    "`RoomSpace`: Satisfaction level of customer regarding room space (0 to 5) <br>\n",
    "`CheckOut` : Satisfaction level of customer regarding check-out (0 to 5) <br>\n",
    "`CheckIn` : Satisfaction level of customer regarding check-in (0 to 5) <br>\n",
    "`Cleanliness` : Satisfaction level of customer regarding cleanliness (0 to 5) <br>\n",
    "`BarService` : Satisfaction level of customer regarding bar service (0 to 5)"
   ]
  },
  {
   "cell_type": "markdown",
   "id": "0e0d8cfe-122b-4dbb-9c32-12176ef279f9",
   "metadata": {},
   "source": [
    "# <font color='#BFD72F'>3. Exploring Data</font> <a class=\"anchor\" id=\"explore\"></a>\n",
    "\n",
    "[Back to Contents](#toc)"
   ]
  },
  {
   "cell_type": "markdown",
   "id": "90e5890c-2fb8-4d7e-89e1-2dedbb7ffdae",
   "metadata": {},
   "source": [
    "__`Step 3`__ Check the shape of both datasets"
   ]
  },
  {
   "cell_type": "code",
   "execution_count": 5,
   "id": "89f91113-f55f-4067-9dde-8bae557b66d6",
   "metadata": {},
   "outputs": [
    {
     "name": "stdout",
     "output_type": "stream",
     "text": [
      "(15589, 22) (5195, 21)\n"
     ]
    }
   ],
   "source": [
    "print(df.shape, test.shape)"
   ]
  },
  {
   "cell_type": "markdown",
   "id": "69338c40-d51d-4684-b591-5c424559718d",
   "metadata": {},
   "source": [
    "__`Step 4`__ Look at the data"
   ]
  },
  {
   "cell_type": "code",
   "execution_count": 6,
   "id": "f7ae1e63-5245-4eef-a8cf-cb969b992e6f",
   "metadata": {},
   "outputs": [
    {
     "data": {
      "text/html": [
       "<div>\n",
       "<style scoped>\n",
       "    .dataframe tbody tr th:only-of-type {\n",
       "        vertical-align: middle;\n",
       "    }\n",
       "\n",
       "    .dataframe tbody tr th {\n",
       "        vertical-align: top;\n",
       "    }\n",
       "\n",
       "    .dataframe thead th {\n",
       "        text-align: right;\n",
       "    }\n",
       "</style>\n",
       "<table border=\"1\" class=\"dataframe\">\n",
       "  <thead>\n",
       "    <tr style=\"text-align: right;\">\n",
       "      <th></th>\n",
       "      <th>Cust_ID</th>\n",
       "      <th>Churn</th>\n",
       "      <th>Name</th>\n",
       "      <th>Longevity</th>\n",
       "      <th>Year_Birth</th>\n",
       "      <th>TypeTravel</th>\n",
       "      <th>RoomType</th>\n",
       "      <th>RewardPoints</th>\n",
       "      <th>Comfort</th>\n",
       "      <th>ReceptionSchedule</th>\n",
       "      <th>...</th>\n",
       "      <th>Wifi</th>\n",
       "      <th>Amenities</th>\n",
       "      <th>Staff</th>\n",
       "      <th>OnlineBooking</th>\n",
       "      <th>PriceQuality</th>\n",
       "      <th>RoomSpace</th>\n",
       "      <th>CheckOut</th>\n",
       "      <th>Checkin</th>\n",
       "      <th>Cleanliness</th>\n",
       "      <th>BarService</th>\n",
       "    </tr>\n",
       "  </thead>\n",
       "  <tbody>\n",
       "    <tr>\n",
       "      <th>0</th>\n",
       "      <td>1</td>\n",
       "      <td>churn</td>\n",
       "      <td>Ms. Nicole Clarke</td>\n",
       "      <td>yes</td>\n",
       "      <td>1974.0</td>\n",
       "      <td>business</td>\n",
       "      <td>single</td>\n",
       "      <td>4907</td>\n",
       "      <td>3</td>\n",
       "      <td>4</td>\n",
       "      <td>...</td>\n",
       "      <td>4</td>\n",
       "      <td>3</td>\n",
       "      <td>4</td>\n",
       "      <td>3</td>\n",
       "      <td>3</td>\n",
       "      <td>3</td>\n",
       "      <td>3</td>\n",
       "      <td>4</td>\n",
       "      <td>3</td>\n",
       "      <td>4</td>\n",
       "    </tr>\n",
       "    <tr>\n",
       "      <th>1</th>\n",
       "      <td>2</td>\n",
       "      <td>nochurn</td>\n",
       "      <td>Mr. Jesse Scott</td>\n",
       "      <td>yes</td>\n",
       "      <td>1965.0</td>\n",
       "      <td>business</td>\n",
       "      <td>single</td>\n",
       "      <td>6724</td>\n",
       "      <td>1</td>\n",
       "      <td>1</td>\n",
       "      <td>...</td>\n",
       "      <td>5</td>\n",
       "      <td>3</td>\n",
       "      <td>4</td>\n",
       "      <td>5</td>\n",
       "      <td>5</td>\n",
       "      <td>5</td>\n",
       "      <td>5</td>\n",
       "      <td>1</td>\n",
       "      <td>5</td>\n",
       "      <td>2</td>\n",
       "    </tr>\n",
       "    <tr>\n",
       "      <th>2</th>\n",
       "      <td>3</td>\n",
       "      <td>churn</td>\n",
       "      <td>Mr. Christopher Carter</td>\n",
       "      <td>yes</td>\n",
       "      <td>1973.0</td>\n",
       "      <td>business</td>\n",
       "      <td>single</td>\n",
       "      <td>4365</td>\n",
       "      <td>3</td>\n",
       "      <td>3</td>\n",
       "      <td>...</td>\n",
       "      <td>1</td>\n",
       "      <td>4</td>\n",
       "      <td>4</td>\n",
       "      <td>3</td>\n",
       "      <td>3</td>\n",
       "      <td>2</td>\n",
       "      <td>3</td>\n",
       "      <td>2</td>\n",
       "      <td>3</td>\n",
       "      <td>1</td>\n",
       "    </tr>\n",
       "  </tbody>\n",
       "</table>\n",
       "<p>3 rows × 22 columns</p>\n",
       "</div>"
      ],
      "text/plain": [
       "   Cust_ID    Churn                    Name Longevity  Year_Birth TypeTravel  \\\n",
       "0        1    churn       Ms. Nicole Clarke       yes      1974.0   business   \n",
       "1        2  nochurn         Mr. Jesse Scott       yes      1965.0   business   \n",
       "2        3    churn  Mr. Christopher Carter       yes      1973.0   business   \n",
       "\n",
       "  RoomType  RewardPoints  Comfort  ReceptionSchedule  ...  Wifi  Amenities  \\\n",
       "0   single          4907        3                  4  ...     4          3   \n",
       "1   single          6724        1                  1  ...     5          3   \n",
       "2   single          4365        3                  3  ...     1          4   \n",
       "\n",
       "   Staff  OnlineBooking  PriceQuality  RoomSpace  CheckOut  Checkin  \\\n",
       "0      4              3             3          3         3        4   \n",
       "1      4              5             5          5         5        1   \n",
       "2      4              3             3          2         3        2   \n",
       "\n",
       "   Cleanliness  BarService  \n",
       "0            3           4  \n",
       "1            5           2  \n",
       "2            3           1  \n",
       "\n",
       "[3 rows x 22 columns]"
      ]
     },
     "execution_count": 6,
     "metadata": {},
     "output_type": "execute_result"
    }
   ],
   "source": [
    "df.head(3)"
   ]
  },
  {
   "cell_type": "code",
   "execution_count": 7,
   "id": "b6ea51d3-592c-488c-9ee0-95328bcd14a8",
   "metadata": {},
   "outputs": [
    {
     "data": {
      "text/html": [
       "<div>\n",
       "<style scoped>\n",
       "    .dataframe tbody tr th:only-of-type {\n",
       "        vertical-align: middle;\n",
       "    }\n",
       "\n",
       "    .dataframe tbody tr th {\n",
       "        vertical-align: top;\n",
       "    }\n",
       "\n",
       "    .dataframe thead th {\n",
       "        text-align: right;\n",
       "    }\n",
       "</style>\n",
       "<table border=\"1\" class=\"dataframe\">\n",
       "  <thead>\n",
       "    <tr style=\"text-align: right;\">\n",
       "      <th></th>\n",
       "      <th>Cust_ID</th>\n",
       "      <th>Churn</th>\n",
       "      <th>Name</th>\n",
       "      <th>Longevity</th>\n",
       "      <th>Year_Birth</th>\n",
       "      <th>TypeTravel</th>\n",
       "      <th>RoomType</th>\n",
       "      <th>RewardPoints</th>\n",
       "      <th>Comfort</th>\n",
       "      <th>ReceptionSchedule</th>\n",
       "      <th>...</th>\n",
       "      <th>Wifi</th>\n",
       "      <th>Amenities</th>\n",
       "      <th>Staff</th>\n",
       "      <th>OnlineBooking</th>\n",
       "      <th>PriceQuality</th>\n",
       "      <th>RoomSpace</th>\n",
       "      <th>CheckOut</th>\n",
       "      <th>Checkin</th>\n",
       "      <th>Cleanliness</th>\n",
       "      <th>BarService</th>\n",
       "    </tr>\n",
       "  </thead>\n",
       "  <tbody>\n",
       "    <tr>\n",
       "      <th>15586</th>\n",
       "      <td>15587</td>\n",
       "      <td>nochurn</td>\n",
       "      <td>Mr. Maxwell Wright</td>\n",
       "      <td>yes</td>\n",
       "      <td>1964.0</td>\n",
       "      <td>business</td>\n",
       "      <td>single</td>\n",
       "      <td>4046</td>\n",
       "      <td>1</td>\n",
       "      <td>1</td>\n",
       "      <td>...</td>\n",
       "      <td>3</td>\n",
       "      <td>4</td>\n",
       "      <td>5</td>\n",
       "      <td>4</td>\n",
       "      <td>4</td>\n",
       "      <td>4</td>\n",
       "      <td>4</td>\n",
       "      <td>5</td>\n",
       "      <td>4</td>\n",
       "      <td>4</td>\n",
       "    </tr>\n",
       "    <tr>\n",
       "      <th>15587</th>\n",
       "      <td>15588</td>\n",
       "      <td>nochurn</td>\n",
       "      <td>Mr. Gregory Moran</td>\n",
       "      <td>yes</td>\n",
       "      <td>1992.0</td>\n",
       "      <td>leisure</td>\n",
       "      <td>double</td>\n",
       "      <td>5155</td>\n",
       "      <td>4</td>\n",
       "      <td>3</td>\n",
       "      <td>...</td>\n",
       "      <td>5</td>\n",
       "      <td>4</td>\n",
       "      <td>5</td>\n",
       "      <td>5</td>\n",
       "      <td>2</td>\n",
       "      <td>5</td>\n",
       "      <td>4</td>\n",
       "      <td>3</td>\n",
       "      <td>4</td>\n",
       "      <td>5</td>\n",
       "    </tr>\n",
       "    <tr>\n",
       "      <th>15588</th>\n",
       "      <td>15589</td>\n",
       "      <td>churn</td>\n",
       "      <td>Mr. Steven Mendez</td>\n",
       "      <td>yes</td>\n",
       "      <td>1983.0</td>\n",
       "      <td>business</td>\n",
       "      <td>suite</td>\n",
       "      <td>5136</td>\n",
       "      <td>3</td>\n",
       "      <td>3</td>\n",
       "      <td>...</td>\n",
       "      <td>3</td>\n",
       "      <td>3</td>\n",
       "      <td>3</td>\n",
       "      <td>3</td>\n",
       "      <td>4</td>\n",
       "      <td>5</td>\n",
       "      <td>4</td>\n",
       "      <td>1</td>\n",
       "      <td>3</td>\n",
       "      <td>3</td>\n",
       "    </tr>\n",
       "  </tbody>\n",
       "</table>\n",
       "<p>3 rows × 22 columns</p>\n",
       "</div>"
      ],
      "text/plain": [
       "       Cust_ID    Churn                Name Longevity  Year_Birth TypeTravel  \\\n",
       "15586    15587  nochurn  Mr. Maxwell Wright       yes      1964.0   business   \n",
       "15587    15588  nochurn   Mr. Gregory Moran       yes      1992.0    leisure   \n",
       "15588    15589    churn   Mr. Steven Mendez       yes      1983.0   business   \n",
       "\n",
       "      RoomType  RewardPoints  Comfort  ReceptionSchedule  ...  Wifi  \\\n",
       "15586   single          4046        1                  1  ...     3   \n",
       "15587   double          5155        4                  3  ...     5   \n",
       "15588    suite          5136        3                  3  ...     3   \n",
       "\n",
       "       Amenities  Staff  OnlineBooking  PriceQuality  RoomSpace  CheckOut  \\\n",
       "15586          4      5              4             4          4         4   \n",
       "15587          4      5              5             2          5         4   \n",
       "15588          3      3              3             4          5         4   \n",
       "\n",
       "       Checkin  Cleanliness  BarService  \n",
       "15586        5            4           4  \n",
       "15587        3            4           5  \n",
       "15588        1            3           3  \n",
       "\n",
       "[3 rows x 22 columns]"
      ]
     },
     "execution_count": 7,
     "metadata": {},
     "output_type": "execute_result"
    }
   ],
   "source": [
    "df.tail(3)"
   ]
  },
  {
   "cell_type": "code",
   "execution_count": 8,
   "id": "7fb84146-c1ff-4e12-a681-f80e10d0b166",
   "metadata": {},
   "outputs": [
    {
     "data": {
      "text/html": [
       "<div>\n",
       "<style scoped>\n",
       "    .dataframe tbody tr th:only-of-type {\n",
       "        vertical-align: middle;\n",
       "    }\n",
       "\n",
       "    .dataframe tbody tr th {\n",
       "        vertical-align: top;\n",
       "    }\n",
       "\n",
       "    .dataframe thead th {\n",
       "        text-align: right;\n",
       "    }\n",
       "</style>\n",
       "<table border=\"1\" class=\"dataframe\">\n",
       "  <thead>\n",
       "    <tr style=\"text-align: right;\">\n",
       "      <th></th>\n",
       "      <th>Cust_ID</th>\n",
       "      <th>Name</th>\n",
       "      <th>Longevity</th>\n",
       "      <th>Year_Birth</th>\n",
       "      <th>TypeTravel</th>\n",
       "      <th>RoomType</th>\n",
       "      <th>RewardPoints</th>\n",
       "      <th>Comfort</th>\n",
       "      <th>ReceptionSchedule</th>\n",
       "      <th>FoodDrink</th>\n",
       "      <th>...</th>\n",
       "      <th>Wifi</th>\n",
       "      <th>Amenities</th>\n",
       "      <th>Staff</th>\n",
       "      <th>OnlineBooking</th>\n",
       "      <th>PriceQuality</th>\n",
       "      <th>RoomSpace</th>\n",
       "      <th>CheckOut</th>\n",
       "      <th>Checkin</th>\n",
       "      <th>Cleanliness</th>\n",
       "      <th>BarService</th>\n",
       "    </tr>\n",
       "  </thead>\n",
       "  <tbody>\n",
       "    <tr>\n",
       "      <th>0</th>\n",
       "      <td>30000</td>\n",
       "      <td>Mr. Brandon Aguirre</td>\n",
       "      <td>yes</td>\n",
       "      <td>1956</td>\n",
       "      <td>leisure</td>\n",
       "      <td>double</td>\n",
       "      <td>5584</td>\n",
       "      <td>2</td>\n",
       "      <td>4</td>\n",
       "      <td>2</td>\n",
       "      <td>...</td>\n",
       "      <td>1</td>\n",
       "      <td>2</td>\n",
       "      <td>1</td>\n",
       "      <td>1</td>\n",
       "      <td>5</td>\n",
       "      <td>3</td>\n",
       "      <td>4</td>\n",
       "      <td>4</td>\n",
       "      <td>4</td>\n",
       "      <td>1</td>\n",
       "    </tr>\n",
       "    <tr>\n",
       "      <th>1</th>\n",
       "      <td>30001</td>\n",
       "      <td>Mr. Mathew Howard</td>\n",
       "      <td>yes</td>\n",
       "      <td>2004</td>\n",
       "      <td>leisure</td>\n",
       "      <td>double</td>\n",
       "      <td>5970</td>\n",
       "      <td>2</td>\n",
       "      <td>4</td>\n",
       "      <td>2</td>\n",
       "      <td>...</td>\n",
       "      <td>4</td>\n",
       "      <td>2</td>\n",
       "      <td>4</td>\n",
       "      <td>4</td>\n",
       "      <td>4</td>\n",
       "      <td>5</td>\n",
       "      <td>4</td>\n",
       "      <td>3</td>\n",
       "      <td>1</td>\n",
       "      <td>4</td>\n",
       "    </tr>\n",
       "    <tr>\n",
       "      <th>2</th>\n",
       "      <td>30002</td>\n",
       "      <td>Mr. Brian Peters</td>\n",
       "      <td>no</td>\n",
       "      <td>1992</td>\n",
       "      <td>business</td>\n",
       "      <td>single</td>\n",
       "      <td>5122</td>\n",
       "      <td>5</td>\n",
       "      <td>4</td>\n",
       "      <td>4</td>\n",
       "      <td>...</td>\n",
       "      <td>2</td>\n",
       "      <td>4</td>\n",
       "      <td>1</td>\n",
       "      <td>2</td>\n",
       "      <td>5</td>\n",
       "      <td>5</td>\n",
       "      <td>5</td>\n",
       "      <td>3</td>\n",
       "      <td>4</td>\n",
       "      <td>2</td>\n",
       "    </tr>\n",
       "  </tbody>\n",
       "</table>\n",
       "<p>3 rows × 21 columns</p>\n",
       "</div>"
      ],
      "text/plain": [
       "   Cust_ID                 Name Longevity  Year_Birth TypeTravel RoomType  \\\n",
       "0    30000  Mr. Brandon Aguirre       yes        1956    leisure   double   \n",
       "1    30001    Mr. Mathew Howard       yes        2004    leisure   double   \n",
       "2    30002     Mr. Brian Peters        no        1992   business   single   \n",
       "\n",
       "   RewardPoints  Comfort  ReceptionSchedule  FoodDrink  ...  Wifi  Amenities  \\\n",
       "0          5584        2                  4          2  ...     1          2   \n",
       "1          5970        2                  4          2  ...     4          2   \n",
       "2          5122        5                  4          4  ...     2          4   \n",
       "\n",
       "   Staff  OnlineBooking  PriceQuality  RoomSpace  CheckOut  Checkin  \\\n",
       "0      1              1             5          3         4        4   \n",
       "1      4              4             4          5         4        3   \n",
       "2      1              2             5          5         5        3   \n",
       "\n",
       "   Cleanliness  BarService  \n",
       "0            4           1  \n",
       "1            1           4  \n",
       "2            4           2  \n",
       "\n",
       "[3 rows x 21 columns]"
      ]
     },
     "execution_count": 8,
     "metadata": {},
     "output_type": "execute_result"
    }
   ],
   "source": [
    "test.head(3)"
   ]
  },
  {
   "cell_type": "code",
   "execution_count": 9,
   "id": "e32451cd-6085-4e7b-a843-e87b80f47b96",
   "metadata": {},
   "outputs": [
    {
     "data": {
      "text/html": [
       "<div>\n",
       "<style scoped>\n",
       "    .dataframe tbody tr th:only-of-type {\n",
       "        vertical-align: middle;\n",
       "    }\n",
       "\n",
       "    .dataframe tbody tr th {\n",
       "        vertical-align: top;\n",
       "    }\n",
       "\n",
       "    .dataframe thead th {\n",
       "        text-align: right;\n",
       "    }\n",
       "</style>\n",
       "<table border=\"1\" class=\"dataframe\">\n",
       "  <thead>\n",
       "    <tr style=\"text-align: right;\">\n",
       "      <th></th>\n",
       "      <th>Cust_ID</th>\n",
       "      <th>Name</th>\n",
       "      <th>Longevity</th>\n",
       "      <th>Year_Birth</th>\n",
       "      <th>TypeTravel</th>\n",
       "      <th>RoomType</th>\n",
       "      <th>RewardPoints</th>\n",
       "      <th>Comfort</th>\n",
       "      <th>ReceptionSchedule</th>\n",
       "      <th>FoodDrink</th>\n",
       "      <th>...</th>\n",
       "      <th>Wifi</th>\n",
       "      <th>Amenities</th>\n",
       "      <th>Staff</th>\n",
       "      <th>OnlineBooking</th>\n",
       "      <th>PriceQuality</th>\n",
       "      <th>RoomSpace</th>\n",
       "      <th>CheckOut</th>\n",
       "      <th>Checkin</th>\n",
       "      <th>Cleanliness</th>\n",
       "      <th>BarService</th>\n",
       "    </tr>\n",
       "  </thead>\n",
       "  <tbody>\n",
       "    <tr>\n",
       "      <th>5192</th>\n",
       "      <td>35192</td>\n",
       "      <td>Mr. Michael Webb</td>\n",
       "      <td>yes</td>\n",
       "      <td>1954</td>\n",
       "      <td>business</td>\n",
       "      <td>double</td>\n",
       "      <td>5373</td>\n",
       "      <td>3</td>\n",
       "      <td>1</td>\n",
       "      <td>1</td>\n",
       "      <td>...</td>\n",
       "      <td>3</td>\n",
       "      <td>3</td>\n",
       "      <td>3</td>\n",
       "      <td>3</td>\n",
       "      <td>3</td>\n",
       "      <td>4</td>\n",
       "      <td>4</td>\n",
       "      <td>1</td>\n",
       "      <td>3</td>\n",
       "      <td>3</td>\n",
       "    </tr>\n",
       "    <tr>\n",
       "      <th>5193</th>\n",
       "      <td>35193</td>\n",
       "      <td>Mr. Nathan Ray</td>\n",
       "      <td>yes</td>\n",
       "      <td>1978</td>\n",
       "      <td>leisure</td>\n",
       "      <td>double</td>\n",
       "      <td>4356</td>\n",
       "      <td>1</td>\n",
       "      <td>5</td>\n",
       "      <td>0</td>\n",
       "      <td>...</td>\n",
       "      <td>5</td>\n",
       "      <td>0</td>\n",
       "      <td>5</td>\n",
       "      <td>5</td>\n",
       "      <td>3</td>\n",
       "      <td>3</td>\n",
       "      <td>4</td>\n",
       "      <td>5</td>\n",
       "      <td>4</td>\n",
       "      <td>5</td>\n",
       "    </tr>\n",
       "    <tr>\n",
       "      <th>5194</th>\n",
       "      <td>35194</td>\n",
       "      <td>Mr. Kristopher Acosta</td>\n",
       "      <td>yes</td>\n",
       "      <td>1981</td>\n",
       "      <td>business</td>\n",
       "      <td>single</td>\n",
       "      <td>3635</td>\n",
       "      <td>1</td>\n",
       "      <td>1</td>\n",
       "      <td>1</td>\n",
       "      <td>...</td>\n",
       "      <td>3</td>\n",
       "      <td>4</td>\n",
       "      <td>4</td>\n",
       "      <td>5</td>\n",
       "      <td>5</td>\n",
       "      <td>5</td>\n",
       "      <td>5</td>\n",
       "      <td>5</td>\n",
       "      <td>5</td>\n",
       "      <td>4</td>\n",
       "    </tr>\n",
       "  </tbody>\n",
       "</table>\n",
       "<p>3 rows × 21 columns</p>\n",
       "</div>"
      ],
      "text/plain": [
       "      Cust_ID                   Name Longevity  Year_Birth TypeTravel  \\\n",
       "5192    35192       Mr. Michael Webb       yes        1954   business   \n",
       "5193    35193         Mr. Nathan Ray       yes        1978    leisure   \n",
       "5194    35194  Mr. Kristopher Acosta       yes        1981   business   \n",
       "\n",
       "     RoomType  RewardPoints  Comfort  ReceptionSchedule  FoodDrink  ...  Wifi  \\\n",
       "5192   double          5373        3                  1          1  ...     3   \n",
       "5193   double          4356        1                  5          0  ...     5   \n",
       "5194   single          3635        1                  1          1  ...     3   \n",
       "\n",
       "      Amenities  Staff  OnlineBooking  PriceQuality  RoomSpace  CheckOut  \\\n",
       "5192          3      3              3             3          4         4   \n",
       "5193          0      5              5             3          3         4   \n",
       "5194          4      4              5             5          5         5   \n",
       "\n",
       "      Checkin  Cleanliness  BarService  \n",
       "5192        1            3           3  \n",
       "5193        5            4           5  \n",
       "5194        5            5           4  \n",
       "\n",
       "[3 rows x 21 columns]"
      ]
     },
     "execution_count": 9,
     "metadata": {},
     "output_type": "execute_result"
    }
   ],
   "source": [
    "test.tail(3)"
   ]
  },
  {
   "cell_type": "markdown",
   "id": "5938be22-187c-4503-8cca-829f093b669b",
   "metadata": {},
   "source": [
    "__`Step 5`__ Check for duplicates"
   ]
  },
  {
   "cell_type": "code",
   "execution_count": 10,
   "id": "7027fc0d-a83c-464c-be1a-68ee5c876619",
   "metadata": {},
   "outputs": [
    {
     "data": {
      "text/html": [
       "<div>\n",
       "<style scoped>\n",
       "    .dataframe tbody tr th:only-of-type {\n",
       "        vertical-align: middle;\n",
       "    }\n",
       "\n",
       "    .dataframe tbody tr th {\n",
       "        vertical-align: top;\n",
       "    }\n",
       "\n",
       "    .dataframe thead th {\n",
       "        text-align: right;\n",
       "    }\n",
       "</style>\n",
       "<table border=\"1\" class=\"dataframe\">\n",
       "  <thead>\n",
       "    <tr style=\"text-align: right;\">\n",
       "      <th></th>\n",
       "      <th>Cust_ID</th>\n",
       "      <th>Churn</th>\n",
       "      <th>Name</th>\n",
       "      <th>Longevity</th>\n",
       "      <th>Year_Birth</th>\n",
       "      <th>TypeTravel</th>\n",
       "      <th>RoomType</th>\n",
       "      <th>RewardPoints</th>\n",
       "      <th>Comfort</th>\n",
       "      <th>ReceptionSchedule</th>\n",
       "      <th>...</th>\n",
       "      <th>Wifi</th>\n",
       "      <th>Amenities</th>\n",
       "      <th>Staff</th>\n",
       "      <th>OnlineBooking</th>\n",
       "      <th>PriceQuality</th>\n",
       "      <th>RoomSpace</th>\n",
       "      <th>CheckOut</th>\n",
       "      <th>Checkin</th>\n",
       "      <th>Cleanliness</th>\n",
       "      <th>BarService</th>\n",
       "    </tr>\n",
       "  </thead>\n",
       "  <tbody>\n",
       "  </tbody>\n",
       "</table>\n",
       "<p>0 rows × 22 columns</p>\n",
       "</div>"
      ],
      "text/plain": [
       "Empty DataFrame\n",
       "Columns: [Cust_ID, Churn, Name, Longevity, Year_Birth, TypeTravel, RoomType, RewardPoints, Comfort, ReceptionSchedule, FoodDrink, Location, Wifi, Amenities, Staff, OnlineBooking, PriceQuality, RoomSpace, CheckOut, Checkin, Cleanliness, BarService]\n",
       "Index: []\n",
       "\n",
       "[0 rows x 22 columns]"
      ]
     },
     "execution_count": 10,
     "metadata": {},
     "output_type": "execute_result"
    }
   ],
   "source": [
    "df[df.duplicated()]"
   ]
  },
  {
   "cell_type": "code",
   "execution_count": 11,
   "id": "8f774b0f-8d65-4a5d-ac97-e0ad82918e9f",
   "metadata": {},
   "outputs": [
    {
     "data": {
      "text/html": [
       "<div>\n",
       "<style scoped>\n",
       "    .dataframe tbody tr th:only-of-type {\n",
       "        vertical-align: middle;\n",
       "    }\n",
       "\n",
       "    .dataframe tbody tr th {\n",
       "        vertical-align: top;\n",
       "    }\n",
       "\n",
       "    .dataframe thead th {\n",
       "        text-align: right;\n",
       "    }\n",
       "</style>\n",
       "<table border=\"1\" class=\"dataframe\">\n",
       "  <thead>\n",
       "    <tr style=\"text-align: right;\">\n",
       "      <th></th>\n",
       "      <th>Cust_ID</th>\n",
       "      <th>Name</th>\n",
       "      <th>Longevity</th>\n",
       "      <th>Year_Birth</th>\n",
       "      <th>TypeTravel</th>\n",
       "      <th>RoomType</th>\n",
       "      <th>RewardPoints</th>\n",
       "      <th>Comfort</th>\n",
       "      <th>ReceptionSchedule</th>\n",
       "      <th>FoodDrink</th>\n",
       "      <th>...</th>\n",
       "      <th>Wifi</th>\n",
       "      <th>Amenities</th>\n",
       "      <th>Staff</th>\n",
       "      <th>OnlineBooking</th>\n",
       "      <th>PriceQuality</th>\n",
       "      <th>RoomSpace</th>\n",
       "      <th>CheckOut</th>\n",
       "      <th>Checkin</th>\n",
       "      <th>Cleanliness</th>\n",
       "      <th>BarService</th>\n",
       "    </tr>\n",
       "  </thead>\n",
       "  <tbody>\n",
       "  </tbody>\n",
       "</table>\n",
       "<p>0 rows × 21 columns</p>\n",
       "</div>"
      ],
      "text/plain": [
       "Empty DataFrame\n",
       "Columns: [Cust_ID, Name, Longevity, Year_Birth, TypeTravel, RoomType, RewardPoints, Comfort, ReceptionSchedule, FoodDrink, Location, Wifi, Amenities, Staff, OnlineBooking, PriceQuality, RoomSpace, CheckOut, Checkin, Cleanliness, BarService]\n",
       "Index: []\n",
       "\n",
       "[0 rows x 21 columns]"
      ]
     },
     "execution_count": 11,
     "metadata": {},
     "output_type": "execute_result"
    }
   ],
   "source": [
    "test[test.duplicated()]"
   ]
  },
  {
   "cell_type": "markdown",
   "id": "56568375-b93b-4641-8b8f-33a78bbce729",
   "metadata": {},
   "source": [
    "__`Step 6`__ Define a new index: 'Cust_ID'"
   ]
  },
  {
   "cell_type": "code",
   "execution_count": 12,
   "id": "7fb728dc-5a4c-4bd9-a3a3-f181a8dffb83",
   "metadata": {},
   "outputs": [],
   "source": [
    "df.set_index('Cust_ID', inplace = True)\n",
    "test.set_index('Cust_ID', inplace = True)"
   ]
  },
  {
   "cell_type": "markdown",
   "id": "f9204c0d-8de4-4970-87b2-e692a044038f",
   "metadata": {},
   "source": [
    "__`Step 7`__ Check column names and types"
   ]
  },
  {
   "cell_type": "code",
   "execution_count": 13,
   "id": "4b033d2a-8741-436e-9838-a76838f8dd2a",
   "metadata": {},
   "outputs": [
    {
     "name": "stdout",
     "output_type": "stream",
     "text": [
      "<class 'pandas.core.frame.DataFrame'>\n",
      "Int64Index: 15589 entries, 1 to 15589\n",
      "Data columns (total 21 columns):\n",
      " #   Column             Non-Null Count  Dtype  \n",
      "---  ------             --------------  -----  \n",
      " 0   Churn              15589 non-null  object \n",
      " 1   Name               15589 non-null  object \n",
      " 2   Longevity          15589 non-null  object \n",
      " 3   Year_Birth         15394 non-null  float64\n",
      " 4   TypeTravel         15589 non-null  object \n",
      " 5   RoomType           15589 non-null  object \n",
      " 6   RewardPoints       15589 non-null  int64  \n",
      " 7   Comfort            15589 non-null  int64  \n",
      " 8   ReceptionSchedule  15589 non-null  int64  \n",
      " 9   FoodDrink          15589 non-null  int64  \n",
      " 10  Location           15589 non-null  int64  \n",
      " 11  Wifi               15589 non-null  int64  \n",
      " 12  Amenities          15589 non-null  int64  \n",
      " 13  Staff              15589 non-null  int64  \n",
      " 14  OnlineBooking      15589 non-null  int64  \n",
      " 15  PriceQuality       15589 non-null  int64  \n",
      " 16  RoomSpace          15589 non-null  int64  \n",
      " 17  CheckOut           15589 non-null  int64  \n",
      " 18  Checkin            15589 non-null  int64  \n",
      " 19  Cleanliness        15589 non-null  int64  \n",
      " 20  BarService         15589 non-null  int64  \n",
      "dtypes: float64(1), int64(15), object(5)\n",
      "memory usage: 2.6+ MB\n"
     ]
    }
   ],
   "source": [
    "df.info()"
   ]
  },
  {
   "cell_type": "markdown",
   "id": "3958cc3c-e6c9-4aea-82d1-161ef380a13a",
   "metadata": {},
   "source": [
    "We will have to convert the datatypes \"int64\" and \"float64\" to \"int32\" and \"float32\", to increase processing speed when training the model."
   ]
  },
  {
   "cell_type": "code",
   "execution_count": 14,
   "id": "0ca801c0-ec9c-40a9-9535-fed0e45ec960",
   "metadata": {},
   "outputs": [
    {
     "name": "stdout",
     "output_type": "stream",
     "text": [
      "<class 'pandas.core.frame.DataFrame'>\n",
      "Int64Index: 5195 entries, 30000 to 35194\n",
      "Data columns (total 20 columns):\n",
      " #   Column             Non-Null Count  Dtype \n",
      "---  ------             --------------  ----- \n",
      " 0   Name               5195 non-null   object\n",
      " 1   Longevity          5195 non-null   object\n",
      " 2   Year_Birth         5195 non-null   int64 \n",
      " 3   TypeTravel         5195 non-null   object\n",
      " 4   RoomType           5195 non-null   object\n",
      " 5   RewardPoints       5195 non-null   int64 \n",
      " 6   Comfort            5195 non-null   int64 \n",
      " 7   ReceptionSchedule  5195 non-null   int64 \n",
      " 8   FoodDrink          5195 non-null   int64 \n",
      " 9   Location           5195 non-null   int64 \n",
      " 10  Wifi               5195 non-null   int64 \n",
      " 11  Amenities          5195 non-null   int64 \n",
      " 12  Staff              5195 non-null   int64 \n",
      " 13  OnlineBooking      5195 non-null   int64 \n",
      " 14  PriceQuality       5195 non-null   int64 \n",
      " 15  RoomSpace          5195 non-null   int64 \n",
      " 16  CheckOut           5195 non-null   int64 \n",
      " 17  Checkin            5195 non-null   int64 \n",
      " 18  Cleanliness        5195 non-null   int64 \n",
      " 19  BarService         5195 non-null   int64 \n",
      "dtypes: int64(16), object(4)\n",
      "memory usage: 852.3+ KB\n"
     ]
    }
   ],
   "source": [
    "test.info()"
   ]
  },
  {
   "cell_type": "markdown",
   "id": "f5c9a5d8-8cc1-423f-8fd9-d2302a6f7e98",
   "metadata": {},
   "source": [
    "__`Step 8`__ Check for null values"
   ]
  },
  {
   "cell_type": "code",
   "execution_count": 15,
   "id": "e78832f5-68b4-476b-831b-e4f8d67ee420",
   "metadata": {},
   "outputs": [
    {
     "data": {
      "text/plain": [
       "Churn                  0\n",
       "Name                   0\n",
       "Longevity              0\n",
       "Year_Birth           195\n",
       "TypeTravel             0\n",
       "RoomType               0\n",
       "RewardPoints           0\n",
       "Comfort                0\n",
       "ReceptionSchedule      0\n",
       "FoodDrink              0\n",
       "Location               0\n",
       "Wifi                   0\n",
       "Amenities              0\n",
       "Staff                  0\n",
       "OnlineBooking          0\n",
       "PriceQuality           0\n",
       "RoomSpace              0\n",
       "CheckOut               0\n",
       "Checkin                0\n",
       "Cleanliness            0\n",
       "BarService             0\n",
       "dtype: int64"
      ]
     },
     "execution_count": 15,
     "metadata": {},
     "output_type": "execute_result"
    }
   ],
   "source": [
    "df.isna().sum()"
   ]
  },
  {
   "cell_type": "code",
   "execution_count": 16,
   "id": "25357295-1302-46bd-a6bc-3fe3ca4da4b4",
   "metadata": {},
   "outputs": [
    {
     "data": {
      "text/plain": [
       "Name                 0\n",
       "Longevity            0\n",
       "Year_Birth           0\n",
       "TypeTravel           0\n",
       "RoomType             0\n",
       "RewardPoints         0\n",
       "Comfort              0\n",
       "ReceptionSchedule    0\n",
       "FoodDrink            0\n",
       "Location             0\n",
       "Wifi                 0\n",
       "Amenities            0\n",
       "Staff                0\n",
       "OnlineBooking        0\n",
       "PriceQuality         0\n",
       "RoomSpace            0\n",
       "CheckOut             0\n",
       "Checkin              0\n",
       "Cleanliness          0\n",
       "BarService           0\n",
       "dtype: int64"
      ]
     },
     "execution_count": 16,
     "metadata": {},
     "output_type": "execute_result"
    }
   ],
   "source": [
    "test.isna().sum()"
   ]
  },
  {
   "cell_type": "markdown",
   "id": "1ba27bcf-3bd5-47dc-8bbd-aecb0099f950",
   "metadata": {},
   "source": [
    "__`Step 9`__ Get descriptive statistics for numeric data"
   ]
  },
  {
   "cell_type": "code",
   "execution_count": 17,
   "id": "4431b5a8-26b4-4279-a435-ea68d60deeb4",
   "metadata": {},
   "outputs": [
    {
     "data": {
      "text/html": [
       "<div>\n",
       "<style scoped>\n",
       "    .dataframe tbody tr th:only-of-type {\n",
       "        vertical-align: middle;\n",
       "    }\n",
       "\n",
       "    .dataframe tbody tr th {\n",
       "        vertical-align: top;\n",
       "    }\n",
       "\n",
       "    .dataframe thead th {\n",
       "        text-align: right;\n",
       "    }\n",
       "</style>\n",
       "<table border=\"1\" class=\"dataframe\">\n",
       "  <thead>\n",
       "    <tr style=\"text-align: right;\">\n",
       "      <th></th>\n",
       "      <th>count</th>\n",
       "      <th>mean</th>\n",
       "      <th>std</th>\n",
       "      <th>min</th>\n",
       "      <th>25%</th>\n",
       "      <th>50%</th>\n",
       "      <th>75%</th>\n",
       "      <th>max</th>\n",
       "    </tr>\n",
       "  </thead>\n",
       "  <tbody>\n",
       "    <tr>\n",
       "      <th>Year_Birth</th>\n",
       "      <td>15394.0</td>\n",
       "      <td>1981.706444</td>\n",
       "      <td>15.179042</td>\n",
       "      <td>1936.0</td>\n",
       "      <td>1970.0</td>\n",
       "      <td>1981.0</td>\n",
       "      <td>1994.0</td>\n",
       "      <td>2014.0</td>\n",
       "    </tr>\n",
       "    <tr>\n",
       "      <th>RewardPoints</th>\n",
       "      <td>15589.0</td>\n",
       "      <td>5022.593816</td>\n",
       "      <td>1027.962379</td>\n",
       "      <td>409.0</td>\n",
       "      <td>4445.0</td>\n",
       "      <td>5088.0</td>\n",
       "      <td>5649.0</td>\n",
       "      <td>6950.0</td>\n",
       "    </tr>\n",
       "    <tr>\n",
       "      <th>Comfort</th>\n",
       "      <td>15589.0</td>\n",
       "      <td>2.841619</td>\n",
       "      <td>1.388624</td>\n",
       "      <td>0.0</td>\n",
       "      <td>2.0</td>\n",
       "      <td>3.0</td>\n",
       "      <td>4.0</td>\n",
       "      <td>5.0</td>\n",
       "    </tr>\n",
       "    <tr>\n",
       "      <th>ReceptionSchedule</th>\n",
       "      <td>15589.0</td>\n",
       "      <td>2.997242</td>\n",
       "      <td>1.518994</td>\n",
       "      <td>0.0</td>\n",
       "      <td>2.0</td>\n",
       "      <td>3.0</td>\n",
       "      <td>4.0</td>\n",
       "      <td>5.0</td>\n",
       "    </tr>\n",
       "    <tr>\n",
       "      <th>FoodDrink</th>\n",
       "      <td>15589.0</td>\n",
       "      <td>2.844570</td>\n",
       "      <td>1.436948</td>\n",
       "      <td>0.0</td>\n",
       "      <td>2.0</td>\n",
       "      <td>3.0</td>\n",
       "      <td>4.0</td>\n",
       "      <td>5.0</td>\n",
       "    </tr>\n",
       "    <tr>\n",
       "      <th>Location</th>\n",
       "      <td>15589.0</td>\n",
       "      <td>2.986016</td>\n",
       "      <td>1.299438</td>\n",
       "      <td>1.0</td>\n",
       "      <td>2.0</td>\n",
       "      <td>3.0</td>\n",
       "      <td>4.0</td>\n",
       "      <td>5.0</td>\n",
       "    </tr>\n",
       "    <tr>\n",
       "      <th>Wifi</th>\n",
       "      <td>15589.0</td>\n",
       "      <td>3.245109</td>\n",
       "      <td>1.327026</td>\n",
       "      <td>0.0</td>\n",
       "      <td>2.0</td>\n",
       "      <td>3.0</td>\n",
       "      <td>4.0</td>\n",
       "      <td>6.0</td>\n",
       "    </tr>\n",
       "    <tr>\n",
       "      <th>Amenities</th>\n",
       "      <td>15589.0</td>\n",
       "      <td>3.374816</td>\n",
       "      <td>1.352417</td>\n",
       "      <td>0.0</td>\n",
       "      <td>2.0</td>\n",
       "      <td>4.0</td>\n",
       "      <td>4.0</td>\n",
       "      <td>5.0</td>\n",
       "    </tr>\n",
       "    <tr>\n",
       "      <th>Staff</th>\n",
       "      <td>15589.0</td>\n",
       "      <td>3.506383</td>\n",
       "      <td>1.319565</td>\n",
       "      <td>1.0</td>\n",
       "      <td>3.0</td>\n",
       "      <td>4.0</td>\n",
       "      <td>5.0</td>\n",
       "      <td>5.0</td>\n",
       "    </tr>\n",
       "    <tr>\n",
       "      <th>OnlineBooking</th>\n",
       "      <td>15589.0</td>\n",
       "      <td>3.454231</td>\n",
       "      <td>1.310343</td>\n",
       "      <td>0.0</td>\n",
       "      <td>2.0</td>\n",
       "      <td>4.0</td>\n",
       "      <td>5.0</td>\n",
       "      <td>5.0</td>\n",
       "    </tr>\n",
       "    <tr>\n",
       "      <th>PriceQuality</th>\n",
       "      <td>15589.0</td>\n",
       "      <td>3.459683</td>\n",
       "      <td>1.268130</td>\n",
       "      <td>1.0</td>\n",
       "      <td>3.0</td>\n",
       "      <td>4.0</td>\n",
       "      <td>4.0</td>\n",
       "      <td>5.0</td>\n",
       "    </tr>\n",
       "    <tr>\n",
       "      <th>RoomSpace</th>\n",
       "      <td>15589.0</td>\n",
       "      <td>3.470845</td>\n",
       "      <td>1.293873</td>\n",
       "      <td>0.0</td>\n",
       "      <td>2.0</td>\n",
       "      <td>4.0</td>\n",
       "      <td>5.0</td>\n",
       "      <td>5.0</td>\n",
       "    </tr>\n",
       "    <tr>\n",
       "      <th>CheckOut</th>\n",
       "      <td>15589.0</td>\n",
       "      <td>3.700558</td>\n",
       "      <td>1.158644</td>\n",
       "      <td>1.0</td>\n",
       "      <td>3.0</td>\n",
       "      <td>4.0</td>\n",
       "      <td>5.0</td>\n",
       "      <td>5.0</td>\n",
       "    </tr>\n",
       "    <tr>\n",
       "      <th>Checkin</th>\n",
       "      <td>15589.0</td>\n",
       "      <td>3.327282</td>\n",
       "      <td>1.266872</td>\n",
       "      <td>1.0</td>\n",
       "      <td>3.0</td>\n",
       "      <td>3.0</td>\n",
       "      <td>4.0</td>\n",
       "      <td>5.0</td>\n",
       "    </tr>\n",
       "    <tr>\n",
       "      <th>Cleanliness</th>\n",
       "      <td>15589.0</td>\n",
       "      <td>3.692347</td>\n",
       "      <td>1.154437</td>\n",
       "      <td>1.0</td>\n",
       "      <td>3.0</td>\n",
       "      <td>4.0</td>\n",
       "      <td>5.0</td>\n",
       "      <td>5.0</td>\n",
       "    </tr>\n",
       "    <tr>\n",
       "      <th>BarService</th>\n",
       "      <td>15589.0</td>\n",
       "      <td>3.347360</td>\n",
       "      <td>1.300452</td>\n",
       "      <td>0.0</td>\n",
       "      <td>2.0</td>\n",
       "      <td>3.0</td>\n",
       "      <td>4.0</td>\n",
       "      <td>5.0</td>\n",
       "    </tr>\n",
       "  </tbody>\n",
       "</table>\n",
       "</div>"
      ],
      "text/plain": [
       "                     count         mean          std     min     25%     50%  \\\n",
       "Year_Birth         15394.0  1981.706444    15.179042  1936.0  1970.0  1981.0   \n",
       "RewardPoints       15589.0  5022.593816  1027.962379   409.0  4445.0  5088.0   \n",
       "Comfort            15589.0     2.841619     1.388624     0.0     2.0     3.0   \n",
       "ReceptionSchedule  15589.0     2.997242     1.518994     0.0     2.0     3.0   \n",
       "FoodDrink          15589.0     2.844570     1.436948     0.0     2.0     3.0   \n",
       "Location           15589.0     2.986016     1.299438     1.0     2.0     3.0   \n",
       "Wifi               15589.0     3.245109     1.327026     0.0     2.0     3.0   \n",
       "Amenities          15589.0     3.374816     1.352417     0.0     2.0     4.0   \n",
       "Staff              15589.0     3.506383     1.319565     1.0     3.0     4.0   \n",
       "OnlineBooking      15589.0     3.454231     1.310343     0.0     2.0     4.0   \n",
       "PriceQuality       15589.0     3.459683     1.268130     1.0     3.0     4.0   \n",
       "RoomSpace          15589.0     3.470845     1.293873     0.0     2.0     4.0   \n",
       "CheckOut           15589.0     3.700558     1.158644     1.0     3.0     4.0   \n",
       "Checkin            15589.0     3.327282     1.266872     1.0     3.0     3.0   \n",
       "Cleanliness        15589.0     3.692347     1.154437     1.0     3.0     4.0   \n",
       "BarService         15589.0     3.347360     1.300452     0.0     2.0     3.0   \n",
       "\n",
       "                      75%     max  \n",
       "Year_Birth         1994.0  2014.0  \n",
       "RewardPoints       5649.0  6950.0  \n",
       "Comfort               4.0     5.0  \n",
       "ReceptionSchedule     4.0     5.0  \n",
       "FoodDrink             4.0     5.0  \n",
       "Location              4.0     5.0  \n",
       "Wifi                  4.0     6.0  \n",
       "Amenities             4.0     5.0  \n",
       "Staff                 5.0     5.0  \n",
       "OnlineBooking         5.0     5.0  \n",
       "PriceQuality          4.0     5.0  \n",
       "RoomSpace             5.0     5.0  \n",
       "CheckOut              5.0     5.0  \n",
       "Checkin               4.0     5.0  \n",
       "Cleanliness           5.0     5.0  \n",
       "BarService            4.0     5.0  "
      ]
     },
     "execution_count": 17,
     "metadata": {},
     "output_type": "execute_result"
    }
   ],
   "source": [
    "df.describe().T"
   ]
  },
  {
   "cell_type": "markdown",
   "id": "bc731bf9-b494-4329-88e4-d4f9fa14d423",
   "metadata": {},
   "source": [
    "Besides missing values in Year_Birth, there is at least one 6.0 evaluation of the Wi-fi, on a scale from 1-5."
   ]
  },
  {
   "cell_type": "code",
   "execution_count": 18,
   "id": "45a10e5f-0e30-4f7d-9718-53e7b3626f0d",
   "metadata": {},
   "outputs": [
    {
     "data": {
      "text/html": [
       "<div>\n",
       "<style scoped>\n",
       "    .dataframe tbody tr th:only-of-type {\n",
       "        vertical-align: middle;\n",
       "    }\n",
       "\n",
       "    .dataframe tbody tr th {\n",
       "        vertical-align: top;\n",
       "    }\n",
       "\n",
       "    .dataframe thead th {\n",
       "        text-align: right;\n",
       "    }\n",
       "</style>\n",
       "<table border=\"1\" class=\"dataframe\">\n",
       "  <thead>\n",
       "    <tr style=\"text-align: right;\">\n",
       "      <th></th>\n",
       "      <th>count</th>\n",
       "      <th>mean</th>\n",
       "      <th>std</th>\n",
       "      <th>min</th>\n",
       "      <th>25%</th>\n",
       "      <th>50%</th>\n",
       "      <th>75%</th>\n",
       "      <th>max</th>\n",
       "    </tr>\n",
       "  </thead>\n",
       "  <tbody>\n",
       "    <tr>\n",
       "      <th>Year_Birth</th>\n",
       "      <td>5195.0</td>\n",
       "      <td>1981.590375</td>\n",
       "      <td>15.171122</td>\n",
       "      <td>1941.0</td>\n",
       "      <td>1970.0</td>\n",
       "      <td>1981.0</td>\n",
       "      <td>1994.0</td>\n",
       "      <td>2014.0</td>\n",
       "    </tr>\n",
       "    <tr>\n",
       "      <th>RewardPoints</th>\n",
       "      <td>5195.0</td>\n",
       "      <td>5031.689509</td>\n",
       "      <td>1026.748250</td>\n",
       "      <td>49.0</td>\n",
       "      <td>4491.0</td>\n",
       "      <td>5088.0</td>\n",
       "      <td>5640.5</td>\n",
       "      <td>6950.0</td>\n",
       "    </tr>\n",
       "    <tr>\n",
       "      <th>Comfort</th>\n",
       "      <td>5195.0</td>\n",
       "      <td>2.850626</td>\n",
       "      <td>1.384223</td>\n",
       "      <td>0.0</td>\n",
       "      <td>2.0</td>\n",
       "      <td>3.0</td>\n",
       "      <td>4.0</td>\n",
       "      <td>5.0</td>\n",
       "    </tr>\n",
       "    <tr>\n",
       "      <th>ReceptionSchedule</th>\n",
       "      <td>5195.0</td>\n",
       "      <td>3.006930</td>\n",
       "      <td>1.518196</td>\n",
       "      <td>0.0</td>\n",
       "      <td>2.0</td>\n",
       "      <td>3.0</td>\n",
       "      <td>4.0</td>\n",
       "      <td>5.0</td>\n",
       "    </tr>\n",
       "    <tr>\n",
       "      <th>FoodDrink</th>\n",
       "      <td>5195.0</td>\n",
       "      <td>2.884119</td>\n",
       "      <td>1.436115</td>\n",
       "      <td>0.0</td>\n",
       "      <td>2.0</td>\n",
       "      <td>3.0</td>\n",
       "      <td>4.0</td>\n",
       "      <td>5.0</td>\n",
       "    </tr>\n",
       "    <tr>\n",
       "      <th>Location</th>\n",
       "      <td>5195.0</td>\n",
       "      <td>3.018094</td>\n",
       "      <td>1.306090</td>\n",
       "      <td>0.0</td>\n",
       "      <td>2.0</td>\n",
       "      <td>3.0</td>\n",
       "      <td>4.0</td>\n",
       "      <td>5.0</td>\n",
       "    </tr>\n",
       "    <tr>\n",
       "      <th>Wifi</th>\n",
       "      <td>5195.0</td>\n",
       "      <td>3.265063</td>\n",
       "      <td>1.307542</td>\n",
       "      <td>0.0</td>\n",
       "      <td>2.0</td>\n",
       "      <td>3.0</td>\n",
       "      <td>4.0</td>\n",
       "      <td>5.0</td>\n",
       "    </tr>\n",
       "    <tr>\n",
       "      <th>Amenities</th>\n",
       "      <td>5195.0</td>\n",
       "      <td>3.388258</td>\n",
       "      <td>1.341690</td>\n",
       "      <td>0.0</td>\n",
       "      <td>2.0</td>\n",
       "      <td>4.0</td>\n",
       "      <td>4.0</td>\n",
       "      <td>5.0</td>\n",
       "    </tr>\n",
       "    <tr>\n",
       "      <th>Staff</th>\n",
       "      <td>5195.0</td>\n",
       "      <td>3.531473</td>\n",
       "      <td>1.303531</td>\n",
       "      <td>1.0</td>\n",
       "      <td>3.0</td>\n",
       "      <td>4.0</td>\n",
       "      <td>5.0</td>\n",
       "      <td>5.0</td>\n",
       "    </tr>\n",
       "    <tr>\n",
       "      <th>OnlineBooking</th>\n",
       "      <td>5195.0</td>\n",
       "      <td>3.476420</td>\n",
       "      <td>1.298073</td>\n",
       "      <td>0.0</td>\n",
       "      <td>3.0</td>\n",
       "      <td>4.0</td>\n",
       "      <td>5.0</td>\n",
       "      <td>5.0</td>\n",
       "    </tr>\n",
       "    <tr>\n",
       "      <th>PriceQuality</th>\n",
       "      <td>5195.0</td>\n",
       "      <td>3.454475</td>\n",
       "      <td>1.274584</td>\n",
       "      <td>1.0</td>\n",
       "      <td>3.0</td>\n",
       "      <td>4.0</td>\n",
       "      <td>4.0</td>\n",
       "      <td>5.0</td>\n",
       "    </tr>\n",
       "    <tr>\n",
       "      <th>RoomSpace</th>\n",
       "      <td>5195.0</td>\n",
       "      <td>3.497401</td>\n",
       "      <td>1.287115</td>\n",
       "      <td>0.0</td>\n",
       "      <td>2.0</td>\n",
       "      <td>4.0</td>\n",
       "      <td>5.0</td>\n",
       "      <td>5.0</td>\n",
       "    </tr>\n",
       "    <tr>\n",
       "      <th>CheckOut</th>\n",
       "      <td>5195.0</td>\n",
       "      <td>3.692204</td>\n",
       "      <td>1.155326</td>\n",
       "      <td>1.0</td>\n",
       "      <td>3.0</td>\n",
       "      <td>4.0</td>\n",
       "      <td>5.0</td>\n",
       "      <td>5.0</td>\n",
       "    </tr>\n",
       "    <tr>\n",
       "      <th>Checkin</th>\n",
       "      <td>5195.0</td>\n",
       "      <td>3.357844</td>\n",
       "      <td>1.263340</td>\n",
       "      <td>1.0</td>\n",
       "      <td>3.0</td>\n",
       "      <td>3.0</td>\n",
       "      <td>4.0</td>\n",
       "      <td>5.0</td>\n",
       "    </tr>\n",
       "    <tr>\n",
       "      <th>Cleanliness</th>\n",
       "      <td>5195.0</td>\n",
       "      <td>3.711646</td>\n",
       "      <td>1.139825</td>\n",
       "      <td>1.0</td>\n",
       "      <td>3.0</td>\n",
       "      <td>4.0</td>\n",
       "      <td>5.0</td>\n",
       "      <td>5.0</td>\n",
       "    </tr>\n",
       "    <tr>\n",
       "      <th>BarService</th>\n",
       "      <td>5195.0</td>\n",
       "      <td>3.347449</td>\n",
       "      <td>1.299407</td>\n",
       "      <td>0.0</td>\n",
       "      <td>2.0</td>\n",
       "      <td>3.0</td>\n",
       "      <td>4.0</td>\n",
       "      <td>5.0</td>\n",
       "    </tr>\n",
       "  </tbody>\n",
       "</table>\n",
       "</div>"
      ],
      "text/plain": [
       "                    count         mean          std     min     25%     50%  \\\n",
       "Year_Birth         5195.0  1981.590375    15.171122  1941.0  1970.0  1981.0   \n",
       "RewardPoints       5195.0  5031.689509  1026.748250    49.0  4491.0  5088.0   \n",
       "Comfort            5195.0     2.850626     1.384223     0.0     2.0     3.0   \n",
       "ReceptionSchedule  5195.0     3.006930     1.518196     0.0     2.0     3.0   \n",
       "FoodDrink          5195.0     2.884119     1.436115     0.0     2.0     3.0   \n",
       "Location           5195.0     3.018094     1.306090     0.0     2.0     3.0   \n",
       "Wifi               5195.0     3.265063     1.307542     0.0     2.0     3.0   \n",
       "Amenities          5195.0     3.388258     1.341690     0.0     2.0     4.0   \n",
       "Staff              5195.0     3.531473     1.303531     1.0     3.0     4.0   \n",
       "OnlineBooking      5195.0     3.476420     1.298073     0.0     3.0     4.0   \n",
       "PriceQuality       5195.0     3.454475     1.274584     1.0     3.0     4.0   \n",
       "RoomSpace          5195.0     3.497401     1.287115     0.0     2.0     4.0   \n",
       "CheckOut           5195.0     3.692204     1.155326     1.0     3.0     4.0   \n",
       "Checkin            5195.0     3.357844     1.263340     1.0     3.0     3.0   \n",
       "Cleanliness        5195.0     3.711646     1.139825     1.0     3.0     4.0   \n",
       "BarService         5195.0     3.347449     1.299407     0.0     2.0     3.0   \n",
       "\n",
       "                      75%     max  \n",
       "Year_Birth         1994.0  2014.0  \n",
       "RewardPoints       5640.5  6950.0  \n",
       "Comfort               4.0     5.0  \n",
       "ReceptionSchedule     4.0     5.0  \n",
       "FoodDrink             4.0     5.0  \n",
       "Location              4.0     5.0  \n",
       "Wifi                  4.0     5.0  \n",
       "Amenities             4.0     5.0  \n",
       "Staff                 5.0     5.0  \n",
       "OnlineBooking         5.0     5.0  \n",
       "PriceQuality          4.0     5.0  \n",
       "RoomSpace             5.0     5.0  \n",
       "CheckOut              5.0     5.0  \n",
       "Checkin               4.0     5.0  \n",
       "Cleanliness           5.0     5.0  \n",
       "BarService            4.0     5.0  "
      ]
     },
     "execution_count": 18,
     "metadata": {},
     "output_type": "execute_result"
    }
   ],
   "source": [
    "test.describe().T"
   ]
  },
  {
   "cell_type": "markdown",
   "id": "2bc778f0-bb93-4f90-a55c-75ee2fd1501a",
   "metadata": {},
   "source": [
    "__`Step 10`__ Calculate the skewness"
   ]
  },
  {
   "cell_type": "code",
   "execution_count": 19,
   "id": "355364f8-a16d-4c75-b85b-c2bbde9e5678",
   "metadata": {},
   "outputs": [
    {
     "data": {
      "text/plain": [
       "Year_Birth          -0.003847\n",
       "RewardPoints        -0.453779\n",
       "Comfort             -0.100907\n",
       "ReceptionSchedule   -0.260705\n",
       "FoodDrink           -0.123610\n",
       "Location            -0.050229\n",
       "Wifi                -0.171255\n",
       "Amenities           -0.599498\n",
       "Staff               -0.554561\n",
       "OnlineBooking       -0.472074\n",
       "PriceQuality        -0.503381\n",
       "RoomSpace           -0.482952\n",
       "CheckOut            -0.750689\n",
       "Checkin             -0.382588\n",
       "Cleanliness         -0.745131\n",
       "BarService          -0.358297\n",
       "dtype: float64"
      ]
     },
     "execution_count": 19,
     "metadata": {},
     "output_type": "execute_result"
    }
   ],
   "source": [
    "df.skew()"
   ]
  },
  {
   "cell_type": "markdown",
   "id": "cfd76f60-7d0e-43c3-a222-d0c3e968350a",
   "metadata": {},
   "source": [
    "Concerning the variables skewness, we were able to conclude the following:\n",
    "- `Moderate skewness (between |0.5| and |1.0|)`: Amenities, Staff, PriceQuality, CheckOut, Cleanliness\n",
    "- `High skewness (higher than |1.0|)`: None"
   ]
  },
  {
   "cell_type": "markdown",
   "id": "b50fa1e5-f7f4-455a-80cf-8614a3a68701",
   "metadata": {},
   "source": [
    "__`Step 11`__ Calculate the kurtosis."
   ]
  },
  {
   "cell_type": "code",
   "execution_count": 20,
   "id": "245b6f73-618c-49e4-bf3f-e9fb19b610c2",
   "metadata": {},
   "outputs": [
    {
     "data": {
      "text/plain": [
       "Year_Birth          -0.729800\n",
       "RewardPoints         0.260135\n",
       "Comfort             -0.935544\n",
       "ReceptionSchedule   -1.077243\n",
       "FoodDrink           -0.967047\n",
       "Location            -1.076583\n",
       "Wifi                -1.111251\n",
       "Amenities           -0.540657\n",
       "Staff               -0.858889\n",
       "OnlineBooking       -0.931811\n",
       "PriceQuality        -0.772663\n",
       "RoomSpace           -0.864644\n",
       "CheckOut            -0.225016\n",
       "Checkin             -0.812149\n",
       "Cleanliness         -0.225183\n",
       "BarService          -0.949765\n",
       "dtype: float64"
      ]
     },
     "execution_count": 20,
     "metadata": {},
     "output_type": "execute_result"
    }
   ],
   "source": [
    "df.kurt()"
   ]
  },
  {
   "cell_type": "markdown",
   "id": "45326639-c3dd-4af9-9c3e-3c48c99a49d4",
   "metadata": {},
   "source": [
    "Kurtosis is the average (or expected value) of the standardized data raised to the fourth power. Standardized values that are less than 1 (i.e., data within one standard deviation of the mean, where the \"peak\" would be) contribute virtually nothing to kurtosis, since raising a number that is less than 1 to the fourth power makes it closer to zero. The only data values (observed or observable) that contribute to kurtosis in any meaningful way are those outside the region of the peak; i.e., the outliers. Therefore, kurtosis measures outliers only; it measures nothing about the \"peak\"."
   ]
  },
  {
   "cell_type": "markdown",
   "id": "fe402450-fba8-496b-a717-40a360a5df4e",
   "metadata": {},
   "source": [
    "__`Step 12`__ Get descriptive statistics for categorical variables."
   ]
  },
  {
   "cell_type": "code",
   "execution_count": 21,
   "id": "bcc053f9-c4f1-4c2c-a4ef-3ace74e5e635",
   "metadata": {},
   "outputs": [
    {
     "data": {
      "text/html": [
       "<div>\n",
       "<style scoped>\n",
       "    .dataframe tbody tr th:only-of-type {\n",
       "        vertical-align: middle;\n",
       "    }\n",
       "\n",
       "    .dataframe tbody tr th {\n",
       "        vertical-align: top;\n",
       "    }\n",
       "\n",
       "    .dataframe thead th {\n",
       "        text-align: right;\n",
       "    }\n",
       "</style>\n",
       "<table border=\"1\" class=\"dataframe\">\n",
       "  <thead>\n",
       "    <tr style=\"text-align: right;\">\n",
       "      <th></th>\n",
       "      <th>count</th>\n",
       "      <th>unique</th>\n",
       "      <th>top</th>\n",
       "      <th>freq</th>\n",
       "    </tr>\n",
       "  </thead>\n",
       "  <tbody>\n",
       "    <tr>\n",
       "      <th>Churn</th>\n",
       "      <td>15589</td>\n",
       "      <td>2</td>\n",
       "      <td>nochurn</td>\n",
       "      <td>8477</td>\n",
       "    </tr>\n",
       "    <tr>\n",
       "      <th>Name</th>\n",
       "      <td>15589</td>\n",
       "      <td>14227</td>\n",
       "      <td>Mr. Michael Smith</td>\n",
       "      <td>9</td>\n",
       "    </tr>\n",
       "    <tr>\n",
       "      <th>Longevity</th>\n",
       "      <td>15589</td>\n",
       "      <td>3</td>\n",
       "      <td>yes</td>\n",
       "      <td>12548</td>\n",
       "    </tr>\n",
       "    <tr>\n",
       "      <th>TypeTravel</th>\n",
       "      <td>15589</td>\n",
       "      <td>2</td>\n",
       "      <td>business</td>\n",
       "      <td>10756</td>\n",
       "    </tr>\n",
       "    <tr>\n",
       "      <th>RoomType</th>\n",
       "      <td>15589</td>\n",
       "      <td>3</td>\n",
       "      <td>single</td>\n",
       "      <td>7442</td>\n",
       "    </tr>\n",
       "  </tbody>\n",
       "</table>\n",
       "</div>"
      ],
      "text/plain": [
       "            count unique                top   freq\n",
       "Churn       15589      2            nochurn   8477\n",
       "Name        15589  14227  Mr. Michael Smith      9\n",
       "Longevity   15589      3                yes  12548\n",
       "TypeTravel  15589      2           business  10756\n",
       "RoomType    15589      3             single   7442"
      ]
     },
     "execution_count": 21,
     "metadata": {},
     "output_type": "execute_result"
    }
   ],
   "source": [
    "df.describe(include='O').T"
   ]
  },
  {
   "cell_type": "code",
   "execution_count": 22,
   "id": "c0e69c6b-5839-4980-9140-8162fb24a0e6",
   "metadata": {},
   "outputs": [
    {
     "data": {
      "text/html": [
       "<div>\n",
       "<style scoped>\n",
       "    .dataframe tbody tr th:only-of-type {\n",
       "        vertical-align: middle;\n",
       "    }\n",
       "\n",
       "    .dataframe tbody tr th {\n",
       "        vertical-align: top;\n",
       "    }\n",
       "\n",
       "    .dataframe thead th {\n",
       "        text-align: right;\n",
       "    }\n",
       "</style>\n",
       "<table border=\"1\" class=\"dataframe\">\n",
       "  <thead>\n",
       "    <tr style=\"text-align: right;\">\n",
       "      <th></th>\n",
       "      <th>count</th>\n",
       "      <th>unique</th>\n",
       "      <th>top</th>\n",
       "      <th>freq</th>\n",
       "    </tr>\n",
       "  </thead>\n",
       "  <tbody>\n",
       "    <tr>\n",
       "      <th>Name</th>\n",
       "      <td>5195</td>\n",
       "      <td>4999</td>\n",
       "      <td>Mr. Michael Williams</td>\n",
       "      <td>6</td>\n",
       "    </tr>\n",
       "    <tr>\n",
       "      <th>Longevity</th>\n",
       "      <td>5195</td>\n",
       "      <td>2</td>\n",
       "      <td>yes</td>\n",
       "      <td>4267</td>\n",
       "    </tr>\n",
       "    <tr>\n",
       "      <th>TypeTravel</th>\n",
       "      <td>5195</td>\n",
       "      <td>2</td>\n",
       "      <td>business</td>\n",
       "      <td>3512</td>\n",
       "    </tr>\n",
       "    <tr>\n",
       "      <th>RoomType</th>\n",
       "      <td>5195</td>\n",
       "      <td>3</td>\n",
       "      <td>single</td>\n",
       "      <td>2398</td>\n",
       "    </tr>\n",
       "  </tbody>\n",
       "</table>\n",
       "</div>"
      ],
      "text/plain": [
       "           count unique                   top  freq\n",
       "Name        5195   4999  Mr. Michael Williams     6\n",
       "Longevity   5195      2                   yes  4267\n",
       "TypeTravel  5195      2              business  3512\n",
       "RoomType    5195      3                single  2398"
      ]
     },
     "execution_count": 22,
     "metadata": {},
     "output_type": "execute_result"
    }
   ],
   "source": [
    "test.describe(include='O').T"
   ]
  },
  {
   "cell_type": "markdown",
   "id": "5b99cc33-7335-425f-9cde-6098bb8c82a1",
   "metadata": {},
   "source": [
    "* In the training (df) daTaframe, 'Longevity' should have 2 unique values only.\n",
    "* Name can be used to create a binary variable called gender.\n",
    "* There are no unary variables;\n",
    "* There are no missing values."
   ]
  },
  {
   "cell_type": "markdown",
   "id": "3e19630b-af47-4048-8f2f-617fa265b210",
   "metadata": {},
   "source": [
    "__`Step 13`__ Create visualizations to look at the distribution of the input variables.\n"
   ]
  },
  {
   "cell_type": "code",
   "execution_count": 23,
   "id": "e3234952-2791-47cc-a4f2-a1bad03aa757",
   "metadata": {},
   "outputs": [
    {
     "data": {
      "text/plain": [
       "<AxesSubplot:xlabel='Year_Birth', ylabel='Count'>"
      ]
     },
     "execution_count": 23,
     "metadata": {},
     "output_type": "execute_result"
    },
    {
     "data": {
      "image/png": "[encoded data removed]",
      "text/plain": [
       "<Figure size 432x288 with 1 Axes>"
      ]
     },
     "metadata": {
      "needs_background": "light"
     },
     "output_type": "display_data"
    }
   ],
   "source": [
    "sns.histplot(df['Year_Birth'], color = 'g', bins = 10)"
   ]
  },
  {
   "cell_type": "markdown",
   "id": "cf57cbf2-57d9-49de-abe9-3309cc3bdfb7",
   "metadata": {},
   "source": [
    "The `Year_Birth` variable has low skeweness. The mean and median values are very similar. This means that it is safe to use the mean to replace missing values."
   ]
  },
  {
   "cell_type": "code",
   "execution_count": 24,
   "id": "a2561d84-dff0-472c-ab72-0e8c1483f8cd",
   "metadata": {},
   "outputs": [
    {
     "data": {
      "text/plain": [
       "<AxesSubplot:xlabel='RewardPoints', ylabel='Count'>"
      ]
     },
     "execution_count": 24,
     "metadata": {},
     "output_type": "execute_result"
    },
    {
     "data": {
      "image/png": "[encoded data removed]",
      "text/plain": [
       "<Figure size 432x288 with 1 Axes>"
      ]
     },
     "metadata": {
      "needs_background": "light"
     },
     "output_type": "display_data"
    }
   ],
   "source": [
    "sns.histplot(df['RewardPoints'], color = 'g', bins = 10)"
   ]
  },
  {
   "cell_type": "markdown",
   "id": "01796e68-ca14-4d22-a49c-85bf6343396a",
   "metadata": {},
   "source": [
    "The `RewardPoints` variable has some skweness. Maybe we can try to transform this variable, so we could normalize the distribution a little bit."
   ]
  },
  {
   "cell_type": "code",
   "execution_count": 25,
   "id": "d2c99aa4-209e-4407-8829-16521d4234bc",
   "metadata": {},
   "outputs": [
    {
     "data": {
      "text/plain": [
       "<AxesSubplot:xlabel='count', ylabel='TypeTravel'>"
      ]
     },
     "execution_count": 25,
     "metadata": {},
     "output_type": "execute_result"
    },
    {
     "data": {
      "image/png": "[encoded data removed]",
      "text/plain": [
       "<Figure size 432x288 with 1 Axes>"
      ]
     },
     "metadata": {
      "needs_background": "light"
     },
     "output_type": "display_data"
    }
   ],
   "source": [
    "sns.countplot(y = 'TypeTravel', hue = 'Churn', data = df)"
   ]
  },
  {
   "cell_type": "code",
   "execution_count": 26,
   "id": "86bff261-903b-486e-8adf-67adce30a16f",
   "metadata": {},
   "outputs": [
    {
     "data": {
      "text/plain": [
       "<AxesSubplot:xlabel='count', ylabel='RoomType'>"
      ]
     },
     "execution_count": 26,
     "metadata": {},
     "output_type": "execute_result"
    },
    {
     "data": {
      "image/png": "[encoded data removed]",
      "text/plain": [
       "<Figure size 432x288 with 1 Axes>"
      ]
     },
     "metadata": {
      "needs_background": "light"
     },
     "output_type": "display_data"
    }
   ],
   "source": [
    "sns.countplot(y = 'RoomType', hue = 'Churn', data = df)"
   ]
  },
  {
   "cell_type": "code",
   "execution_count": 27,
   "id": "ee83ccee-4ef8-4e87-bd7d-705240827da5",
   "metadata": {},
   "outputs": [
    {
     "data": {
      "text/plain": [
       "Longevity\n",
       "no     5053.0\n",
       "y      4852.0\n",
       "yes    5068.0\n",
       "Name: RewardPoints, dtype: float64"
      ]
     },
     "execution_count": 27,
     "metadata": {},
     "output_type": "execute_result"
    }
   ],
   "source": [
    "df.query('Churn == \"churn\"').groupby('Longevity')['RewardPoints'].median()"
   ]
  },
  {
   "cell_type": "markdown",
   "id": "c8713614-54d1-4743-90d8-808d3ae7acf1",
   "metadata": {},
   "source": [
    "Clients with churn are the ones with more longevity and reward points."
   ]
  },
  {
   "cell_type": "markdown",
   "id": "3a256d3f-ee10-48d8-900c-e0caff82c516",
   "metadata": {},
   "source": [
    "__`Step 14`__ Check for outliers"
   ]
  },
  {
   "cell_type": "code",
   "execution_count": 28,
   "id": "9a29d699-da0c-46ff-acf0-944b89f99b5d",
   "metadata": {},
   "outputs": [],
   "source": [
    "#import math\n",
    "#print(int(math.ceil(4.5)))\n",
    "\n",
    "#def draw_boxplots(df):\n",
    "\n",
    "#    column_num = df.describe().T.count()[0]\n",
    "\n",
    "#    fig, axes = plt.subplots(3,int(math.ceil(column_num)), figsize = (14,6))\n",
    "\n",
    "#    for column in df: \n",
    "#        if np.issubdtype(df[column], np.number): \n",
    "#            while j < 3:\n",
    "#                j += 1\n",
    "#                sns.boxplot(ax = axes[,0], data = df, x = 'Amenities')\n",
    "#                print(df[column]) # print(df[column].describe()) or whatever other stats\n",
    "\n",
    "        "
   ]
  },
  {
   "cell_type": "code",
   "execution_count": 29,
   "id": "2755017a-3b4d-4f23-9840-2ad27b96a571",
   "metadata": {},
   "outputs": [
    {
     "data": {
      "text/plain": [
       "<AxesSubplot:xlabel='Staff'>"
      ]
     },
     "execution_count": 29,
     "metadata": {},
     "output_type": "execute_result"
    },
    {
     "data": {
      "image/png": "[encoded data removed]",
      "text/plain": [
       "<Figure size 1008x432 with 2 Axes>"
      ]
     },
     "metadata": {
      "needs_background": "light"
     },
     "output_type": "display_data"
    }
   ],
   "source": [
    "fig, axes = plt.subplots(1,2, figsize = (14,6))\n",
    "sns.boxplot(ax = axes[0], data = df, x = 'Amenities')\n",
    "sns.boxplot(ax = axes[1], data = df, x = 'Staff')"
   ]
  },
  {
   "cell_type": "markdown",
   "id": "de3a537c-caf7-480f-adb7-c79d3ab6f34a",
   "metadata": {},
   "source": [
    "# <font color='#BFD72F'>4. Exploring Data</font> <a class=\"anchor\" id=\"prepare\"></a>\n",
    "\n",
    "[Back to Contents](#toc)"
   ]
  },
  {
   "cell_type": "code",
   "execution_count": 30,
   "id": "9cd4c013-cf18-4ddb-8f39-63b0263b0ab0",
   "metadata": {},
   "outputs": [],
   "source": [
    "df['Churn'] = df['Churn'].replace({'churn': 1, 'nochurn': 0})"
   ]
  },
  {
   "cell_type": "code",
   "execution_count": 31,
   "id": "9dfe2c0c-e3e8-4936-919d-dfbff6ae3f09",
   "metadata": {},
   "outputs": [
    {
     "data": {
      "text/plain": [
       "Cust_ID\n",
       "1        1\n",
       "2        0\n",
       "3        1\n",
       "4        0\n",
       "5        0\n",
       "        ..\n",
       "15585    1\n",
       "15586    1\n",
       "15587    0\n",
       "15588    0\n",
       "15589    1\n",
       "Name: Churn, Length: 15589, dtype: int32"
      ]
     },
     "execution_count": 31,
     "metadata": {},
     "output_type": "execute_result"
    }
   ],
   "source": [
    "df['Churn'].astype(int)"
   ]
  },
  {
   "cell_type": "markdown",
   "id": "fd3c3c80-2d93-402a-83f9-df7bade75810",
   "metadata": {},
   "source": [
    "__`Step 15`__ Define the independent variables as __X__ and the dependent variable as __y__."
   ]
  },
  {
   "cell_type": "code",
   "execution_count": 32,
   "id": "d8cabf06-5213-4ad1-b439-ebb28253c779",
   "metadata": {},
   "outputs": [],
   "source": [
    "X = df.drop(columns='Churn')\n",
    "y = df['Churn']"
   ]
  },
  {
   "cell_type": "markdown",
   "id": "1ffc311f-b9e9-408f-b5f1-03feee2d92b4",
   "metadata": {},
   "source": [
    "__`Step 16`__ Correct missclassifications."
   ]
  },
  {
   "cell_type": "code",
   "execution_count": 33,
   "id": "f6098249-312d-4ff9-a888-233628014800",
   "metadata": {},
   "outputs": [],
   "source": [
    "X['Longevity'] = X['Longevity'].replace('y', 'yes')\n",
    "X['Wifi'] = X['Wifi'].replace(6,5)"
   ]
  },
  {
   "cell_type": "markdown",
   "id": "87aab480-dddf-4d99-817c-326838178670",
   "metadata": {},
   "source": [
    "## 3.1. Feature Engineering <a class=\"anchor\" id=\"feateng\"></a>"
   ]
  },
  {
   "cell_type": "markdown",
   "id": "709141c4-f245-4b54-a81b-3041928f95b8",
   "metadata": {},
   "source": [
    "__`Step 17`__ Create new variables."
   ]
  },
  {
   "cell_type": "code",
   "execution_count": 34,
   "id": "013e9adb-fb49-44ab-97cf-8f68794900a0",
   "metadata": {},
   "outputs": [],
   "source": [
    "X['Gender'] = X['Name'].str.split('.', expand=True)[0].replace({'Mr':'Male', 'Ms':'Female'})"
   ]
  },
  {
   "cell_type": "code",
   "execution_count": 35,
   "id": "61b0e955-fcc0-4f77-985d-21535bab9062",
   "metadata": {},
   "outputs": [
    {
     "data": {
      "text/plain": [
       "Female    7985\n",
       "Male      7604\n",
       "Name: Gender, dtype: int64"
      ]
     },
     "execution_count": 35,
     "metadata": {},
     "output_type": "execute_result"
    }
   ],
   "source": [
    "X['Gender'].value_counts()"
   ]
  },
  {
   "cell_type": "code",
   "execution_count": 36,
   "id": "fa4af8f9-8a17-44c6-b7c8-52198a9479a2",
   "metadata": {},
   "outputs": [],
   "source": [
    "test['Gender'] = test['Name'].str.split('.', expand=True)[0].replace({'Mr':'Male', 'Ms':'Female'})"
   ]
  },
  {
   "cell_type": "code",
   "execution_count": 37,
   "id": "6e0baf37-4d4f-4637-b72e-bd4916794c25",
   "metadata": {},
   "outputs": [
    {
     "data": {
      "text/plain": [
       "Female    2632\n",
       "Male      2563\n",
       "Name: Gender, dtype: int64"
      ]
     },
     "execution_count": 37,
     "metadata": {},
     "output_type": "execute_result"
    }
   ],
   "source": [
    "test['Gender'].value_counts()"
   ]
  },
  {
   "cell_type": "code",
   "execution_count": 38,
   "id": "3c336e11-b59b-456a-befb-43d744a18db1",
   "metadata": {},
   "outputs": [
    {
     "name": "stdout",
     "output_type": "stream",
     "text": [
      "40.0    441\n",
      "26.0    416\n",
      "42.0    383\n",
      "Name: Age, dtype: int64 42    138\n",
      "26    136\n",
      "45    134\n",
      "Name: Age, dtype: int64\n"
     ]
    }
   ],
   "source": [
    "X['Age'] = (date.today().year - X['Year_Birth'])\n",
    "test['Age'] = (date.today().year - test['Year_Birth'])\n",
    "print(X['Age'].value_counts().head(3), test['Age'].value_counts().head(3))"
   ]
  },
  {
   "cell_type": "code",
   "execution_count": 39,
   "id": "14eebac1-5a6b-4c7f-a052-1db3490aa997",
   "metadata": {},
   "outputs": [
    {
     "data": {
      "text/plain": [
       "Cust_ID\n",
       "1        48.0\n",
       "2        57.0\n",
       "3        49.0\n",
       "4        29.0\n",
       "5        33.0\n",
       "         ... \n",
       "15585    34.0\n",
       "15586    22.0\n",
       "15587    58.0\n",
       "15588    30.0\n",
       "15589    39.0\n",
       "Name: Age, Length: 15589, dtype: float64"
      ]
     },
     "execution_count": 39,
     "metadata": {},
     "output_type": "execute_result"
    }
   ],
   "source": [
    "X['Age']"
   ]
  },
  {
   "cell_type": "code",
   "execution_count": 40,
   "id": "f24de4a3-636d-4711-a72d-14bd07636c0a",
   "metadata": {},
   "outputs": [],
   "source": [
    "if((X['Age']<18).any()):\n",
    "    X.loc[X['Age']<18, 'Age'] = None"
   ]
  },
  {
   "cell_type": "code",
   "execution_count": 41,
   "id": "bda24c5f-c6ea-4e5f-b44d-f79f18ec432f",
   "metadata": {},
   "outputs": [
    {
     "data": {
      "text/plain": [
       "1246"
      ]
     },
     "execution_count": 41,
     "metadata": {},
     "output_type": "execute_result"
    }
   ],
   "source": [
    "X['Age'].isna().sum()"
   ]
  },
  {
   "cell_type": "code",
   "execution_count": 42,
   "id": "dca81446-2452-4c8b-97d6-acd2cefeb29e",
   "metadata": {},
   "outputs": [],
   "source": [
    "X['Age'] = X['Age'].fillna(X['Age'].median())"
   ]
  },
  {
   "cell_type": "code",
   "execution_count": 43,
   "id": "68bedeee-7808-4706-86df-6d8b6a2b8067",
   "metadata": {},
   "outputs": [
    {
     "data": {
      "text/plain": [
       "<AxesSubplot:xlabel='Age', ylabel='Count'>"
      ]
     },
     "execution_count": 43,
     "metadata": {},
     "output_type": "execute_result"
    },
    {
     "data": {
      "image/png": "[encoded data removed]",
      "text/plain": [
       "<Figure size 432x288 with 1 Axes>"
      ]
     },
     "metadata": {
      "needs_background": "light"
     },
     "output_type": "display_data"
    }
   ],
   "source": [
    "sns.histplot(X['Age'], color = 'g', bins = 10)"
   ]
  },
  {
   "cell_type": "code",
   "execution_count": 44,
   "id": "7891e3a3-cc37-4bbe-ad2b-277800510910",
   "metadata": {},
   "outputs": [],
   "source": [
    "X = X.drop(columns=['Name','Year_Birth'])\n",
    "test = test.drop(columns=['Name', 'Year_Birth'])"
   ]
  },
  {
   "cell_type": "code",
   "execution_count": 45,
   "id": "ce7c3621-1da7-462a-a5e0-60a8fe3137b5",
   "metadata": {},
   "outputs": [
    {
     "data": {
      "text/plain": [
       "count    5195.000000\n",
       "mean        8.497879\n",
       "std         0.247917\n",
       "min         3.891820\n",
       "25%         8.409831\n",
       "50%         8.534640\n",
       "75%         8.637728\n",
       "max         8.846497\n",
       "Name: log_RewardPoints, dtype: float64"
      ]
     },
     "execution_count": 45,
     "metadata": {},
     "output_type": "execute_result"
    }
   ],
   "source": [
    "X['log_RewardPoints'] = np.log(X['RewardPoints'])\n",
    "X['log_RewardPoints'].describe()\n",
    "test['log_RewardPoints'] = np.log(test['RewardPoints'])\n",
    "test['log_RewardPoints'].describe()"
   ]
  },
  {
   "cell_type": "code",
   "execution_count": 48,
   "id": "df2ad3b4-1626-4d4d-9fba-4920a917c3e2",
   "metadata": {},
   "outputs": [],
   "source": [
    "X['avg_satisfaction'] = (X['Comfort'] + X['ReceptionSchedule'] + X['FoodDrink'] + X['Location'] + X['Wifi'] + X['Amenities'] + X['Staff'] + X['OnlineBooking'] + X['PriceQuality'] + X['RoomSpace'] + X['CheckOut'] + X['Checkin'] + X['Cleanliness'] + X['BarService'])/14\n",
    "test['avg_satisfaction'] = (test['Comfort'] + test['ReceptionSchedule'] + test['FoodDrink'] + test['Location'] + test['Wifi'] + test['Amenities'] + test['Staff'] + test['OnlineBooking'] + test['PriceQuality'] + test['RoomSpace'] + test['CheckOut'] + test['Checkin'] + test['Cleanliness'] + test['BarService'])/14\n",
    "\n",
    "X['Accommodation'] = (X['Comfort'] + X['Amenities'] + X['RoomSpace'] + X['Cleanliness'] + X['Wifi'])/5\n",
    "test['Accommodation'] = (test['Comfort'] + test['Amenities'] + test['RoomSpace'] + test['Cleanliness'] + test['Wifi'])/5\n",
    "\n",
    "X['Reception'] = (X['ReceptionSchedule'] + X['Staff'] + X['OnlineBooking'] + X['CheckOut'] + X['Checkin'])/5\n",
    "test['Reception'] = (test['ReceptionSchedule'] + test['Staff'] + test['OnlineBooking'] + test['CheckOut'] + test['Checkin'])/5\n",
    "\n",
    "X['Catering'] = (X['FoodDrink'] + X['BarService'])/2\n",
    "test['Catering'] = (test['FoodDrink'] + test['BarService'])/2"
   ]
  },
  {
   "cell_type": "code",
   "execution_count": 49,
   "id": "22615f8e-7c67-421e-b24f-6f72ae4879f6",
   "metadata": {},
   "outputs": [],
   "source": [
    "X['RewardPoints'] = X['RewardPoints'].astype('int')\n",
    "X['Comfort'] = X['Comfort'].astype('int')\n",
    "X['ReceptionSchedule'] = X['ReceptionSchedule'].astype('int')\n",
    "X['FoodDrink'] = X['FoodDrink'].astype('int')\n",
    "X['Location'] = X['Location'].astype('int')\n",
    "X['Wifi'] = X['Wifi'].astype('int')\n",
    "X['Amenities'] = X['Amenities'].astype('int')\n",
    "X['Staff'] = X['Staff'].astype('int')\n",
    "X['OnlineBooking'] = X['OnlineBooking'].astype('int')\n",
    "X['PriceQuality'] = X['PriceQuality'].astype('int')\n",
    "X['RoomSpace'] = X['RoomSpace'].astype('int')\n",
    "X['CheckOut'] = X['CheckOut'].astype('int')\n",
    "X['Checkin'] = X['Checkin'].astype('int')\n",
    "X['Cleanliness'] = X['Cleanliness'].astype('int')\n",
    "X['BarService'] = X['BarService'].astype('int')"
   ]
  },
  {
   "cell_type": "code",
   "execution_count": 50,
   "id": "31646541-e977-45c9-b1b1-0f38e053b08e",
   "metadata": {},
   "outputs": [],
   "source": [
    "X['log_RewardPoints'] = X['log_RewardPoints'].astype('float32')\n",
    "X['avg_satisfaction'] = X['avg_satisfaction'].astype('float32')\n",
    "X['Accommodation'] = X['Accommodation'].astype('float32')\n",
    "X['Reception'] = X['Reception'].astype('float32')\n",
    "X['Catering'] = X['Catering'].astype('float32')"
   ]
  },
  {
   "cell_type": "markdown",
   "id": "45c08e4f-6a57-44c5-a7ab-e9dc99c98c9d",
   "metadata": {},
   "source": [
    "__`Step 18`__ Split the dataset into train and validation."
   ]
  },
  {
   "cell_type": "code",
   "execution_count": 51,
   "id": "540dc104-c901-4f59-b05d-36dbbfe872c5",
   "metadata": {},
   "outputs": [
    {
     "name": "stdout",
     "output_type": "stream",
     "text": [
      "Class Ratio: 0.4562191288729232\n"
     ]
    }
   ],
   "source": [
    "print('Class Ratio:',\n",
    "       sum(df['Churn'])/len(df['Churn']))"
   ]
  },
  {
   "cell_type": "code",
   "execution_count": 52,
   "id": "5567e2ea-a4c7-481d-a1cf-0140485ab36c",
   "metadata": {
    "tags": []
   },
   "outputs": [],
   "source": [
    "skf = StratifiedKFold(n_splits = 7)\n",
    "counter = 0\n",
    "for train_index, val_index in skf.split(X, y):\n",
    "    counter +=1\n",
    "    X_train, X_val = X.iloc[train_index], X.iloc[val_index]\n",
    "    y_train, y_val = y.iloc[train_index], y.iloc[val_index]"
   ]
  },
  {
   "cell_type": "code",
   "execution_count": 53,
   "id": "9ada06ca-d46f-46af-b5de-9b1ad0dd2f5d",
   "metadata": {},
   "outputs": [
    {
     "name": "stdout",
     "output_type": "stream",
     "text": [
      "Class Ratio: 0.4562191288729852\n",
      "Class Ratio: 0.45621912887291904\n"
     ]
    }
   ],
   "source": [
    "print('Class Ratio:', sum(y_train/len(y_train)))\n",
    "print('Class Ratio:', sum(y_val/len(y_val)))"
   ]
  },
  {
   "cell_type": "code",
   "execution_count": 54,
   "id": "729f566b-c6c6-4165-ad68-62e6a0e075c4",
   "metadata": {},
   "outputs": [
    {
     "name": "stdout",
     "output_type": "stream",
     "text": [
      "<class 'pandas.core.frame.DataFrame'>\n",
      "Int64Index: 13362 entries, 1 to 13427\n",
      "Data columns (total 25 columns):\n",
      " #   Column             Non-Null Count  Dtype  \n",
      "---  ------             --------------  -----  \n",
      " 0   Longevity          13362 non-null  object \n",
      " 1   TypeTravel         13362 non-null  object \n",
      " 2   RoomType           13362 non-null  object \n",
      " 3   RewardPoints       13362 non-null  int32  \n",
      " 4   Comfort            13362 non-null  int32  \n",
      " 5   ReceptionSchedule  13362 non-null  int32  \n",
      " 6   FoodDrink          13362 non-null  int32  \n",
      " 7   Location           13362 non-null  int32  \n",
      " 8   Wifi               13362 non-null  int32  \n",
      " 9   Amenities          13362 non-null  int32  \n",
      " 10  Staff              13362 non-null  int32  \n",
      " 11  OnlineBooking      13362 non-null  int32  \n",
      " 12  PriceQuality       13362 non-null  int32  \n",
      " 13  RoomSpace          13362 non-null  int32  \n",
      " 14  CheckOut           13362 non-null  int32  \n",
      " 15  Checkin            13362 non-null  int32  \n",
      " 16  Cleanliness        13362 non-null  int32  \n",
      " 17  BarService         13362 non-null  int32  \n",
      " 18  Gender             13362 non-null  object \n",
      " 19  Age                13362 non-null  float64\n",
      " 20  log_RewardPoints   13362 non-null  float32\n",
      " 21  avg_satisfaction   13362 non-null  float32\n",
      " 22  Accommodation      13362 non-null  float32\n",
      " 23  Reception          13362 non-null  float32\n",
      " 24  Catering           13362 non-null  float32\n",
      "dtypes: float32(5), float64(1), int32(15), object(4)\n",
      "memory usage: 1.6+ MB\n"
     ]
    }
   ],
   "source": [
    "X_train.info()"
   ]
  },
  {
   "cell_type": "markdown",
   "id": "714becba-636a-4120-b442-a9959d035bf2",
   "metadata": {},
   "source": [
    "__`Step 20`__ Create two separate datasets, one for the numerical data and another one for the categorical data."
   ]
  },
  {
   "cell_type": "code",
   "execution_count": 55,
   "id": "043701cb-5830-43e3-af39-211f8420d94c",
   "metadata": {},
   "outputs": [],
   "source": [
    "# Numerical data\n",
    "X_train_num = X_train.select_dtypes(include=np.number).set_index(X_train.index)\n",
    "X_val_num = X_val.select_dtypes(include=np.number).set_index(X_val.index)\n",
    "\n",
    "# Categorical data\n",
    "X_train_cat = X_train.select_dtypes(exclude=np.number).set_index(X_train.index)\n",
    "X_val_cat = X_val.select_dtypes(exclude=np.number).set_index(X_val.index)"
   ]
  },
  {
   "cell_type": "markdown",
   "id": "905603ae-a677-41ca-9611-b8f81da35151",
   "metadata": {},
   "source": [
    "__`Step 21`__ Scale the numerical data."
   ]
  },
  {
   "cell_type": "code",
   "execution_count": 56,
   "id": "73b883f4-1459-44da-854b-92840b0c51f7",
   "metadata": {},
   "outputs": [
    {
     "data": {
      "text/plain": [
       "MinMaxScaler()"
      ]
     },
     "execution_count": 56,
     "metadata": {},
     "output_type": "execute_result"
    }
   ],
   "source": [
    "scaler = MinMaxScaler()\n",
    "scaler.fit(X_train_num)"
   ]
  },
  {
   "cell_type": "code",
   "execution_count": 57,
   "id": "40c6d1df-7829-42ea-afc1-25ad12b30dbf",
   "metadata": {},
   "outputs": [
    {
     "data": {
      "text/html": [
       "<div>\n",
       "<style scoped>\n",
       "    .dataframe tbody tr th:only-of-type {\n",
       "        vertical-align: middle;\n",
       "    }\n",
       "\n",
       "    .dataframe tbody tr th {\n",
       "        vertical-align: top;\n",
       "    }\n",
       "\n",
       "    .dataframe thead th {\n",
       "        text-align: right;\n",
       "    }\n",
       "</style>\n",
       "<table border=\"1\" class=\"dataframe\">\n",
       "  <thead>\n",
       "    <tr style=\"text-align: right;\">\n",
       "      <th></th>\n",
       "      <th>RewardPoints</th>\n",
       "      <th>Comfort</th>\n",
       "      <th>ReceptionSchedule</th>\n",
       "      <th>FoodDrink</th>\n",
       "      <th>Location</th>\n",
       "      <th>Wifi</th>\n",
       "      <th>Amenities</th>\n",
       "      <th>Staff</th>\n",
       "      <th>OnlineBooking</th>\n",
       "      <th>PriceQuality</th>\n",
       "      <th>...</th>\n",
       "      <th>CheckOut</th>\n",
       "      <th>Checkin</th>\n",
       "      <th>Cleanliness</th>\n",
       "      <th>BarService</th>\n",
       "      <th>Age</th>\n",
       "      <th>log_RewardPoints</th>\n",
       "      <th>avg_satisfaction</th>\n",
       "      <th>Accommodation</th>\n",
       "      <th>Reception</th>\n",
       "      <th>Catering</th>\n",
       "    </tr>\n",
       "    <tr>\n",
       "      <th>Cust_ID</th>\n",
       "      <th></th>\n",
       "      <th></th>\n",
       "      <th></th>\n",
       "      <th></th>\n",
       "      <th></th>\n",
       "      <th></th>\n",
       "      <th></th>\n",
       "      <th></th>\n",
       "      <th></th>\n",
       "      <th></th>\n",
       "      <th></th>\n",
       "      <th></th>\n",
       "      <th></th>\n",
       "      <th></th>\n",
       "      <th></th>\n",
       "      <th></th>\n",
       "      <th></th>\n",
       "      <th></th>\n",
       "      <th></th>\n",
       "      <th></th>\n",
       "      <th></th>\n",
       "    </tr>\n",
       "  </thead>\n",
       "  <tbody>\n",
       "    <tr>\n",
       "      <th>1</th>\n",
       "      <td>0.687662</td>\n",
       "      <td>0.6</td>\n",
       "      <td>0.8</td>\n",
       "      <td>0.2</td>\n",
       "      <td>0.75</td>\n",
       "      <td>0.8</td>\n",
       "      <td>0.6</td>\n",
       "      <td>0.75</td>\n",
       "      <td>0.6</td>\n",
       "      <td>0.50</td>\n",
       "      <td>...</td>\n",
       "      <td>0.50</td>\n",
       "      <td>0.75</td>\n",
       "      <td>0.50</td>\n",
       "      <td>0.8</td>\n",
       "      <td>0.441176</td>\n",
       "      <td>0.877125</td>\n",
       "      <td>0.566038</td>\n",
       "      <td>0.590909</td>\n",
       "      <td>0.666667</td>\n",
       "      <td>0.444444</td>\n",
       "    </tr>\n",
       "    <tr>\n",
       "      <th>2</th>\n",
       "      <td>0.965449</td>\n",
       "      <td>0.2</td>\n",
       "      <td>0.2</td>\n",
       "      <td>0.2</td>\n",
       "      <td>0.00</td>\n",
       "      <td>1.0</td>\n",
       "      <td>0.6</td>\n",
       "      <td>0.75</td>\n",
       "      <td>1.0</td>\n",
       "      <td>1.00</td>\n",
       "      <td>...</td>\n",
       "      <td>1.00</td>\n",
       "      <td>0.00</td>\n",
       "      <td>1.00</td>\n",
       "      <td>0.4</td>\n",
       "      <td>0.573529</td>\n",
       "      <td>0.988330</td>\n",
       "      <td>0.528302</td>\n",
       "      <td>0.727273</td>\n",
       "      <td>0.571429</td>\n",
       "      <td>0.222222</td>\n",
       "    </tr>\n",
       "    <tr>\n",
       "      <th>3</th>\n",
       "      <td>0.604800</td>\n",
       "      <td>0.6</td>\n",
       "      <td>0.6</td>\n",
       "      <td>0.6</td>\n",
       "      <td>0.50</td>\n",
       "      <td>0.2</td>\n",
       "      <td>0.8</td>\n",
       "      <td>0.75</td>\n",
       "      <td>0.6</td>\n",
       "      <td>0.50</td>\n",
       "      <td>...</td>\n",
       "      <td>0.50</td>\n",
       "      <td>0.25</td>\n",
       "      <td>0.50</td>\n",
       "      <td>0.2</td>\n",
       "      <td>0.455882</td>\n",
       "      <td>0.835807</td>\n",
       "      <td>0.415094</td>\n",
       "      <td>0.454545</td>\n",
       "      <td>0.523810</td>\n",
       "      <td>0.333333</td>\n",
       "    </tr>\n",
       "    <tr>\n",
       "      <th>4</th>\n",
       "      <td>0.525913</td>\n",
       "      <td>0.2</td>\n",
       "      <td>0.2</td>\n",
       "      <td>0.2</td>\n",
       "      <td>0.00</td>\n",
       "      <td>0.8</td>\n",
       "      <td>0.8</td>\n",
       "      <td>1.00</td>\n",
       "      <td>0.8</td>\n",
       "      <td>0.75</td>\n",
       "      <td>...</td>\n",
       "      <td>0.75</td>\n",
       "      <td>0.75</td>\n",
       "      <td>0.75</td>\n",
       "      <td>0.6</td>\n",
       "      <td>0.161765</td>\n",
       "      <td>0.791397</td>\n",
       "      <td>0.528302</td>\n",
       "      <td>0.636364</td>\n",
       "      <td>0.666667</td>\n",
       "      <td>0.333333</td>\n",
       "    </tr>\n",
       "    <tr>\n",
       "      <th>5</th>\n",
       "      <td>0.759364</td>\n",
       "      <td>0.4</td>\n",
       "      <td>0.4</td>\n",
       "      <td>0.6</td>\n",
       "      <td>0.25</td>\n",
       "      <td>1.0</td>\n",
       "      <td>1.0</td>\n",
       "      <td>1.00</td>\n",
       "      <td>1.0</td>\n",
       "      <td>1.00</td>\n",
       "      <td>...</td>\n",
       "      <td>0.75</td>\n",
       "      <td>0.00</td>\n",
       "      <td>0.50</td>\n",
       "      <td>1.0</td>\n",
       "      <td>0.220588</td>\n",
       "      <td>0.909348</td>\n",
       "      <td>0.641509</td>\n",
       "      <td>0.681818</td>\n",
       "      <td>0.619048</td>\n",
       "      <td>0.777778</td>\n",
       "    </tr>\n",
       "  </tbody>\n",
       "</table>\n",
       "<p>5 rows × 21 columns</p>\n",
       "</div>"
      ],
      "text/plain": [
       "         RewardPoints  Comfort  ReceptionSchedule  FoodDrink  Location  Wifi  \\\n",
       "Cust_ID                                                                        \n",
       "1            0.687662      0.6                0.8        0.2      0.75   0.8   \n",
       "2            0.965449      0.2                0.2        0.2      0.00   1.0   \n",
       "3            0.604800      0.6                0.6        0.6      0.50   0.2   \n",
       "4            0.525913      0.2                0.2        0.2      0.00   0.8   \n",
       "5            0.759364      0.4                0.4        0.6      0.25   1.0   \n",
       "\n",
       "         Amenities  Staff  OnlineBooking  PriceQuality  ...  CheckOut  \\\n",
       "Cust_ID                                                 ...             \n",
       "1              0.6   0.75            0.6          0.50  ...      0.50   \n",
       "2              0.6   0.75            1.0          1.00  ...      1.00   \n",
       "3              0.8   0.75            0.6          0.50  ...      0.50   \n",
       "4              0.8   1.00            0.8          0.75  ...      0.75   \n",
       "5              1.0   1.00            1.0          1.00  ...      0.75   \n",
       "\n",
       "         Checkin  Cleanliness  BarService       Age  log_RewardPoints  \\\n",
       "Cust_ID                                                                 \n",
       "1           0.75         0.50         0.8  0.441176          0.877125   \n",
       "2           0.00         1.00         0.4  0.573529          0.988330   \n",
       "3           0.25         0.50         0.2  0.455882          0.835807   \n",
       "4           0.75         0.75         0.6  0.161765          0.791397   \n",
       "5           0.00         0.50         1.0  0.220588          0.909348   \n",
       "\n",
       "         avg_satisfaction  Accommodation  Reception  Catering  \n",
       "Cust_ID                                                        \n",
       "1                0.566038       0.590909   0.666667  0.444444  \n",
       "2                0.528302       0.727273   0.571429  0.222222  \n",
       "3                0.415094       0.454545   0.523810  0.333333  \n",
       "4                0.528302       0.636364   0.666667  0.333333  \n",
       "5                0.641509       0.681818   0.619048  0.777778  \n",
       "\n",
       "[5 rows x 21 columns]"
      ]
     },
     "execution_count": 57,
     "metadata": {},
     "output_type": "execute_result"
    }
   ],
   "source": [
    "X_train_num_scaled = scaler.transform(X_train_num) # this will return an array\n",
    "X_train_num_scaled = pd.DataFrame(X_train_num_scaled, columns = X_train_num.columns, index = X_train.index) # Convert the array to a pandas dataframe\n",
    "X_train_num_scaled.head(5)"
   ]
  },
  {
   "cell_type": "code",
   "execution_count": null,
   "id": "9cd1a459-347f-4a5f-9da0-702e32754c0f",
   "metadata": {},
   "outputs": [],
   "source": []
  }
 ],
 "metadata": {
  "kernelspec": {
   "display_name": "Python 3 (ipykernel)",
   "language": "python",
   "name": "python3"
  },
  "language_info": {
   "codemirror_mode": {
    "name": "ipython",
    "version": 3
   },
   "file_extension": ".py",
   "mimetype": "text/x-python",
   "name": "python",
   "nbconvert_exporter": "python",
   "pygments_lexer": "ipython3",
   "version": "3.9.7"
  }
 },
 "nbformat": 4,
 "nbformat_minor": 5
}
