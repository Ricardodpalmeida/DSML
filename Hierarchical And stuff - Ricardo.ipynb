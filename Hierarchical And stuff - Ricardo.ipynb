{
 "cells": [
  {
   "cell_type": "code",
   "execution_count": 1,
   "id": "835ddfd9",
   "metadata": {},
   "outputs": [],
   "source": [
    "#tem packages a mais pq nqs\n",
    "\n",
    "import pandas as pd\n",
    "import numpy as np\n",
    "import matplotlib.pyplot as plt\n",
    "import seaborn as sns\n",
    "from datetime import date\n",
    "from sklearn.preprocessing import MinMaxScaler\n",
    "from sklearn import preprocessing\n",
    "import os\n",
    "from sklearn.preprocessing import StandardScaler\n",
    "from datetime import date\n",
    "from scipy.cluster.hierarchy import dendrogram, linkage"
   ]
  },
  {
   "cell_type": "code",
   "execution_count": 2,
   "id": "90051c23",
   "metadata": {},
   "outputs": [
    {
     "data": {
      "text/html": [
       "<div>\n",
       "<style scoped>\n",
       "    .dataframe tbody tr th:only-of-type {\n",
       "        vertical-align: middle;\n",
       "    }\n",
       "\n",
       "    .dataframe tbody tr th {\n",
       "        vertical-align: top;\n",
       "    }\n",
       "\n",
       "    .dataframe thead th {\n",
       "        text-align: right;\n",
       "    }\n",
       "</style>\n",
       "<table border=\"1\" class=\"dataframe\">\n",
       "  <thead>\n",
       "    <tr style=\"text-align: right;\">\n",
       "      <th></th>\n",
       "      <th>Churn</th>\n",
       "      <th>Longevity</th>\n",
       "      <th>TypeTravel</th>\n",
       "      <th>RoomType</th>\n",
       "      <th>RewardPoints</th>\n",
       "      <th>Comfort</th>\n",
       "      <th>ReceptionSchedule</th>\n",
       "      <th>FoodDrink</th>\n",
       "      <th>Location</th>\n",
       "      <th>Wifi</th>\n",
       "      <th>...</th>\n",
       "      <th>BarService</th>\n",
       "      <th>Age</th>\n",
       "      <th>Gender</th>\n",
       "      <th>avg_satisfaction</th>\n",
       "      <th>avg_accomodation</th>\n",
       "      <th>avg_reception</th>\n",
       "      <th>avg_catering</th>\n",
       "      <th>avg_key_factors</th>\n",
       "      <th>RewardPoints_bins</th>\n",
       "      <th>Age_bin</th>\n",
       "    </tr>\n",
       "  </thead>\n",
       "  <tbody>\n",
       "    <tr>\n",
       "      <th>0</th>\n",
       "      <td>churn</td>\n",
       "      <td>yes</td>\n",
       "      <td>business</td>\n",
       "      <td>single</td>\n",
       "      <td>4907.0</td>\n",
       "      <td>3.0</td>\n",
       "      <td>4.0</td>\n",
       "      <td>1.0</td>\n",
       "      <td>4.0</td>\n",
       "      <td>4.0</td>\n",
       "      <td>...</td>\n",
       "      <td>4.0</td>\n",
       "      <td>48</td>\n",
       "      <td>F</td>\n",
       "      <td>3.285714</td>\n",
       "      <td>3.2</td>\n",
       "      <td>3.6</td>\n",
       "      <td>2.5</td>\n",
       "      <td>3.5</td>\n",
       "      <td>2</td>\n",
       "      <td>Mid_adult</td>\n",
       "    </tr>\n",
       "    <tr>\n",
       "      <th>1</th>\n",
       "      <td>nochurn</td>\n",
       "      <td>yes</td>\n",
       "      <td>business</td>\n",
       "      <td>single</td>\n",
       "      <td>6724.0</td>\n",
       "      <td>1.0</td>\n",
       "      <td>1.0</td>\n",
       "      <td>1.0</td>\n",
       "      <td>1.0</td>\n",
       "      <td>5.0</td>\n",
       "      <td>...</td>\n",
       "      <td>2.0</td>\n",
       "      <td>57</td>\n",
       "      <td>M</td>\n",
       "      <td>3.142857</td>\n",
       "      <td>3.8</td>\n",
       "      <td>3.2</td>\n",
       "      <td>1.5</td>\n",
       "      <td>3.0</td>\n",
       "      <td>2</td>\n",
       "      <td>Older_adult</td>\n",
       "    </tr>\n",
       "    <tr>\n",
       "      <th>2</th>\n",
       "      <td>churn</td>\n",
       "      <td>yes</td>\n",
       "      <td>business</td>\n",
       "      <td>single</td>\n",
       "      <td>4365.0</td>\n",
       "      <td>3.0</td>\n",
       "      <td>3.0</td>\n",
       "      <td>3.0</td>\n",
       "      <td>3.0</td>\n",
       "      <td>1.0</td>\n",
       "      <td>...</td>\n",
       "      <td>1.0</td>\n",
       "      <td>49</td>\n",
       "      <td>M</td>\n",
       "      <td>2.714286</td>\n",
       "      <td>2.6</td>\n",
       "      <td>3.0</td>\n",
       "      <td>2.0</td>\n",
       "      <td>3.0</td>\n",
       "      <td>1</td>\n",
       "      <td>Mid_adult</td>\n",
       "    </tr>\n",
       "    <tr>\n",
       "      <th>3</th>\n",
       "      <td>nochurn</td>\n",
       "      <td>yes</td>\n",
       "      <td>leisure</td>\n",
       "      <td>double</td>\n",
       "      <td>3849.0</td>\n",
       "      <td>1.0</td>\n",
       "      <td>1.0</td>\n",
       "      <td>1.0</td>\n",
       "      <td>1.0</td>\n",
       "      <td>4.0</td>\n",
       "      <td>...</td>\n",
       "      <td>3.0</td>\n",
       "      <td>29</td>\n",
       "      <td>F</td>\n",
       "      <td>3.142857</td>\n",
       "      <td>3.4</td>\n",
       "      <td>3.6</td>\n",
       "      <td>2.0</td>\n",
       "      <td>2.5</td>\n",
       "      <td>1</td>\n",
       "      <td>Young_adult</td>\n",
       "    </tr>\n",
       "    <tr>\n",
       "      <th>4</th>\n",
       "      <td>nochurn</td>\n",
       "      <td>yes</td>\n",
       "      <td>business</td>\n",
       "      <td>single</td>\n",
       "      <td>5376.0</td>\n",
       "      <td>2.0</td>\n",
       "      <td>2.0</td>\n",
       "      <td>3.0</td>\n",
       "      <td>2.0</td>\n",
       "      <td>5.0</td>\n",
       "      <td>...</td>\n",
       "      <td>5.0</td>\n",
       "      <td>33</td>\n",
       "      <td>M</td>\n",
       "      <td>3.571429</td>\n",
       "      <td>3.6</td>\n",
       "      <td>3.4</td>\n",
       "      <td>4.0</td>\n",
       "      <td>3.5</td>\n",
       "      <td>2</td>\n",
       "      <td>Young_adult</td>\n",
       "    </tr>\n",
       "    <tr>\n",
       "      <th>...</th>\n",
       "      <td>...</td>\n",
       "      <td>...</td>\n",
       "      <td>...</td>\n",
       "      <td>...</td>\n",
       "      <td>...</td>\n",
       "      <td>...</td>\n",
       "      <td>...</td>\n",
       "      <td>...</td>\n",
       "      <td>...</td>\n",
       "      <td>...</td>\n",
       "      <td>...</td>\n",
       "      <td>...</td>\n",
       "      <td>...</td>\n",
       "      <td>...</td>\n",
       "      <td>...</td>\n",
       "      <td>...</td>\n",
       "      <td>...</td>\n",
       "      <td>...</td>\n",
       "      <td>...</td>\n",
       "      <td>...</td>\n",
       "      <td>...</td>\n",
       "    </tr>\n",
       "    <tr>\n",
       "      <th>15581</th>\n",
       "      <td>churn</td>\n",
       "      <td>no</td>\n",
       "      <td>business</td>\n",
       "      <td>double</td>\n",
       "      <td>4968.0</td>\n",
       "      <td>2.0</td>\n",
       "      <td>0.0</td>\n",
       "      <td>2.0</td>\n",
       "      <td>2.0</td>\n",
       "      <td>3.0</td>\n",
       "      <td>...</td>\n",
       "      <td>3.0</td>\n",
       "      <td>34</td>\n",
       "      <td>F</td>\n",
       "      <td>2.714286</td>\n",
       "      <td>3.2</td>\n",
       "      <td>2.2</td>\n",
       "      <td>2.5</td>\n",
       "      <td>3.0</td>\n",
       "      <td>2</td>\n",
       "      <td>Young_adult</td>\n",
       "    </tr>\n",
       "    <tr>\n",
       "      <th>15582</th>\n",
       "      <td>churn</td>\n",
       "      <td>no</td>\n",
       "      <td>business</td>\n",
       "      <td>double</td>\n",
       "      <td>4970.0</td>\n",
       "      <td>3.0</td>\n",
       "      <td>3.0</td>\n",
       "      <td>3.0</td>\n",
       "      <td>3.0</td>\n",
       "      <td>5.0</td>\n",
       "      <td>...</td>\n",
       "      <td>5.0</td>\n",
       "      <td>22</td>\n",
       "      <td>F</td>\n",
       "      <td>3.571429</td>\n",
       "      <td>3.2</td>\n",
       "      <td>4.0</td>\n",
       "      <td>4.0</td>\n",
       "      <td>3.0</td>\n",
       "      <td>2</td>\n",
       "      <td>Young_adult</td>\n",
       "    </tr>\n",
       "    <tr>\n",
       "      <th>15583</th>\n",
       "      <td>nochurn</td>\n",
       "      <td>yes</td>\n",
       "      <td>business</td>\n",
       "      <td>single</td>\n",
       "      <td>4046.0</td>\n",
       "      <td>1.0</td>\n",
       "      <td>1.0</td>\n",
       "      <td>1.0</td>\n",
       "      <td>1.0</td>\n",
       "      <td>3.0</td>\n",
       "      <td>...</td>\n",
       "      <td>4.0</td>\n",
       "      <td>58</td>\n",
       "      <td>M</td>\n",
       "      <td>3.214286</td>\n",
       "      <td>3.2</td>\n",
       "      <td>3.8</td>\n",
       "      <td>2.5</td>\n",
       "      <td>2.5</td>\n",
       "      <td>1</td>\n",
       "      <td>Older_adult</td>\n",
       "    </tr>\n",
       "    <tr>\n",
       "      <th>15584</th>\n",
       "      <td>nochurn</td>\n",
       "      <td>yes</td>\n",
       "      <td>leisure</td>\n",
       "      <td>double</td>\n",
       "      <td>5155.0</td>\n",
       "      <td>4.0</td>\n",
       "      <td>3.0</td>\n",
       "      <td>4.0</td>\n",
       "      <td>4.0</td>\n",
       "      <td>5.0</td>\n",
       "      <td>...</td>\n",
       "      <td>5.0</td>\n",
       "      <td>30</td>\n",
       "      <td>M</td>\n",
       "      <td>4.071429</td>\n",
       "      <td>4.4</td>\n",
       "      <td>4.0</td>\n",
       "      <td>4.5</td>\n",
       "      <td>3.0</td>\n",
       "      <td>2</td>\n",
       "      <td>Young_adult</td>\n",
       "    </tr>\n",
       "    <tr>\n",
       "      <th>15585</th>\n",
       "      <td>churn</td>\n",
       "      <td>yes</td>\n",
       "      <td>business</td>\n",
       "      <td>suite</td>\n",
       "      <td>5136.0</td>\n",
       "      <td>3.0</td>\n",
       "      <td>3.0</td>\n",
       "      <td>3.0</td>\n",
       "      <td>3.0</td>\n",
       "      <td>3.0</td>\n",
       "      <td>...</td>\n",
       "      <td>3.0</td>\n",
       "      <td>39</td>\n",
       "      <td>M</td>\n",
       "      <td>3.142857</td>\n",
       "      <td>3.4</td>\n",
       "      <td>2.8</td>\n",
       "      <td>3.0</td>\n",
       "      <td>3.5</td>\n",
       "      <td>2</td>\n",
       "      <td>Mid_adult</td>\n",
       "    </tr>\n",
       "  </tbody>\n",
       "</table>\n",
       "<p>15586 rows × 28 columns</p>\n",
       "</div>"
      ],
      "text/plain": [
       "         Churn Longevity TypeTravel RoomType  RewardPoints  Comfort  \\\n",
       "0        churn       yes   business   single        4907.0      3.0   \n",
       "1      nochurn       yes   business   single        6724.0      1.0   \n",
       "2        churn       yes   business   single        4365.0      3.0   \n",
       "3      nochurn       yes    leisure   double        3849.0      1.0   \n",
       "4      nochurn       yes   business   single        5376.0      2.0   \n",
       "...        ...       ...        ...      ...           ...      ...   \n",
       "15581    churn        no   business   double        4968.0      2.0   \n",
       "15582    churn        no   business   double        4970.0      3.0   \n",
       "15583  nochurn       yes   business   single        4046.0      1.0   \n",
       "15584  nochurn       yes    leisure   double        5155.0      4.0   \n",
       "15585    churn       yes   business    suite        5136.0      3.0   \n",
       "\n",
       "       ReceptionSchedule  FoodDrink  Location  Wifi  ...  BarService  Age  \\\n",
       "0                    4.0        1.0       4.0   4.0  ...         4.0   48   \n",
       "1                    1.0        1.0       1.0   5.0  ...         2.0   57   \n",
       "2                    3.0        3.0       3.0   1.0  ...         1.0   49   \n",
       "3                    1.0        1.0       1.0   4.0  ...         3.0   29   \n",
       "4                    2.0        3.0       2.0   5.0  ...         5.0   33   \n",
       "...                  ...        ...       ...   ...  ...         ...  ...   \n",
       "15581                0.0        2.0       2.0   3.0  ...         3.0   34   \n",
       "15582                3.0        3.0       3.0   5.0  ...         5.0   22   \n",
       "15583                1.0        1.0       1.0   3.0  ...         4.0   58   \n",
       "15584                3.0        4.0       4.0   5.0  ...         5.0   30   \n",
       "15585                3.0        3.0       3.0   3.0  ...         3.0   39   \n",
       "\n",
       "       Gender  avg_satisfaction  avg_accomodation  avg_reception  \\\n",
       "0           F          3.285714               3.2            3.6   \n",
       "1           M          3.142857               3.8            3.2   \n",
       "2           M          2.714286               2.6            3.0   \n",
       "3           F          3.142857               3.4            3.6   \n",
       "4           M          3.571429               3.6            3.4   \n",
       "...       ...               ...               ...            ...   \n",
       "15581       F          2.714286               3.2            2.2   \n",
       "15582       F          3.571429               3.2            4.0   \n",
       "15583       M          3.214286               3.2            3.8   \n",
       "15584       M          4.071429               4.4            4.0   \n",
       "15585       M          3.142857               3.4            2.8   \n",
       "\n",
       "       avg_catering  avg_key_factors  RewardPoints_bins      Age_bin  \n",
       "0               2.5              3.5                  2    Mid_adult  \n",
       "1               1.5              3.0                  2  Older_adult  \n",
       "2               2.0              3.0                  1    Mid_adult  \n",
       "3               2.0              2.5                  1  Young_adult  \n",
       "4               4.0              3.5                  2  Young_adult  \n",
       "...             ...              ...                ...          ...  \n",
       "15581           2.5              3.0                  2  Young_adult  \n",
       "15582           4.0              3.0                  2  Young_adult  \n",
       "15583           2.5              2.5                  1  Older_adult  \n",
       "15584           4.5              3.0                  2  Young_adult  \n",
       "15585           3.0              3.5                  2    Mid_adult  \n",
       "\n",
       "[15586 rows x 28 columns]"
      ]
     },
     "execution_count": 2,
     "metadata": {},
     "output_type": "execute_result"
    }
   ],
   "source": [
    "df = pd.read_csv('ultimate_dataset.csv')\n",
    "df.drop(columns='Unnamed: 0', inplace = True)\n",
    "df.reset_index(inplace = True, drop = True)\n",
    "df"
   ]
  },
  {
   "cell_type": "code",
   "execution_count": 3,
   "id": "9f32be29",
   "metadata": {},
   "outputs": [],
   "source": [
    "df.drop_duplicates(inplace = True)"
   ]
  },
  {
   "cell_type": "code",
   "execution_count": 4,
   "id": "76f1affd",
   "metadata": {},
   "outputs": [],
   "source": [
    "cl = df[['TypeTravel', 'Churn','Longevity']]"
   ]
  },
  {
   "cell_type": "code",
   "execution_count": 5,
   "id": "068726d7",
   "metadata": {
    "scrolled": true
   },
   "outputs": [
    {
     "name": "stdout",
     "output_type": "stream",
     "text": [
      "<class 'pandas.core.frame.DataFrame'>\n",
      "Int64Index: 15586 entries, 0 to 15585\n",
      "Data columns (total 3 columns):\n",
      " #   Column      Non-Null Count  Dtype \n",
      "---  ------      --------------  ----- \n",
      " 0   TypeTravel  15586 non-null  object\n",
      " 1   Churn       15586 non-null  object\n",
      " 2   Longevity   15586 non-null  object\n",
      "dtypes: object(3)\n",
      "memory usage: 487.1+ KB\n"
     ]
    }
   ],
   "source": [
    "cl.info()"
   ]
  },
  {
   "cell_type": "code",
   "execution_count": 7,
   "id": "32e4d1c9",
   "metadata": {
    "scrolled": false
   },
   "outputs": [],
   "source": [
    "#sns.histplot(data=cl, x='Age')"
   ]
  },
  {
   "cell_type": "code",
   "execution_count": 8,
   "id": "46ac14e7",
   "metadata": {},
   "outputs": [],
   "source": [
    "cl2 = pd.get_dummies(cl, drop_first = True)"
   ]
  },
  {
   "cell_type": "code",
   "execution_count": 9,
   "id": "9feaf530",
   "metadata": {},
   "outputs": [
    {
     "data": {
      "text/html": [
       "<div>\n",
       "<style scoped>\n",
       "    .dataframe tbody tr th:only-of-type {\n",
       "        vertical-align: middle;\n",
       "    }\n",
       "\n",
       "    .dataframe tbody tr th {\n",
       "        vertical-align: top;\n",
       "    }\n",
       "\n",
       "    .dataframe thead th {\n",
       "        text-align: right;\n",
       "    }\n",
       "</style>\n",
       "<table border=\"1\" class=\"dataframe\">\n",
       "  <thead>\n",
       "    <tr style=\"text-align: right;\">\n",
       "      <th></th>\n",
       "      <th>TypeTravel_leisure</th>\n",
       "      <th>Churn_nochurn</th>\n",
       "      <th>Longevity_yes</th>\n",
       "    </tr>\n",
       "  </thead>\n",
       "  <tbody>\n",
       "    <tr>\n",
       "      <th>0</th>\n",
       "      <td>0</td>\n",
       "      <td>0</td>\n",
       "      <td>1</td>\n",
       "    </tr>\n",
       "    <tr>\n",
       "      <th>1</th>\n",
       "      <td>0</td>\n",
       "      <td>1</td>\n",
       "      <td>1</td>\n",
       "    </tr>\n",
       "    <tr>\n",
       "      <th>2</th>\n",
       "      <td>0</td>\n",
       "      <td>0</td>\n",
       "      <td>1</td>\n",
       "    </tr>\n",
       "    <tr>\n",
       "      <th>3</th>\n",
       "      <td>1</td>\n",
       "      <td>1</td>\n",
       "      <td>1</td>\n",
       "    </tr>\n",
       "    <tr>\n",
       "      <th>4</th>\n",
       "      <td>0</td>\n",
       "      <td>1</td>\n",
       "      <td>1</td>\n",
       "    </tr>\n",
       "    <tr>\n",
       "      <th>...</th>\n",
       "      <td>...</td>\n",
       "      <td>...</td>\n",
       "      <td>...</td>\n",
       "    </tr>\n",
       "    <tr>\n",
       "      <th>15581</th>\n",
       "      <td>0</td>\n",
       "      <td>0</td>\n",
       "      <td>0</td>\n",
       "    </tr>\n",
       "    <tr>\n",
       "      <th>15582</th>\n",
       "      <td>0</td>\n",
       "      <td>0</td>\n",
       "      <td>0</td>\n",
       "    </tr>\n",
       "    <tr>\n",
       "      <th>15583</th>\n",
       "      <td>0</td>\n",
       "      <td>1</td>\n",
       "      <td>1</td>\n",
       "    </tr>\n",
       "    <tr>\n",
       "      <th>15584</th>\n",
       "      <td>1</td>\n",
       "      <td>1</td>\n",
       "      <td>1</td>\n",
       "    </tr>\n",
       "    <tr>\n",
       "      <th>15585</th>\n",
       "      <td>0</td>\n",
       "      <td>0</td>\n",
       "      <td>1</td>\n",
       "    </tr>\n",
       "  </tbody>\n",
       "</table>\n",
       "<p>15586 rows × 3 columns</p>\n",
       "</div>"
      ],
      "text/plain": [
       "       TypeTravel_leisure  Churn_nochurn  Longevity_yes\n",
       "0                       0              0              1\n",
       "1                       0              1              1\n",
       "2                       0              0              1\n",
       "3                       1              1              1\n",
       "4                       0              1              1\n",
       "...                   ...            ...            ...\n",
       "15581                   0              0              0\n",
       "15582                   0              0              0\n",
       "15583                   0              1              1\n",
       "15584                   1              1              1\n",
       "15585                   0              0              1\n",
       "\n",
       "[15586 rows x 3 columns]"
      ]
     },
     "execution_count": 9,
     "metadata": {},
     "output_type": "execute_result"
    }
   ],
   "source": [
    "cl2"
   ]
  },
  {
   "cell_type": "code",
   "execution_count": 10,
   "id": "502dc9a7",
   "metadata": {},
   "outputs": [
    {
     "data": {
      "text/html": [
       "<div>\n",
       "<style scoped>\n",
       "    .dataframe tbody tr th:only-of-type {\n",
       "        vertical-align: middle;\n",
       "    }\n",
       "\n",
       "    .dataframe tbody tr th {\n",
       "        vertical-align: top;\n",
       "    }\n",
       "\n",
       "    .dataframe thead th {\n",
       "        text-align: right;\n",
       "    }\n",
       "</style>\n",
       "<table border=\"1\" class=\"dataframe\">\n",
       "  <thead>\n",
       "    <tr style=\"text-align: right;\">\n",
       "      <th></th>\n",
       "      <th>TypeTravel_leisure</th>\n",
       "      <th>Churn_nochurn</th>\n",
       "      <th>Longevity_yes</th>\n",
       "    </tr>\n",
       "  </thead>\n",
       "  <tbody>\n",
       "    <tr>\n",
       "      <th>TypeTravel_leisure</th>\n",
       "      <td>1.000000</td>\n",
       "      <td>-0.111528</td>\n",
       "      <td>0.310139</td>\n",
       "    </tr>\n",
       "    <tr>\n",
       "      <th>Churn_nochurn</th>\n",
       "      <td>-0.111528</td>\n",
       "      <td>1.000000</td>\n",
       "      <td>0.290229</td>\n",
       "    </tr>\n",
       "    <tr>\n",
       "      <th>Longevity_yes</th>\n",
       "      <td>0.310139</td>\n",
       "      <td>0.290229</td>\n",
       "      <td>1.000000</td>\n",
       "    </tr>\n",
       "  </tbody>\n",
       "</table>\n",
       "</div>"
      ],
      "text/plain": [
       "                    TypeTravel_leisure  Churn_nochurn  Longevity_yes\n",
       "TypeTravel_leisure            1.000000      -0.111528       0.310139\n",
       "Churn_nochurn                -0.111528       1.000000       0.290229\n",
       "Longevity_yes                 0.310139       0.290229       1.000000"
      ]
     },
     "execution_count": 10,
     "metadata": {},
     "output_type": "execute_result"
    }
   ],
   "source": [
    "cl2.corr()"
   ]
  },
  {
   "cell_type": "code",
   "execution_count": 11,
   "id": "c50cbda6",
   "metadata": {},
   "outputs": [
    {
     "data": {
      "text/html": [
       "<div>\n",
       "<style scoped>\n",
       "    .dataframe tbody tr th:only-of-type {\n",
       "        vertical-align: middle;\n",
       "    }\n",
       "\n",
       "    .dataframe tbody tr th {\n",
       "        vertical-align: top;\n",
       "    }\n",
       "\n",
       "    .dataframe thead th {\n",
       "        text-align: right;\n",
       "    }\n",
       "</style>\n",
       "<table border=\"1\" class=\"dataframe\">\n",
       "  <thead>\n",
       "    <tr style=\"text-align: right;\">\n",
       "      <th></th>\n",
       "      <th>count</th>\n",
       "      <th>mean</th>\n",
       "      <th>std</th>\n",
       "      <th>min</th>\n",
       "      <th>25%</th>\n",
       "      <th>50%</th>\n",
       "      <th>75%</th>\n",
       "      <th>max</th>\n",
       "    </tr>\n",
       "  </thead>\n",
       "  <tbody>\n",
       "    <tr>\n",
       "      <th>TypeTravel_leisure</th>\n",
       "      <td>15586.0</td>\n",
       "      <td>0.310022</td>\n",
       "      <td>0.462517</td>\n",
       "      <td>0.0</td>\n",
       "      <td>0.0</td>\n",
       "      <td>0.0</td>\n",
       "      <td>1.0</td>\n",
       "      <td>1.0</td>\n",
       "    </tr>\n",
       "    <tr>\n",
       "      <th>Churn_nochurn</th>\n",
       "      <td>15586.0</td>\n",
       "      <td>0.543757</td>\n",
       "      <td>0.498098</td>\n",
       "      <td>0.0</td>\n",
       "      <td>0.0</td>\n",
       "      <td>1.0</td>\n",
       "      <td>1.0</td>\n",
       "      <td>1.0</td>\n",
       "    </tr>\n",
       "    <tr>\n",
       "      <th>Longevity_yes</th>\n",
       "      <td>15586.0</td>\n",
       "      <td>0.815604</td>\n",
       "      <td>0.387819</td>\n",
       "      <td>0.0</td>\n",
       "      <td>1.0</td>\n",
       "      <td>1.0</td>\n",
       "      <td>1.0</td>\n",
       "      <td>1.0</td>\n",
       "    </tr>\n",
       "  </tbody>\n",
       "</table>\n",
       "</div>"
      ],
      "text/plain": [
       "                      count      mean       std  min  25%  50%  75%  max\n",
       "TypeTravel_leisure  15586.0  0.310022  0.462517  0.0  0.0  0.0  1.0  1.0\n",
       "Churn_nochurn       15586.0  0.543757  0.498098  0.0  0.0  1.0  1.0  1.0\n",
       "Longevity_yes       15586.0  0.815604  0.387819  0.0  1.0  1.0  1.0  1.0"
      ]
     },
     "execution_count": 11,
     "metadata": {},
     "output_type": "execute_result"
    }
   ],
   "source": [
    "cl2.describe().T"
   ]
  },
  {
   "cell_type": "code",
   "execution_count": 12,
   "id": "4e6ea8dd",
   "metadata": {},
   "outputs": [],
   "source": [
    "cl2 = pd.get_dummies(cl, drop_first = True)"
   ]
  },
  {
   "cell_type": "code",
   "execution_count": 13,
   "id": "80be1dc9",
   "metadata": {},
   "outputs": [
    {
     "data": {
      "text/html": [
       "<div>\n",
       "<style scoped>\n",
       "    .dataframe tbody tr th:only-of-type {\n",
       "        vertical-align: middle;\n",
       "    }\n",
       "\n",
       "    .dataframe tbody tr th {\n",
       "        vertical-align: top;\n",
       "    }\n",
       "\n",
       "    .dataframe thead th {\n",
       "        text-align: right;\n",
       "    }\n",
       "</style>\n",
       "<table border=\"1\" class=\"dataframe\">\n",
       "  <thead>\n",
       "    <tr style=\"text-align: right;\">\n",
       "      <th></th>\n",
       "      <th>TypeTravel_leisure</th>\n",
       "      <th>Churn_nochurn</th>\n",
       "      <th>Longevity_yes</th>\n",
       "    </tr>\n",
       "  </thead>\n",
       "  <tbody>\n",
       "    <tr>\n",
       "      <th>TypeTravel_leisure</th>\n",
       "      <td>1.000000</td>\n",
       "      <td>-0.111528</td>\n",
       "      <td>0.310139</td>\n",
       "    </tr>\n",
       "    <tr>\n",
       "      <th>Churn_nochurn</th>\n",
       "      <td>-0.111528</td>\n",
       "      <td>1.000000</td>\n",
       "      <td>0.290229</td>\n",
       "    </tr>\n",
       "    <tr>\n",
       "      <th>Longevity_yes</th>\n",
       "      <td>0.310139</td>\n",
       "      <td>0.290229</td>\n",
       "      <td>1.000000</td>\n",
       "    </tr>\n",
       "  </tbody>\n",
       "</table>\n",
       "</div>"
      ],
      "text/plain": [
       "                    TypeTravel_leisure  Churn_nochurn  Longevity_yes\n",
       "TypeTravel_leisure            1.000000      -0.111528       0.310139\n",
       "Churn_nochurn                -0.111528       1.000000       0.290229\n",
       "Longevity_yes                 0.310139       0.290229       1.000000"
      ]
     },
     "execution_count": 13,
     "metadata": {},
     "output_type": "execute_result"
    }
   ],
   "source": [
    "cl2.corr()"
   ]
  },
  {
   "cell_type": "code",
   "execution_count": 14,
   "id": "e3bf61d6",
   "metadata": {},
   "outputs": [
    {
     "data": {
      "text/plain": [
       "Text(0.5, 1.0, 'Correlation Heats')"
      ]
     },
     "execution_count": 14,
     "metadata": {},
     "output_type": "execute_result"
    },
    {
     "data": {
      "image/png": "[encoded data removed]",
      "text/plain": [
       "<Figure size 864x648 with 2 Axes>"
      ]
     },
     "metadata": {
      "needs_background": "light"
     },
     "output_type": "display_data"
    }
   ],
   "source": [
    "plt.figure(figsize=(12,9))\n",
    "s= sns.heatmap(cl2.corr(),\n",
    "               annot=True,\n",
    "               cmap='RdBu',\n",
    "               vmin=-1,\n",
    "               vmax=1)\n",
    "s.set_yticklabels(s.get_yticklabels(), rotation=0, fontsize=12)\n",
    "s.set_xticklabels(s.get_xticklabels(), rotation=90, fontsize=12)\n",
    "plt.title('Correlation Heats')"
   ]
  },
  {
   "cell_type": "code",
   "execution_count": 15,
   "id": "f3915da3",
   "metadata": {},
   "outputs": [],
   "source": [
    "scaler = StandardScaler()\n",
    "cl2_stand = scaler.fit_transform(cl2)"
   ]
  },
  {
   "cell_type": "code",
   "execution_count": 16,
   "id": "3d0d5776",
   "metadata": {},
   "outputs": [],
   "source": [
    "hier_clust = linkage(cl2_stand, method = 'ward')"
   ]
  },
  {
   "cell_type": "code",
   "execution_count": 17,
   "id": "7e65e7f0",
   "metadata": {},
   "outputs": [
    {
     "data": {
      "text/plain": [
       "array([[-0.67031424, -1.09170303,  0.47548458],\n",
       "       [-0.67031424,  0.91600003,  0.47548458],\n",
       "       [-0.67031424, -1.09170303,  0.47548458],\n",
       "       ...,\n",
       "       [-0.67031424,  0.91600003,  0.47548458],\n",
       "       [ 1.49183762,  0.91600003,  0.47548458],\n",
       "       [-0.67031424, -1.09170303,  0.47548458]])"
      ]
     },
     "execution_count": 17,
     "metadata": {},
     "output_type": "execute_result"
    }
   ],
   "source": [
    "cl2_stand"
   ]
  },
  {
   "cell_type": "code",
   "execution_count": 18,
   "id": "26db700e",
   "metadata": {},
   "outputs": [
    {
     "data": {
      "image/png": "[encoded data removed]",
      "text/plain": [
       "<Figure size 864x648 with 1 Axes>"
      ]
     },
     "metadata": {
      "needs_background": "light"
     },
     "output_type": "display_data"
    }
   ],
   "source": [
    "plt.figure(figsize = (12,9))\n",
    "plt.title('Hierarchical Clustering Dendogram')\n",
    "plt.xlabel('Observations')\n",
    "plt.ylabel('Distance')\n",
    "dendrogram(hier_clust,\n",
    "         truncate_mode = 'level',\n",
    "         p=5,\n",
    "         show_leaf_counts= False,\n",
    "         no_labels= True)\n",
    "         #color_threshold= 0)\n",
    "\n",
    "plt.show()"
   ]
  },
  {
   "cell_type": "code",
   "execution_count": 19,
   "id": "7f2f9429",
   "metadata": {},
   "outputs": [],
   "source": [
    "from sklearn import datasets\n",
    "from sklearn.cluster import KMeans\n",
    "import sklearn.metrics as sm\n",
    "from sklearn.preprocessing import LabelEncoder\n",
    "from sklearn.cluster import KMeans\n",
    "from sklearn.cluster import AgglomerativeClustering\n",
    "from sklearn.metrics import silhouette_score\n",
    "from sklearn.metrics import adjusted_rand_score"
   ]
  },
  {
   "cell_type": "code",
   "execution_count": 20,
   "id": "1cfaac37",
   "metadata": {},
   "outputs": [
    {
     "name": "stderr",
     "output_type": "stream",
     "text": [
      "C:\\Users\\ricar\\AppData\\Local\\Temp/ipykernel_6628/591438661.py:4: ConvergenceWarning: Number of distinct clusters (8) found smaller than n_clusters (9). Possibly due to duplicate points in X.\n",
      "  model.fit(cl2_stand)\n"
     ]
    }
   ],
   "source": [
    "ssd = []\n",
    "for k in range(2,10):\n",
    "    model = KMeans(n_clusters=k)\n",
    "    model.fit(cl2_stand)\n",
    "    \n",
    "    \n",
    "    ssd.append(model.inertia_) ##SSD point to cluster center"
   ]
  },
  {
   "cell_type": "code",
   "execution_count": 21,
   "id": "f737610d",
   "metadata": {},
   "outputs": [
    {
     "data": {
      "text/plain": [
       "[28359.991000938793,\n",
       " 13685.694176749274,\n",
       " 7040.966139104713,\n",
       " 2222.143466246001,\n",
       " 111.13493683101385,\n",
       " 7.389931164577103,\n",
       " 4.357966668027755e-25,\n",
       " 4.195610958605185e-25]"
      ]
     },
     "execution_count": 21,
     "metadata": {},
     "output_type": "execute_result"
    }
   ],
   "source": [
    "ssd"
   ]
  },
  {
   "cell_type": "code",
   "execution_count": 22,
   "id": "14294ecf",
   "metadata": {},
   "outputs": [
    {
     "data": {
      "text/plain": [
       "[<matplotlib.lines.Line2D at 0x1fcab402190>]"
      ]
     },
     "execution_count": 22,
     "metadata": {},
     "output_type": "execute_result"
    },
    {
     "data": {
      "image/png": "[encoded data removed]",
      "text/plain": [
       "<Figure size 432x288 with 1 Axes>"
      ]
     },
     "metadata": {
      "needs_background": "light"
     },
     "output_type": "display_data"
    }
   ],
   "source": [
    "plt.plot(range(2,10), ssd, 'o--')"
   ]
  },
  {
   "cell_type": "code",
   "execution_count": 23,
   "id": "b7b438bd",
   "metadata": {},
   "outputs": [
    {
     "data": {
      "text/plain": [
       "<AxesSubplot:>"
      ]
     },
     "execution_count": 23,
     "metadata": {},
     "output_type": "execute_result"
    },
    {
     "data": {
      "image/png": "[encoded data removed]",
      "text/plain": [
       "<Figure size 432x288 with 1 Axes>"
      ]
     },
     "metadata": {
      "needs_background": "light"
     },
     "output_type": "display_data"
    }
   ],
   "source": [
    "pd.Series(ssd).diff().plot(kind='bar')"
   ]
  },
  {
   "cell_type": "code",
   "execution_count": 24,
   "id": "079d265e",
   "metadata": {},
   "outputs": [],
   "source": [
    "model = KMeans(n_clusters=3)"
   ]
  },
  {
   "cell_type": "code",
   "execution_count": 25,
   "id": "9a0a05da",
   "metadata": {},
   "outputs": [],
   "source": [
    "cluster_labels = model.fit_predict(cl2_stand)"
   ]
  },
  {
   "cell_type": "code",
   "execution_count": 26,
   "id": "8c5bf499",
   "metadata": {},
   "outputs": [
    {
     "data": {
      "text/plain": [
       "array([1, 1, 1, ..., 1, 0, 1])"
      ]
     },
     "execution_count": 26,
     "metadata": {},
     "output_type": "execute_result"
    }
   ],
   "source": [
    "cluster_labels"
   ]
  },
  {
   "cell_type": "code",
   "execution_count": 27,
   "id": "d1e5b9e7",
   "metadata": {},
   "outputs": [],
   "source": [
    "cl2['Cluster'] = cluster_labels"
   ]
  },
  {
   "cell_type": "code",
   "execution_count": 28,
   "id": "df3b9703",
   "metadata": {},
   "outputs": [
    {
     "data": {
      "text/html": [
       "<div>\n",
       "<style scoped>\n",
       "    .dataframe tbody tr th:only-of-type {\n",
       "        vertical-align: middle;\n",
       "    }\n",
       "\n",
       "    .dataframe tbody tr th {\n",
       "        vertical-align: top;\n",
       "    }\n",
       "\n",
       "    .dataframe thead th {\n",
       "        text-align: right;\n",
       "    }\n",
       "</style>\n",
       "<table border=\"1\" class=\"dataframe\">\n",
       "  <thead>\n",
       "    <tr style=\"text-align: right;\">\n",
       "      <th></th>\n",
       "      <th>TypeTravel_leisure</th>\n",
       "      <th>Churn_nochurn</th>\n",
       "      <th>Longevity_yes</th>\n",
       "      <th>Cluster</th>\n",
       "    </tr>\n",
       "  </thead>\n",
       "  <tbody>\n",
       "    <tr>\n",
       "      <th>0</th>\n",
       "      <td>0</td>\n",
       "      <td>0</td>\n",
       "      <td>1</td>\n",
       "      <td>1</td>\n",
       "    </tr>\n",
       "    <tr>\n",
       "      <th>1</th>\n",
       "      <td>0</td>\n",
       "      <td>1</td>\n",
       "      <td>1</td>\n",
       "      <td>1</td>\n",
       "    </tr>\n",
       "    <tr>\n",
       "      <th>2</th>\n",
       "      <td>0</td>\n",
       "      <td>0</td>\n",
       "      <td>1</td>\n",
       "      <td>1</td>\n",
       "    </tr>\n",
       "    <tr>\n",
       "      <th>3</th>\n",
       "      <td>1</td>\n",
       "      <td>1</td>\n",
       "      <td>1</td>\n",
       "      <td>0</td>\n",
       "    </tr>\n",
       "    <tr>\n",
       "      <th>4</th>\n",
       "      <td>0</td>\n",
       "      <td>1</td>\n",
       "      <td>1</td>\n",
       "      <td>1</td>\n",
       "    </tr>\n",
       "    <tr>\n",
       "      <th>...</th>\n",
       "      <td>...</td>\n",
       "      <td>...</td>\n",
       "      <td>...</td>\n",
       "      <td>...</td>\n",
       "    </tr>\n",
       "    <tr>\n",
       "      <th>15581</th>\n",
       "      <td>0</td>\n",
       "      <td>0</td>\n",
       "      <td>0</td>\n",
       "      <td>2</td>\n",
       "    </tr>\n",
       "    <tr>\n",
       "      <th>15582</th>\n",
       "      <td>0</td>\n",
       "      <td>0</td>\n",
       "      <td>0</td>\n",
       "      <td>2</td>\n",
       "    </tr>\n",
       "    <tr>\n",
       "      <th>15583</th>\n",
       "      <td>0</td>\n",
       "      <td>1</td>\n",
       "      <td>1</td>\n",
       "      <td>1</td>\n",
       "    </tr>\n",
       "    <tr>\n",
       "      <th>15584</th>\n",
       "      <td>1</td>\n",
       "      <td>1</td>\n",
       "      <td>1</td>\n",
       "      <td>0</td>\n",
       "    </tr>\n",
       "    <tr>\n",
       "      <th>15585</th>\n",
       "      <td>0</td>\n",
       "      <td>0</td>\n",
       "      <td>1</td>\n",
       "      <td>1</td>\n",
       "    </tr>\n",
       "  </tbody>\n",
       "</table>\n",
       "<p>15586 rows × 4 columns</p>\n",
       "</div>"
      ],
      "text/plain": [
       "       TypeTravel_leisure  Churn_nochurn  Longevity_yes  Cluster\n",
       "0                       0              0              1        1\n",
       "1                       0              1              1        1\n",
       "2                       0              0              1        1\n",
       "3                       1              1              1        0\n",
       "4                       0              1              1        1\n",
       "...                   ...            ...            ...      ...\n",
       "15581                   0              0              0        2\n",
       "15582                   0              0              0        2\n",
       "15583                   0              1              1        1\n",
       "15584                   1              1              1        0\n",
       "15585                   0              0              1        1\n",
       "\n",
       "[15586 rows x 4 columns]"
      ]
     },
     "execution_count": 28,
     "metadata": {},
     "output_type": "execute_result"
    }
   ],
   "source": [
    "cl2"
   ]
  },
  {
   "cell_type": "code",
   "execution_count": 29,
   "id": "1da37896",
   "metadata": {},
   "outputs": [
    {
     "data": {
      "text/plain": [
       "TypeTravel_leisure   -0.840057\n",
       "Longevity_yes        -0.773496\n",
       "Churn_nochurn        -0.090296\n",
       "Name: Cluster, dtype: float64"
      ]
     },
     "execution_count": 29,
     "metadata": {},
     "output_type": "execute_result"
    }
   ],
   "source": [
    "cl2.corr()['Cluster'].iloc[:-1].sort_values()"
   ]
  },
  {
   "cell_type": "code",
   "execution_count": 30,
   "id": "f7a8768f",
   "metadata": {},
   "outputs": [
    {
     "data": {
      "text/plain": [
       "<AxesSubplot:>"
      ]
     },
     "execution_count": 30,
     "metadata": {},
     "output_type": "execute_result"
    },
    {
     "data": {
      "image/png": "[encoded data removed]",
      "text/plain": [
       "<Figure size 2400x1200 with 1 Axes>"
      ]
     },
     "metadata": {
      "needs_background": "light"
     },
     "output_type": "display_data"
    }
   ],
   "source": [
    "plt.figure(figsize=(12,6), dpi=200)\n",
    "cl2.corr()['Cluster'].iloc[:-1].sort_values().plot(kind='bar')"
   ]
  },
  {
   "cell_type": "code",
   "execution_count": 31,
   "id": "53f76a90",
   "metadata": {},
   "outputs": [
    {
     "data": {
      "text/html": [
       "<div>\n",
       "<style scoped>\n",
       "    .dataframe tbody tr th:only-of-type {\n",
       "        vertical-align: middle;\n",
       "    }\n",
       "\n",
       "    .dataframe tbody tr th {\n",
       "        vertical-align: top;\n",
       "    }\n",
       "\n",
       "    .dataframe thead th {\n",
       "        text-align: right;\n",
       "    }\n",
       "</style>\n",
       "<table border=\"1\" class=\"dataframe\">\n",
       "  <thead>\n",
       "    <tr style=\"text-align: right;\">\n",
       "      <th></th>\n",
       "      <th>TypeTravel_leisure</th>\n",
       "      <th>Churn_nochurn</th>\n",
       "      <th>Longevity_yes</th>\n",
       "      <th>Cluster</th>\n",
       "    </tr>\n",
       "  </thead>\n",
       "  <tbody>\n",
       "    <tr>\n",
       "      <th>0</th>\n",
       "      <td>0</td>\n",
       "      <td>0</td>\n",
       "      <td>1</td>\n",
       "      <td>1</td>\n",
       "    </tr>\n",
       "    <tr>\n",
       "      <th>1</th>\n",
       "      <td>0</td>\n",
       "      <td>1</td>\n",
       "      <td>1</td>\n",
       "      <td>1</td>\n",
       "    </tr>\n",
       "    <tr>\n",
       "      <th>2</th>\n",
       "      <td>0</td>\n",
       "      <td>0</td>\n",
       "      <td>1</td>\n",
       "      <td>1</td>\n",
       "    </tr>\n",
       "    <tr>\n",
       "      <th>3</th>\n",
       "      <td>1</td>\n",
       "      <td>1</td>\n",
       "      <td>1</td>\n",
       "      <td>0</td>\n",
       "    </tr>\n",
       "    <tr>\n",
       "      <th>4</th>\n",
       "      <td>0</td>\n",
       "      <td>1</td>\n",
       "      <td>1</td>\n",
       "      <td>1</td>\n",
       "    </tr>\n",
       "    <tr>\n",
       "      <th>...</th>\n",
       "      <td>...</td>\n",
       "      <td>...</td>\n",
       "      <td>...</td>\n",
       "      <td>...</td>\n",
       "    </tr>\n",
       "    <tr>\n",
       "      <th>15581</th>\n",
       "      <td>0</td>\n",
       "      <td>0</td>\n",
       "      <td>0</td>\n",
       "      <td>2</td>\n",
       "    </tr>\n",
       "    <tr>\n",
       "      <th>15582</th>\n",
       "      <td>0</td>\n",
       "      <td>0</td>\n",
       "      <td>0</td>\n",
       "      <td>2</td>\n",
       "    </tr>\n",
       "    <tr>\n",
       "      <th>15583</th>\n",
       "      <td>0</td>\n",
       "      <td>1</td>\n",
       "      <td>1</td>\n",
       "      <td>1</td>\n",
       "    </tr>\n",
       "    <tr>\n",
       "      <th>15584</th>\n",
       "      <td>1</td>\n",
       "      <td>1</td>\n",
       "      <td>1</td>\n",
       "      <td>0</td>\n",
       "    </tr>\n",
       "    <tr>\n",
       "      <th>15585</th>\n",
       "      <td>0</td>\n",
       "      <td>0</td>\n",
       "      <td>1</td>\n",
       "      <td>1</td>\n",
       "    </tr>\n",
       "  </tbody>\n",
       "</table>\n",
       "<p>15586 rows × 4 columns</p>\n",
       "</div>"
      ],
      "text/plain": [
       "       TypeTravel_leisure  Churn_nochurn  Longevity_yes  Cluster\n",
       "0                       0              0              1        1\n",
       "1                       0              1              1        1\n",
       "2                       0              0              1        1\n",
       "3                       1              1              1        0\n",
       "4                       0              1              1        1\n",
       "...                   ...            ...            ...      ...\n",
       "15581                   0              0              0        2\n",
       "15582                   0              0              0        2\n",
       "15583                   0              1              1        1\n",
       "15584                   1              1              1        0\n",
       "15585                   0              0              1        1\n",
       "\n",
       "[15586 rows x 4 columns]"
      ]
     },
     "execution_count": 31,
     "metadata": {},
     "output_type": "execute_result"
    }
   ],
   "source": [
    "cl2"
   ]
  },
  {
   "cell_type": "code",
   "execution_count": 32,
   "id": "c83ad1e3",
   "metadata": {},
   "outputs": [],
   "source": [
    "cl3 = cl2.groupby(['Cluster']).mean()"
   ]
  },
  {
   "cell_type": "code",
   "execution_count": 33,
   "id": "fe22faae",
   "metadata": {},
   "outputs": [
    {
     "data": {
      "text/html": [
       "<div>\n",
       "<style scoped>\n",
       "    .dataframe tbody tr th:only-of-type {\n",
       "        vertical-align: middle;\n",
       "    }\n",
       "\n",
       "    .dataframe tbody tr th {\n",
       "        vertical-align: top;\n",
       "    }\n",
       "\n",
       "    .dataframe thead th {\n",
       "        text-align: right;\n",
       "    }\n",
       "</style>\n",
       "<table border=\"1\" class=\"dataframe\">\n",
       "  <thead>\n",
       "    <tr style=\"text-align: right;\">\n",
       "      <th></th>\n",
       "      <th>TypeTravel_leisure</th>\n",
       "      <th>Churn_nochurn</th>\n",
       "      <th>Longevity_yes</th>\n",
       "    </tr>\n",
       "    <tr>\n",
       "      <th>Cluster</th>\n",
       "      <th></th>\n",
       "      <th></th>\n",
       "      <th></th>\n",
       "    </tr>\n",
       "  </thead>\n",
       "  <tbody>\n",
       "    <tr>\n",
       "      <th>0</th>\n",
       "      <td>1.000000</td>\n",
       "      <td>0.462770</td>\n",
       "      <td>1.0</td>\n",
       "    </tr>\n",
       "    <tr>\n",
       "      <th>1</th>\n",
       "      <td>0.000000</td>\n",
       "      <td>0.703568</td>\n",
       "      <td>1.0</td>\n",
       "    </tr>\n",
       "    <tr>\n",
       "      <th>2</th>\n",
       "      <td>0.008351</td>\n",
       "      <td>0.239736</td>\n",
       "      <td>0.0</td>\n",
       "    </tr>\n",
       "  </tbody>\n",
       "</table>\n",
       "</div>"
      ],
      "text/plain": [
       "         TypeTravel_leisure  Churn_nochurn  Longevity_yes\n",
       "Cluster                                                  \n",
       "0                  1.000000       0.462770            1.0\n",
       "1                  0.000000       0.703568            1.0\n",
       "2                  0.008351       0.239736            0.0"
      ]
     },
     "execution_count": 33,
     "metadata": {},
     "output_type": "execute_result"
    }
   ],
   "source": [
    "cl3"
   ]
  },
  {
   "cell_type": "code",
   "execution_count": 52,
   "id": "fea6aead",
   "metadata": {},
   "outputs": [],
   "source": [
    "cl3['Count'] = cl2.groupby(['Cluster']).count()['TypeTravel_leisure']"
   ]
  },
  {
   "cell_type": "code",
   "execution_count": 53,
   "id": "aad344bb",
   "metadata": {},
   "outputs": [
    {
     "data": {
      "text/html": [
       "<div>\n",
       "<style scoped>\n",
       "    .dataframe tbody tr th:only-of-type {\n",
       "        vertical-align: middle;\n",
       "    }\n",
       "\n",
       "    .dataframe tbody tr th {\n",
       "        vertical-align: top;\n",
       "    }\n",
       "\n",
       "    .dataframe thead th {\n",
       "        text-align: right;\n",
       "    }\n",
       "</style>\n",
       "<table border=\"1\" class=\"dataframe\">\n",
       "  <thead>\n",
       "    <tr style=\"text-align: right;\">\n",
       "      <th></th>\n",
       "      <th>TypeTravel_leisure</th>\n",
       "      <th>Churn_nochurn</th>\n",
       "      <th>Longevity_yes</th>\n",
       "      <th>Count</th>\n",
       "    </tr>\n",
       "    <tr>\n",
       "      <th>Cluster</th>\n",
       "      <th></th>\n",
       "      <th></th>\n",
       "      <th></th>\n",
       "      <th></th>\n",
       "    </tr>\n",
       "  </thead>\n",
       "  <tbody>\n",
       "    <tr>\n",
       "      <th>0</th>\n",
       "      <td>1.000000</td>\n",
       "      <td>0.462770</td>\n",
       "      <td>1.0</td>\n",
       "      <td>4808</td>\n",
       "    </tr>\n",
       "    <tr>\n",
       "      <th>1</th>\n",
       "      <td>0.000000</td>\n",
       "      <td>0.703568</td>\n",
       "      <td>1.0</td>\n",
       "      <td>7904</td>\n",
       "    </tr>\n",
       "    <tr>\n",
       "      <th>2</th>\n",
       "      <td>0.008351</td>\n",
       "      <td>0.239736</td>\n",
       "      <td>0.0</td>\n",
       "      <td>2874</td>\n",
       "    </tr>\n",
       "  </tbody>\n",
       "</table>\n",
       "</div>"
      ],
      "text/plain": [
       "         TypeTravel_leisure  Churn_nochurn  Longevity_yes  Count\n",
       "Cluster                                                         \n",
       "0                  1.000000       0.462770            1.0   4808\n",
       "1                  0.000000       0.703568            1.0   7904\n",
       "2                  0.008351       0.239736            0.0   2874"
      ]
     },
     "execution_count": 53,
     "metadata": {},
     "output_type": "execute_result"
    }
   ],
   "source": [
    "cl3"
   ]
  },
  {
   "cell_type": "code",
   "execution_count": 56,
   "id": "e8bcbd3d",
   "metadata": {},
   "outputs": [],
   "source": [
    "cl3['Relative_Freq'] = cl3['Count']/cl3['Count'].sum()"
   ]
  },
  {
   "cell_type": "code",
   "execution_count": 57,
   "id": "e51c5f9f",
   "metadata": {},
   "outputs": [
    {
     "data": {
      "text/html": [
       "<div>\n",
       "<style scoped>\n",
       "    .dataframe tbody tr th:only-of-type {\n",
       "        vertical-align: middle;\n",
       "    }\n",
       "\n",
       "    .dataframe tbody tr th {\n",
       "        vertical-align: top;\n",
       "    }\n",
       "\n",
       "    .dataframe thead th {\n",
       "        text-align: right;\n",
       "    }\n",
       "</style>\n",
       "<table border=\"1\" class=\"dataframe\">\n",
       "  <thead>\n",
       "    <tr style=\"text-align: right;\">\n",
       "      <th></th>\n",
       "      <th>TypeTravel_leisure</th>\n",
       "      <th>Churn_nochurn</th>\n",
       "      <th>Longevity_yes</th>\n",
       "      <th>Count</th>\n",
       "      <th>pobs</th>\n",
       "      <th>Relative_Freq</th>\n",
       "    </tr>\n",
       "    <tr>\n",
       "      <th>Cluster</th>\n",
       "      <th></th>\n",
       "      <th></th>\n",
       "      <th></th>\n",
       "      <th></th>\n",
       "      <th></th>\n",
       "      <th></th>\n",
       "    </tr>\n",
       "  </thead>\n",
       "  <tbody>\n",
       "    <tr>\n",
       "      <th>0</th>\n",
       "      <td>1.000000</td>\n",
       "      <td>0.462770</td>\n",
       "      <td>1.0</td>\n",
       "      <td>4808</td>\n",
       "      <td>0.308482</td>\n",
       "      <td>0.308482</td>\n",
       "    </tr>\n",
       "    <tr>\n",
       "      <th>1</th>\n",
       "      <td>0.000000</td>\n",
       "      <td>0.703568</td>\n",
       "      <td>1.0</td>\n",
       "      <td>7904</td>\n",
       "      <td>0.507122</td>\n",
       "      <td>0.507122</td>\n",
       "    </tr>\n",
       "    <tr>\n",
       "      <th>2</th>\n",
       "      <td>0.008351</td>\n",
       "      <td>0.239736</td>\n",
       "      <td>0.0</td>\n",
       "      <td>2874</td>\n",
       "      <td>0.184396</td>\n",
       "      <td>0.184396</td>\n",
       "    </tr>\n",
       "  </tbody>\n",
       "</table>\n",
       "</div>"
      ],
      "text/plain": [
       "         TypeTravel_leisure  Churn_nochurn  Longevity_yes  Count      pobs  \\\n",
       "Cluster                                                                      \n",
       "0                  1.000000       0.462770            1.0   4808  0.308482   \n",
       "1                  0.000000       0.703568            1.0   7904  0.507122   \n",
       "2                  0.008351       0.239736            0.0   2874  0.184396   \n",
       "\n",
       "         Relative_Freq  \n",
       "Cluster                 \n",
       "0             0.308482  \n",
       "1             0.507122  \n",
       "2             0.184396  "
      ]
     },
     "execution_count": 57,
     "metadata": {},
     "output_type": "execute_result"
    }
   ],
   "source": [
    "cl3"
   ]
  },
  {
   "cell_type": "code",
   "execution_count": null,
   "id": "c7782bd2",
   "metadata": {},
   "outputs": [],
   "source": [
    "#pode estar tudo trocado por correr o codigo\n",
    "cl3.rename({0: 'Middle Age Working Men',\n",
    "           3:'Young Males on Leisure',\n",
    "           1: 'Middle Age Working Female',\n",
    "           2: 'Older Age Female on Leisure'})"
   ]
  },
  {
   "cell_type": "code",
   "execution_count": null,
   "id": "e7b00e5c",
   "metadata": {},
   "outputs": [],
   "source": [
    "# droppar os RewardPoints aqui, n fazem nada\n",
    "cl3 = cl3.rename_axis('Labels').reset_index()"
   ]
  },
  {
   "cell_type": "code",
   "execution_count": null,
   "id": "db611068",
   "metadata": {},
   "outputs": [],
   "source": [
    "cl2['Labels'] = cl2['Cluster'].map({0: 'Middle Age Working Men',\n",
    "           3:'Young Males on Leisure',\n",
    "           1: 'Middle Age Working Female',\n",
    "           2: 'Older Age Female on Leisure'})"
   ]
  },
  {
   "cell_type": "code",
   "execution_count": null,
   "id": "e3120920",
   "metadata": {},
   "outputs": [],
   "source": [
    "cl2"
   ]
  },
  {
   "cell_type": "code",
   "execution_count": null,
   "id": "5cea7e8f",
   "metadata": {},
   "outputs": [],
   "source": [
    "cluster0 = cl2[cl2.Cluster==0]\n",
    "cluster1 = cl2[cl2.Cluster==1]\n",
    "cluster2 = cl2[cl2.Cluster==2]\n",
    "cluster3 = cl2[cl2.Cluster==3]\n"
   ]
  },
  {
   "cell_type": "code",
   "execution_count": null,
   "id": "ee8dc854",
   "metadata": {},
   "outputs": [],
   "source": [
    "sns.histplot(cluster1['Age'],color='red',label='Young Males on Leisure - Cluster 0', bins = 10)\n",
    "\n",
    "sns.histplot(cluster2['Age'],color='blue',label='Middle Age Working Men - Cluster 2', bins = 10)\n",
    "\n",
    "plt.legend()"
   ]
  },
  {
   "cell_type": "code",
   "execution_count": null,
   "id": "57ce8e4a",
   "metadata": {},
   "outputs": [],
   "source": [
    "sns.histplot(cluster0['Age'],color='yellow',label='Middle Age Working Female - Cluster 1', bins = 10)\n",
    "sns.histplot(cluster3['Age'],color='green',label='Older Age Female on Leisure - Cluster 2', bins = 10)\n",
    "plt.legend()"
   ]
  },
  {
   "cell_type": "code",
   "execution_count": null,
   "id": "764c3d4e",
   "metadata": {},
   "outputs": [],
   "source": [
    "sns.histplot(cluster0['TypeTravel_leisure'],color='yellow',label='Middle Age Working Female - Cluster 1')\n",
    "sns.histplot(cluster3['TypeTravel_leisure'],color='green',label='Older Age Female on Leisure - Cluster 2')\n",
    "plt.legend()"
   ]
  },
  {
   "cell_type": "code",
   "execution_count": null,
   "id": "e7110a91",
   "metadata": {},
   "outputs": [],
   "source": [
    "sns.countplot(x=cluster2['TypeTravel_leisure'], palette=\"ch:.25\", data=cluster2)\n",
    "plt.legend()"
   ]
  },
  {
   "cell_type": "code",
   "execution_count": null,
   "id": "4d74b31a",
   "metadata": {},
   "outputs": [],
   "source": [
    "sns.countplot(x=cl2['TypeTravel_leisure'], palette=\"ch:.25\", data=cluster3)\n",
    "plt.legend()"
   ]
  },
  {
   "cell_type": "code",
   "execution_count": null,
   "id": "819f77a3",
   "metadata": {},
   "outputs": [],
   "source": []
  }
 ],
 "metadata": {
  "kernelspec": {
   "display_name": "Python 3 (ipykernel)",
   "language": "python",
   "name": "python3"
  },
  "language_info": {
   "codemirror_mode": {
    "name": "ipython",
    "version": 3
   },
   "file_extension": ".py",
   "mimetype": "text/x-python",
   "name": "python",
   "nbconvert_exporter": "python",
   "pygments_lexer": "ipython3",
   "version": "3.9.7"
  }
 },
 "nbformat": 4,
 "nbformat_minor": 5
}
