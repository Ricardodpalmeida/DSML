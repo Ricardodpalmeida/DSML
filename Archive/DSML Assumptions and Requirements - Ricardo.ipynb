{
 "cells": [
  {
   "cell_type": "markdown",
   "id": "cd67acf4",
   "metadata": {},
   "source": [
    "# DSML group project"
   ]
  },
  {
   "cell_type": "markdown",
   "id": "3644ab8a",
   "metadata": {},
   "source": [
    "## BookMe case"
   ]
  },
  {
   "cell_type": "markdown",
   "id": "5a430bea",
   "metadata": {},
   "source": [
    "### Table of Contents"
   ]
  },
  {
   "cell_type": "markdown",
   "id": "96be96bb",
   "metadata": {},
   "source": [
    "1. [Key facts](#kf)"
   ]
  },
  {
   "cell_type": "markdown",
   "id": "0a4d3b2b",
   "metadata": {},
   "source": [
    "### Key facts <a id = \"kf\"></a>"
   ]
  },
  {
   "cell_type": "markdown",
   "id": "a7ab8e45",
   "metadata": {},
   "source": [
    "**Name**: BookMe <br><br>\n",
    "**Sector**: Hospitality<br><br>\n",
    "**Business focus**: Providing rooms with the best conditions possible<br><br>\n",
    "**Business facts**<br>\n",
    "International website<br>\n",
    "30.000 registered customers<br>\n",
    "100.000 consumers/year<br>\n",
    "<br>\n",
    "**Case facts**<br>\n",
    "Survey is sent to customer at the end of the stay<br>\n",
    "Rating scale 0 to 5<br>\n",
    "Rate location, price, amenities, provided and others<br><br>\n",
    "**Issue**<br>\n",
    "Stable revenues and healthy bottom line in past 3 years _but_ profit growth perspectives for next 3 years are fickle<br><br>\n",
    "**Business challenge**<br>\n",
    "Marketing wants to improve marketing activities, focusing on boosting the marketing campaigns' efficiency<br><br>\n",
    "**Goal**<br>\n",
    "Clustering the different types of customers that the company has to create more efficient campaigns<br><br>\n",
    "\n",
    "**Requirements**\n",
    "* Identify actionable segments;\n",
    "    * Must only use the current dataset;\n",
    "* Two visions must be developed:\n",
    "    * Customer satisfactions;\n",
    "    * Customer characteristics;\n",
    "    * Other perspectives are optional;\n",
    "    \n",
    "**Deliverables**\n",
    "1. Report that identifies the main customer segments;\n",
    "    * Max. 8 pages\n",
    "    * File name \"202122 Cluster GroupXX Notebook.ipynb\"\n",
    "        * Heading 1: Arial, Size 12 pt, in bold\n",
    "        * Heading 2 (if needed): Arial, Size 11 pt, in bold and italic\n",
    "        * Text: Arial, Size 10 pt, line space of 1.5 points.\n",
    "        * Margins: The default ones in word (Top, Bottom, Left and Right as 1”)\n",
    "    * All the figures and tables should be included in the Annexes (not included in the 8 pages mentioned previously)\n",
    "\n",
    "2. First draft of a marketing plan."
   ]
  }
 ],
 "metadata": {
  "kernelspec": {
   "display_name": "Python 3 (ipykernel)",
   "language": "python",
   "name": "python3"
  },
  "language_info": {
   "codemirror_mode": {
    "name": "ipython",
    "version": 3
   },
   "file_extension": ".py",
   "mimetype": "text/x-python",
   "name": "python",
   "nbconvert_exporter": "python",
   "pygments_lexer": "ipython3",
   "version": "3.9.7"
  }
 },
 "nbformat": 4,
 "nbformat_minor": 5
}
