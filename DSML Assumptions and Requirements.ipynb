{
 "cells": [
  {
   "cell_type": "markdown",
   "id": "cd67acf4",
   "metadata": {},
   "source": [
    "# DSML group project"
   ]
  },
  {
   "cell_type": "markdown",
   "id": "3644ab8a",
   "metadata": {},
   "source": [
    "## BookMe "
   ]
  },
  {
   "cell_type": "markdown",
   "id": "5a430bea",
   "metadata": {},
   "source": [
    "### Table of Contents"
   ]
  },
  {
   "cell_type": "markdown",
   "id": "96be96bb",
   "metadata": {},
   "source": []
  },
  {
   "cell_type": "markdown",
   "id": "0a4d3b2b",
   "metadata": {},
   "source": [
    "### Key facts"
   ]
  },
  {
   "cell_type": "markdown",
   "id": "a7ab8e45",
   "metadata": {},
   "source": [
    "Name"
   ]
  }
 ],
 "metadata": {
  "kernelspec": {
   "display_name": "Python 3 (ipykernel)",
   "language": "python",
   "name": "python3"
  },
  "language_info": {
   "codemirror_mode": {
    "name": "ipython",
    "version": 3
   },
   "file_extension": ".py",
   "mimetype": "text/x-python",
   "name": "python",
   "nbconvert_exporter": "python",
   "pygments_lexer": "ipython3",
   "version": "3.9.7"
  }
 },
 "nbformat": 4,
 "nbformat_minor": 5
}
